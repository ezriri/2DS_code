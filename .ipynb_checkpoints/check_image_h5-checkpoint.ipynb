{
 "cells": [
  {
   "cell_type": "markdown",
   "id": "abd6b76a-b46c-40c5-9e0e-99d4f57e7660",
   "metadata": {},
   "source": [
    "# comparing images + metrics to h5 files\n",
    "basically fine tuning  the cleaning + seperating of images"
   ]
  },
  {
   "cell_type": "markdown",
   "id": "f4942d4c-3911-49d6-bf14-743c00738143",
   "metadata": {},
   "source": [
    "ahhhh fuckkkk, this is to find the truncated particles \n",
    "this code is initally to send to Jonny containing some particles, so he can check the truncation"
   ]
  },
  {
   "cell_type": "markdown",
   "id": "39d183ad-3864-48bc-b29b-cc945ecfe56d",
   "metadata": {},
   "source": [
    "#### !!!! importantly this is only working on ch_0 220730153000 !!!!"
   ]
  },
  {
   "cell_type": "code",
   "execution_count": 1,
   "id": "4134bcd9-6e9b-4e87-8f26-c9b491e6545c",
   "metadata": {},
   "outputs": [],
   "source": [
    "import xarray as xr\n",
    "import matplotlib.pyplot as plt\n",
    "import matplotlib as mpl\n",
    "import numpy as np\n",
    "from glob import glob\n",
    "import seaborn as sns\n",
    "import xesmf as xe\n",
    "import pandas as pd\n",
    "import seaborn as sns\n",
    "#import def_homebrew as hb ## homemade functions xox\n",
    "from scipy.special import gamma\n",
    "import netCDF4 as nc\n",
    "from datetime import datetime, timedelta\n",
    "\n",
    "import h5py ####\n",
    "from PIL import Image\n",
    "#from IPython.display import display #\n",
    "#import cv2 # not working\n",
    "import os\n",
    "import shutil\n",
    "\n",
    "from scipy.ndimage import convolve, label\n",
    "from skimage.measure import regionprops, find_contours\n",
    "from scipy.spatial import ConvexHull, distance_matrix\n",
    "from skimage.morphology import remove_small_holes ## remove holes <3\n",
    "from scipy.ndimage import binary_fill_holes\n",
    "from skimage import measure\n",
    "from cv2 import cvtColor, COLOR_BGR2GRAY, threshold, THRESH_BINARY, THRESH_OTSU"
   ]
  },
  {
   "cell_type": "code",
   "execution_count": 2,
   "id": "e0fb5777-4340-4365-aad7-c7a503446f71",
   "metadata": {},
   "outputs": [],
   "source": [
    "#saved = '/gws/nopw/j04/dcmex/users/ezriab/processed_images/2ds/flight_220730153000/'\n",
    "#path = '/gws/nopw/j04/dcmex/users/ezriab/processed_stats/ch_0/'\n",
    "path = '/gws/nopw/j04/dcmex/users/ezriab/processed_images/2ds/ch_0/220730153000/' ## for stats file\n",
    "\n",
    "h5_path = '/gws/nopw/j04/dcmex/users/ezriab/raw_h5/2ds/ch_0/Export_base220730153000.h5'\n",
    "\n",
    "#csv_name = 'merged_stats_habits.csv'\n",
    "#csv_name = 'flight_220719154358.csv'\n",
    "csv_name = '220730153000_stats_habits.csv'\n",
    "df = pd.read_csv(path+csv_name)\n",
    "#trun_image_loc = '/gws/nopw/j04/dcmex/users/ezriab/processed_images/2D-S/trunc/'\n",
    "df['name'] = df['name'].str.replace('_ch_0', '', regex=False)"
   ]
  },
  {
   "cell_type": "code",
   "execution_count": 8,
   "id": "f18bd196-9823-413c-a79d-12bbfb8d9783",
   "metadata": {},
   "outputs": [
    {
     "data": {
      "text/plain": [
       "'30'"
      ]
     },
     "execution_count": 8,
     "metadata": {},
     "output_type": "execute_result"
    }
   ],
   "source": [
    "file_names = 'Export_base220730153000.h5'\n",
    "date_str = file_names[-15:-9]\n",
    "\n"
   ]
  },
  {
   "cell_type": "code",
   "execution_count": 3,
   "id": "9681a52c-368d-4a38-acb0-e1ed3473d0af",
   "metadata": {},
   "outputs": [
    {
     "data": {
      "text/html": [
       "<div>\n",
       "<style scoped>\n",
       "    .dataframe tbody tr th:only-of-type {\n",
       "        vertical-align: middle;\n",
       "    }\n",
       "\n",
       "    .dataframe tbody tr th {\n",
       "        vertical-align: top;\n",
       "    }\n",
       "\n",
       "    .dataframe thead th {\n",
       "        text-align: right;\n",
       "    }\n",
       "</style>\n",
       "<table border=\"1\" class=\"dataframe\">\n",
       "  <thead>\n",
       "    <tr style=\"text-align: right;\">\n",
       "      <th></th>\n",
       "      <th>name</th>\n",
       "      <th>date</th>\n",
       "      <th>slice_s_idx</th>\n",
       "      <th>slice_e_idx</th>\n",
       "      <th>start_time</th>\n",
       "      <th>end_time</th>\n",
       "      <th>d_max</th>\n",
       "      <th>d_min</th>\n",
       "      <th>orientation</th>\n",
       "      <th>centroid</th>\n",
       "      <th>...</th>\n",
       "      <th>Category</th>\n",
       "      <th>CA</th>\n",
       "      <th>Co</th>\n",
       "      <th>CC</th>\n",
       "      <th>CBC</th>\n",
       "      <th>CG</th>\n",
       "      <th>HPC</th>\n",
       "      <th>Dif</th>\n",
       "      <th>FA</th>\n",
       "      <th>WD</th>\n",
       "    </tr>\n",
       "  </thead>\n",
       "  <tbody>\n",
       "    <tr>\n",
       "      <th>0</th>\n",
       "      <td>1000081_1</td>\n",
       "      <td>220730</td>\n",
       "      <td>1000081</td>\n",
       "      <td>1000392</td>\n",
       "      <td>19:17:23.301000000</td>\n",
       "      <td>19:17:23.301000000</td>\n",
       "      <td>3258.403608</td>\n",
       "      <td>40.236194</td>\n",
       "      <td>-1.569667</td>\n",
       "      <td>(2.304301075268817, 126.18494623655914)</td>\n",
       "      <td>...</td>\n",
       "      <td>Co</td>\n",
       "      <td>0.0</td>\n",
       "      <td>1.0</td>\n",
       "      <td>0.0</td>\n",
       "      <td>0.0</td>\n",
       "      <td>0.0</td>\n",
       "      <td>0.000000e+00</td>\n",
       "      <td>0.0</td>\n",
       "      <td>0.0</td>\n",
       "      <td>0.0</td>\n",
       "    </tr>\n",
       "    <tr>\n",
       "      <th>1</th>\n",
       "      <td>1001384_1</td>\n",
       "      <td>220730</td>\n",
       "      <td>1001384</td>\n",
       "      <td>1001959</td>\n",
       "      <td>19:17:28.901000000</td>\n",
       "      <td>19:17:28.901000000</td>\n",
       "      <td>5989.083399</td>\n",
       "      <td>51.670406</td>\n",
       "      <td>1.567242</td>\n",
       "      <td>(2.4518360830228847, 220.50186269292178)</td>\n",
       "      <td>...</td>\n",
       "      <td>Co</td>\n",
       "      <td>0.0</td>\n",
       "      <td>1.0</td>\n",
       "      <td>0.0</td>\n",
       "      <td>0.0</td>\n",
       "      <td>0.0</td>\n",
       "      <td>0.000000e+00</td>\n",
       "      <td>0.0</td>\n",
       "      <td>0.0</td>\n",
       "      <td>0.0</td>\n",
       "    </tr>\n",
       "    <tr>\n",
       "      <th>2</th>\n",
       "      <td>1002210_1</td>\n",
       "      <td>220730</td>\n",
       "      <td>1002210</td>\n",
       "      <td>1002281</td>\n",
       "      <td>19:17:28.901000000</td>\n",
       "      <td>19:17:28.901000000</td>\n",
       "      <td>709.747294</td>\n",
       "      <td>217.266005</td>\n",
       "      <td>-1.436207</td>\n",
       "      <td>(13.59194214876033, 37.025826446280995)</td>\n",
       "      <td>...</td>\n",
       "      <td>Co</td>\n",
       "      <td>0.0</td>\n",
       "      <td>1.0</td>\n",
       "      <td>0.0</td>\n",
       "      <td>0.0</td>\n",
       "      <td>0.0</td>\n",
       "      <td>0.000000e+00</td>\n",
       "      <td>0.0</td>\n",
       "      <td>0.0</td>\n",
       "      <td>0.0</td>\n",
       "    </tr>\n",
       "    <tr>\n",
       "      <th>3</th>\n",
       "      <td>1002353_1</td>\n",
       "      <td>220730</td>\n",
       "      <td>1002353</td>\n",
       "      <td>1003004</td>\n",
       "      <td>19:17:28.901000000</td>\n",
       "      <td>19:17:28.901000000</td>\n",
       "      <td>5666.177482</td>\n",
       "      <td>824.256843</td>\n",
       "      <td>-1.348257</td>\n",
       "      <td>(62.72577991977143, 314.0045597529653)</td>\n",
       "      <td>...</td>\n",
       "      <td>CG</td>\n",
       "      <td>0.0</td>\n",
       "      <td>0.0</td>\n",
       "      <td>0.0</td>\n",
       "      <td>0.0</td>\n",
       "      <td>1.0</td>\n",
       "      <td>1.347993e-10</td>\n",
       "      <td>0.0</td>\n",
       "      <td>0.0</td>\n",
       "      <td>0.0</td>\n",
       "    </tr>\n",
       "    <tr>\n",
       "      <th>4</th>\n",
       "      <td>1003804_1</td>\n",
       "      <td>220730</td>\n",
       "      <td>1003804</td>\n",
       "      <td>1003840</td>\n",
       "      <td>19:17:33.644000000</td>\n",
       "      <td>19:17:33.644000000</td>\n",
       "      <td>387.660928</td>\n",
       "      <td>54.675581</td>\n",
       "      <td>1.511037</td>\n",
       "      <td>(3.730769230769231, 12.634615384615385)</td>\n",
       "      <td>...</td>\n",
       "      <td>Co</td>\n",
       "      <td>0.0</td>\n",
       "      <td>1.0</td>\n",
       "      <td>0.0</td>\n",
       "      <td>0.0</td>\n",
       "      <td>0.0</td>\n",
       "      <td>0.000000e+00</td>\n",
       "      <td>0.0</td>\n",
       "      <td>0.0</td>\n",
       "      <td>0.0</td>\n",
       "    </tr>\n",
       "    <tr>\n",
       "      <th>...</th>\n",
       "      <td>...</td>\n",
       "      <td>...</td>\n",
       "      <td>...</td>\n",
       "      <td>...</td>\n",
       "      <td>...</td>\n",
       "      <td>...</td>\n",
       "      <td>...</td>\n",
       "      <td>...</td>\n",
       "      <td>...</td>\n",
       "      <td>...</td>\n",
       "      <td>...</td>\n",
       "      <td>...</td>\n",
       "      <td>...</td>\n",
       "      <td>...</td>\n",
       "      <td>...</td>\n",
       "      <td>...</td>\n",
       "      <td>...</td>\n",
       "      <td>...</td>\n",
       "      <td>...</td>\n",
       "      <td>...</td>\n",
       "      <td>...</td>\n",
       "    </tr>\n",
       "    <tr>\n",
       "      <th>5496</th>\n",
       "      <td>998901_1</td>\n",
       "      <td>220730</td>\n",
       "      <td>998901</td>\n",
       "      <td>998960</td>\n",
       "      <td>19:16:26.642000000</td>\n",
       "      <td>19:16:42.647000000</td>\n",
       "      <td>539.116175</td>\n",
       "      <td>324.689569</td>\n",
       "      <td>-1.442213</td>\n",
       "      <td>(16.020881670533644, 25.754833720030934)</td>\n",
       "      <td>...</td>\n",
       "      <td>CG</td>\n",
       "      <td>0.0</td>\n",
       "      <td>0.0</td>\n",
       "      <td>0.0</td>\n",
       "      <td>0.0</td>\n",
       "      <td>1.0</td>\n",
       "      <td>0.000000e+00</td>\n",
       "      <td>0.0</td>\n",
       "      <td>0.0</td>\n",
       "      <td>0.0</td>\n",
       "    </tr>\n",
       "    <tr>\n",
       "      <th>5497</th>\n",
       "      <td>998981_1</td>\n",
       "      <td>220730</td>\n",
       "      <td>998981</td>\n",
       "      <td>999332</td>\n",
       "      <td>19:16:48.638000000</td>\n",
       "      <td>19:17:04.643000000</td>\n",
       "      <td>3149.313350</td>\n",
       "      <td>1249.300992</td>\n",
       "      <td>-1.435933</td>\n",
       "      <td>(59.19762702288228, 162.4492110254651)</td>\n",
       "      <td>...</td>\n",
       "      <td>CBC</td>\n",
       "      <td>0.0</td>\n",
       "      <td>0.0</td>\n",
       "      <td>0.0</td>\n",
       "      <td>1.0</td>\n",
       "      <td>0.0</td>\n",
       "      <td>0.000000e+00</td>\n",
       "      <td>0.0</td>\n",
       "      <td>0.0</td>\n",
       "      <td>0.0</td>\n",
       "    </tr>\n",
       "    <tr>\n",
       "      <th>5498</th>\n",
       "      <td>999333_1</td>\n",
       "      <td>220730</td>\n",
       "      <td>999333</td>\n",
       "      <td>999567</td>\n",
       "      <td>19:17:04.643000000</td>\n",
       "      <td>19:17:14.643000000</td>\n",
       "      <td>2232.943917</td>\n",
       "      <td>399.904769</td>\n",
       "      <td>1.456554</td>\n",
       "      <td>(21.181970203709334, 132.20462146549104)</td>\n",
       "      <td>...</td>\n",
       "      <td>Co</td>\n",
       "      <td>0.0</td>\n",
       "      <td>1.0</td>\n",
       "      <td>0.0</td>\n",
       "      <td>0.0</td>\n",
       "      <td>0.0</td>\n",
       "      <td>0.000000e+00</td>\n",
       "      <td>0.0</td>\n",
       "      <td>0.0</td>\n",
       "      <td>0.0</td>\n",
       "    </tr>\n",
       "    <tr>\n",
       "      <th>5499</th>\n",
       "      <td>999568_1</td>\n",
       "      <td>220730</td>\n",
       "      <td>999568</td>\n",
       "      <td>999777</td>\n",
       "      <td>19:17:14.643000000</td>\n",
       "      <td>19:17:17.638000000</td>\n",
       "      <td>1953.041937</td>\n",
       "      <td>285.393768</td>\n",
       "      <td>1.551880</td>\n",
       "      <td>(16.51492902594224, 102.96133137542829)</td>\n",
       "      <td>...</td>\n",
       "      <td>Co</td>\n",
       "      <td>0.0</td>\n",
       "      <td>1.0</td>\n",
       "      <td>0.0</td>\n",
       "      <td>0.0</td>\n",
       "      <td>0.0</td>\n",
       "      <td>0.000000e+00</td>\n",
       "      <td>0.0</td>\n",
       "      <td>0.0</td>\n",
       "      <td>0.0</td>\n",
       "    </tr>\n",
       "    <tr>\n",
       "      <th>5500</th>\n",
       "      <td>999778_1</td>\n",
       "      <td>220730</td>\n",
       "      <td>999778</td>\n",
       "      <td>999846</td>\n",
       "      <td>19:17:17.638000000</td>\n",
       "      <td>19:17:18.652000000</td>\n",
       "      <td>657.386404</td>\n",
       "      <td>108.721528</td>\n",
       "      <td>-1.520706</td>\n",
       "      <td>(3.9915611814345993, 28.223628691983123)</td>\n",
       "      <td>...</td>\n",
       "      <td>Co</td>\n",
       "      <td>0.0</td>\n",
       "      <td>1.0</td>\n",
       "      <td>0.0</td>\n",
       "      <td>0.0</td>\n",
       "      <td>0.0</td>\n",
       "      <td>0.000000e+00</td>\n",
       "      <td>0.0</td>\n",
       "      <td>0.0</td>\n",
       "      <td>0.0</td>\n",
       "    </tr>\n",
       "  </tbody>\n",
       "</table>\n",
       "<p>5501 rows × 28 columns</p>\n",
       "</div>"
      ],
      "text/plain": [
       "           name    date  slice_s_idx  slice_e_idx          start_time  \\\n",
       "0     1000081_1  220730      1000081      1000392  19:17:23.301000000   \n",
       "1     1001384_1  220730      1001384      1001959  19:17:28.901000000   \n",
       "2     1002210_1  220730      1002210      1002281  19:17:28.901000000   \n",
       "3     1002353_1  220730      1002353      1003004  19:17:28.901000000   \n",
       "4     1003804_1  220730      1003804      1003840  19:17:33.644000000   \n",
       "...         ...     ...          ...          ...                 ...   \n",
       "5496   998901_1  220730       998901       998960  19:16:26.642000000   \n",
       "5497   998981_1  220730       998981       999332  19:16:48.638000000   \n",
       "5498   999333_1  220730       999333       999567  19:17:04.643000000   \n",
       "5499   999568_1  220730       999568       999777  19:17:14.643000000   \n",
       "5500   999778_1  220730       999778       999846  19:17:17.638000000   \n",
       "\n",
       "                end_time        d_max        d_min  orientation  \\\n",
       "0     19:17:23.301000000  3258.403608    40.236194    -1.569667   \n",
       "1     19:17:28.901000000  5989.083399    51.670406     1.567242   \n",
       "2     19:17:28.901000000   709.747294   217.266005    -1.436207   \n",
       "3     19:17:28.901000000  5666.177482   824.256843    -1.348257   \n",
       "4     19:17:33.644000000   387.660928    54.675581     1.511037   \n",
       "...                  ...          ...          ...          ...   \n",
       "5496  19:16:42.647000000   539.116175   324.689569    -1.442213   \n",
       "5497  19:17:04.643000000  3149.313350  1249.300992    -1.435933   \n",
       "5498  19:17:14.643000000  2232.943917   399.904769     1.456554   \n",
       "5499  19:17:17.638000000  1953.041937   285.393768     1.551880   \n",
       "5500  19:17:18.652000000   657.386404   108.721528    -1.520706   \n",
       "\n",
       "                                      centroid  ...  Category   CA   Co   CC  \\\n",
       "0      (2.304301075268817, 126.18494623655914)  ...        Co  0.0  1.0  0.0   \n",
       "1     (2.4518360830228847, 220.50186269292178)  ...        Co  0.0  1.0  0.0   \n",
       "2      (13.59194214876033, 37.025826446280995)  ...        Co  0.0  1.0  0.0   \n",
       "3       (62.72577991977143, 314.0045597529653)  ...        CG  0.0  0.0  0.0   \n",
       "4      (3.730769230769231, 12.634615384615385)  ...        Co  0.0  1.0  0.0   \n",
       "...                                        ...  ...       ...  ...  ...  ...   \n",
       "5496  (16.020881670533644, 25.754833720030934)  ...        CG  0.0  0.0  0.0   \n",
       "5497    (59.19762702288228, 162.4492110254651)  ...       CBC  0.0  0.0  0.0   \n",
       "5498  (21.181970203709334, 132.20462146549104)  ...        Co  0.0  1.0  0.0   \n",
       "5499   (16.51492902594224, 102.96133137542829)  ...        Co  0.0  1.0  0.0   \n",
       "5500  (3.9915611814345993, 28.223628691983123)  ...        Co  0.0  1.0  0.0   \n",
       "\n",
       "      CBC   CG           HPC  Dif   FA   WD  \n",
       "0     0.0  0.0  0.000000e+00  0.0  0.0  0.0  \n",
       "1     0.0  0.0  0.000000e+00  0.0  0.0  0.0  \n",
       "2     0.0  0.0  0.000000e+00  0.0  0.0  0.0  \n",
       "3     0.0  1.0  1.347993e-10  0.0  0.0  0.0  \n",
       "4     0.0  0.0  0.000000e+00  0.0  0.0  0.0  \n",
       "...   ...  ...           ...  ...  ...  ...  \n",
       "5496  0.0  1.0  0.000000e+00  0.0  0.0  0.0  \n",
       "5497  1.0  0.0  0.000000e+00  0.0  0.0  0.0  \n",
       "5498  0.0  0.0  0.000000e+00  0.0  0.0  0.0  \n",
       "5499  0.0  0.0  0.000000e+00  0.0  0.0  0.0  \n",
       "5500  0.0  0.0  0.000000e+00  0.0  0.0  0.0  \n",
       "\n",
       "[5501 rows x 28 columns]"
      ]
     },
     "execution_count": 3,
     "metadata": {},
     "output_type": "execute_result"
    }
   ],
   "source": [
    "df"
   ]
  },
  {
   "cell_type": "code",
   "execution_count": 4,
   "id": "4ffa6c4f-c760-4cb0-af5a-f29068425eb3",
   "metadata": {},
   "outputs": [],
   "source": [
    "f2ds = h5py.File(h5_path,'r')\n",
    "\n",
    "ds_image = f2ds['ImageData'] # shape (128, 200000) --> 128 pixels width, 200000 length\n",
    "ds_time = f2ds['ImageTimes'] # shape (100000, 3) --> (rows, columns) related to time\n",
    "\n",
    "# make time variable -> 3 seperate columns\n",
    "og_t_xr = xr.Dataset({'ImageTimes': (('data', 'time_vars'),ds_time)})\n",
    "sec_since = og_t_xr['ImageTimes'][:,0] # seconds since midnight UTC\n",
    "pixel_slice = og_t_xr['ImageTimes'][:,1] # number of slices of pixel per image (contain -1, to fill)\n",
    "# we can use pixel slice to correcly divide up data ^ the index to call f2ds['ImageData']\n",
    "# these slices have been pre-determined by Jonny + algorithm he has written \n",
    "\n",
    "bit_time = og_t_xr['ImageTimes'][:,2] # 32 bit (instrument things) - not useful\n",
    "## ~~~~~~~~~~~~~~~~~~~~~~~~~~~~~~~~~~~~~~~~~~~~~~~~~~~~~~~~~~~~~~~~~~~~~~~~~~~~~~~~~~~~~~~~~~~~~~~~~~~~~~~~~~~~~~~~~~~\n",
    "# do cumulative sum of pixel slices -> can use this as index to slice + extract single crystals\n",
    "pix_sum = pixel_slice.cumsum(dim='data', dtype ='int')\n",
    "\n",
    "# shove together into a useful xarray \n",
    "time_xr = xr.Dataset({\n",
    "    'sec_since': sec_since,\n",
    "    'pixel_slice': pixel_slice,\n",
    "    'bit_time': bit_time,\n",
    "    'pix_sum': pix_sum})"
   ]
  },
  {
   "cell_type": "code",
   "execution_count": 5,
   "id": "ec249221-277d-48ff-93b6-5273c7fff817",
   "metadata": {
    "jupyter": {
     "source_hidden": true
    }
   },
   "outputs": [],
   "source": [
    "def calc_truncation(a_slice, particle):\n",
    "    # the intial slice is the raw 2ds data - of whole array, and particle is one selected by regionprops (and has to be 1s + 0s)\n",
    "    ## assume slices are small + don't contain too many odd bits\n",
    "    # first convert to 0 and 1 for calculation of truncation\n",
    "    alt_crystal = np.where(a_slice == 255, 0, 1) # i.e. 255 (blank area)=0, and where crystal is (was 0) = 1\n",
    "    # so sum up number of particle pixels are on the edge of the slice\n",
    "    first_diode = sum(alt_crystal[0,:]) \n",
    "    last_diode = sum(alt_crystal[-1,:])\n",
    "\n",
    "    ## this calculates how many pixels are top / bottom of the particle + then infer number pixels touching\n",
    "    top_particle = np.sum(particle[0] == 1)\n",
    "    bottom_particle = np.sum(particle[-1] == 1)\n",
    "\n",
    "    n_top, n_bottom = 0, 0  # Initialize variables, default 0 when conditions are not met\n",
    "\n",
    "    # Top pixel touching logic\n",
    "    if first_diode != 0 and first_diode >= top_particle:\n",
    "        n_top = top_particle\n",
    "    elif first_diode == 0:\n",
    "        n_top = 0\n",
    "\n",
    "    # Bottom pixel touching logic\n",
    "    if last_diode != 0 and last_diode >= bottom_particle:\n",
    "        n_bottom = bottom_particle\n",
    "    elif last_diode == 0:\n",
    "        n_bottom = 0\n",
    "        \n",
    "    return n_top, n_bottom # number pixels touching top / bottom respectively\n",
    "\n",
    "\n",
    "## function to calculate truncation of particle\n",
    "def calc_truncation_lol(particle_coords):\n",
    "    # so much simpler, looking at list of coordinates making up a particle,\n",
    "    # then summing ones in 0 and 127 row - i.e. first + last diode\n",
    "    lst_first_diode = [coord for coord in particle_coords if coord[0] == 0]\n",
    "    lst_last_diode = [coord for coord in particle_coords if coord[0] == 127]\n",
    "\n",
    "    n_top = len(lst_first_diode)\n",
    "    n_bottom = len(lst_last_diode)\n",
    "    \n",
    "    return n_top, n_bottom  # number of pixels touching top / bottom respectively\n",
    "\n",
    "\n",
    "def stats_description(bw_crystal, fill_hole_thresh):\n",
    "    #take binary image, fill in small holes and returns object containing stats about crystal\n",
    "    \n",
    "    filled_particle = remove_small_holes(bw_crystal.image, area_threshold=fill_hole_thresh) # fill in voids within binary image - better estimation of stats # may need to be altered\n",
    "    \n",
    "    # can see the filled in particle if needs be\n",
    "    #plt.imshow(filled_particle, cmap='gray')\n",
    "    \n",
    "    if filled_particle.shape[0] < 2 or filled_particle.shape[1] < 2:\n",
    "        return filled_particle, None\n",
    "        \n",
    "    contours = measure.find_contours(filled_particle, 0.5)\n",
    "    if contours:\n",
    "        contour = max(contours, key=lambda x: x.shape[0])  # Sort contours by area (largest first) and select the largest contour\n",
    "        \n",
    "        labeled_image = measure.label(filled_particle)  # Label the image based on the threshold\n",
    "        region = measure.regionprops(labeled_image)[0]  # Assumes largest labeled region corresponds to largest contour\n",
    "        \n",
    "        return filled_particle, region\n",
    "    else:\n",
    "        return filled_particle, None"
   ]
  },
  {
   "cell_type": "markdown",
   "id": "f622e0a2-5e77-442b-a53d-2695f6b0ae8c",
   "metadata": {
    "jp-MarkdownHeadingCollapsed": true
   },
   "source": [
    "## first bits messing around"
   ]
  },
  {
   "cell_type": "code",
   "execution_count": null,
   "id": "0fe53903-9d07-4937-95e5-73aa5950b054",
   "metadata": {},
   "outputs": [],
   "source": [
    "## this code copy images from og saving location -> new directory, based on category\n",
    "# list of rows where categories are CBC (this is where lot of truncated images were)\n",
    "CBC_category_df = df[df['Category'] == 'CBC']\n",
    "\n",
    "## get the particle names\n",
    "CBC_names = CBC_category_df['name']"
   ]
  },
  {
   "cell_type": "code",
   "execution_count": 4,
   "id": "9cfae3d2-41e8-43cd-b16e-8ad5a2079159",
   "metadata": {},
   "outputs": [],
   "source": [
    "# through and copy images to new directory \n",
    "for name in CBC_names:\n",
    "    pic = f'{saved}{name}.png'\n",
    "    shutil.copy(pic, trun_image_loc)"
   ]
  },
  {
   "cell_type": "code",
   "execution_count": 5,
   "id": "b1fca6f9-6573-479b-aa39-f4afafecbcda",
   "metadata": {},
   "outputs": [],
   "source": [
    "if os.path.exists(trun_image_loc):\n",
    "    # get string of full path + filenames in specif location\n",
    "    file_list = glob(trun_image_loc+'*.png') \n",
    "    \n",
    "    # just get file names\n",
    "    file_names = [os.path.basename(file_path) for file_path in file_list]"
   ]
  },
  {
   "cell_type": "code",
   "execution_count": 6,
   "id": "2ff820d9-a603-4b25-ae3d-f74039ccc738",
   "metadata": {
    "scrolled": true
   },
   "outputs": [
    {
     "name": "stdout",
     "output_type": "stream",
     "text": [
      "134526_4.png\n"
     ]
    },
    {
     "data": {
      "image/png": "[encoded data removed]",
      "text/plain": [
       "<PIL.PngImagePlugin.PngImageFile image mode=RGBA size=200x200>"
      ]
     },
     "metadata": {},
     "output_type": "display_data"
    },
    {
     "name": "stdout",
     "output_type": "stream",
     "text": [
      "170295_4.png\n"
     ]
    },
    {
     "data": {
      "image/png": "[encoded data removed]",
      "text/plain": [
       "<PIL.PngImagePlugin.PngImageFile image mode=RGBA size=200x200>"
      ]
     },
     "metadata": {},
     "output_type": "display_data"
    },
    {
     "name": "stdout",
     "output_type": "stream",
     "text": [
      "17443_1.png\n"
     ]
    },
    {
     "data": {
      "image/png": "[encoded data removed]",
      "text/plain": [
       "<PIL.PngImagePlugin.PngImageFile image mode=RGBA size=200x200>"
      ]
     },
     "metadata": {},
     "output_type": "display_data"
    },
    {
     "name": "stdout",
     "output_type": "stream",
     "text": [
      "186932_5.png\n"
     ]
    },
    {
     "data": {
      "image/png": "[encoded data removed]",
      "text/plain": [
       "<PIL.PngImagePlugin.PngImageFile image mode=RGBA size=200x200>"
      ]
     },
     "metadata": {},
     "output_type": "display_data"
    },
    {
     "name": "stdout",
     "output_type": "stream",
     "text": [
      "213859_1.png\n"
     ]
    },
    {
     "data": {
      "image/png": "[encoded data removed]",
      "text/plain": [
       "<PIL.PngImagePlugin.PngImageFile image mode=RGBA size=200x200>"
      ]
     },
     "metadata": {},
     "output_type": "display_data"
    },
    {
     "name": "stdout",
     "output_type": "stream",
     "text": [
      "214550_1.png\n"
     ]
    },
    {
     "data": {
      "image/png": "[encoded data removed]",
      "text/plain": [
       "<PIL.PngImagePlugin.PngImageFile image mode=RGBA size=200x200>"
      ]
     },
     "metadata": {},
     "output_type": "display_data"
    },
    {
     "name": "stdout",
     "output_type": "stream",
     "text": [
      "220390_71.png\n"
     ]
    },
    {
     "data": {
      "image/png": "[encoded data removed]",
      "text/plain": [
       "<PIL.PngImagePlugin.PngImageFile image mode=RGBA size=200x200>"
      ]
     },
     "metadata": {},
     "output_type": "display_data"
    },
    {
     "name": "stdout",
     "output_type": "stream",
     "text": [
      "370824_2.png\n"
     ]
    },
    {
     "data": {
      "image/png": "[encoded data removed]",
      "text/plain": [
       "<PIL.PngImagePlugin.PngImageFile image mode=RGBA size=200x200>"
      ]
     },
     "metadata": {},
     "output_type": "display_data"
    },
    {
     "name": "stdout",
     "output_type": "stream",
     "text": [
      "373443_1.png\n"
     ]
    },
    {
     "data": {
      "image/png": "[encoded data removed]",
      "text/plain": [
       "<PIL.PngImagePlugin.PngImageFile image mode=RGBA size=200x200>"
      ]
     },
     "metadata": {},
     "output_type": "display_data"
    },
    {
     "name": "stdout",
     "output_type": "stream",
     "text": [
      "380472_8.png\n"
     ]
    },
    {
     "data": {
      "image/png": "[encoded data removed]",
      "text/plain": [
       "<PIL.PngImagePlugin.PngImageFile image mode=RGBA size=200x200>"
      ]
     },
     "metadata": {},
     "output_type": "display_data"
    },
    {
     "name": "stdout",
     "output_type": "stream",
     "text": [
      "383498_2.png\n"
     ]
    },
    {
     "data": {
      "image/png": "[encoded data removed]",
      "text/plain": [
       "<PIL.PngImagePlugin.PngImageFile image mode=RGBA size=200x200>"
      ]
     },
     "metadata": {},
     "output_type": "display_data"
    },
    {
     "name": "stdout",
     "output_type": "stream",
     "text": [
      "385883_2.png\n"
     ]
    },
    {
     "data": {
      "image/png": "[encoded data removed]",
      "text/plain": [
       "<PIL.PngImagePlugin.PngImageFile image mode=RGBA size=200x200>"
      ]
     },
     "metadata": {},
     "output_type": "display_data"
    },
    {
     "name": "stdout",
     "output_type": "stream",
     "text": [
      "388587_1.png\n"
     ]
    },
    {
     "data": {
      "image/png": "[encoded data removed]",
      "text/plain": [
       "<PIL.PngImagePlugin.PngImageFile image mode=RGBA size=200x200>"
      ]
     },
     "metadata": {},
     "output_type": "display_data"
    },
    {
     "name": "stdout",
     "output_type": "stream",
     "text": [
      "393492_9.png\n"
     ]
    },
    {
     "data": {
      "image/png": "[encoded data removed]",
      "text/plain": [
       "<PIL.PngImagePlugin.PngImageFile image mode=RGBA size=200x200>"
      ]
     },
     "metadata": {},
     "output_type": "display_data"
    },
    {
     "name": "stdout",
     "output_type": "stream",
     "text": [
      "415274_1.png\n"
     ]
    },
    {
     "data": {
      "image/png": "[encoded data removed]",
      "text/plain": [
       "<PIL.PngImagePlugin.PngImageFile image mode=RGBA size=200x200>"
      ]
     },
     "metadata": {},
     "output_type": "display_data"
    },
    {
     "name": "stdout",
     "output_type": "stream",
     "text": [
      "428725_20.png\n"
     ]
    },
    {
     "data": {
      "image/png": "[encoded data removed]",
      "text/plain": [
       "<PIL.PngImagePlugin.PngImageFile image mode=RGBA size=200x200>"
      ]
     },
     "metadata": {},
     "output_type": "display_data"
    },
    {
     "name": "stdout",
     "output_type": "stream",
     "text": [
      "464980_23.png\n"
     ]
    },
    {
     "data": {
      "image/png": "[encoded data removed]",
      "text/plain": [
       "<PIL.PngImagePlugin.PngImageFile image mode=RGBA size=200x200>"
      ]
     },
     "metadata": {},
     "output_type": "display_data"
    },
    {
     "name": "stdout",
     "output_type": "stream",
     "text": [
      "533565_28.png\n"
     ]
    },
    {
     "data": {
      "image/png": "[encoded data removed]",
      "text/plain": [
       "<PIL.PngImagePlugin.PngImageFile image mode=RGBA size=200x200>"
      ]
     },
     "metadata": {},
     "output_type": "display_data"
    },
    {
     "name": "stdout",
     "output_type": "stream",
     "text": [
      "537819_4.png\n"
     ]
    },
    {
     "data": {
      "image/png": "[encoded data removed]",
      "text/plain": [
       "<PIL.PngImagePlugin.PngImageFile image mode=RGBA size=200x200>"
      ]
     },
     "metadata": {},
     "output_type": "display_data"
    },
    {
     "name": "stdout",
     "output_type": "stream",
     "text": [
      "542977_3.png\n"
     ]
    },
    {
     "data": {
      "image/png": "[encoded data removed]",
      "text/plain": [
       "<PIL.PngImagePlugin.PngImageFile image mode=RGBA size=200x200>"
      ]
     },
     "metadata": {},
     "output_type": "display_data"
    },
    {
     "name": "stdout",
     "output_type": "stream",
     "text": [
      "544311_7.png\n"
     ]
    },
    {
     "data": {
      "image/png": "[encoded data removed]",
      "text/plain": [
       "<PIL.PngImagePlugin.PngImageFile image mode=RGBA size=200x200>"
      ]
     },
     "metadata": {},
     "output_type": "display_data"
    },
    {
     "name": "stdout",
     "output_type": "stream",
     "text": [
      "549999_2.png\n"
     ]
    },
    {
     "data": {
      "image/png": "[encoded data removed]",
      "text/plain": [
       "<PIL.PngImagePlugin.PngImageFile image mode=RGBA size=200x200>"
      ]
     },
     "metadata": {},
     "output_type": "display_data"
    },
    {
     "name": "stdout",
     "output_type": "stream",
     "text": [
      "554810_2.png\n"
     ]
    },
    {
     "data": {
      "image/png": "[encoded data removed]",
      "text/plain": [
       "<PIL.PngImagePlugin.PngImageFile image mode=RGBA size=200x200>"
      ]
     },
     "metadata": {},
     "output_type": "display_data"
    },
    {
     "name": "stdout",
     "output_type": "stream",
     "text": [
      "570290_1.png\n"
     ]
    },
    {
     "data": {
      "image/png": "[encoded data removed]",
      "text/plain": [
       "<PIL.PngImagePlugin.PngImageFile image mode=RGBA size=200x200>"
      ]
     },
     "metadata": {},
     "output_type": "display_data"
    },
    {
     "name": "stdout",
     "output_type": "stream",
     "text": [
      "574989_7.png\n"
     ]
    },
    {
     "data": {
      "image/png": "[encoded data removed]",
      "text/plain": [
       "<PIL.PngImagePlugin.PngImageFile image mode=RGBA size=200x200>"
      ]
     },
     "metadata": {},
     "output_type": "display_data"
    },
    {
     "name": "stdout",
     "output_type": "stream",
     "text": [
      "582217_2.png\n"
     ]
    },
    {
     "data": {
      "image/png": "[encoded data removed]",
      "text/plain": [
       "<PIL.PngImagePlugin.PngImageFile image mode=RGBA size=200x200>"
      ]
     },
     "metadata": {},
     "output_type": "display_data"
    },
    {
     "name": "stdout",
     "output_type": "stream",
     "text": [
      "598022_2.png\n"
     ]
    },
    {
     "data": {
      "image/png": "[encoded data removed]",
      "text/plain": [
       "<PIL.PngImagePlugin.PngImageFile image mode=RGBA size=200x200>"
      ]
     },
     "metadata": {},
     "output_type": "display_data"
    },
    {
     "name": "stdout",
     "output_type": "stream",
     "text": [
      "598185_5.png\n"
     ]
    },
    {
     "data": {
      "image/png": "[encoded data removed]",
      "text/plain": [
       "<PIL.PngImagePlugin.PngImageFile image mode=RGBA size=200x200>"
      ]
     },
     "metadata": {},
     "output_type": "display_data"
    },
    {
     "name": "stdout",
     "output_type": "stream",
     "text": [
      "600916_1.png\n"
     ]
    },
    {
     "data": {
      "image/png": "[encoded data removed]",
      "text/plain": [
       "<PIL.PngImagePlugin.PngImageFile image mode=RGBA size=200x200>"
      ]
     },
     "metadata": {},
     "output_type": "display_data"
    },
    {
     "name": "stdout",
     "output_type": "stream",
     "text": [
      "603842_2.png\n"
     ]
    },
    {
     "data": {
      "image/png": "[encoded data removed]",
      "text/plain": [
       "<PIL.PngImagePlugin.PngImageFile image mode=RGBA size=200x200>"
      ]
     },
     "metadata": {},
     "output_type": "display_data"
    },
    {
     "name": "stdout",
     "output_type": "stream",
     "text": [
      "604437_6.png\n"
     ]
    },
    {
     "data": {
      "image/png": "[encoded data removed]",
      "text/plain": [
       "<PIL.PngImagePlugin.PngImageFile image mode=RGBA size=200x200>"
      ]
     },
     "metadata": {},
     "output_type": "display_data"
    },
    {
     "name": "stdout",
     "output_type": "stream",
     "text": [
      "605387_1.png\n"
     ]
    },
    {
     "data": {
      "image/png": "[encoded data removed]",
      "text/plain": [
       "<PIL.PngImagePlugin.PngImageFile image mode=RGBA size=200x200>"
      ]
     },
     "metadata": {},
     "output_type": "display_data"
    },
    {
     "name": "stdout",
     "output_type": "stream",
     "text": [
      "609958_2.png\n"
     ]
    },
    {
     "data": {
      "image/png": "[encoded data removed]",
      "text/plain": [
       "<PIL.PngImagePlugin.PngImageFile image mode=RGBA size=200x200>"
      ]
     },
     "metadata": {},
     "output_type": "display_data"
    },
    {
     "name": "stdout",
     "output_type": "stream",
     "text": [
      "623784_1.png\n"
     ]
    },
    {
     "data": {
      "image/png": "[encoded data removed]",
      "text/plain": [
       "<PIL.PngImagePlugin.PngImageFile image mode=RGBA size=200x200>"
      ]
     },
     "metadata": {},
     "output_type": "display_data"
    },
    {
     "name": "stdout",
     "output_type": "stream",
     "text": [
      "625102_1.png\n"
     ]
    },
    {
     "data": {
      "image/png": "[encoded data removed]",
      "text/plain": [
       "<PIL.PngImagePlugin.PngImageFile image mode=RGBA size=200x200>"
      ]
     },
     "metadata": {},
     "output_type": "display_data"
    },
    {
     "name": "stdout",
     "output_type": "stream",
     "text": [
      "626949_1.png\n"
     ]
    },
    {
     "data": {
      "image/png": "[encoded data removed]",
      "text/plain": [
       "<PIL.PngImagePlugin.PngImageFile image mode=RGBA size=200x200>"
      ]
     },
     "metadata": {},
     "output_type": "display_data"
    },
    {
     "name": "stdout",
     "output_type": "stream",
     "text": [
      "627920_1.png\n"
     ]
    },
    {
     "data": {
      "image/png": "[encoded data removed]",
      "text/plain": [
       "<PIL.PngImagePlugin.PngImageFile image mode=RGBA size=200x200>"
      ]
     },
     "metadata": {},
     "output_type": "display_data"
    },
    {
     "name": "stdout",
     "output_type": "stream",
     "text": [
      "630981_2.png\n"
     ]
    },
    {
     "data": {
      "image/png": "[encoded data removed]",
      "text/plain": [
       "<PIL.PngImagePlugin.PngImageFile image mode=RGBA size=200x200>"
      ]
     },
     "metadata": {},
     "output_type": "display_data"
    },
    {
     "name": "stdout",
     "output_type": "stream",
     "text": [
      "631666_1.png\n"
     ]
    },
    {
     "data": {
      "image/png": "[encoded data removed]",
      "text/plain": [
       "<PIL.PngImagePlugin.PngImageFile image mode=RGBA size=200x200>"
      ]
     },
     "metadata": {},
     "output_type": "display_data"
    },
    {
     "name": "stdout",
     "output_type": "stream",
     "text": [
      "634011_1.png\n"
     ]
    },
    {
     "data": {
      "image/png": "[encoded data removed]",
      "text/plain": [
       "<PIL.PngImagePlugin.PngImageFile image mode=RGBA size=200x200>"
      ]
     },
     "metadata": {},
     "output_type": "display_data"
    },
    {
     "name": "stdout",
     "output_type": "stream",
     "text": [
      "635814_1.png\n"
     ]
    },
    {
     "data": {
      "image/png": "[encoded data removed]",
      "text/plain": [
       "<PIL.PngImagePlugin.PngImageFile image mode=RGBA size=200x200>"
      ]
     },
     "metadata": {},
     "output_type": "display_data"
    },
    {
     "name": "stdout",
     "output_type": "stream",
     "text": [
      "636608_2.png\n"
     ]
    },
    {
     "data": {
      "image/png": "[encoded data removed]",
      "text/plain": [
       "<PIL.PngImagePlugin.PngImageFile image mode=RGBA size=200x200>"
      ]
     },
     "metadata": {},
     "output_type": "display_data"
    },
    {
     "name": "stdout",
     "output_type": "stream",
     "text": [
      "642890_1.png\n"
     ]
    },
    {
     "data": {
      "image/png": "[encoded data removed]",
      "text/plain": [
       "<PIL.PngImagePlugin.PngImageFile image mode=RGBA size=200x200>"
      ]
     },
     "metadata": {},
     "output_type": "display_data"
    },
    {
     "name": "stdout",
     "output_type": "stream",
     "text": [
      "642925_2.png\n"
     ]
    },
    {
     "data": {
      "image/png": "[encoded data removed]",
      "text/plain": [
       "<PIL.PngImagePlugin.PngImageFile image mode=RGBA size=200x200>"
      ]
     },
     "metadata": {},
     "output_type": "display_data"
    },
    {
     "name": "stdout",
     "output_type": "stream",
     "text": [
      "649804_1.png\n"
     ]
    },
    {
     "data": {
      "image/png": "[encoded data removed]",
      "text/plain": [
       "<PIL.PngImagePlugin.PngImageFile image mode=RGBA size=200x200>"
      ]
     },
     "metadata": {},
     "output_type": "display_data"
    },
    {
     "name": "stdout",
     "output_type": "stream",
     "text": [
      "650006_1.png\n"
     ]
    },
    {
     "data": {
      "image/png": "[encoded data removed]",
      "text/plain": [
       "<PIL.PngImagePlugin.PngImageFile image mode=RGBA size=200x200>"
      ]
     },
     "metadata": {},
     "output_type": "display_data"
    },
    {
     "name": "stdout",
     "output_type": "stream",
     "text": [
      "659783_1.png\n"
     ]
    },
    {
     "data": {
      "image/png": "[encoded data removed]",
      "text/plain": [
       "<PIL.PngImagePlugin.PngImageFile image mode=RGBA size=200x200>"
      ]
     },
     "metadata": {},
     "output_type": "display_data"
    },
    {
     "name": "stdout",
     "output_type": "stream",
     "text": [
      "672661_1.png\n"
     ]
    },
    {
     "data": {
      "image/png": "[encoded data removed]",
      "text/plain": [
       "<PIL.PngImagePlugin.PngImageFile image mode=RGBA size=200x200>"
      ]
     },
     "metadata": {},
     "output_type": "display_data"
    },
    {
     "name": "stdout",
     "output_type": "stream",
     "text": [
      "675566_3.png\n"
     ]
    },
    {
     "data": {
      "image/png": "[encoded data removed]",
      "text/plain": [
       "<PIL.PngImagePlugin.PngImageFile image mode=RGBA size=200x200>"
      ]
     },
     "metadata": {},
     "output_type": "display_data"
    },
    {
     "name": "stdout",
     "output_type": "stream",
     "text": [
      "679719_2.png\n"
     ]
    },
    {
     "data": {
      "image/png": "[encoded data removed]",
      "text/plain": [
       "<PIL.PngImagePlugin.PngImageFile image mode=RGBA size=200x200>"
      ]
     },
     "metadata": {},
     "output_type": "display_data"
    },
    {
     "name": "stdout",
     "output_type": "stream",
     "text": [
      "688183_1.png\n"
     ]
    },
    {
     "data": {
      "image/png": "[encoded data removed]",
      "text/plain": [
       "<PIL.PngImagePlugin.PngImageFile image mode=RGBA size=200x200>"
      ]
     },
     "metadata": {},
     "output_type": "display_data"
    },
    {
     "name": "stdout",
     "output_type": "stream",
     "text": [
      "690150_1.png\n"
     ]
    },
    {
     "data": {
      "image/png": "[encoded data removed]",
      "text/plain": [
       "<PIL.PngImagePlugin.PngImageFile image mode=RGBA size=200x200>"
      ]
     },
     "metadata": {},
     "output_type": "display_data"
    },
    {
     "name": "stdout",
     "output_type": "stream",
     "text": [
      "694769_2.png\n"
     ]
    },
    {
     "data": {
      "image/png": "[encoded data removed]",
      "text/plain": [
       "<PIL.PngImagePlugin.PngImageFile image mode=RGBA size=200x200>"
      ]
     },
     "metadata": {},
     "output_type": "display_data"
    },
    {
     "name": "stdout",
     "output_type": "stream",
     "text": [
      "694961_1.png\n"
     ]
    },
    {
     "data": {
      "image/png": "[encoded data removed]",
      "text/plain": [
       "<PIL.PngImagePlugin.PngImageFile image mode=RGBA size=200x200>"
      ]
     },
     "metadata": {},
     "output_type": "display_data"
    },
    {
     "name": "stdout",
     "output_type": "stream",
     "text": [
      "703498_1.png\n"
     ]
    },
    {
     "data": {
      "image/png": "[encoded data removed]",
      "text/plain": [
       "<PIL.PngImagePlugin.PngImageFile image mode=RGBA size=200x200>"
      ]
     },
     "metadata": {},
     "output_type": "display_data"
    },
    {
     "name": "stdout",
     "output_type": "stream",
     "text": [
      "704630_1.png\n"
     ]
    },
    {
     "data": {
      "image/png": "[encoded data removed]",
      "text/plain": [
       "<PIL.PngImagePlugin.PngImageFile image mode=RGBA size=200x200>"
      ]
     },
     "metadata": {},
     "output_type": "display_data"
    },
    {
     "name": "stdout",
     "output_type": "stream",
     "text": [
      "707516_1.png\n"
     ]
    },
    {
     "data": {
      "image/png": "[encoded data removed]",
      "text/plain": [
       "<PIL.PngImagePlugin.PngImageFile image mode=RGBA size=200x200>"
      ]
     },
     "metadata": {},
     "output_type": "display_data"
    },
    {
     "name": "stdout",
     "output_type": "stream",
     "text": [
      "719356_1.png\n"
     ]
    },
    {
     "data": {
      "image/png": "[encoded data removed]",
      "text/plain": [
       "<PIL.PngImagePlugin.PngImageFile image mode=RGBA size=200x200>"
      ]
     },
     "metadata": {},
     "output_type": "display_data"
    },
    {
     "name": "stdout",
     "output_type": "stream",
     "text": [
      "722548_1.png\n"
     ]
    },
    {
     "data": {
      "image/png": "[encoded data removed]",
      "text/plain": [
       "<PIL.PngImagePlugin.PngImageFile image mode=RGBA size=200x200>"
      ]
     },
     "metadata": {},
     "output_type": "display_data"
    },
    {
     "name": "stdout",
     "output_type": "stream",
     "text": [
      "723162_1.png\n"
     ]
    },
    {
     "data": {
      "image/png": "[encoded data removed]",
      "text/plain": [
       "<PIL.PngImagePlugin.PngImageFile image mode=RGBA size=200x200>"
      ]
     },
     "metadata": {},
     "output_type": "display_data"
    },
    {
     "name": "stdout",
     "output_type": "stream",
     "text": [
      "723283_1.png\n"
     ]
    },
    {
     "data": {
      "image/png": "[encoded data removed]",
      "text/plain": [
       "<PIL.PngImagePlugin.PngImageFile image mode=RGBA size=200x200>"
      ]
     },
     "metadata": {},
     "output_type": "display_data"
    },
    {
     "name": "stdout",
     "output_type": "stream",
     "text": [
      "727031_1.png\n"
     ]
    },
    {
     "data": {
      "image/png": "[encoded data removed]",
      "text/plain": [
       "<PIL.PngImagePlugin.PngImageFile image mode=RGBA size=200x200>"
      ]
     },
     "metadata": {},
     "output_type": "display_data"
    },
    {
     "name": "stdout",
     "output_type": "stream",
     "text": [
      "728303_2.png\n"
     ]
    },
    {
     "data": {
      "image/png": "[encoded data removed]",
      "text/plain": [
       "<PIL.PngImagePlugin.PngImageFile image mode=RGBA size=200x200>"
      ]
     },
     "metadata": {},
     "output_type": "display_data"
    },
    {
     "name": "stdout",
     "output_type": "stream",
     "text": [
      "728348_1.png\n"
     ]
    },
    {
     "data": {
      "image/png": "[encoded data removed]",
      "text/plain": [
       "<PIL.PngImagePlugin.PngImageFile image mode=RGBA size=200x200>"
      ]
     },
     "metadata": {},
     "output_type": "display_data"
    },
    {
     "name": "stdout",
     "output_type": "stream",
     "text": [
      "729361_1.png\n"
     ]
    },
    {
     "data": {
      "image/png": "[encoded data removed]",
      "text/plain": [
       "<PIL.PngImagePlugin.PngImageFile image mode=RGBA size=200x200>"
      ]
     },
     "metadata": {},
     "output_type": "display_data"
    },
    {
     "name": "stdout",
     "output_type": "stream",
     "text": [
      "730271_1.png\n"
     ]
    },
    {
     "data": {
      "image/png": "[encoded data removed]",
      "text/plain": [
       "<PIL.PngImagePlugin.PngImageFile image mode=RGBA size=200x200>"
      ]
     },
     "metadata": {},
     "output_type": "display_data"
    },
    {
     "name": "stdout",
     "output_type": "stream",
     "text": [
      "738992_1.png\n"
     ]
    },
    {
     "data": {
      "image/png": "[encoded data removed]",
      "text/plain": [
       "<PIL.PngImagePlugin.PngImageFile image mode=RGBA size=200x200>"
      ]
     },
     "metadata": {},
     "output_type": "display_data"
    },
    {
     "name": "stdout",
     "output_type": "stream",
     "text": [
      "745437_1.png\n"
     ]
    },
    {
     "data": {
      "image/png": "[encoded data removed]",
      "text/plain": [
       "<PIL.PngImagePlugin.PngImageFile image mode=RGBA size=200x200>"
      ]
     },
     "metadata": {},
     "output_type": "display_data"
    },
    {
     "name": "stdout",
     "output_type": "stream",
     "text": [
      "746660_2.png\n"
     ]
    },
    {
     "data": {
      "image/png": "[encoded data removed]",
      "text/plain": [
       "<PIL.PngImagePlugin.PngImageFile image mode=RGBA size=200x200>"
      ]
     },
     "metadata": {},
     "output_type": "display_data"
    },
    {
     "name": "stdout",
     "output_type": "stream",
     "text": [
      "748580_1.png\n"
     ]
    },
    {
     "data": {
      "image/png": "[encoded data removed]",
      "text/plain": [
       "<PIL.PngImagePlugin.PngImageFile image mode=RGBA size=200x200>"
      ]
     },
     "metadata": {},
     "output_type": "display_data"
    },
    {
     "name": "stdout",
     "output_type": "stream",
     "text": [
      "750225_1.png\n"
     ]
    },
    {
     "data": {
      "image/png": "[encoded data removed]",
      "text/plain": [
       "<PIL.PngImagePlugin.PngImageFile image mode=RGBA size=200x200>"
      ]
     },
     "metadata": {},
     "output_type": "display_data"
    },
    {
     "name": "stdout",
     "output_type": "stream",
     "text": [
      "751488_3.png\n"
     ]
    },
    {
     "data": {
      "image/png": "[encoded data removed]",
      "text/plain": [
       "<PIL.PngImagePlugin.PngImageFile image mode=RGBA size=200x200>"
      ]
     },
     "metadata": {},
     "output_type": "display_data"
    },
    {
     "name": "stdout",
     "output_type": "stream",
     "text": [
      "751678_1.png\n"
     ]
    },
    {
     "data": {
      "image/png": "[encoded data removed]",
      "text/plain": [
       "<PIL.PngImagePlugin.PngImageFile image mode=RGBA size=200x200>"
      ]
     },
     "metadata": {},
     "output_type": "display_data"
    },
    {
     "name": "stdout",
     "output_type": "stream",
     "text": [
      "769735_2.png\n"
     ]
    },
    {
     "data": {
      "image/png": "[encoded data removed]",
      "text/plain": [
       "<PIL.PngImagePlugin.PngImageFile image mode=RGBA size=200x200>"
      ]
     },
     "metadata": {},
     "output_type": "display_data"
    },
    {
     "name": "stdout",
     "output_type": "stream",
     "text": [
      "770197_1.png\n"
     ]
    },
    {
     "data": {
      "image/png": "[encoded data removed]",
      "text/plain": [
       "<PIL.PngImagePlugin.PngImageFile image mode=RGBA size=200x200>"
      ]
     },
     "metadata": {},
     "output_type": "display_data"
    },
    {
     "name": "stdout",
     "output_type": "stream",
     "text": [
      "771787_1.png\n"
     ]
    },
    {
     "data": {
      "image/png": "[encoded data removed]",
      "text/plain": [
       "<PIL.PngImagePlugin.PngImageFile image mode=RGBA size=200x200>"
      ]
     },
     "metadata": {},
     "output_type": "display_data"
    },
    {
     "name": "stdout",
     "output_type": "stream",
     "text": [
      "773171_1.png\n"
     ]
    },
    {
     "data": {
      "image/png": "[encoded data removed]",
      "text/plain": [
       "<PIL.PngImagePlugin.PngImageFile image mode=RGBA size=200x200>"
      ]
     },
     "metadata": {},
     "output_type": "display_data"
    },
    {
     "name": "stdout",
     "output_type": "stream",
     "text": [
      "777689_1.png\n"
     ]
    },
    {
     "data": {
      "image/png": "[encoded data removed]",
      "text/plain": [
       "<PIL.PngImagePlugin.PngImageFile image mode=RGBA size=200x200>"
      ]
     },
     "metadata": {},
     "output_type": "display_data"
    },
    {
     "name": "stdout",
     "output_type": "stream",
     "text": [
      "784010_1.png\n"
     ]
    },
    {
     "data": {
      "image/png": "[encoded data removed]",
      "text/plain": [
       "<PIL.PngImagePlugin.PngImageFile image mode=RGBA size=200x200>"
      ]
     },
     "metadata": {},
     "output_type": "display_data"
    },
    {
     "name": "stdout",
     "output_type": "stream",
     "text": [
      "790230_1.png\n"
     ]
    },
    {
     "data": {
      "image/png": "[encoded data removed]",
      "text/plain": [
       "<PIL.PngImagePlugin.PngImageFile image mode=RGBA size=200x200>"
      ]
     },
     "metadata": {},
     "output_type": "display_data"
    },
    {
     "name": "stdout",
     "output_type": "stream",
     "text": [
      "790266_2.png\n"
     ]
    },
    {
     "data": {
      "image/png": "[encoded data removed]",
      "text/plain": [
       "<PIL.PngImagePlugin.PngImageFile image mode=RGBA size=200x200>"
      ]
     },
     "metadata": {},
     "output_type": "display_data"
    },
    {
     "name": "stdout",
     "output_type": "stream",
     "text": [
      "825080_1.png\n"
     ]
    },
    {
     "data": {
      "image/png": "[encoded data removed]",
      "text/plain": [
       "<PIL.PngImagePlugin.PngImageFile image mode=RGBA size=200x200>"
      ]
     },
     "metadata": {},
     "output_type": "display_data"
    },
    {
     "name": "stdout",
     "output_type": "stream",
     "text": [
      "826777_1.png\n"
     ]
    },
    {
     "data": {
      "image/png": "[encoded data removed]",
      "text/plain": [
       "<PIL.PngImagePlugin.PngImageFile image mode=RGBA size=200x200>"
      ]
     },
     "metadata": {},
     "output_type": "display_data"
    },
    {
     "name": "stdout",
     "output_type": "stream",
     "text": [
      "828377_1.png\n"
     ]
    },
    {
     "data": {
      "image/png": "[encoded data removed]",
      "text/plain": [
       "<PIL.PngImagePlugin.PngImageFile image mode=RGBA size=200x200>"
      ]
     },
     "metadata": {},
     "output_type": "display_data"
    },
    {
     "name": "stdout",
     "output_type": "stream",
     "text": [
      "832797_1.png\n"
     ]
    },
    {
     "data": {
      "image/png": "[encoded data removed]",
      "text/plain": [
       "<PIL.PngImagePlugin.PngImageFile image mode=RGBA size=200x200>"
      ]
     },
     "metadata": {},
     "output_type": "display_data"
    },
    {
     "name": "stdout",
     "output_type": "stream",
     "text": [
      "832868_1.png\n"
     ]
    },
    {
     "data": {
      "image/png": "[encoded data removed]",
      "text/plain": [
       "<PIL.PngImagePlugin.PngImageFile image mode=RGBA size=200x200>"
      ]
     },
     "metadata": {},
     "output_type": "display_data"
    },
    {
     "name": "stdout",
     "output_type": "stream",
     "text": [
      "834150_1.png\n"
     ]
    },
    {
     "data": {
      "image/png": "[encoded data removed]",
      "text/plain": [
       "<PIL.PngImagePlugin.PngImageFile image mode=RGBA size=200x200>"
      ]
     },
     "metadata": {},
     "output_type": "display_data"
    },
    {
     "name": "stdout",
     "output_type": "stream",
     "text": [
      "973309_102.png\n"
     ]
    },
    {
     "data": {
      "image/png": "[encoded data removed]",
      "text/plain": [
       "<PIL.PngImagePlugin.PngImageFile image mode=RGBA size=200x200>"
      ]
     },
     "metadata": {},
     "output_type": "display_data"
    },
    {
     "data": {
      "text/plain": [
       "'i then manually looked at image to only have truncated ones in this directory'"
      ]
     },
     "execution_count": 6,
     "metadata": {},
     "output_type": "execute_result"
    }
   ],
   "source": [
    "# open all the images \n",
    "for i in range(len(file_list)):\n",
    "    print(file_names[i])\n",
    "    image = f'{file_list[i]}'\n",
    "    img = Image.open(image)\n",
    "    display(img)\n",
    "\n",
    "'''i then manually looked at image to only have truncated ones in this directory'''"
   ]
  },
  {
   "cell_type": "code",
   "execution_count": 7,
   "id": "be424247-039b-49df-a154-9a5ddf24d8d8",
   "metadata": {},
   "outputs": [],
   "source": [
    "# get the particle name, then extract the rows\n",
    "image_name = [particle[:-4] for particle in file_names]\n",
    "\n",
    "## filter df according to the list of names\n",
    "trunacted_img_df = df[df['name'].isin(image_name)]"
   ]
  },
  {
   "cell_type": "code",
   "execution_count": 8,
   "id": "1e32c03a-ab72-4bbf-8b90-226fc1f8befc",
   "metadata": {},
   "outputs": [],
   "source": [
    "n = 30\n",
    "start = trunacted_img_df.iloc[30]['start_index']\n",
    "end = trunacted_img_df.iloc[30]['end_index']\n"
   ]
  },
  {
   "cell_type": "markdown",
   "id": "52d5c8c4-00da-4908-8f49-c705675f1412",
   "metadata": {},
   "source": [
    "now open h5 file to mess around with it"
   ]
  },
  {
   "cell_type": "code",
   "execution_count": 9,
   "id": "970f4cd0-aa8d-4ec0-988b-fec3cdad2ec5",
   "metadata": {},
   "outputs": [],
   "source": [
    "h5_path = '/home/users/esree/data/Export_base220730153000.h5'\n",
    "f2ds = h5py.File(h5_path,'r')\n",
    "\n",
    "ds_image = f2ds['ImageData'] # shape (128, 200000) --> 128 pixels width, 200000 length\n",
    "ds_time = f2ds['ImageTimes'] # shape (100000, 3) --> (rows, columns) related to time\n",
    "\n",
    "# make time variable -> 3 seperate columns\n",
    "og_t_xr = xr.Dataset({'ImageTimes': (('data', 'time_vars'),ds_time)})\n",
    "sec_since = og_t_xr['ImageTimes'][:,0] # seconds since midnight UTC\n",
    "pixel_slice = og_t_xr['ImageTimes'][:,1] # number of slices of pixel per image (contain -1, to fill)\n",
    "# we can use pixel slice to correcly divide up data ^ the index to call f2ds['ImageData']\n",
    "# these slices have been pre-determined by Jonny + algorithm he has written \n",
    "\n",
    "bit_time = og_t_xr['ImageTimes'][:,2] # 32 bit (instrument things) - not useful\n",
    "## ~~~~~~~~~~~~~~~~~~~~~~~~~~~~~~~~~~~~~~~~~~~~~~~~~~~~~~~~~~~~~~~~~~~~~~~~~~~~~~~~~~~~~~~~~~~~~~~~~~~~~~~~~~~~~~~~~~~\n",
    "# do cumulative sum of pixel slices -> can use this as index to slice + extract single crystals\n",
    "pix_sum = pixel_slice.cumsum(dim='data', dtype ='int')\n",
    "\n",
    "# shove together into a useful xarray \n",
    "time_xr = xr.Dataset({\n",
    "    'sec_since': sec_since,\n",
    "    'pixel_slice': pixel_slice,\n",
    "    'bit_time': bit_time,\n",
    "    'pix_sum': pix_sum})"
   ]
  },
  {
   "cell_type": "code",
   "execution_count": 11,
   "id": "25ac2c75-35d4-442d-84ee-49c8f19458f2",
   "metadata": {},
   "outputs": [
    {
     "data": {
      "image/png": "[encoded data removed]",
      "text/plain": [
       "<Figure size 640x480 with 1 Axes>"
      ]
     },
     "metadata": {},
     "output_type": "display_data"
    }
   ],
   "source": [
    "one_crystal = f2ds['ImageData'][:,start:end+70] # extract 1 crystal\n",
    "\n",
    "plt.imshow(one_crystal, cmap='gray')\n",
    "plt.axis('off')  # Turn off axis labels\n",
    "plt.show()"
   ]
  },
  {
   "cell_type": "markdown",
   "id": "9917c723-f49e-4c65-bc87-5c6b66cbd44d",
   "metadata": {},
   "source": [
    "## find specif particle + slice raw h5 file"
   ]
  },
  {
   "cell_type": "markdown",
   "id": "b2f1aa19-7d22-4519-afe1-d974c7d89757",
   "metadata": {},
   "source": [
    "example ones\n",
    "| Stretch/Untouched | ProbDistribution | Accuracy |\n",
    "| --- | --- | --- |\n",
    "| Stretched | Gaussian | .843 |"
   ]
  },
  {
   "cell_type": "code",
   "execution_count": 9,
   "id": "fec8b78a-aca5-42e0-acb7-1e8e14a5a9f4",
   "metadata": {},
   "outputs": [
    {
     "name": "stderr",
     "output_type": "stream",
     "text": [
      "/tmp/ipykernel_531/1540195785.py:14: FutureWarning: Calling int on a single element Series is deprecated and will raise a TypeError in the future. Use int(ser.iloc[0]) instead\n",
      "  s_idx = int(row['slice_s_idx'])\n",
      "/tmp/ipykernel_531/1540195785.py:15: FutureWarning: Calling int on a single element Series is deprecated and will raise a TypeError in the future. Use int(ser.iloc[0]) instead\n",
      "  e_idx = int(row['slice_e_idx'])\n"
     ]
    },
    {
     "data": {
      "image/png": "[encoded data removed]",
      "text/plain": [
       "<PIL.PngImagePlugin.PngImageFile image mode=RGBA size=200x200>"
      ]
     },
     "metadata": {},
     "output_type": "display_data"
    },
    {
     "data": {
      "image/png": "[encoded data removed]",
      "text/plain": [
       "<Figure size 640x480 with 1 Axes>"
      ]
     },
     "metadata": {},
     "output_type": "display_data"
    }
   ],
   "source": [
    "## this is the png name\n",
    "particle_name = '37032_4' \n",
    "## known truncated: 318747_1, 325593_1, 459417_1, 421760_1\n",
    "## list of truncated particles not captured:\n",
    "# 482517_3, 458489_16 , 421540_3, 171668_2, 323553_2, 167311_2, \n",
    "## weird looking ones:\n",
    "# 1000081_1, 1001384_1 (streak)\n",
    "# WD: 37032_4, 183286_16\n",
    "# column: 539874_1\n",
    "\n",
    "row = df[df['name'] == particle_name]\n",
    "#row['first_diode_trunc']\n",
    "\n",
    "s_idx = int(row['slice_s_idx'])\n",
    "e_idx = int(row['slice_e_idx'])\n",
    "\n",
    "img = Image.open(f'{path}{particle_name}.png')\n",
    "display(img)\n",
    "\n",
    "## corresponding image from h5 file\n",
    "one_crystal = f2ds['ImageData'][:,s_idx:e_idx] # extract 1 crystal\n",
    "\n",
    "## some of the processing script:\n",
    "binary_image = (one_crystal == 0)\n",
    "labeled_image, num_features = label(binary_image) # identify connected true areas\n",
    "props = regionprops(labeled_image) # creates quick list of properties describing each feature detected in the image.\n",
    "\n",
    "props_dic = {}\n",
    "for i in range(len(props)):\n",
    "    particle_n = props[i]\n",
    "    filled_part_n, spec_region_n = stats_description(particle_n,5)\n",
    "    first_diode_n, last_diode_n = calc_truncation(one_crystal, filled_part_n)\n",
    "\n",
    "    props_dic[f'particle_{i}'] = {}\n",
    "    props_dic[f'particle_{i}']['filled_part'] = filled_part_n\n",
    "    props_dic[f'particle_{i}']['spec_region'] = spec_region_n\n",
    "    props_dic[f'particle_{i}']['trunc'] = [first_diode_n, last_diode_n]\n",
    "    props_dic[f'particle_{i}']['coords'] = props[i].coords ## this is different to spec_region_n.coords. this looks at particle in whole context\n",
    "\n",
    "\n",
    "###\n",
    "plt.imshow(one_crystal, cmap='gray')\n",
    "#plt.axis('off')  # Turn off axis labels\n",
    "plt.show()"
   ]
  },
  {
   "cell_type": "code",
   "execution_count": 10,
   "id": "e112a103-6ca7-4446-84dd-d0c094629a8a",
   "metadata": {},
   "outputs": [
    {
     "data": {
      "image/png": "[encoded data removed]",
      "text/plain": [
       "<Figure size 640x480 with 1 Axes>"
      ]
     },
     "metadata": {},
     "output_type": "display_data"
    }
   ],
   "source": [
    "specif_particle = 'particle_0'\n",
    "image_data = props_dic[specif_particle]['filled_part']\n",
    "plt.imshow(image_data, cmap='gray')\n",
    "#plt.axis('off')  # Turn off axis labels\n",
    "plt.show()"
   ]
  },
  {
   "cell_type": "markdown",
   "id": "68bb2a04-0c15-4cb7-8ac5-cbac4c434728",
   "metadata": {},
   "source": [
    "### removing streak particles (vv elongated ones)\n",
    "aspect ratio >10 -> remove"
   ]
  },
  {
   "cell_type": "code",
   "execution_count": 153,
   "id": "df320b9f-a66c-4148-a30e-a06d09ba64fe",
   "metadata": {},
   "outputs": [
    {
     "name": "stdout",
     "output_type": "stream",
     "text": [
      "eccentricity: 0.6368768605904045\n",
      "aspect ratio: 1.2970748336100868\n"
     ]
    }
   ],
   "source": [
    "spec_region = props_dic[specif_particle]['spec_region']\n",
    "print(f'eccentricity: {spec_region.eccentricity}')\n",
    "aspect_ratio = spec_region.major_axis_length / spec_region.minor_axis_length\n",
    "#print(f'area_convex: {spec_region.area_convex}')\n",
    "print(f'aspect ratio: {aspect_ratio}')"
   ]
  },
  {
   "cell_type": "markdown",
   "id": "8bc91dda-8d4f-465f-a8d0-10705c97c8c8",
   "metadata": {},
   "source": [
    "#### making new column of aspect ratio"
   ]
  },
  {
   "cell_type": "code",
   "execution_count": 19,
   "id": "2156f3f0-c550-4d2c-a860-52c98f9aab48",
   "metadata": {
    "scrolled": true
   },
   "outputs": [
    {
     "data": {
      "image/png": "[encoded data removed]",
      "text/plain": [
       "<Figure size 640x480 with 1 Axes>"
      ]
     },
     "metadata": {},
     "output_type": "display_data"
    }
   ],
   "source": [
    "df['aspect_ratio'] = df['d_max'] / df['d_min']\n",
    "aspect_ratio_values = list(df['aspect_ratio'])\n",
    "#print(aspect_ratio_values)\n",
    "plt.hist(aspect_ratio_values, bins=200, edgecolor='black')\n",
    "plt.yscale('log')\n"
   ]
  },
  {
   "cell_type": "code",
   "execution_count": 35,
   "id": "c82f49f8-25ee-4f42-b105-1ea85755cabf",
   "metadata": {
    "scrolled": true
   },
   "outputs": [
    {
     "name": "stdout",
     "output_type": "stream",
     "text": [
      "1002353_1\n"
     ]
    },
    {
     "data": {
      "image/png": "[encoded data removed]",
      "text/plain": [
       "<PIL.PngImagePlugin.PngImageFile image mode=RGBA size=200x200>"
      ]
     },
     "metadata": {},
     "output_type": "display_data"
    },
    {
     "name": "stdout",
     "output_type": "stream",
     "text": [
      "1003804_1\n"
     ]
    },
    {
     "data": {
      "image/png": "[encoded data removed]",
      "text/plain": [
       "<PIL.PngImagePlugin.PngImageFile image mode=RGBA size=200x200>"
      ]
     },
     "metadata": {},
     "output_type": "display_data"
    },
    {
     "name": "stdout",
     "output_type": "stream",
     "text": [
      "1003990_2\n"
     ]
    },
    {
     "data": {
      "image/png": "[encoded data removed]",
      "text/plain": [
       "<PIL.PngImagePlugin.PngImageFile image mode=RGBA size=200x200>"
      ]
     },
     "metadata": {},
     "output_type": "display_data"
    },
    {
     "name": "stdout",
     "output_type": "stream",
     "text": [
      "1007977_1\n"
     ]
    },
    {
     "data": {
      "image/png": "[encoded data removed]",
      "text/plain": [
       "<PIL.PngImagePlugin.PngImageFile image mode=RGBA size=200x200>"
      ]
     },
     "metadata": {},
     "output_type": "display_data"
    },
    {
     "name": "stdout",
     "output_type": "stream",
     "text": [
      "1009039_1\n"
     ]
    },
    {
     "data": {
      "image/png": "[encoded data removed]",
      "text/plain": [
       "<PIL.PngImagePlugin.PngImageFile image mode=RGBA size=200x200>"
      ]
     },
     "metadata": {},
     "output_type": "display_data"
    },
    {
     "name": "stdout",
     "output_type": "stream",
     "text": [
      "1009089_1\n"
     ]
    },
    {
     "data": {
      "image/png": "[encoded data removed]",
      "text/plain": [
       "<PIL.PngImagePlugin.PngImageFile image mode=RGBA size=200x200>"
      ]
     },
     "metadata": {},
     "output_type": "display_data"
    },
    {
     "name": "stdout",
     "output_type": "stream",
     "text": [
      "1032162_1\n"
     ]
    },
    {
     "data": {
      "image/png": "[encoded data removed]",
      "text/plain": [
       "<PIL.PngImagePlugin.PngImageFile image mode=RGBA size=200x200>"
      ]
     },
     "metadata": {},
     "output_type": "display_data"
    },
    {
     "name": "stdout",
     "output_type": "stream",
     "text": [
      "1033778_1\n"
     ]
    },
    {
     "data": {
      "image/png": "[encoded data removed]",
      "text/plain": [
       "<PIL.PngImagePlugin.PngImageFile image mode=RGBA size=200x200>"
      ]
     },
     "metadata": {},
     "output_type": "display_data"
    },
    {
     "name": "stdout",
     "output_type": "stream",
     "text": [
      "109194_1\n"
     ]
    },
    {
     "data": {
      "image/png": "[encoded data removed]",
      "text/plain": [
       "<PIL.PngImagePlugin.PngImageFile image mode=RGBA size=200x200>"
      ]
     },
     "metadata": {},
     "output_type": "display_data"
    },
    {
     "name": "stdout",
     "output_type": "stream",
     "text": [
      "109246_1\n"
     ]
    },
    {
     "data": {
      "image/png": "[encoded data removed]",
      "text/plain": [
       "<PIL.PngImagePlugin.PngImageFile image mode=RGBA size=200x200>"
      ]
     },
     "metadata": {},
     "output_type": "display_data"
    },
    {
     "name": "stdout",
     "output_type": "stream",
     "text": [
      "110143_22\n"
     ]
    },
    {
     "data": {
      "image/png": "[encoded data removed]",
      "text/plain": [
       "<PIL.PngImagePlugin.PngImageFile image mode=RGBA size=200x200>"
      ]
     },
     "metadata": {},
     "output_type": "display_data"
    },
    {
     "name": "stdout",
     "output_type": "stream",
     "text": [
      "110861_11\n"
     ]
    },
    {
     "data": {
      "image/png": "[encoded data removed]",
      "text/plain": [
       "<PIL.PngImagePlugin.PngImageFile image mode=RGBA size=200x200>"
      ]
     },
     "metadata": {},
     "output_type": "display_data"
    },
    {
     "name": "stdout",
     "output_type": "stream",
     "text": [
      "146054_1\n"
     ]
    },
    {
     "data": {
      "image/png": "[encoded data removed]",
      "text/plain": [
       "<PIL.PngImagePlugin.PngImageFile image mode=RGBA size=200x200>"
      ]
     },
     "metadata": {},
     "output_type": "display_data"
    },
    {
     "name": "stdout",
     "output_type": "stream",
     "text": [
      "15051_1\n"
     ]
    },
    {
     "data": {
      "image/png": "[encoded data removed]",
      "text/plain": [
       "<PIL.PngImagePlugin.PngImageFile image mode=RGBA size=200x200>"
      ]
     },
     "metadata": {},
     "output_type": "display_data"
    },
    {
     "name": "stdout",
     "output_type": "stream",
     "text": [
      "163773_1\n"
     ]
    },
    {
     "data": {
      "image/png": "[encoded data removed]",
      "text/plain": [
       "<PIL.PngImagePlugin.PngImageFile image mode=RGBA size=200x200>"
      ]
     },
     "metadata": {},
     "output_type": "display_data"
    },
    {
     "name": "stdout",
     "output_type": "stream",
     "text": [
      "166032_1\n"
     ]
    },
    {
     "data": {
      "image/png": "[encoded data removed]",
      "text/plain": [
       "<PIL.PngImagePlugin.PngImageFile image mode=RGBA size=200x200>"
      ]
     },
     "metadata": {},
     "output_type": "display_data"
    },
    {
     "name": "stdout",
     "output_type": "stream",
     "text": [
      "181938_1\n"
     ]
    },
    {
     "data": {
      "image/png": "[encoded data removed]",
      "text/plain": [
       "<PIL.PngImagePlugin.PngImageFile image mode=RGBA size=200x200>"
      ]
     },
     "metadata": {},
     "output_type": "display_data"
    },
    {
     "name": "stdout",
     "output_type": "stream",
     "text": [
      "23613_74\n"
     ]
    },
    {
     "data": {
      "image/png": "[encoded data removed]",
      "text/plain": [
       "<PIL.PngImagePlugin.PngImageFile image mode=RGBA size=200x200>"
      ]
     },
     "metadata": {},
     "output_type": "display_data"
    },
    {
     "name": "stdout",
     "output_type": "stream",
     "text": [
      "322776_1\n"
     ]
    },
    {
     "data": {
      "image/png": "[encoded data removed]",
      "text/plain": [
       "<PIL.PngImagePlugin.PngImageFile image mode=RGBA size=200x200>"
      ]
     },
     "metadata": {},
     "output_type": "display_data"
    },
    {
     "name": "stdout",
     "output_type": "stream",
     "text": [
      "325446_1\n"
     ]
    },
    {
     "data": {
      "image/png": "[encoded data removed]",
      "text/plain": [
       "<PIL.PngImagePlugin.PngImageFile image mode=RGBA size=200x200>"
      ]
     },
     "metadata": {},
     "output_type": "display_data"
    },
    {
     "name": "stdout",
     "output_type": "stream",
     "text": [
      "334618_1\n"
     ]
    },
    {
     "data": {
      "image/png": "[encoded data removed]",
      "text/plain": [
       "<PIL.PngImagePlugin.PngImageFile image mode=RGBA size=200x200>"
      ]
     },
     "metadata": {},
     "output_type": "display_data"
    },
    {
     "name": "stdout",
     "output_type": "stream",
     "text": [
      "336869_3\n"
     ]
    },
    {
     "data": {
      "image/png": "[encoded data removed]",
      "text/plain": [
       "<PIL.PngImagePlugin.PngImageFile image mode=RGBA size=200x200>"
      ]
     },
     "metadata": {},
     "output_type": "display_data"
    },
    {
     "name": "stdout",
     "output_type": "stream",
     "text": [
      "359026_1\n"
     ]
    },
    {
     "data": {
      "image/png": "[encoded data removed]",
      "text/plain": [
       "<PIL.PngImagePlugin.PngImageFile image mode=RGBA size=200x200>"
      ]
     },
     "metadata": {},
     "output_type": "display_data"
    },
    {
     "name": "stdout",
     "output_type": "stream",
     "text": [
      "39035_1\n"
     ]
    },
    {
     "data": {
      "image/png": "[encoded data removed]",
      "text/plain": [
       "<PIL.PngImagePlugin.PngImageFile image mode=RGBA size=200x200>"
      ]
     },
     "metadata": {},
     "output_type": "display_data"
    },
    {
     "name": "stdout",
     "output_type": "stream",
     "text": [
      "406458_1\n"
     ]
    },
    {
     "data": {
      "image/png": "[encoded data removed]",
      "text/plain": [
       "<PIL.PngImagePlugin.PngImageFile image mode=RGBA size=200x200>"
      ]
     },
     "metadata": {},
     "output_type": "display_data"
    },
    {
     "name": "stdout",
     "output_type": "stream",
     "text": [
      "406930_2\n"
     ]
    },
    {
     "data": {
      "image/png": "[encoded data removed]",
      "text/plain": [
       "<PIL.PngImagePlugin.PngImageFile image mode=RGBA size=200x200>"
      ]
     },
     "metadata": {},
     "output_type": "display_data"
    },
    {
     "name": "stdout",
     "output_type": "stream",
     "text": [
      "461533_1\n"
     ]
    },
    {
     "data": {
      "image/png": "[encoded data removed]",
      "text/plain": [
       "<PIL.PngImagePlugin.PngImageFile image mode=RGBA size=200x200>"
      ]
     },
     "metadata": {},
     "output_type": "display_data"
    },
    {
     "name": "stdout",
     "output_type": "stream",
     "text": [
      "471621_2\n"
     ]
    },
    {
     "data": {
      "image/png": "[encoded data removed]",
      "text/plain": [
       "<PIL.PngImagePlugin.PngImageFile image mode=RGBA size=200x200>"
      ]
     },
     "metadata": {},
     "output_type": "display_data"
    },
    {
     "name": "stdout",
     "output_type": "stream",
     "text": [
      "476260_1\n"
     ]
    },
    {
     "data": {
      "image/png": "[encoded data removed]",
      "text/plain": [
       "<PIL.PngImagePlugin.PngImageFile image mode=RGBA size=200x200>"
      ]
     },
     "metadata": {},
     "output_type": "display_data"
    },
    {
     "name": "stdout",
     "output_type": "stream",
     "text": [
      "479495_4\n"
     ]
    },
    {
     "data": {
      "image/png": "[encoded data removed]",
      "text/plain": [
       "<PIL.PngImagePlugin.PngImageFile image mode=RGBA size=200x200>"
      ]
     },
     "metadata": {},
     "output_type": "display_data"
    },
    {
     "name": "stdout",
     "output_type": "stream",
     "text": [
      "481330_1\n"
     ]
    },
    {
     "data": {
      "image/png": "[encoded data removed]",
      "text/plain": [
       "<PIL.PngImagePlugin.PngImageFile image mode=RGBA size=200x200>"
      ]
     },
     "metadata": {},
     "output_type": "display_data"
    },
    {
     "name": "stdout",
     "output_type": "stream",
     "text": [
      "485739_6\n"
     ]
    },
    {
     "data": {
      "image/png": "[encoded data removed]",
      "text/plain": [
       "<PIL.PngImagePlugin.PngImageFile image mode=RGBA size=200x200>"
      ]
     },
     "metadata": {},
     "output_type": "display_data"
    },
    {
     "name": "stdout",
     "output_type": "stream",
     "text": [
      "490495_1\n"
     ]
    },
    {
     "data": {
      "image/png": "[encoded data removed]",
      "text/plain": [
       "<PIL.PngImagePlugin.PngImageFile image mode=RGBA size=200x200>"
      ]
     },
     "metadata": {},
     "output_type": "display_data"
    },
    {
     "name": "stdout",
     "output_type": "stream",
     "text": [
      "511463_7\n"
     ]
    },
    {
     "data": {
      "image/png": "[encoded data removed]",
      "text/plain": [
       "<PIL.PngImagePlugin.PngImageFile image mode=RGBA size=200x200>"
      ]
     },
     "metadata": {},
     "output_type": "display_data"
    },
    {
     "name": "stdout",
     "output_type": "stream",
     "text": [
      "536951_1\n"
     ]
    },
    {
     "data": {
      "image/png": "[encoded data removed]",
      "text/plain": [
       "<PIL.PngImagePlugin.PngImageFile image mode=RGBA size=200x200>"
      ]
     },
     "metadata": {},
     "output_type": "display_data"
    },
    {
     "name": "stdout",
     "output_type": "stream",
     "text": [
      "659904_1\n"
     ]
    },
    {
     "data": {
      "image/png": "[encoded data removed]",
      "text/plain": [
       "<PIL.PngImagePlugin.PngImageFile image mode=RGBA size=200x200>"
      ]
     },
     "metadata": {},
     "output_type": "display_data"
    },
    {
     "name": "stdout",
     "output_type": "stream",
     "text": [
      "68061_1\n"
     ]
    },
    {
     "data": {
      "image/png": "[encoded data removed]",
      "text/plain": [
       "<PIL.PngImagePlugin.PngImageFile image mode=RGBA size=200x200>"
      ]
     },
     "metadata": {},
     "output_type": "display_data"
    },
    {
     "name": "stdout",
     "output_type": "stream",
     "text": [
      "69927_1\n"
     ]
    },
    {
     "data": {
      "image/png": "[encoded data removed]",
      "text/plain": [
       "<PIL.PngImagePlugin.PngImageFile image mode=RGBA size=200x200>"
      ]
     },
     "metadata": {},
     "output_type": "display_data"
    },
    {
     "name": "stdout",
     "output_type": "stream",
     "text": [
      "736265_1\n"
     ]
    },
    {
     "data": {
      "image/png": "[encoded data removed]",
      "text/plain": [
       "<PIL.PngImagePlugin.PngImageFile image mode=RGBA size=200x200>"
      ]
     },
     "metadata": {},
     "output_type": "display_data"
    },
    {
     "name": "stdout",
     "output_type": "stream",
     "text": [
      "75537_10\n"
     ]
    },
    {
     "data": {
      "image/png": "[encoded data removed]",
      "text/plain": [
       "<PIL.PngImagePlugin.PngImageFile image mode=RGBA size=200x200>"
      ]
     },
     "metadata": {},
     "output_type": "display_data"
    },
    {
     "name": "stdout",
     "output_type": "stream",
     "text": [
      "761354_1\n"
     ]
    },
    {
     "data": {
      "image/png": "[encoded data removed]",
      "text/plain": [
       "<PIL.PngImagePlugin.PngImageFile image mode=RGBA size=200x200>"
      ]
     },
     "metadata": {},
     "output_type": "display_data"
    },
    {
     "name": "stdout",
     "output_type": "stream",
     "text": [
      "937143_2\n"
     ]
    },
    {
     "data": {
      "image/png": "[encoded data removed]",
      "text/plain": [
       "<PIL.PngImagePlugin.PngImageFile image mode=RGBA size=200x200>"
      ]
     },
     "metadata": {},
     "output_type": "display_data"
    },
    {
     "name": "stdout",
     "output_type": "stream",
     "text": [
      "977110_6\n"
     ]
    },
    {
     "data": {
      "image/png": "[encoded data removed]",
      "text/plain": [
       "<PIL.PngImagePlugin.PngImageFile image mode=RGBA size=200x200>"
      ]
     },
     "metadata": {},
     "output_type": "display_data"
    },
    {
     "name": "stdout",
     "output_type": "stream",
     "text": [
      "990322_1\n"
     ]
    },
    {
     "data": {
      "image/png": "[encoded data removed]",
      "text/plain": [
       "<PIL.PngImagePlugin.PngImageFile image mode=RGBA size=200x200>"
      ]
     },
     "metadata": {},
     "output_type": "display_data"
    },
    {
     "name": "stdout",
     "output_type": "stream",
     "text": [
      "991702_1\n"
     ]
    },
    {
     "data": {
      "image/png": "[encoded data removed]",
      "text/plain": [
       "<PIL.PngImagePlugin.PngImageFile image mode=RGBA size=200x200>"
      ]
     },
     "metadata": {},
     "output_type": "display_data"
    },
    {
     "name": "stdout",
     "output_type": "stream",
     "text": [
      "994627_1\n"
     ]
    },
    {
     "data": {
      "image/png": "[encoded data removed]",
      "text/plain": [
       "<PIL.PngImagePlugin.PngImageFile image mode=RGBA size=200x200>"
      ]
     },
     "metadata": {},
     "output_type": "display_data"
    },
    {
     "name": "stdout",
     "output_type": "stream",
     "text": [
      "998481_1\n"
     ]
    },
    {
     "data": {
      "image/png": "[encoded data removed]",
      "text/plain": [
       "<PIL.PngImagePlugin.PngImageFile image mode=RGBA size=200x200>"
      ]
     },
     "metadata": {},
     "output_type": "display_data"
    },
    {
     "name": "stdout",
     "output_type": "stream",
     "text": [
      "998690_1\n"
     ]
    },
    {
     "data": {
      "image/png": "[encoded data removed]",
      "text/plain": [
       "<PIL.PngImagePlugin.PngImageFile image mode=RGBA size=200x200>"
      ]
     },
     "metadata": {},
     "output_type": "display_data"
    },
    {
     "name": "stdout",
     "output_type": "stream",
     "text": [
      "999333_1\n"
     ]
    },
    {
     "data": {
      "image/png": "[encoded data removed]",
      "text/plain": [
       "<PIL.PngImagePlugin.PngImageFile image mode=RGBA size=200x200>"
      ]
     },
     "metadata": {},
     "output_type": "display_data"
    },
    {
     "name": "stdout",
     "output_type": "stream",
     "text": [
      "999568_1\n"
     ]
    },
    {
     "data": {
      "image/png": "[encoded data removed]",
      "text/plain": [
       "<PIL.PngImagePlugin.PngImageFile image mode=RGBA size=200x200>"
      ]
     },
     "metadata": {},
     "output_type": "display_data"
    },
    {
     "name": "stdout",
     "output_type": "stream",
     "text": [
      "999778_1\n"
     ]
    },
    {
     "data": {
      "image/png": "[encoded data removed]",
      "text/plain": [
       "<PIL.PngImagePlugin.PngImageFile image mode=RGBA size=200x200>"
      ]
     },
     "metadata": {},
     "output_type": "display_data"
    }
   ],
   "source": [
    "## slice out some of the weird images\n",
    "weird_df = df[(df['aspect_ratio'] > 5) & (df['aspect_ratio'] < 10)]\n",
    "\n",
    "# > 7 ?\n",
    "weird_particles = list(weird_df['name'])\n",
    "\n",
    "for particle in weird_particles:\n",
    "    print(particle)\n",
    "    img = Image.open(f'{path}{particle}.png')\n",
    "    display(img)\n",
    "'''\n",
    "weird_aspect_r = list(weird_df['aspect_ratio'])\n",
    "plt.hist(weird_aspect_r, bins='auto', edgecolor='black')\n",
    "'''\n",
    "\n",
    "weird_df.to_csv('weird_particles.csv', index=False)"
   ]
  },
  {
   "cell_type": "code",
   "execution_count": 30,
   "id": "ab177e57-2167-4209-89bb-93195184d7de",
   "metadata": {},
   "outputs": [
    {
     "data": {
      "text/plain": [
       "(array([ 61., 173., 244., 374., 506., 602., 546., 408., 285., 243., 208.,\n",
       "        165., 166., 157., 130., 125.,  99.,  95., 112.,  84.,  71.,  56.,\n",
       "         61.,  46.,  44.,  48.,  28.,  28.,  24.,  27.,  29.,  20.,  20.,\n",
       "         19.,  14.,   8.,   8.,   5.,   4.,   3.,   7.,   7.,   6.,   6.,\n",
       "          6.,   4.,   3.,   8.,   5.,   3.,   4.,   2.,   3.,   1.,   2.,\n",
       "          3.,   1.,   2.,   2.,   1.,   2.,   2.,   3.,   4.,   0.,   2.,\n",
       "          1.,   3.,   1.,   2.,   2.,   1.,   2.,   2.,   1.,   3.,   1.,\n",
       "          1.,   4.,   1.,   1.,   1.,   0.,   1.,   0.,   2.,   0.,   1.,\n",
       "          0.,   0.,   1.,   0.,   1.,   3.,   1.,   1.,   0.,   1.,   1.,\n",
       "          0.,   0.,   0.,   2.,   0.,   1.,   1.,   0.,   1.,   0.,   0.,\n",
       "          0.,   0.,   0.,   0.,   0.,   0.,   1.,   1.,   1.,   0.,   0.,\n",
       "          0.,   0.,   0.,   0.,   0.,   0.,   1.]),\n",
       " array([1.00342508, 1.06592844, 1.1284318 , 1.19093516, 1.25343851,\n",
       "        1.31594187, 1.37844523, 1.44094859, 1.50345195, 1.5659553 ,\n",
       "        1.62845866, 1.69096202, 1.75346538, 1.81596873, 1.87847209,\n",
       "        1.94097545, 2.00347881, 2.06598217, 2.12848552, 2.19098888,\n",
       "        2.25349224, 2.3159956 , 2.37849895, 2.44100231, 2.50350567,\n",
       "        2.56600903, 2.62851239, 2.69101574, 2.7535191 , 2.81602246,\n",
       "        2.87852582, 2.94102918, 3.00353253, 3.06603589, 3.12853925,\n",
       "        3.19104261, 3.25354596, 3.31604932, 3.37855268, 3.44105604,\n",
       "        3.5035594 , 3.56606275, 3.62856611, 3.69106947, 3.75357283,\n",
       "        3.81607618, 3.87857954, 3.9410829 , 4.00358626, 4.06608962,\n",
       "        4.12859297, 4.19109633, 4.25359969, 4.31610305, 4.37860641,\n",
       "        4.44110976, 4.50361312, 4.56611648, 4.62861984, 4.69112319,\n",
       "        4.75362655, 4.81612991, 4.87863327, 4.94113663, 5.00363998,\n",
       "        5.06614334, 5.1286467 , 5.19115006, 5.25365341, 5.31615677,\n",
       "        5.37866013, 5.44116349, 5.50366685, 5.5661702 , 5.62867356,\n",
       "        5.69117692, 5.75368028, 5.81618363, 5.87868699, 5.94119035,\n",
       "        6.00369371, 6.06619707, 6.12870042, 6.19120378, 6.25370714,\n",
       "        6.3162105 , 6.37871386, 6.44121721, 6.50372057, 6.56622393,\n",
       "        6.62872729, 6.69123064, 6.753734  , 6.81623736, 6.87874072,\n",
       "        6.94124408, 7.00374743, 7.06625079, 7.12875415, 7.19125751,\n",
       "        7.25376086, 7.31626422, 7.37876758, 7.44127094, 7.5037743 ,\n",
       "        7.56627765, 7.62878101, 7.69128437, 7.75378773, 7.81629109,\n",
       "        7.87879444, 7.9412978 , 8.00380116, 8.06630452, 8.12880787,\n",
       "        8.19131123, 8.25381459, 8.31631795, 8.37882131, 8.44132466,\n",
       "        8.50382802, 8.56633138, 8.62883474, 8.69133809, 8.75384145,\n",
       "        8.81634481, 8.87884817, 8.94135153, 9.00385488]),\n",
       " <BarContainer object of 128 artists>)"
      ]
     },
     "execution_count": 30,
     "metadata": {},
     "output_type": "execute_result"
    },
    {
     "data": {
      "image/png": "[encoded data removed]",
      "text/plain": [
       "<Figure size 640x480 with 1 Axes>"
      ]
     },
     "metadata": {},
     "output_type": "display_data"
    }
   ],
   "source": [
    "## non odd particles\n",
    "normal_df = df[df['aspect_ratio'] < 10]\n",
    "\n",
    "normal_ar = list(normal_df['aspect_ratio'])\n",
    "plt.hist(normal_ar, bins='auto', edgecolor='black')\n"
   ]
  },
  {
   "cell_type": "markdown",
   "id": "cec36786-b5e3-4954-a430-047e867d24de",
   "metadata": {
    "jp-MarkdownHeadingCollapsed": true
   },
   "source": [
    "### truncation bits\n",
    "using new method -> better truncation calculation"
   ]
  },
  {
   "cell_type": "code",
   "execution_count": 144,
   "id": "52e57fac-9b53-432d-a8bd-96f07864ed5c",
   "metadata": {},
   "outputs": [],
   "source": [
    "## some of the processing script:\n",
    "binary_image = (one_crystal == 0)\n",
    "labeled_image, num_features = label(binary_image) # identify connected true areas\n",
    "props = regionprops(labeled_image) # creates quick list of properties describing each feature detected in the image.\n",
    "\n",
    "props_dic = {}\n",
    "for i in range(len(props)):\n",
    "    particle_n = props[i]\n",
    "    filled_part_n, spec_region_n = stats_description(particle_n,5)\n",
    "    first_diode_n, last_diode_n = calc_truncation(one_crystal, filled_part_n)\n",
    "\n",
    "    props_dic[f'particle_{i}'] = {}\n",
    "    props_dic[f'particle_{i}']['filled_part'] = filled_part_n\n",
    "    props_dic[f'particle_{i}']['spec_region'] = spec_region_n\n",
    "    props_dic[f'particle_{i}']['trunc'] = [first_diode_n, last_diode_n]\n",
    "    props_dic[f'particle_{i}']['coords'] = props[i].coords ## this is different to spec_region_n.coords. this looks at particle in whole context"
   ]
  },
  {
   "cell_type": "code",
   "execution_count": 129,
   "id": "0712a5f6-c0a4-4865-9565-e0d87325e031",
   "metadata": {
    "scrolled": true
   },
   "outputs": [
    {
     "name": "stdout",
     "output_type": "stream",
     "text": [
      "first: 0, last: 0\n",
      "first: 0, last: 0\n"
     ]
    }
   ],
   "source": [
    "coord_lst = props_dic[specif_particle]['coords']\n",
    "first_d, last_d = calc_truncation_lol(coord_lst)\n",
    "\n",
    "n_diode_1 = props_dic[specif_particle]['trunc'][0]\n",
    "n_diode_127 = props_dic[specif_particle]['trunc'][1]\n",
    "\n",
    "print(f'first: {first_d}, last: {last_d}')\n",
    "print(f'first: {n_diode_1}, last: {n_diode_127}')"
   ]
  },
  {
   "cell_type": "code",
   "execution_count": null,
   "id": "e05c9c1d-d733-4b31-8f9a-6ada90ec7258",
   "metadata": {},
   "outputs": [],
   "source": []
  },
  {
   "cell_type": "code",
   "execution_count": null,
   "id": "b1dd5765-cd64-47e5-9f46-7795d4af64f4",
   "metadata": {},
   "outputs": [],
   "source": []
  }
 ],
 "metadata": {
  "kernelspec": {
   "display_name": "Python 3 + Jaspy",
   "language": "python",
   "name": "jaspy"
  },
  "language_info": {
   "codemirror_mode": {
    "name": "ipython",
    "version": 3
   },
   "file_extension": ".py",
   "mimetype": "text/x-python",
   "name": "python",
   "nbconvert_exporter": "python",
   "pygments_lexer": "ipython3",
   "version": "3.11.9"
  }
 },
 "nbformat": 4,
 "nbformat_minor": 5
}
