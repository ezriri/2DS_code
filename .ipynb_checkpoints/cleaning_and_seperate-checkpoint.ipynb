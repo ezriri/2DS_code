{
 "cells": [
  {
   "cell_type": "markdown",
   "id": "e2a06cde-7385-47be-a070-8239bc6cb747",
   "metadata": {},
   "source": [
    "# 4. h5 -> seperate particles -> cleaning -> png images !\n",
    "This is updated code for reading in 2D-S / HVPS h5 files, extracting the particles, cleaning the images (only significant particles present) and save individual particles as png.\n",
    "\n",
    "this is the streamlined code from previous + also using Jaffeux \n",
    "\n",
    "with optional stats about particles also created"
   ]
  },
  {
   "cell_type": "code",
   "execution_count": 4,
   "id": "94f87a63-5cc3-43c6-956c-17bd7fc90cbd",
   "metadata": {},
   "outputs": [],
   "source": [
    "import xarray as xr\n",
    "import matplotlib.pyplot as plt\n",
    "import matplotlib as mpl\n",
    "import numpy as np\n",
    "from glob import glob\n",
    "import seaborn as sns\n",
    "import xesmf as xe\n",
    "import pandas as pd\n",
    "#import def_homebrew as hb ## homemade functions xox\n",
    "from scipy.special import gamma\n",
    "import netCDF4 as nc\n",
    "from datetime import datetime, timedelta\n",
    "\n",
    "import h5py ####\n",
    "from PIL import Image\n",
    "import os\n",
    "\n",
    "from scipy.ndimage import convolve, label\n",
    "from skimage.measure import regionprops, find_contours\n",
    "from scipy.spatial import ConvexHull, distance_matrix\n",
    "from skimage.morphology import remove_small_holes ## remove holes <3\n",
    "from scipy.ndimage import binary_fill_holes\n",
    "from skimage import measure\n",
    "import tensorflow as tf"
   ]
  },
  {
   "cell_type": "code",
   "execution_count": 5,
   "id": "6c4499fe-bdcb-425c-b5ea-b520aa6f54bf",
   "metadata": {},
   "outputs": [],
   "source": [
    "## path to raw h5 \n",
    "'''\n",
    "# 2ds !! be careful of channels\n",
    "path_h5_ds_0 = '/gws/nopw/j04/dcmex/users/ezriab/raw_h5/2ds/ch_0/'\n",
    "path_h5_ds_1 = '/gws/nopw/j04/dcmex/users/ezriab/raw_h5/2ds/ch_1/'\n",
    "\n",
    "# hvps\n",
    "path_h5_hvps = '/gws/nopw/j04/dcmex/users/ezriab/raw_h5/hvps/'\n",
    "'''\n",
    "## some practice files - don't want to interfear actual data\n",
    "path_h5_ds_0 = '/home/users/esree/data/'\n",
    "path_h5_hvps = '/home/users/esree/data/'\n",
    "\n",
    "#file_name = 'ch_0_ds_Export_base220719154358.h5'\n",
    "#file_name = 'hvps_Export_base220716161816.h5'\n",
    "file_name = 'Export_base220730153000.h5'"
   ]
  },
  {
   "cell_type": "markdown",
   "id": "4b3f9ac9-ae06-412d-ba40-921319205a73",
   "metadata": {},
   "source": [
    "## je m'appelle open"
   ]
  },
  {
   "cell_type": "code",
   "execution_count": 6,
   "id": "53119a3a-41e4-4fcc-a386-3de969201550",
   "metadata": {},
   "outputs": [],
   "source": [
    "# code written to run on 1 h5 file at a time\n",
    "file_path_name = path_h5_ds_0+file_name\n",
    "#file_path_name = path_h5_hvps+example_hvps\n",
    "\n",
    "## open\n",
    "h5_file = h5py.File(file_path_name,'r') "
   ]
  },
  {
   "cell_type": "code",
   "execution_count": 7,
   "id": "5dc2f21d-9d97-4019-bd1b-bb19f145f10d",
   "metadata": {},
   "outputs": [
    {
     "name": "stdout",
     "output_type": "stream",
     "text": [
      "<xarray.DataArray 'utc_time' ()> Size: 8B\n",
      "array('2022-07-30T16:44:00.369000000', dtype='datetime64[ns]')\n",
      "Coordinates:\n",
      "    utc_time  datetime64[ns] 8B 2022-07-30T16:44:00.369000\n",
      "<xarray.DataArray 'utc_time' ()> Size: 8B\n",
      "array('2022-07-29T23:59:59.000000000', dtype='datetime64[ns]')\n",
      "Coordinates:\n",
      "    utc_time  datetime64[ns] 8B 2022-07-29T23:59:59\n"
     ]
    }
   ],
   "source": [
    "h5_image = h5_file['ImageData'] \n",
    "h5_time = h5_file['ImageTimes']\n",
    "\n",
    "##### make xarray of useful time data #####\n",
    "sec_since = h5_time[:,0]\n",
    "pixel_slice = h5_time[:,1]\n",
    "pix_sum = pixel_slice.cumsum(dtype = 'int')\n",
    "\n",
    "## make useful datetime format (not seconds since midnight)\n",
    "# using the file name for reference\n",
    "date_str = file_name[-15:-9]\n",
    "starting_date = datetime.strptime(date_str, '%y%m%d')\n",
    "time_deltas = [timedelta(seconds=float(sec)) for sec in sec_since]\n",
    "utc_time = [starting_date + delta for delta in time_deltas]\n",
    "\n",
    "time_xr =xr.Dataset({\n",
    "    'utc_time':utc_time,\n",
    "    'pixel_slice': pixel_slice,\n",
    "    'pix_sum': pix_sum})\n",
    "\n",
    "## start and end time of data\n",
    "print(time_xr['utc_time'][0])\n",
    "print(time_xr['utc_time'][-1])"
   ]
  },
  {
   "cell_type": "markdown",
   "id": "8eacde50-59f4-4bb5-9054-2be29475a49b",
   "metadata": {},
   "source": [
    "## functions"
   ]
  },
  {
   "cell_type": "code",
   "execution_count": 8,
   "id": "91ec3d11-a83e-46d6-bc71-46ad90ba1e71",
   "metadata": {},
   "outputs": [],
   "source": [
    "## functions to make code run smoothly\n",
    "def stats_description(bw_crystal,fill_hole_threshold):\n",
    "    '''take binary image, fill in small holes and returns object containing stats about crystal'''\n",
    "    \n",
    "    filled_particle = remove_small_holes(bw_crystal.image, area_threshold=fill_hole_threshold) # fill in voids within binary image - better estimation of stats # may need to be altered\n",
    "    \n",
    "    # can see the filled in particle if needs be\n",
    "    #plt.imshow(filled_particle, cmap='gray')\n",
    "    if filled_particle.shape[0] < 2 or filled_particle.shape[1] < 2:\n",
    "        return None\n",
    "    \n",
    "    contours = measure.find_contours(filled_particle, 0.5)\n",
    "    if contours:\n",
    "        contour = max(contours, key=lambda x: x.shape[0])  # Sort contours by area (largest first) and select the largest contour\n",
    "        \n",
    "        labeled_image = measure.label(filled_particle)  # Label the image based on the threshold\n",
    "        region = measure.regionprops(labeled_image)[0]  # Assumes largest labeled region corresponds to largest contour\n",
    "        \n",
    "        return filled_particle, region\n",
    "    else:\n",
    "        return None\n",
    "\n",
    "## ~~~~~~~~~~~~~~~~~~~~~~~~~~~~~~~~~~~~~~~~~~~~~~~~~~~~~~~~~~~~~~~~~~~~~~~~~~~~~~~~~~~~~~~~~~~~~~~~~~~~~~~~~~~~~~~~~~~\n",
    "## function to calculate truncation of slice of h5 file (containing particle(s))\n",
    "def calc_truncation(a_slice, particle):\n",
    "    # the intial slice is the raw 2ds data - of whole array, and particle is one selected by regionprops\n",
    "    # first convert to 0 and 1 for calculation of truncation\n",
    "    alt_crystal = np.where(a_slice == 255, 0, 1) # i.e. 255 (blank area)=0, and where crystal is (was 0) = 1\n",
    "    # so sum up number of particle pixels are on the edge of the slice\n",
    "    first_diode = sum(alt_crystal[0,:]) \n",
    "    last_diode = sum(alt_crystal[-1,:])\n",
    "\n",
    "    \n",
    "    return first_diode, last_diode"
   ]
  },
  {
   "cell_type": "markdown",
   "id": "908b4339-8312-411d-8da5-10dce5b8f161",
   "metadata": {},
   "source": [
    "## basic cleaning\n",
    "mask the slices that are < 4 pixels in length (remove lot of tiny particles)"
   ]
  },
  {
   "cell_type": "code",
   "execution_count": 9,
   "id": "07c68527-36d4-408c-81cc-fbff113b25c9",
   "metadata": {},
   "outputs": [],
   "source": [
    "## cleaning of whole h5 file \n",
    "## this has been edited - allow for corresponding time\n",
    "pix_sum = time_xr['pix_sum']\n",
    "utc_time = time_xr['utc_time']\n",
    "\n",
    "# Calculate the difference\n",
    "diff = np.diff(pix_sum.values)\n",
    "\n",
    "# Create a mask where the difference is greater than 4 - i.e. select segments of significant sizze\n",
    "mask = diff > 4\n",
    "# Apply the mask to select the corresponding values from pix_sum and utc_time\n",
    "selected_pix_sum = pix_sum[:-1][mask]\n",
    "selected_utc_time = utc_time[:-1][mask]"
   ]
  },
  {
   "cell_type": "code",
   "execution_count": 10,
   "id": "38a14c18-9a0d-49d3-9a42-dcfa9f4d4d2d",
   "metadata": {},
   "outputs": [
    {
     "name": "stdout",
     "output_type": "stream",
     "text": [
      "300000\n",
      "22822\n"
     ]
    }
   ],
   "source": [
    "print(len(pix_sum))\n",
    "print(len(selected_pix_sum))"
   ]
  },
  {
   "cell_type": "code",
   "execution_count": 11,
   "id": "68272fd1-27e6-4097-b92c-c8f6d95beb58",
   "metadata": {},
   "outputs": [],
   "source": [
    "## setting thresholds / res for attaining good particle final images\n",
    "fill_hole_threshold = 5 # max number pixels contained within particle that is filled in\n",
    "\n",
    "minimum_area = 15 # very quick metric to stop the processing of particles with area < 10 pixels\n",
    "\n",
    "length_threshold = 300 # mu - need this minimum length of max dimension to extract the particle\n",
    "pixel_resolution = 10 # mu\n",
    "desired_image_size = 200 # (assume we want a square image)"
   ]
  },
  {
   "cell_type": "code",
   "execution_count": 12,
   "id": "a6afeb55-8a6b-4f3d-9a98-1892407172cd",
   "metadata": {},
   "outputs": [],
   "source": [
    "###  set up dataframe, used to extract from raw h5 file + has stats about the particle\n",
    "columns = [\n",
    "    \"name\",\n",
    "    \"particle_label\",\n",
    "    \"start_index\",\n",
    "    \"end_index\",\n",
    "    \"start_time\",\n",
    "    \"end_time\",\n",
    "    \"major_axis_length\",\n",
    "    \"minor_axis_length\",\n",
    "    \"orientation\",\n",
    "    \"centroid\",\n",
    "    \"area\",\n",
    "    \"perimeter\",\n",
    "    \"y0\",\n",
    "    \"y1\"\n",
    "]\n",
    "particle_df = pd.DataFrame(columns=columns)"
   ]
  },
  {
   "cell_type": "code",
   "execution_count": 24,
   "id": "904f8430-4152-4249-a2b6-f48bf80b21f0",
   "metadata": {},
   "outputs": [
    {
     "data": {
      "image/png": "[encoded data removed]",
      "text/plain": [
       "<Figure size 640x480 with 1 Axes>"
      ]
     },
     "metadata": {},
     "output_type": "display_data"
    },
    {
     "name": "stdout",
     "output_type": "stream",
     "text": [
      "0\n",
      "5\n",
      "[[0. 0. 0. 0. 0. 0. 0. 0. 0. 1. 1. 1. 0. 0.]\n",
      " [0. 0. 0. 0. 0. 0. 0. 0. 1. 1. 1. 0. 0. 0.]\n",
      " [0. 0. 0. 0. 0. 0. 0. 1. 1. 0. 0. 0. 0. 0.]\n",
      " [0. 0. 0. 0. 0. 0. 0. 1. 1. 0. 0. 0. 1. 1.]\n",
      " [0. 0. 0. 0. 0. 0. 1. 1. 1. 1. 0. 0. 1. 1.]\n",
      " [0. 0. 0. 0. 0. 0. 1. 1. 1. 1. 1. 1. 1. 1.]\n",
      " [0. 0. 0. 0. 0. 1. 1. 1. 1. 1. 1. 1. 1. 0.]\n",
      " [0. 0. 0. 0. 1. 1. 1. 1. 1. 1. 1. 1. 0. 0.]\n",
      " [0. 0. 0. 0. 1. 1. 1. 1. 1. 1. 1. 0. 0. 0.]\n",
      " [0. 0. 0. 1. 1. 1. 1. 1. 1. 1. 0. 0. 0. 0.]\n",
      " [0. 0. 0. 1. 1. 1. 1. 1. 1. 1. 1. 0. 0. 0.]\n",
      " [0. 0. 0. 1. 1. 1. 1. 1. 1. 1. 0. 0. 0. 0.]\n",
      " [0. 0. 1. 1. 1. 1. 1. 1. 1. 0. 0. 0. 0. 0.]\n",
      " [0. 1. 1. 1. 1. 1. 1. 1. 1. 0. 0. 0. 0. 0.]\n",
      " [1. 1. 1. 1. 1. 1. 1. 1. 0. 0. 0. 0. 0. 0.]\n",
      " [1. 1. 1. 0. 1. 1. 1. 1. 0. 0. 0. 0. 0. 0.]\n",
      " [1. 1. 0. 0. 0. 1. 1. 0. 0. 0. 0. 0. 0. 0.]\n",
      " [1. 0. 0. 0. 1. 1. 0. 0. 0. 0. 0. 0. 0. 0.]\n",
      " [0. 0. 0. 0. 1. 1. 0. 0. 0. 0. 0. 0. 0. 0.]\n",
      " [0. 0. 0. 1. 1. 0. 0. 0. 0. 0. 0. 0. 0. 0.]]\n"
     ]
    },
    {
     "data": {
      "image/png": "[encoded data removed]",
      "text/plain": [
       "<Figure size 640x480 with 1 Axes>"
      ]
     },
     "metadata": {},
     "output_type": "display_data"
    },
    {
     "ename": "TypeError",
     "evalue": "cannot unpack non-iterable NoneType object",
     "output_type": "error",
     "traceback": [
      "\u001b[0;31m---------------------------------------------------------------------------\u001b[0m",
      "\u001b[0;31mTypeError\u001b[0m                                 Traceback (most recent call last)",
      "Cell \u001b[0;32mIn[24], line 45\u001b[0m\n\u001b[1;32m     42\u001b[0m e_idx \u001b[38;5;241m=\u001b[39m \u001b[38;5;28mint\u001b[39m(selected_pix_sum[i] \u001b[38;5;241m+\u001b[39m x_values[\u001b[38;5;241m-\u001b[39m\u001b[38;5;241m1\u001b[39m])\n\u001b[1;32m     44\u001b[0m \u001b[38;5;66;03m## more complex stats\u001b[39;00m\n\u001b[0;32m---> 45\u001b[0m filled_part, spec_region \u001b[38;5;241m=\u001b[39m stats_description(particle,fill_hole_threshold)\n\u001b[1;32m     46\u001b[0m \u001b[38;5;66;03m### !!!!!! important part - this is where useful crystals are getting stats + being recorded in the dataframe    \u001b[39;00m\n\u001b[1;32m     50\u001b[0m filled_part \u001b[38;5;241m=\u001b[39m filled_part\u001b[38;5;241m.\u001b[39mastype(np\u001b[38;5;241m.\u001b[39mfloat32) \u001b[38;5;66;03m## convert to float 0 and 1s\u001b[39;00m\n",
      "\u001b[0;31mTypeError\u001b[0m: cannot unpack non-iterable NoneType object"
     ]
    }
   ],
   "source": [
    "# ~ ~ ~ ~ ~ ~ ~ ~ ~ ~ ~ ~ ~ ~ ~ ~ ~ ~ ~ ~ ~ ~ ~ ~ ~ ~ ~ ~ ~ ~ ~ ~ ~ ~ ~ ~ ~ ~ ~ ~ ~ ~ ~ ~ ~ ~ ~ ~ ~ ~ ~ ~ ~ ~ ~ ~ ~ ~ ~ ~ ~ ~ ~ ~ ~ ~ ~ ~ ~ ~ ~ ~ ~ ~ ~ ~ ~ ~ ~ ~ ~ ~ ~ ~ ~ ~ ~ ~ ~ ~ ~ ~ ~ ~ ~ ~ ~ ~ ~ ~ ~ ~ ~ ~ ~  #\n",
    "# loop though length of images that are somewhat usable\n",
    "num = 2344\n",
    "## example numbers\n",
    "# nice examples: 32, 2344, 3452\n",
    "# truncated: 1059\n",
    "# too small (for threshold - but recognisable): 1345. \n",
    "\n",
    "for i in range(num,num+1):\n",
    "#for i in range(len(selected_pix_sum)-2):\n",
    "\n",
    "    # pull out selected area + do analysis\n",
    "    one_crystal = h5_file['ImageData'][:,int(selected_pix_sum[i]):int(selected_pix_sum[i+1])] # extract 1 crystal\n",
    "\n",
    "    plt.imshow(one_crystal, cmap='gray')\n",
    "    plt.axis('off') # Turn off axis labels\n",
    "    plt.show()\n",
    "    \n",
    "    ## do truncation calc\n",
    "    first_d, last_d = calc_truncation(one_crystal)\n",
    "    print(first_d)\n",
    "    print(last_d)\n",
    "    \n",
    "    binary_image = (one_crystal == 0) ## important, convert regions where 0 = True (our bits of interest), all else false\n",
    "    \n",
    "    labeled_image, num_features = label(binary_image) # identify connected true areas\n",
    "    # labeled_image = array, with each true area given a number to identify them\n",
    "    # num_features = number of unique connected components in image. Have to literally have adjacent pixel, not diagonal (this will make them seperate)\n",
    "    \n",
    "    props = regionprops(labeled_image) # creates quick list of properties describing each feature detected in the image.\n",
    "    ## (features are measured in ~ pixels)\n",
    "    \n",
    "    if props:\n",
    "        for particle in props:\n",
    "        # go through each particle detected\n",
    "            # quickly get rid of tiny particles\n",
    "            if particle.area >= minimum_area:\n",
    "                ## basic info\n",
    "                coords = particle.coords # basically gives coords of each point of interest\n",
    "                x_values = np.unique(coords[:, 1])\n",
    "                s_idx = int(selected_pix_sum[i] + x_values[0])\n",
    "                e_idx = int(selected_pix_sum[i] + x_values[-1])\n",
    "                \n",
    "                ## more complex stats\n",
    "                filled_part, spec_region = stats_description(particle,fill_hole_threshold)\n",
    "                ### !!!!!! important part - this is where useful crystals are getting stats + being recorded in the dataframe    \n",
    "                \n",
    "                \n",
    "                \n",
    "                filled_part = filled_part.astype(np.float32) ## convert to float 0 and 1s\n",
    "                print(filled_part)\n",
    "                \n",
    "                filled_part = np.expand_dims(filled_part, axis=-1) ## add extra dimention - this is for adding padding\n",
    "                \n",
    "                plt.imshow(filled_part, cmap='gray')\n",
    "                #plt.axis('off') # Turn off axis labels\n",
    "                plt.show()\n",
    "\n",
    "                '''\n",
    "                ############################# re size ######################################################################\n",
    "                \n",
    "                imagex = tf.image.resize_with_crop_or_pad(filled_part, desired_image_size, desired_image_size)\n",
    "                \n",
    "                plt.imshow(imagex, cmap='gray')\n",
    "                plt.axis('off') # Turn off axis labels\n",
    "                plt.show()\n",
    "                ###################################################################################################\n",
    "\n",
    "                ## using circularity calculation from Crosier et al. 2011\n",
    "                circularity = np.divide((spec_region.perimeter**2),(4*np.pi*spec_region.area))\n",
    "                print(circularity)\n",
    "                \n",
    "            \n",
    "            '''\n",
    "            \n",
    "            \n",
    "            '''\n",
    "                if spec_region and spec_region.major_axis_length * pixel_resolution >= length_threshold:\n",
    "\n",
    "                    # nice way of saving data - lenth + measurements are correct in microns\n",
    "                    one_particle_data = {\n",
    "                            #\"image_index\": image_index,\n",
    "                            \"name\": f'{s_idx}_{particle.label}',\n",
    "                            \"particle_label\": particle.label,\n",
    "                            \"start_index\": s_idx,\n",
    "                            \"end_index\": e_idx,\n",
    "                            \"start_time\": str(selected_utc_time[i].values).split('T')[1], # more friendly time\n",
    "                            \"end_time\": str(selected_utc_time[i+1].values).split('T')[1], # more friendly time\n",
    "                            \n",
    "                            #\"start_time\": str(time_xr['utc_time'][s_idx].values).split('T')[1], # more friendly time\n",
    "                            #\"end_time\": str(time_xr['utc_time'][e_idx].values).split('T')[1],\n",
    "                        \n",
    "                            #\"start_time\": time_xr['utc_time'][s_idx],  # assuming 'time_xr' is pre-defined and syncs with indices\n",
    "                            #\"end_time\": time_xr['utc_time'][e_idx],\n",
    "                            \"major_axis_length\": spec_region.major_axis_length * pixel_resolution,\n",
    "                            \"minor_axis_length\": spec_region.minor_axis_length * pixel_resolution,\n",
    "                            \"orientation\": spec_region.orientation,\n",
    "                            \"centroid\": spec_region.centroid,\n",
    "                            \"area\": (spec_region.area * (pixel_resolution**2)),\n",
    "                            \"perimeter\": (spec_region.perimeter * pixel_resolution),\n",
    "                            \"y0\": coords[0][0],\n",
    "                            \"y1\": coords[-1][0]\n",
    "                            }\n",
    "                    print(f'{s_idx} done')\n",
    "                    one_particle_data_df = pd.DataFrame([one_particle_data])\n",
    "                    particle_df = pd.concat([particle_df, one_particle_data_df], ignore_index=True)\n",
    "                '''\n",
    "    "
   ]
  },
  {
   "cell_type": "code",
   "execution_count": 66,
   "id": "4aa322f7-6693-4c0d-abcb-170ea7a23a03",
   "metadata": {},
   "outputs": [
    {
     "data": {
      "text/html": [
       "<div>\n",
       "<style scoped>\n",
       "    .dataframe tbody tr th:only-of-type {\n",
       "        vertical-align: middle;\n",
       "    }\n",
       "\n",
       "    .dataframe tbody tr th {\n",
       "        vertical-align: top;\n",
       "    }\n",
       "\n",
       "    .dataframe thead th {\n",
       "        text-align: right;\n",
       "    }\n",
       "</style>\n",
       "<table border=\"1\" class=\"dataframe\">\n",
       "  <thead>\n",
       "    <tr style=\"text-align: right;\">\n",
       "      <th></th>\n",
       "      <th>name</th>\n",
       "      <th>particle_label</th>\n",
       "      <th>start_index</th>\n",
       "      <th>end_index</th>\n",
       "      <th>start_time</th>\n",
       "      <th>end_time</th>\n",
       "      <th>major_axis_length</th>\n",
       "      <th>minor_axis_length</th>\n",
       "      <th>orientation</th>\n",
       "      <th>centroid</th>\n",
       "      <th>area</th>\n",
       "      <th>perimeter</th>\n",
       "      <th>y0</th>\n",
       "      <th>y1</th>\n",
       "    </tr>\n",
       "  </thead>\n",
       "  <tbody>\n",
       "    <tr>\n",
       "      <th>0</th>\n",
       "      <td>124056_1</td>\n",
       "      <td>1</td>\n",
       "      <td>124056</td>\n",
       "      <td>124089</td>\n",
       "      <td>17:00:22.651000000</td>\n",
       "      <td>17:00:23.181000000</td>\n",
       "      <td>377.108855</td>\n",
       "      <td>333.958643</td>\n",
       "      <td>-0.259383</td>\n",
       "      <td>(18.812883435582823, 16.238241308793455)</td>\n",
       "      <td>97800.0</td>\n",
       "      <td>1282.903679</td>\n",
       "      <td>92</td>\n",
       "      <td>127</td>\n",
       "    </tr>\n",
       "  </tbody>\n",
       "</table>\n",
       "</div>"
      ],
      "text/plain": [
       "       name particle_label start_index end_index          start_time  \\\n",
       "0  124056_1              1      124056    124089  17:00:22.651000000   \n",
       "\n",
       "             end_time  major_axis_length  minor_axis_length  orientation  \\\n",
       "0  17:00:23.181000000         377.108855         333.958643    -0.259383   \n",
       "\n",
       "                                   centroid     area    perimeter  y0   y1  \n",
       "0  (18.812883435582823, 16.238241308793455)  97800.0  1282.903679  92  127  "
      ]
     },
     "execution_count": 66,
     "metadata": {},
     "output_type": "execute_result"
    }
   ],
   "source": [
    "particle_df"
   ]
  },
  {
   "cell_type": "code",
   "execution_count": null,
   "id": "f836c0cb-c6b5-4f22-909b-6b7154c367fa",
   "metadata": {},
   "outputs": [],
   "source": [
    "for i in range(25,27):\n",
    "    print(i)"
   ]
  },
  {
   "cell_type": "markdown",
   "id": "3b8a1e97-abfd-4f0f-b9e6-d7cfa0459e35",
   "metadata": {},
   "source": [
    "## saving"
   ]
  },
  {
   "cell_type": "code",
   "execution_count": null,
   "id": "1497a65d-bd7c-468b-a720-55032de7768e",
   "metadata": {},
   "outputs": [],
   "source": [
    "## this is the code for splitting up the big h5 file -> individual images\n",
    "save_path = '/gws/nopw/j04/dcmex/users/ezriab/2dprocessed/'\n",
    "folder_name = f'flight_{file_name[11:23]}' # each flightset -> own folder\n",
    "\n",
    "if not os.path.exists(save_path+folder_name):\n",
    "    os.makedirs(save_path+folder_name)\n",
    "    print(\"Folder created successfully!\")\n",
    "else:\n",
    "    print(\"Folder already exists.\")\n",
    "save_loc = save_path+folder_name+'/'"
   ]
  }
 ],
 "metadata": {
  "kernelspec": {
   "display_name": "Python 3 + Jaspy",
   "language": "python",
   "name": "jaspy"
  },
  "language_info": {
   "codemirror_mode": {
    "name": "ipython",
    "version": 3
   },
   "file_extension": ".py",
   "mimetype": "text/x-python",
   "name": "python",
   "nbconvert_exporter": "python",
   "pygments_lexer": "ipython3",
   "version": "3.11.9"
  }
 },
 "nbformat": 4,
 "nbformat_minor": 5
}
