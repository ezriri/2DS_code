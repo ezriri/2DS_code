{
 "cells": [
  {
   "cell_type": "markdown",
   "id": "eca8aadd-4a12-47ae-8d84-b94cd982df0f",
   "metadata": {},
   "source": [
    "### extract cloud passes from total flights \n",
    "* using 2ds processed data"
   ]
  },
  {
   "cell_type": "code",
   "execution_count": 74,
   "id": "dc621867-8a00-4cd5-9da4-b1518fd0db75",
   "metadata": {},
   "outputs": [],
   "source": [
    "import iris\n",
    "import xarray as xr\n",
    "import matplotlib.pyplot as plt\n",
    "import numpy as np\n",
    "import glob\n",
    "import os\n",
    "import seaborn as sns\n",
    "import xesmf as xe\n",
    "import pandas as pd\n",
    "#import def_homebrew as hb ## homemade functions xox\n",
    "from scipy.special import gamma\n",
    "import netCDF4 as nc\n",
    "import datetime"
   ]
  },
  {
   "cell_type": "markdown",
   "id": "22f47169-6fe3-49dd-9728-a3c77379d891",
   "metadata": {},
   "source": [
    "get all file names of processed 2ds data"
   ]
  },
  {
   "cell_type": "code",
   "execution_count": 75,
   "id": "907cf4ec-15bb-4812-b070-6b1497050627",
   "metadata": {},
   "outputs": [],
   "source": [
    "path = '/gws/nopw/j04/dcmex/users/glloyd/'\n",
    "os.chdir(path)\n",
    "file_list = [file for file in glob.glob(\"*.nc\")] # files names at location\n",
    "dates = [file[8:16] for file in file_list] # just date string list\n",
    "flight_names = [file[-7:-3] for file in file_list] # just flight number list\n",
    "\n",
    "''' ~~~~~~~~~~~~~~~~~~~~~~~~~~~~ just for testing 1 day of flights ~~~~~~~~~~~~~~~~~~~~~~~~~~~~ '''\n",
    "file_list = ['2DS_MAN_20220730_v001_r0_c307.nc']\n",
    "'''~~~~~~~~~~~~~~~~~~~~~~~~~~~~~~~~~~~~~~~~~~~~~~~~~~~~~~~~~~~~~~~~~~~~~~~~~~~~~~~~~~~~ '''\n",
    "\n",
    "## open up all ncs into dictionary\n",
    "nc_dic = {}\n",
    "for file in file_list:\n",
    "    nc_dic[file[8:-3]]= nc.Dataset(path+file)\n",
    "\n",
    "keys = list(nc_dic.keys())"
   ]
  },
  {
   "cell_type": "code",
   "execution_count": 76,
   "id": "e4611b49-e865-41f7-a9ef-a992a0507cf0",
   "metadata": {},
   "outputs": [
    {
     "name": "stdout",
     "output_type": "stream",
     "text": [
      "20220730_v001_r0_c307\n"
     ]
    }
   ],
   "source": [
    "## the nc file is not enough to access the data, is stored in groups\n",
    "## so will have to make a dictionary of dictionaries. dic = {'20220730_v001_r0_c307':{'time_dim':..., 'index_dim':...}, }\n",
    "data_dic = {}\n",
    "for name in keys:\n",
    "    print(name)\n",
    "    nc_file = nc_dic[name]\n",
    "    sub_dic = {}\n",
    "\n",
    "    ## getting all relevent stuff out - look at manc-pros-2ds for more info\n",
    "    sub_dic['time_dim'] = nc_file.dimensions['time']\n",
    "    sub_dic['index_dim'] = nc_file.dimensions['index']\n",
    "    sub_dic['time_var'] = nc_file.variables['time']\n",
    "    sub_dic['time_array'] = sub_dic['time_var'][:]\n",
    "    sub_dic['time'] = [datetime.datetime.utcfromtimestamp(t) for t in time_array]\n",
    "    sub_dic['ambient_particle_d'] = nc_file.variables['ambient_particle_diameter'][:]\n",
    "\n",
    "    # putting in the sub dictionary\n",
    "    data_dic[name] = sub_dic\n",
    "    \n",
    "#print(data_dic)\n",
    "#sub_dic['time']"
   ]
  },
  {
   "cell_type": "code",
   "execution_count": 77,
   "id": "21fb9766-fcb6-4104-802a-5f738f6da82b",
   "metadata": {},
   "outputs": [],
   "source": [
    "## make xarray dic with useful values\n",
    "xarray_dic = {}\n",
    "epoch_start = datetime.datetime(1970, 1, 1)\n",
    "\n",
    "for key in data_dic:\n",
    "    sub_dic = data_dic[key]\n",
    "    time_values = sub_dic['time_array']\n",
    "    datetime_values = [epoch_start + datetime.timedelta(seconds=float(time)) for time in time_values]\n",
    "\n",
    "    ## not sure if works?\n",
    "    nc_data_again = nc_dic[key]\n",
    "    #variable = sub_dic['ambient_particle_d']\n",
    "    variable = nc_data_again['ch0']['ambient_allaccept_particle_number_per_channel']\n",
    "\n",
    "    \n",
    "    # Create a corresponding xarray DataArray\n",
    "    ambient_allaccept_particle_number_xr = xr.DataArray(variable[:,:],  # Extract the data\n",
    "                                                        dims=['time', 'index'],  # Define dimensions\n",
    "                                                        #dims = dims,\n",
    "                                                        #coords={'time': nc_file.variables['time'][:], 'index': nc_file.variables['ambient_particle_diameter'][:]},  # Specify coordinates\n",
    "                                                        coords={'time': datetime_values, 'index': sub_dic['ambient_particle_d'][:]},  # Specify coordinates\n",
    "                                                        \n",
    "                                                        #coords = coords,\n",
    "                                                        attrs={key: variable.getncattr(key) for key in variable.ncattrs()})  # Copy attributes\n",
    "\n",
    "    xarray_dic[key] = ambient_allaccept_particle_number_xr\n"
   ]
  },
  {
   "cell_type": "code",
   "execution_count": 80,
   "id": "268175f0-5432-4c3e-bed5-f4eb3e9cb415",
   "metadata": {},
   "outputs": [
    {
     "data": {
      "text/plain": [
       "\"\\none_key = keys[0]\\n\\nthrough_time.name = 'through_time'\\n\\n# Convert to pandas DataFrame\\nthrough_time_df = through_time.to_dataframe()\\n\\n# Save to CSV\\nthrough_time_df.to_csv('/home/users/esree/2DS_code/through_time.csv')\\n\\n\""
      ]
     },
     "execution_count": 80,
     "metadata": {},
     "output_type": "execute_result"
    },
    {
     "data": {
      "image/png": "[encoded data removed]",
      "text/plain": [
       "<Figure size 640x480 with 1 Axes>"
      ]
     },
     "metadata": {},
     "output_type": "display_data"
    }
   ],
   "source": [
    "through_time = xarray_dic[keys[0]].sum(dim='index')\n",
    "through_time.plot()\n",
    "'''\n",
    "one_key = keys[0]\n",
    "\n",
    "through_time.name = 'through_time'\n",
    "\n",
    "# Convert to pandas DataFrame\n",
    "through_time_df = through_time.to_dataframe()\n",
    "\n",
    "# Save to CSV\n",
    "through_time_df.to_csv('/home/users/esree/2DS_code/through_time.csv')\n",
    "\n",
    "'''\n"
   ]
  },
  {
   "cell_type": "code",
   "execution_count": 79,
   "id": "da7bec35-ff69-426c-a7bd-bf336c9fc01a",
   "metadata": {},
   "outputs": [],
   "source": [
    "## close netcdf files \n",
    "for key in nc_dic:\n",
    "    nc_dic[key].close()\n",
    "##"
   ]
  },
  {
   "cell_type": "code",
   "execution_count": 81,
   "id": "f05bb420-e38c-4870-8187-52cd8c8170c4",
   "metadata": {},
   "outputs": [
    {
     "name": "stdout",
     "output_type": "stream",
     "text": [
      "<xarray.DataArray (time: 14094)> Size: 113kB\n",
      "array([0., 0., 0., ..., 0., 0., 0.])\n",
      "Coordinates:\n",
      "  * time     (time) datetime64[ns] 113kB 2022-07-30T15:30:07 ... 2022-07-30T1...\n"
     ]
    }
   ],
   "source": [
    "print(through_time)"
   ]
  },
  {
   "cell_type": "code",
   "execution_count": 84,
   "id": "c9aa0118-985e-44b8-921a-c51a64865720",
   "metadata": {},
   "outputs": [
    {
     "name": "stdout",
     "output_type": "stream",
     "text": [
      "     Cloud Pass Number          Start Time            End Time\n",
      "0                    1 2022-07-30 16:32:05 2022-07-30 16:32:06\n",
      "1                    2 2022-07-30 16:38:53 2022-07-30 16:38:56\n",
      "2                    3 2022-07-30 16:38:57 2022-07-30 16:39:08\n",
      "3                    4 2022-07-30 16:39:12 2022-07-30 16:39:27\n",
      "4                    5 2022-07-30 16:39:45 2022-07-30 16:39:56\n",
      "..                 ...                 ...                 ...\n",
      "683                684 2022-07-30 19:18:02 2022-07-30 19:18:03\n",
      "684                685 2022-07-30 19:20:51 2022-07-30 19:21:00\n",
      "685                686 2022-07-30 19:21:02 2022-07-30 19:21:29\n",
      "686                687 2022-07-30 19:21:34 2022-07-30 19:21:49\n",
      "687                688 2022-07-30 19:21:53 2022-07-30 19:21:54\n",
      "\n",
      "[688 rows x 3 columns]\n"
     ]
    }
   ],
   "source": [
    "# Assume 'through_time' is your xarray DataArray\n",
    "data = through_time.values  # Extract the data as a NumPy array\n",
    "times = through_time.time.values  # Extract the time coordinate as NumPy array\n",
    "\n",
    "# Create a boolean mask where the data is greater than zero\n",
    "mask = data > 0\n",
    "\n",
    "# Find changes in the mask and the indices of these changes\n",
    "changes = np.diff(mask.astype(int), prepend=0)\n",
    "starts = times[np.where(changes == 1)[0]]  # Starts of the periods\n",
    "ends = times[np.where(changes == -1)[0]]   # Ends of the periods\n",
    "\n",
    "# If the last period goes until the end of the array\n",
    "if mask[-1]:\n",
    "    ends = np.append(ends, times[-1])\n",
    "\n",
    "# Generate a DataFrame from the start and end times\n",
    "results_df = pd.DataFrame({\n",
    "    'Cloud Pass Number': range(1, len(starts) + 1),\n",
    "    'Start Time': starts,\n",
    "    'End Time': ends\n",
    "})\n",
    "\n",
    "# Optionally, set the index as the cloud pass number\n",
    "#results_df.set_index('cloud_pass', inplace=True)\n",
    "\n",
    "print(results_df)\n"
   ]
  },
  {
   "cell_type": "code",
   "execution_count": null,
   "id": "a59f50d8-1f7c-4e36-9963-d08ca6401932",
   "metadata": {},
   "outputs": [],
   "source": []
  }
 ],
 "metadata": {
  "kernelspec": {
   "display_name": "Python 3 + Jaspy",
   "language": "python",
   "name": "jaspy"
  },
  "language_info": {
   "codemirror_mode": {
    "name": "ipython",
    "version": 3
   },
   "file_extension": ".py",
   "mimetype": "text/x-python",
   "name": "python",
   "nbconvert_exporter": "python",
   "pygments_lexer": "ipython3",
   "version": "3.11.9"
  }
 },
 "nbformat": 4,
 "nbformat_minor": 5
}
