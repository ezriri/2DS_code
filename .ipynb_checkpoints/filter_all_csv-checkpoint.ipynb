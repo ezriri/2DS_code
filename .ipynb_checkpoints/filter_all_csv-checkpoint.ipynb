{
 "cells": [
  {
   "cell_type": "markdown",
   "id": "f4942d4c-3911-49d6-bf14-743c00738143",
   "metadata": {},
   "source": [
    "## understanding how many particles in all data\n",
    "\n",
    "calculations on processed particles stats, see proportions that are circular / truncated / of small size."
   ]
  },
  {
   "cell_type": "code",
   "execution_count": 1,
   "id": "4134bcd9-6e9b-4e87-8f26-c9b491e6545c",
   "metadata": {},
   "outputs": [],
   "source": [
    "import xarray as xr\n",
    "import matplotlib.pyplot as plt\n",
    "import matplotlib as mpl\n",
    "import numpy as np\n",
    "from glob import glob\n",
    "import seaborn as sns\n",
    "import xesmf as xe\n",
    "import pandas as pd\n",
    "#import def_homebrew as hb ## homemade functions xox\n",
    "from scipy.special import gamma\n",
    "import netCDF4 as nc\n",
    "from datetime import datetime, timedelta\n",
    "\n",
    "import h5py ####\n",
    "from PIL import Image\n",
    "#from IPython.display import display #\n",
    "#import cv2 # not working\n",
    "import os\n",
    "import shutil\n",
    "\n",
    "from scipy.ndimage import convolve, label\n",
    "from skimage.measure import regionprops, find_contours\n",
    "from scipy.spatial import ConvexHull, distance_matrix\n",
    "from skimage.morphology import remove_small_holes ## remove holes <3\n",
    "from scipy.ndimage import binary_fill_holes\n",
    "from skimage import measure\n",
    "from cv2 import cvtColor, COLOR_BGR2GRAY, threshold, THRESH_BINARY, THRESH_OTSU"
   ]
  },
  {
   "cell_type": "markdown",
   "id": "893ffee8-74c7-4ea3-8bc9-8693d2d0c972",
   "metadata": {},
   "source": [
    "## one file"
   ]
  },
  {
   "cell_type": "code",
   "execution_count": 52,
   "id": "e0fb5777-4340-4365-aad7-c7a503446f71",
   "metadata": {},
   "outputs": [],
   "source": [
    "#saved = '/gws/nopw/j04/dcmex/users/ezriab/processed_images/2ds/flight_220730153000/'\n",
    "path = '/gws/nopw/j04/dcmex/users/ezriab/processed_stats/ch_0/'\n",
    "#csv_name = 'merged_stats_habits.csv'\n",
    "file_names = 'flight_220719154358.csv'\n",
    "df = pd.read_csv(path+file_names)\n",
    "#trun_image_loc = '/gws/nopw/j04/dcmex/users/ezriab/processed_images/2D-S/trunc/'"
   ]
  },
  {
   "cell_type": "code",
   "execution_count": 53,
   "id": "9681a52c-368d-4a38-acb0-e1ed3473d0af",
   "metadata": {},
   "outputs": [
    {
     "name": "stdout",
     "output_type": "stream",
     "text": [
      "2022/15/19 15\n"
     ]
    }
   ],
   "source": [
    "yy = file_names[7:9]\n",
    "mm = file_names[9:11]\n",
    "dd = file_names[11:13]\n",
    "mm = file_names[13:15]\n",
    "\n",
    "print(f'20{yy}/{mm}/{dd} {mm}')"
   ]
  },
  {
   "cell_type": "markdown",
   "id": "251c9383-07f6-458e-934a-33b99d85eff1",
   "metadata": {},
   "source": [
    "### non circular"
   ]
  },
  {
   "cell_type": "code",
   "execution_count": 20,
   "id": "0fe53903-9d07-4937-95e5-73aa5950b054",
   "metadata": {},
   "outputs": [],
   "source": [
    "## this code copy images from og saving location -> new directory, based on category\n",
    "# list of rows where categories are CBC (this is where lot of truncated images were)\n",
    "non_li = df[df['circularity'] > 1.2]"
   ]
  },
  {
   "cell_type": "code",
   "execution_count": 21,
   "id": "32bd005c-452d-4b3b-9674-a6061f08a6ea",
   "metadata": {
    "collapsed": true,
    "jupyter": {
     "outputs_hidden": true
    }
   },
   "outputs": [
    {
     "data": {
      "text/html": [
       "<div>\n",
       "<style scoped>\n",
       "    .dataframe tbody tr th:only-of-type {\n",
       "        vertical-align: middle;\n",
       "    }\n",
       "\n",
       "    .dataframe tbody tr th {\n",
       "        vertical-align: top;\n",
       "    }\n",
       "\n",
       "    .dataframe thead th {\n",
       "        text-align: right;\n",
       "    }\n",
       "</style>\n",
       "<table border=\"1\" class=\"dataframe\">\n",
       "  <thead>\n",
       "    <tr style=\"text-align: right;\">\n",
       "      <th></th>\n",
       "      <th>name</th>\n",
       "      <th>date</th>\n",
       "      <th>slice_s_idx</th>\n",
       "      <th>slice_e_idx</th>\n",
       "      <th>start_time</th>\n",
       "      <th>end_time</th>\n",
       "      <th>d_max</th>\n",
       "      <th>d_min</th>\n",
       "      <th>orientation</th>\n",
       "      <th>centroid</th>\n",
       "      <th>area</th>\n",
       "      <th>perimeter</th>\n",
       "      <th>circularity</th>\n",
       "      <th>y0</th>\n",
       "      <th>y1</th>\n",
       "      <th>probe</th>\n",
       "      <th>first_diode_trunc</th>\n",
       "      <th>last_diode_trunc</th>\n",
       "    </tr>\n",
       "  </thead>\n",
       "  <tbody>\n",
       "    <tr>\n",
       "      <th>1</th>\n",
       "      <td>28_1_ch_0</td>\n",
       "      <td>220719</td>\n",
       "      <td>28</td>\n",
       "      <td>39</td>\n",
       "      <td>16:44:50.878000000</td>\n",
       "      <td>16:55:54.889000000</td>\n",
       "      <td>135.388029</td>\n",
       "      <td>102.338566</td>\n",
       "      <td>0.491663</td>\n",
       "      <td>(4.776470588235294, 4.352941176470588)</td>\n",
       "      <td>8500.0</td>\n",
       "      <td>425.208153</td>\n",
       "      <td>1.692678</td>\n",
       "      <td>0</td>\n",
       "      <td>10</td>\n",
       "      <td>ch_0</td>\n",
       "      <td>0</td>\n",
       "      <td>0</td>\n",
       "    </tr>\n",
       "    <tr>\n",
       "      <th>2</th>\n",
       "      <td>73_1_ch_0</td>\n",
       "      <td>220719</td>\n",
       "      <td>73</td>\n",
       "      <td>87</td>\n",
       "      <td>17:27:48.911000000</td>\n",
       "      <td>17:27:48.911000000</td>\n",
       "      <td>150.653631</td>\n",
       "      <td>129.380767</td>\n",
       "      <td>-0.850587</td>\n",
       "      <td>(6.580882352941177, 6.911764705882353)</td>\n",
       "      <td>13600.0</td>\n",
       "      <td>522.132034</td>\n",
       "      <td>1.595188</td>\n",
       "      <td>0</td>\n",
       "      <td>14</td>\n",
       "      <td>ch_0</td>\n",
       "      <td>5</td>\n",
       "      <td>0</td>\n",
       "    </tr>\n",
       "    <tr>\n",
       "      <th>3</th>\n",
       "      <td>106_1_ch_0</td>\n",
       "      <td>220719</td>\n",
       "      <td>106</td>\n",
       "      <td>117</td>\n",
       "      <td>17:28:13.512000000</td>\n",
       "      <td>17:31:36.047000000</td>\n",
       "      <td>126.441886</td>\n",
       "      <td>102.951725</td>\n",
       "      <td>-0.396063</td>\n",
       "      <td>(6.1688311688311686, 5.792207792207792)</td>\n",
       "      <td>7700.0</td>\n",
       "      <td>486.629509</td>\n",
       "      <td>2.447351</td>\n",
       "      <td>65</td>\n",
       "      <td>77</td>\n",
       "      <td>ch_0</td>\n",
       "      <td>0</td>\n",
       "      <td>0</td>\n",
       "    </tr>\n",
       "    <tr>\n",
       "      <th>4</th>\n",
       "      <td>118_5_ch_0</td>\n",
       "      <td>220719</td>\n",
       "      <td>118</td>\n",
       "      <td>133</td>\n",
       "      <td>17:31:36.047000000</td>\n",
       "      <td>17:34:44.730000000</td>\n",
       "      <td>148.619842</td>\n",
       "      <td>78.584714</td>\n",
       "      <td>-1.349169</td>\n",
       "      <td>(3.4146341463414633, 7.2317073170731705)</td>\n",
       "      <td>8200.0</td>\n",
       "      <td>379.705627</td>\n",
       "      <td>1.399170</td>\n",
       "      <td>118</td>\n",
       "      <td>126</td>\n",
       "      <td>ch_0</td>\n",
       "      <td>0</td>\n",
       "      <td>0</td>\n",
       "    </tr>\n",
       "    <tr>\n",
       "      <th>5</th>\n",
       "      <td>139_1_ch_0</td>\n",
       "      <td>220719</td>\n",
       "      <td>139</td>\n",
       "      <td>150</td>\n",
       "      <td>17:34:44.730000000</td>\n",
       "      <td>17:34:46.680000000</td>\n",
       "      <td>146.910948</td>\n",
       "      <td>103.534494</td>\n",
       "      <td>0.592683</td>\n",
       "      <td>(7.23404255319149, 5.968085106382978)</td>\n",
       "      <td>9400.0</td>\n",
       "      <td>591.126984</td>\n",
       "      <td>2.958175</td>\n",
       "      <td>0</td>\n",
       "      <td>14</td>\n",
       "      <td>ch_0</td>\n",
       "      <td>1</td>\n",
       "      <td>0</td>\n",
       "    </tr>\n",
       "    <tr>\n",
       "      <th>...</th>\n",
       "      <td>...</td>\n",
       "      <td>...</td>\n",
       "      <td>...</td>\n",
       "      <td>...</td>\n",
       "      <td>...</td>\n",
       "      <td>...</td>\n",
       "      <td>...</td>\n",
       "      <td>...</td>\n",
       "      <td>...</td>\n",
       "      <td>...</td>\n",
       "      <td>...</td>\n",
       "      <td>...</td>\n",
       "      <td>...</td>\n",
       "      <td>...</td>\n",
       "      <td>...</td>\n",
       "      <td>...</td>\n",
       "      <td>...</td>\n",
       "      <td>...</td>\n",
       "    </tr>\n",
       "    <tr>\n",
       "      <th>92148</th>\n",
       "      <td>2371629_1_ch_0</td>\n",
       "      <td>220719</td>\n",
       "      <td>2371629</td>\n",
       "      <td>2371688</td>\n",
       "      <td>19:33:49.102000000</td>\n",
       "      <td>19:33:50.101000000</td>\n",
       "      <td>613.446462</td>\n",
       "      <td>99.922385</td>\n",
       "      <td>-1.559338</td>\n",
       "      <td>(7.832460732984293, 32.32722513089005)</td>\n",
       "      <td>38200.0</td>\n",
       "      <td>1401.837662</td>\n",
       "      <td>4.093759</td>\n",
       "      <td>116</td>\n",
       "      <td>127</td>\n",
       "      <td>ch_0</td>\n",
       "      <td>0</td>\n",
       "      <td>0</td>\n",
       "    </tr>\n",
       "    <tr>\n",
       "      <th>92149</th>\n",
       "      <td>2371689_1_ch_0</td>\n",
       "      <td>220719</td>\n",
       "      <td>2371689</td>\n",
       "      <td>2371711</td>\n",
       "      <td>19:33:50.101000000</td>\n",
       "      <td>19:33:50.101000000</td>\n",
       "      <td>231.037204</td>\n",
       "      <td>107.201276</td>\n",
       "      <td>1.564158</td>\n",
       "      <td>(5.232044198895028, 11.370165745856353)</td>\n",
       "      <td>18100.0</td>\n",
       "      <td>567.279221</td>\n",
       "      <td>1.414833</td>\n",
       "      <td>118</td>\n",
       "      <td>127</td>\n",
       "      <td>ch_0</td>\n",
       "      <td>0</td>\n",
       "      <td>0</td>\n",
       "    </tr>\n",
       "    <tr>\n",
       "      <th>92150</th>\n",
       "      <td>2371712_1_ch_0</td>\n",
       "      <td>220719</td>\n",
       "      <td>2371712</td>\n",
       "      <td>2371780</td>\n",
       "      <td>19:33:50.101000000</td>\n",
       "      <td>19:33:51.099000000</td>\n",
       "      <td>707.363148</td>\n",
       "      <td>217.178593</td>\n",
       "      <td>1.490640</td>\n",
       "      <td>(14.754578754578755, 31.477106227106226)</td>\n",
       "      <td>109200.0</td>\n",
       "      <td>1758.406204</td>\n",
       "      <td>2.253232</td>\n",
       "      <td>104</td>\n",
       "      <td>127</td>\n",
       "      <td>ch_0</td>\n",
       "      <td>0</td>\n",
       "      <td>0</td>\n",
       "    </tr>\n",
       "    <tr>\n",
       "      <th>92151</th>\n",
       "      <td>2371781_1_ch_0</td>\n",
       "      <td>220719</td>\n",
       "      <td>2371781</td>\n",
       "      <td>2371828</td>\n",
       "      <td>19:33:51.099000000</td>\n",
       "      <td>19:33:54.110000000</td>\n",
       "      <td>450.136735</td>\n",
       "      <td>85.558757</td>\n",
       "      <td>-1.514142</td>\n",
       "      <td>(5.182879377431907, 28.03112840466926)</td>\n",
       "      <td>25700.0</td>\n",
       "      <td>988.345238</td>\n",
       "      <td>3.024645</td>\n",
       "      <td>119</td>\n",
       "      <td>127</td>\n",
       "      <td>ch_0</td>\n",
       "      <td>0</td>\n",
       "      <td>0</td>\n",
       "    </tr>\n",
       "    <tr>\n",
       "      <th>92152</th>\n",
       "      <td>2371829_4_ch_0</td>\n",
       "      <td>220719</td>\n",
       "      <td>2371829</td>\n",
       "      <td>2371890</td>\n",
       "      <td>19:33:54.110000000</td>\n",
       "      <td>19:34:20.708000000</td>\n",
       "      <td>635.077309</td>\n",
       "      <td>199.825056</td>\n",
       "      <td>1.532941</td>\n",
       "      <td>(10.435536294691225, 29.136511375947997)</td>\n",
       "      <td>92300.0</td>\n",
       "      <td>1568.761543</td>\n",
       "      <td>2.121790</td>\n",
       "      <td>109</td>\n",
       "      <td>127</td>\n",
       "      <td>ch_0</td>\n",
       "      <td>0</td>\n",
       "      <td>60</td>\n",
       "    </tr>\n",
       "  </tbody>\n",
       "</table>\n",
       "<p>87864 rows × 18 columns</p>\n",
       "</div>"
      ],
      "text/plain": [
       "                 name    date  slice_s_idx  slice_e_idx          start_time  \\\n",
       "1           28_1_ch_0  220719           28           39  16:44:50.878000000   \n",
       "2           73_1_ch_0  220719           73           87  17:27:48.911000000   \n",
       "3          106_1_ch_0  220719          106          117  17:28:13.512000000   \n",
       "4          118_5_ch_0  220719          118          133  17:31:36.047000000   \n",
       "5          139_1_ch_0  220719          139          150  17:34:44.730000000   \n",
       "...               ...     ...          ...          ...                 ...   \n",
       "92148  2371629_1_ch_0  220719      2371629      2371688  19:33:49.102000000   \n",
       "92149  2371689_1_ch_0  220719      2371689      2371711  19:33:50.101000000   \n",
       "92150  2371712_1_ch_0  220719      2371712      2371780  19:33:50.101000000   \n",
       "92151  2371781_1_ch_0  220719      2371781      2371828  19:33:51.099000000   \n",
       "92152  2371829_4_ch_0  220719      2371829      2371890  19:33:54.110000000   \n",
       "\n",
       "                 end_time       d_max       d_min  orientation  \\\n",
       "1      16:55:54.889000000  135.388029  102.338566     0.491663   \n",
       "2      17:27:48.911000000  150.653631  129.380767    -0.850587   \n",
       "3      17:31:36.047000000  126.441886  102.951725    -0.396063   \n",
       "4      17:34:44.730000000  148.619842   78.584714    -1.349169   \n",
       "5      17:34:46.680000000  146.910948  103.534494     0.592683   \n",
       "...                   ...         ...         ...          ...   \n",
       "92148  19:33:50.101000000  613.446462   99.922385    -1.559338   \n",
       "92149  19:33:50.101000000  231.037204  107.201276     1.564158   \n",
       "92150  19:33:51.099000000  707.363148  217.178593     1.490640   \n",
       "92151  19:33:54.110000000  450.136735   85.558757    -1.514142   \n",
       "92152  19:34:20.708000000  635.077309  199.825056     1.532941   \n",
       "\n",
       "                                       centroid      area    perimeter  \\\n",
       "1        (4.776470588235294, 4.352941176470588)    8500.0   425.208153   \n",
       "2        (6.580882352941177, 6.911764705882353)   13600.0   522.132034   \n",
       "3       (6.1688311688311686, 5.792207792207792)    7700.0   486.629509   \n",
       "4      (3.4146341463414633, 7.2317073170731705)    8200.0   379.705627   \n",
       "5         (7.23404255319149, 5.968085106382978)    9400.0   591.126984   \n",
       "...                                         ...       ...          ...   \n",
       "92148    (7.832460732984293, 32.32722513089005)   38200.0  1401.837662   \n",
       "92149   (5.232044198895028, 11.370165745856353)   18100.0   567.279221   \n",
       "92150  (14.754578754578755, 31.477106227106226)  109200.0  1758.406204   \n",
       "92151    (5.182879377431907, 28.03112840466926)   25700.0   988.345238   \n",
       "92152  (10.435536294691225, 29.136511375947997)   92300.0  1568.761543   \n",
       "\n",
       "       circularity   y0   y1 probe  first_diode_trunc  last_diode_trunc  \n",
       "1         1.692678    0   10  ch_0                  0                 0  \n",
       "2         1.595188    0   14  ch_0                  5                 0  \n",
       "3         2.447351   65   77  ch_0                  0                 0  \n",
       "4         1.399170  118  126  ch_0                  0                 0  \n",
       "5         2.958175    0   14  ch_0                  1                 0  \n",
       "...            ...  ...  ...   ...                ...               ...  \n",
       "92148     4.093759  116  127  ch_0                  0                 0  \n",
       "92149     1.414833  118  127  ch_0                  0                 0  \n",
       "92150     2.253232  104  127  ch_0                  0                 0  \n",
       "92151     3.024645  119  127  ch_0                  0                 0  \n",
       "92152     2.121790  109  127  ch_0                  0                60  \n",
       "\n",
       "[87864 rows x 18 columns]"
      ]
     },
     "execution_count": 21,
     "metadata": {},
     "output_type": "execute_result"
    }
   ],
   "source": [
    "non_li"
   ]
  },
  {
   "cell_type": "markdown",
   "id": "373cba45-79aa-48ad-a3bd-0f97f4fbad54",
   "metadata": {},
   "source": [
    "### surpass threshold"
   ]
  },
  {
   "cell_type": "code",
   "execution_count": 22,
   "id": "2b2a6960-955a-482f-a172-ab151f9daebb",
   "metadata": {
    "collapsed": true,
    "jupyter": {
     "outputs_hidden": true
    }
   },
   "outputs": [
    {
     "data": {
      "text/html": [
       "<div>\n",
       "<style scoped>\n",
       "    .dataframe tbody tr th:only-of-type {\n",
       "        vertical-align: middle;\n",
       "    }\n",
       "\n",
       "    .dataframe tbody tr th {\n",
       "        vertical-align: top;\n",
       "    }\n",
       "\n",
       "    .dataframe thead th {\n",
       "        text-align: right;\n",
       "    }\n",
       "</style>\n",
       "<table border=\"1\" class=\"dataframe\">\n",
       "  <thead>\n",
       "    <tr style=\"text-align: right;\">\n",
       "      <th></th>\n",
       "      <th>name</th>\n",
       "      <th>date</th>\n",
       "      <th>slice_s_idx</th>\n",
       "      <th>slice_e_idx</th>\n",
       "      <th>start_time</th>\n",
       "      <th>end_time</th>\n",
       "      <th>d_max</th>\n",
       "      <th>d_min</th>\n",
       "      <th>orientation</th>\n",
       "      <th>centroid</th>\n",
       "      <th>area</th>\n",
       "      <th>perimeter</th>\n",
       "      <th>circularity</th>\n",
       "      <th>y0</th>\n",
       "      <th>y1</th>\n",
       "      <th>probe</th>\n",
       "      <th>first_diode_trunc</th>\n",
       "      <th>last_diode_trunc</th>\n",
       "    </tr>\n",
       "  </thead>\n",
       "  <tbody>\n",
       "    <tr>\n",
       "      <th>31</th>\n",
       "      <td>1005_1_ch_0</td>\n",
       "      <td>220719</td>\n",
       "      <td>1005</td>\n",
       "      <td>1086</td>\n",
       "      <td>18:26:40.834000000</td>\n",
       "      <td>18:26:41.458000000</td>\n",
       "      <td>973.247126</td>\n",
       "      <td>759.949138</td>\n",
       "      <td>0.260152</td>\n",
       "      <td>(46.04506248899842, 38.121281464530895)</td>\n",
       "      <td>568100.0</td>\n",
       "      <td>3391.787156</td>\n",
       "      <td>1.611471</td>\n",
       "      <td>36</td>\n",
       "      <td>127</td>\n",
       "      <td>ch_0</td>\n",
       "      <td>0</td>\n",
       "      <td>0</td>\n",
       "    </tr>\n",
       "    <tr>\n",
       "      <th>32</th>\n",
       "      <td>1087_1_ch_0</td>\n",
       "      <td>220719</td>\n",
       "      <td>1087</td>\n",
       "      <td>1155</td>\n",
       "      <td>18:26:41.458000000</td>\n",
       "      <td>18:26:41.599000000</td>\n",
       "      <td>679.964703</td>\n",
       "      <td>328.713658</td>\n",
       "      <td>-1.536341</td>\n",
       "      <td>(17.200734394124847, 34.24663402692779)</td>\n",
       "      <td>163400.0</td>\n",
       "      <td>2104.680374</td>\n",
       "      <td>2.157299</td>\n",
       "      <td>97</td>\n",
       "      <td>127</td>\n",
       "      <td>ch_0</td>\n",
       "      <td>0</td>\n",
       "      <td>0</td>\n",
       "    </tr>\n",
       "    <tr>\n",
       "      <th>34</th>\n",
       "      <td>1176_1_ch_0</td>\n",
       "      <td>220719</td>\n",
       "      <td>1176</td>\n",
       "      <td>1215</td>\n",
       "      <td>18:26:44.032000000</td>\n",
       "      <td>18:26:45.031000000</td>\n",
       "      <td>532.867585</td>\n",
       "      <td>382.143049</td>\n",
       "      <td>-0.161327</td>\n",
       "      <td>(26.2905874921036, 19.389134554643082)</td>\n",
       "      <td>158300.0</td>\n",
       "      <td>1803.675324</td>\n",
       "      <td>1.635407</td>\n",
       "      <td>20</td>\n",
       "      <td>71</td>\n",
       "      <td>ch_0</td>\n",
       "      <td>0</td>\n",
       "      <td>0</td>\n",
       "    </tr>\n",
       "    <tr>\n",
       "      <th>35</th>\n",
       "      <td>1216_1_ch_0</td>\n",
       "      <td>220719</td>\n",
       "      <td>1216</td>\n",
       "      <td>1241</td>\n",
       "      <td>18:26:45.031000000</td>\n",
       "      <td>18:26:46.045000000</td>\n",
       "      <td>321.084490</td>\n",
       "      <td>230.462533</td>\n",
       "      <td>0.192111</td>\n",
       "      <td>(15.794425087108014, 12.20034843205575)</td>\n",
       "      <td>57400.0</td>\n",
       "      <td>1009.472222</td>\n",
       "      <td>1.412755</td>\n",
       "      <td>70</td>\n",
       "      <td>102</td>\n",
       "      <td>ch_0</td>\n",
       "      <td>0</td>\n",
       "      <td>0</td>\n",
       "    </tr>\n",
       "    <tr>\n",
       "      <th>36</th>\n",
       "      <td>1242_1_ch_0</td>\n",
       "      <td>220719</td>\n",
       "      <td>1242</td>\n",
       "      <td>1270</td>\n",
       "      <td>18:26:46.045000000</td>\n",
       "      <td>18:26:47.043000000</td>\n",
       "      <td>300.658484</td>\n",
       "      <td>191.771088</td>\n",
       "      <td>1.418795</td>\n",
       "      <td>(11.68407960199005, 13.616915422885572)</td>\n",
       "      <td>40200.0</td>\n",
       "      <td>1105.624458</td>\n",
       "      <td>2.419799</td>\n",
       "      <td>108</td>\n",
       "      <td>127</td>\n",
       "      <td>ch_0</td>\n",
       "      <td>0</td>\n",
       "      <td>23</td>\n",
       "    </tr>\n",
       "    <tr>\n",
       "      <th>...</th>\n",
       "      <td>...</td>\n",
       "      <td>...</td>\n",
       "      <td>...</td>\n",
       "      <td>...</td>\n",
       "      <td>...</td>\n",
       "      <td>...</td>\n",
       "      <td>...</td>\n",
       "      <td>...</td>\n",
       "      <td>...</td>\n",
       "      <td>...</td>\n",
       "      <td>...</td>\n",
       "      <td>...</td>\n",
       "      <td>...</td>\n",
       "      <td>...</td>\n",
       "      <td>...</td>\n",
       "      <td>...</td>\n",
       "      <td>...</td>\n",
       "      <td>...</td>\n",
       "    </tr>\n",
       "    <tr>\n",
       "      <th>92147</th>\n",
       "      <td>2371574_1_ch_0</td>\n",
       "      <td>220719</td>\n",
       "      <td>2371574</td>\n",
       "      <td>2371628</td>\n",
       "      <td>19:33:49.102000000</td>\n",
       "      <td>19:33:49.102000000</td>\n",
       "      <td>729.160663</td>\n",
       "      <td>546.109702</td>\n",
       "      <td>0.094870</td>\n",
       "      <td>(32.719350563286945, 29.50231941683234)</td>\n",
       "      <td>301800.0</td>\n",
       "      <td>2344.802307</td>\n",
       "      <td>1.449717</td>\n",
       "      <td>0</td>\n",
       "      <td>73</td>\n",
       "      <td>ch_0</td>\n",
       "      <td>24</td>\n",
       "      <td>0</td>\n",
       "    </tr>\n",
       "    <tr>\n",
       "      <th>92148</th>\n",
       "      <td>2371629_1_ch_0</td>\n",
       "      <td>220719</td>\n",
       "      <td>2371629</td>\n",
       "      <td>2371688</td>\n",
       "      <td>19:33:49.102000000</td>\n",
       "      <td>19:33:50.101000000</td>\n",
       "      <td>613.446462</td>\n",
       "      <td>99.922385</td>\n",
       "      <td>-1.559338</td>\n",
       "      <td>(7.832460732984293, 32.32722513089005)</td>\n",
       "      <td>38200.0</td>\n",
       "      <td>1401.837662</td>\n",
       "      <td>4.093759</td>\n",
       "      <td>116</td>\n",
       "      <td>127</td>\n",
       "      <td>ch_0</td>\n",
       "      <td>0</td>\n",
       "      <td>0</td>\n",
       "    </tr>\n",
       "    <tr>\n",
       "      <th>92150</th>\n",
       "      <td>2371712_1_ch_0</td>\n",
       "      <td>220719</td>\n",
       "      <td>2371712</td>\n",
       "      <td>2371780</td>\n",
       "      <td>19:33:50.101000000</td>\n",
       "      <td>19:33:51.099000000</td>\n",
       "      <td>707.363148</td>\n",
       "      <td>217.178593</td>\n",
       "      <td>1.490640</td>\n",
       "      <td>(14.754578754578755, 31.477106227106226)</td>\n",
       "      <td>109200.0</td>\n",
       "      <td>1758.406204</td>\n",
       "      <td>2.253232</td>\n",
       "      <td>104</td>\n",
       "      <td>127</td>\n",
       "      <td>ch_0</td>\n",
       "      <td>0</td>\n",
       "      <td>0</td>\n",
       "    </tr>\n",
       "    <tr>\n",
       "      <th>92151</th>\n",
       "      <td>2371781_1_ch_0</td>\n",
       "      <td>220719</td>\n",
       "      <td>2371781</td>\n",
       "      <td>2371828</td>\n",
       "      <td>19:33:51.099000000</td>\n",
       "      <td>19:33:54.110000000</td>\n",
       "      <td>450.136735</td>\n",
       "      <td>85.558757</td>\n",
       "      <td>-1.514142</td>\n",
       "      <td>(5.182879377431907, 28.03112840466926)</td>\n",
       "      <td>25700.0</td>\n",
       "      <td>988.345238</td>\n",
       "      <td>3.024645</td>\n",
       "      <td>119</td>\n",
       "      <td>127</td>\n",
       "      <td>ch_0</td>\n",
       "      <td>0</td>\n",
       "      <td>0</td>\n",
       "    </tr>\n",
       "    <tr>\n",
       "      <th>92152</th>\n",
       "      <td>2371829_4_ch_0</td>\n",
       "      <td>220719</td>\n",
       "      <td>2371829</td>\n",
       "      <td>2371890</td>\n",
       "      <td>19:33:54.110000000</td>\n",
       "      <td>19:34:20.708000000</td>\n",
       "      <td>635.077309</td>\n",
       "      <td>199.825056</td>\n",
       "      <td>1.532941</td>\n",
       "      <td>(10.435536294691225, 29.136511375947997)</td>\n",
       "      <td>92300.0</td>\n",
       "      <td>1568.761543</td>\n",
       "      <td>2.121790</td>\n",
       "      <td>109</td>\n",
       "      <td>127</td>\n",
       "      <td>ch_0</td>\n",
       "      <td>0</td>\n",
       "      <td>60</td>\n",
       "    </tr>\n",
       "  </tbody>\n",
       "</table>\n",
       "<p>39128 rows × 18 columns</p>\n",
       "</div>"
      ],
      "text/plain": [
       "                 name    date  slice_s_idx  slice_e_idx          start_time  \\\n",
       "31        1005_1_ch_0  220719         1005         1086  18:26:40.834000000   \n",
       "32        1087_1_ch_0  220719         1087         1155  18:26:41.458000000   \n",
       "34        1176_1_ch_0  220719         1176         1215  18:26:44.032000000   \n",
       "35        1216_1_ch_0  220719         1216         1241  18:26:45.031000000   \n",
       "36        1242_1_ch_0  220719         1242         1270  18:26:46.045000000   \n",
       "...               ...     ...          ...          ...                 ...   \n",
       "92147  2371574_1_ch_0  220719      2371574      2371628  19:33:49.102000000   \n",
       "92148  2371629_1_ch_0  220719      2371629      2371688  19:33:49.102000000   \n",
       "92150  2371712_1_ch_0  220719      2371712      2371780  19:33:50.101000000   \n",
       "92151  2371781_1_ch_0  220719      2371781      2371828  19:33:51.099000000   \n",
       "92152  2371829_4_ch_0  220719      2371829      2371890  19:33:54.110000000   \n",
       "\n",
       "                 end_time       d_max       d_min  orientation  \\\n",
       "31     18:26:41.458000000  973.247126  759.949138     0.260152   \n",
       "32     18:26:41.599000000  679.964703  328.713658    -1.536341   \n",
       "34     18:26:45.031000000  532.867585  382.143049    -0.161327   \n",
       "35     18:26:46.045000000  321.084490  230.462533     0.192111   \n",
       "36     18:26:47.043000000  300.658484  191.771088     1.418795   \n",
       "...                   ...         ...         ...          ...   \n",
       "92147  19:33:49.102000000  729.160663  546.109702     0.094870   \n",
       "92148  19:33:50.101000000  613.446462   99.922385    -1.559338   \n",
       "92150  19:33:51.099000000  707.363148  217.178593     1.490640   \n",
       "92151  19:33:54.110000000  450.136735   85.558757    -1.514142   \n",
       "92152  19:34:20.708000000  635.077309  199.825056     1.532941   \n",
       "\n",
       "                                       centroid      area    perimeter  \\\n",
       "31      (46.04506248899842, 38.121281464530895)  568100.0  3391.787156   \n",
       "32      (17.200734394124847, 34.24663402692779)  163400.0  2104.680374   \n",
       "34       (26.2905874921036, 19.389134554643082)  158300.0  1803.675324   \n",
       "35      (15.794425087108014, 12.20034843205575)   57400.0  1009.472222   \n",
       "36      (11.68407960199005, 13.616915422885572)   40200.0  1105.624458   \n",
       "...                                         ...       ...          ...   \n",
       "92147   (32.719350563286945, 29.50231941683234)  301800.0  2344.802307   \n",
       "92148    (7.832460732984293, 32.32722513089005)   38200.0  1401.837662   \n",
       "92150  (14.754578754578755, 31.477106227106226)  109200.0  1758.406204   \n",
       "92151    (5.182879377431907, 28.03112840466926)   25700.0   988.345238   \n",
       "92152  (10.435536294691225, 29.136511375947997)   92300.0  1568.761543   \n",
       "\n",
       "       circularity   y0   y1 probe  first_diode_trunc  last_diode_trunc  \n",
       "31        1.611471   36  127  ch_0                  0                 0  \n",
       "32        2.157299   97  127  ch_0                  0                 0  \n",
       "34        1.635407   20   71  ch_0                  0                 0  \n",
       "35        1.412755   70  102  ch_0                  0                 0  \n",
       "36        2.419799  108  127  ch_0                  0                23  \n",
       "...            ...  ...  ...   ...                ...               ...  \n",
       "92147     1.449717    0   73  ch_0                 24                 0  \n",
       "92148     4.093759  116  127  ch_0                  0                 0  \n",
       "92150     2.253232  104  127  ch_0                  0                 0  \n",
       "92151     3.024645  119  127  ch_0                  0                 0  \n",
       "92152     2.121790  109  127  ch_0                  0                60  \n",
       "\n",
       "[39128 rows x 18 columns]"
      ]
     },
     "execution_count": 22,
     "metadata": {},
     "output_type": "execute_result"
    }
   ],
   "source": [
    "large_non_li = non_li[non_li['d_max'] >= 300]\n",
    "large_non_li"
   ]
  },
  {
   "cell_type": "markdown",
   "id": "239f1168-598b-4977-8c0c-29a93bf0fcce",
   "metadata": {},
   "source": [
    "### non truncated"
   ]
  },
  {
   "cell_type": "code",
   "execution_count": 27,
   "id": "668ac159-87aa-4970-b733-2788cb05f69b",
   "metadata": {},
   "outputs": [
    {
     "name": "stdout",
     "output_type": "stream",
     "text": [
      "28601\n"
     ]
    }
   ],
   "source": [
    "large_non_li_non_trunc = large_non_li[(large_non_li['first_diode_trunc'] == 0) & (large_non_li['last_diode_trunc'] == 0)]\n",
    "#print(large_non_li_non_trunc.count())\n",
    "print(large_non_li_non_trunc['name'].count())\n"
   ]
  },
  {
   "cell_type": "code",
   "execution_count": 28,
   "id": "535dcd87-64a8-4d84-b6a8-dd45c2f2642f",
   "metadata": {
    "collapsed": true,
    "jupyter": {
     "outputs_hidden": true
    }
   },
   "outputs": [
    {
     "data": {
      "text/html": [
       "<div>\n",
       "<style scoped>\n",
       "    .dataframe tbody tr th:only-of-type {\n",
       "        vertical-align: middle;\n",
       "    }\n",
       "\n",
       "    .dataframe tbody tr th {\n",
       "        vertical-align: top;\n",
       "    }\n",
       "\n",
       "    .dataframe thead th {\n",
       "        text-align: right;\n",
       "    }\n",
       "</style>\n",
       "<table border=\"1\" class=\"dataframe\">\n",
       "  <thead>\n",
       "    <tr style=\"text-align: right;\">\n",
       "      <th></th>\n",
       "      <th>name</th>\n",
       "      <th>date</th>\n",
       "      <th>slice_s_idx</th>\n",
       "      <th>slice_e_idx</th>\n",
       "      <th>start_time</th>\n",
       "      <th>end_time</th>\n",
       "      <th>d_max</th>\n",
       "      <th>d_min</th>\n",
       "      <th>orientation</th>\n",
       "      <th>centroid</th>\n",
       "      <th>area</th>\n",
       "      <th>perimeter</th>\n",
       "      <th>circularity</th>\n",
       "      <th>y0</th>\n",
       "      <th>y1</th>\n",
       "      <th>probe</th>\n",
       "      <th>first_diode_trunc</th>\n",
       "      <th>last_diode_trunc</th>\n",
       "    </tr>\n",
       "  </thead>\n",
       "  <tbody>\n",
       "    <tr>\n",
       "      <th>31</th>\n",
       "      <td>1005_1_ch_0</td>\n",
       "      <td>220719</td>\n",
       "      <td>1005</td>\n",
       "      <td>1086</td>\n",
       "      <td>18:26:40.834000000</td>\n",
       "      <td>18:26:41.458000000</td>\n",
       "      <td>973.247126</td>\n",
       "      <td>759.949138</td>\n",
       "      <td>0.260152</td>\n",
       "      <td>(46.04506248899842, 38.121281464530895)</td>\n",
       "      <td>568100.0</td>\n",
       "      <td>3391.787156</td>\n",
       "      <td>1.611471</td>\n",
       "      <td>36</td>\n",
       "      <td>127</td>\n",
       "      <td>ch_0</td>\n",
       "      <td>0</td>\n",
       "      <td>0</td>\n",
       "    </tr>\n",
       "    <tr>\n",
       "      <th>32</th>\n",
       "      <td>1087_1_ch_0</td>\n",
       "      <td>220719</td>\n",
       "      <td>1087</td>\n",
       "      <td>1155</td>\n",
       "      <td>18:26:41.458000000</td>\n",
       "      <td>18:26:41.599000000</td>\n",
       "      <td>679.964703</td>\n",
       "      <td>328.713658</td>\n",
       "      <td>-1.536341</td>\n",
       "      <td>(17.200734394124847, 34.24663402692779)</td>\n",
       "      <td>163400.0</td>\n",
       "      <td>2104.680374</td>\n",
       "      <td>2.157299</td>\n",
       "      <td>97</td>\n",
       "      <td>127</td>\n",
       "      <td>ch_0</td>\n",
       "      <td>0</td>\n",
       "      <td>0</td>\n",
       "    </tr>\n",
       "    <tr>\n",
       "      <th>34</th>\n",
       "      <td>1176_1_ch_0</td>\n",
       "      <td>220719</td>\n",
       "      <td>1176</td>\n",
       "      <td>1215</td>\n",
       "      <td>18:26:44.032000000</td>\n",
       "      <td>18:26:45.031000000</td>\n",
       "      <td>532.867585</td>\n",
       "      <td>382.143049</td>\n",
       "      <td>-0.161327</td>\n",
       "      <td>(26.2905874921036, 19.389134554643082)</td>\n",
       "      <td>158300.0</td>\n",
       "      <td>1803.675324</td>\n",
       "      <td>1.635407</td>\n",
       "      <td>20</td>\n",
       "      <td>71</td>\n",
       "      <td>ch_0</td>\n",
       "      <td>0</td>\n",
       "      <td>0</td>\n",
       "    </tr>\n",
       "    <tr>\n",
       "      <th>35</th>\n",
       "      <td>1216_1_ch_0</td>\n",
       "      <td>220719</td>\n",
       "      <td>1216</td>\n",
       "      <td>1241</td>\n",
       "      <td>18:26:45.031000000</td>\n",
       "      <td>18:26:46.045000000</td>\n",
       "      <td>321.084490</td>\n",
       "      <td>230.462533</td>\n",
       "      <td>0.192111</td>\n",
       "      <td>(15.794425087108014, 12.20034843205575)</td>\n",
       "      <td>57400.0</td>\n",
       "      <td>1009.472222</td>\n",
       "      <td>1.412755</td>\n",
       "      <td>70</td>\n",
       "      <td>102</td>\n",
       "      <td>ch_0</td>\n",
       "      <td>0</td>\n",
       "      <td>0</td>\n",
       "    </tr>\n",
       "    <tr>\n",
       "      <th>37</th>\n",
       "      <td>1271_1_ch_0</td>\n",
       "      <td>220719</td>\n",
       "      <td>1271</td>\n",
       "      <td>1296</td>\n",
       "      <td>18:26:47.043000000</td>\n",
       "      <td>18:26:47.043000000</td>\n",
       "      <td>310.332976</td>\n",
       "      <td>222.120459</td>\n",
       "      <td>-0.355859</td>\n",
       "      <td>(16.231060606060606, 12.227272727272727)</td>\n",
       "      <td>52800.0</td>\n",
       "      <td>978.761543</td>\n",
       "      <td>1.443810</td>\n",
       "      <td>21</td>\n",
       "      <td>51</td>\n",
       "      <td>ch_0</td>\n",
       "      <td>0</td>\n",
       "      <td>0</td>\n",
       "    </tr>\n",
       "    <tr>\n",
       "      <th>...</th>\n",
       "      <td>...</td>\n",
       "      <td>...</td>\n",
       "      <td>...</td>\n",
       "      <td>...</td>\n",
       "      <td>...</td>\n",
       "      <td>...</td>\n",
       "      <td>...</td>\n",
       "      <td>...</td>\n",
       "      <td>...</td>\n",
       "      <td>...</td>\n",
       "      <td>...</td>\n",
       "      <td>...</td>\n",
       "      <td>...</td>\n",
       "      <td>...</td>\n",
       "      <td>...</td>\n",
       "      <td>...</td>\n",
       "      <td>...</td>\n",
       "      <td>...</td>\n",
       "    </tr>\n",
       "    <tr>\n",
       "      <th>92145</th>\n",
       "      <td>2371509_1_ch_0</td>\n",
       "      <td>220719</td>\n",
       "      <td>2371509</td>\n",
       "      <td>2371537</td>\n",
       "      <td>19:33:49.102000000</td>\n",
       "      <td>19:33:49.102000000</td>\n",
       "      <td>422.008597</td>\n",
       "      <td>272.845580</td>\n",
       "      <td>0.192347</td>\n",
       "      <td>(21.334078212290503, 13.402234636871508)</td>\n",
       "      <td>89500.0</td>\n",
       "      <td>1238.111832</td>\n",
       "      <td>1.362972</td>\n",
       "      <td>56</td>\n",
       "      <td>97</td>\n",
       "      <td>ch_0</td>\n",
       "      <td>0</td>\n",
       "      <td>0</td>\n",
       "    </tr>\n",
       "    <tr>\n",
       "      <th>92146</th>\n",
       "      <td>2371538_1_ch_0</td>\n",
       "      <td>220719</td>\n",
       "      <td>2371538</td>\n",
       "      <td>2371573</td>\n",
       "      <td>19:33:49.102000000</td>\n",
       "      <td>19:33:49.102000000</td>\n",
       "      <td>471.345250</td>\n",
       "      <td>343.474896</td>\n",
       "      <td>-0.012298</td>\n",
       "      <td>(22.67965023847377, 17.083465818759937)</td>\n",
       "      <td>125800.0</td>\n",
       "      <td>1527.106781</td>\n",
       "      <td>1.475191</td>\n",
       "      <td>30</td>\n",
       "      <td>77</td>\n",
       "      <td>ch_0</td>\n",
       "      <td>0</td>\n",
       "      <td>0</td>\n",
       "    </tr>\n",
       "    <tr>\n",
       "      <th>92148</th>\n",
       "      <td>2371629_1_ch_0</td>\n",
       "      <td>220719</td>\n",
       "      <td>2371629</td>\n",
       "      <td>2371688</td>\n",
       "      <td>19:33:49.102000000</td>\n",
       "      <td>19:33:50.101000000</td>\n",
       "      <td>613.446462</td>\n",
       "      <td>99.922385</td>\n",
       "      <td>-1.559338</td>\n",
       "      <td>(7.832460732984293, 32.32722513089005)</td>\n",
       "      <td>38200.0</td>\n",
       "      <td>1401.837662</td>\n",
       "      <td>4.093759</td>\n",
       "      <td>116</td>\n",
       "      <td>127</td>\n",
       "      <td>ch_0</td>\n",
       "      <td>0</td>\n",
       "      <td>0</td>\n",
       "    </tr>\n",
       "    <tr>\n",
       "      <th>92150</th>\n",
       "      <td>2371712_1_ch_0</td>\n",
       "      <td>220719</td>\n",
       "      <td>2371712</td>\n",
       "      <td>2371780</td>\n",
       "      <td>19:33:50.101000000</td>\n",
       "      <td>19:33:51.099000000</td>\n",
       "      <td>707.363148</td>\n",
       "      <td>217.178593</td>\n",
       "      <td>1.490640</td>\n",
       "      <td>(14.754578754578755, 31.477106227106226)</td>\n",
       "      <td>109200.0</td>\n",
       "      <td>1758.406204</td>\n",
       "      <td>2.253232</td>\n",
       "      <td>104</td>\n",
       "      <td>127</td>\n",
       "      <td>ch_0</td>\n",
       "      <td>0</td>\n",
       "      <td>0</td>\n",
       "    </tr>\n",
       "    <tr>\n",
       "      <th>92151</th>\n",
       "      <td>2371781_1_ch_0</td>\n",
       "      <td>220719</td>\n",
       "      <td>2371781</td>\n",
       "      <td>2371828</td>\n",
       "      <td>19:33:51.099000000</td>\n",
       "      <td>19:33:54.110000000</td>\n",
       "      <td>450.136735</td>\n",
       "      <td>85.558757</td>\n",
       "      <td>-1.514142</td>\n",
       "      <td>(5.182879377431907, 28.03112840466926)</td>\n",
       "      <td>25700.0</td>\n",
       "      <td>988.345238</td>\n",
       "      <td>3.024645</td>\n",
       "      <td>119</td>\n",
       "      <td>127</td>\n",
       "      <td>ch_0</td>\n",
       "      <td>0</td>\n",
       "      <td>0</td>\n",
       "    </tr>\n",
       "  </tbody>\n",
       "</table>\n",
       "<p>28601 rows × 18 columns</p>\n",
       "</div>"
      ],
      "text/plain": [
       "                 name    date  slice_s_idx  slice_e_idx          start_time  \\\n",
       "31        1005_1_ch_0  220719         1005         1086  18:26:40.834000000   \n",
       "32        1087_1_ch_0  220719         1087         1155  18:26:41.458000000   \n",
       "34        1176_1_ch_0  220719         1176         1215  18:26:44.032000000   \n",
       "35        1216_1_ch_0  220719         1216         1241  18:26:45.031000000   \n",
       "37        1271_1_ch_0  220719         1271         1296  18:26:47.043000000   \n",
       "...               ...     ...          ...          ...                 ...   \n",
       "92145  2371509_1_ch_0  220719      2371509      2371537  19:33:49.102000000   \n",
       "92146  2371538_1_ch_0  220719      2371538      2371573  19:33:49.102000000   \n",
       "92148  2371629_1_ch_0  220719      2371629      2371688  19:33:49.102000000   \n",
       "92150  2371712_1_ch_0  220719      2371712      2371780  19:33:50.101000000   \n",
       "92151  2371781_1_ch_0  220719      2371781      2371828  19:33:51.099000000   \n",
       "\n",
       "                 end_time       d_max       d_min  orientation  \\\n",
       "31     18:26:41.458000000  973.247126  759.949138     0.260152   \n",
       "32     18:26:41.599000000  679.964703  328.713658    -1.536341   \n",
       "34     18:26:45.031000000  532.867585  382.143049    -0.161327   \n",
       "35     18:26:46.045000000  321.084490  230.462533     0.192111   \n",
       "37     18:26:47.043000000  310.332976  222.120459    -0.355859   \n",
       "...                   ...         ...         ...          ...   \n",
       "92145  19:33:49.102000000  422.008597  272.845580     0.192347   \n",
       "92146  19:33:49.102000000  471.345250  343.474896    -0.012298   \n",
       "92148  19:33:50.101000000  613.446462   99.922385    -1.559338   \n",
       "92150  19:33:51.099000000  707.363148  217.178593     1.490640   \n",
       "92151  19:33:54.110000000  450.136735   85.558757    -1.514142   \n",
       "\n",
       "                                       centroid      area    perimeter  \\\n",
       "31      (46.04506248899842, 38.121281464530895)  568100.0  3391.787156   \n",
       "32      (17.200734394124847, 34.24663402692779)  163400.0  2104.680374   \n",
       "34       (26.2905874921036, 19.389134554643082)  158300.0  1803.675324   \n",
       "35      (15.794425087108014, 12.20034843205575)   57400.0  1009.472222   \n",
       "37     (16.231060606060606, 12.227272727272727)   52800.0   978.761543   \n",
       "...                                         ...       ...          ...   \n",
       "92145  (21.334078212290503, 13.402234636871508)   89500.0  1238.111832   \n",
       "92146   (22.67965023847377, 17.083465818759937)  125800.0  1527.106781   \n",
       "92148    (7.832460732984293, 32.32722513089005)   38200.0  1401.837662   \n",
       "92150  (14.754578754578755, 31.477106227106226)  109200.0  1758.406204   \n",
       "92151    (5.182879377431907, 28.03112840466926)   25700.0   988.345238   \n",
       "\n",
       "       circularity   y0   y1 probe  first_diode_trunc  last_diode_trunc  \n",
       "31        1.611471   36  127  ch_0                  0                 0  \n",
       "32        2.157299   97  127  ch_0                  0                 0  \n",
       "34        1.635407   20   71  ch_0                  0                 0  \n",
       "35        1.412755   70  102  ch_0                  0                 0  \n",
       "37        1.443810   21   51  ch_0                  0                 0  \n",
       "...            ...  ...  ...   ...                ...               ...  \n",
       "92145     1.362972   56   97  ch_0                  0                 0  \n",
       "92146     1.475191   30   77  ch_0                  0                 0  \n",
       "92148     4.093759  116  127  ch_0                  0                 0  \n",
       "92150     2.253232  104  127  ch_0                  0                 0  \n",
       "92151     3.024645  119  127  ch_0                  0                 0  \n",
       "\n",
       "[28601 rows x 18 columns]"
      ]
     },
     "execution_count": 28,
     "metadata": {},
     "output_type": "execute_result"
    }
   ],
   "source": [
    "large_non_li_non_trunc"
   ]
  },
  {
   "cell_type": "code",
   "execution_count": 30,
   "id": "35d42e76-4a1f-4d1e-a39f-5d981620ccb5",
   "metadata": {},
   "outputs": [],
   "source": [
    "## all functions together\n",
    "reduced_df = df[(df['circularity'] > 1.2) & (df['d_max'] >= 300) & (df['first_diode_trunc'] == 0) & (df['last_diode_trunc'] == 0)]"
   ]
  },
  {
   "cell_type": "code",
   "execution_count": 31,
   "id": "25112871-b2fb-41cf-9b3c-e0d2eda42dd9",
   "metadata": {},
   "outputs": [
    {
     "data": {
      "text/plain": [
       "28601"
      ]
     },
     "execution_count": 31,
     "metadata": {},
     "output_type": "execute_result"
    }
   ],
   "source": [
    "reduced_df['name'].count()"
   ]
  },
  {
   "cell_type": "markdown",
   "id": "6267874d-cbc7-4c85-8403-2f1e55ab19f8",
   "metadata": {
    "jp-MarkdownHeadingCollapsed": true
   },
   "source": [
    "## multi-file stats"
   ]
  },
  {
   "cell_type": "code",
   "execution_count": 37,
   "id": "a1d2ce9a-4b77-4b1c-aafa-a86fb1434dfc",
   "metadata": {},
   "outputs": [],
   "source": [
    "## check a path exists, then do code\n",
    "probe_name = 'ch_1' # hvps, ch0, ch1\n",
    "path = f'/gws/nopw/j04/dcmex/users/ezriab/processed_stats/{probe_name}/'\n",
    "\n",
    "if os.path.exists(path):\n",
    "    # get string of full path + filenames in specif location\n",
    "    file_list = glob(path+'*.csv') \n",
    "    \n",
    "    # just get file names\n",
    "    file_names = [os.path.basename(file_path) for file_path in file_list]\n",
    "else:\n",
    "    print(\"NOT REAL OH NO\")"
   ]
  },
  {
   "cell_type": "code",
   "execution_count": 38,
   "id": "e68ba230-210e-4a66-8928-9d1b4d2a6b9e",
   "metadata": {},
   "outputs": [
    {
     "data": {
      "text/plain": [
       "['/gws/nopw/j04/dcmex/users/ezriab/processed_stats/ch_1/flight_220622110532.csv',\n",
       " '/gws/nopw/j04/dcmex/users/ezriab/processed_stats/ch_1/flight_220622113222.csv',\n",
       " '/gws/nopw/j04/dcmex/users/ezriab/processed_stats/ch_1/flight_220622114344.csv',\n",
       " '/gws/nopw/j04/dcmex/users/ezriab/processed_stats/ch_1/flight_220719154358.csv',\n",
       " '/gws/nopw/j04/dcmex/users/ezriab/processed_stats/ch_1/flight_220720161837.csv',\n",
       " '/gws/nopw/j04/dcmex/users/ezriab/processed_stats/ch_1/flight_220722154658.csv',\n",
       " '/gws/nopw/j04/dcmex/users/ezriab/processed_stats/ch_1/flight_220722164909.csv',\n",
       " '/gws/nopw/j04/dcmex/users/ezriab/processed_stats/ch_1/flight_220723153010.csv',\n",
       " '/gws/nopw/j04/dcmex/users/ezriab/processed_stats/ch_1/flight_220724154137.csv',\n",
       " '/gws/nopw/j04/dcmex/users/ezriab/processed_stats/ch_1/flight_220725153309.csv',\n",
       " '/gws/nopw/j04/dcmex/users/ezriab/processed_stats/ch_1/flight_220726150340.csv',\n",
       " '/gws/nopw/j04/dcmex/users/ezriab/processed_stats/ch_1/flight_220727160906.csv',\n",
       " '/gws/nopw/j04/dcmex/users/ezriab/processed_stats/ch_1/flight_220729153228.csv',\n",
       " '/gws/nopw/j04/dcmex/users/ezriab/processed_stats/ch_1/flight_220730153000.csv',\n",
       " '/gws/nopw/j04/dcmex/users/ezriab/processed_stats/ch_1/flight_220801154558.csv',\n",
       " '/gws/nopw/j04/dcmex/users/ezriab/processed_stats/ch_1/flight_220802153538.csv',\n",
       " '/gws/nopw/j04/dcmex/users/ezriab/processed_stats/ch_1/flight_220803153030.csv',\n",
       " '/gws/nopw/j04/dcmex/users/ezriab/processed_stats/ch_1/flight_220804160810.csv',\n",
       " '/gws/nopw/j04/dcmex/users/ezriab/processed_stats/ch_1/flight_220806151304.csv',\n",
       " '/gws/nopw/j04/dcmex/users/ezriab/processed_stats/ch_1/flight_220806153351.csv',\n",
       " '/gws/nopw/j04/dcmex/users/ezriab/processed_stats/ch_1/flight_220807160624.csv',\n",
       " '/gws/nopw/j04/dcmex/users/ezriab/processed_stats/ch_1/flight_220807183300.csv',\n",
       " '/gws/nopw/j04/dcmex/users/ezriab/processed_stats/ch_1/flight_220808160342.csv']"
      ]
     },
     "execution_count": 38,
     "metadata": {},
     "output_type": "execute_result"
    }
   ],
   "source": [
    "file_list"
   ]
  },
  {
   "cell_type": "code",
   "execution_count": 39,
   "id": "001c9a4d-9def-4080-b0ac-bed0ed66c2aa",
   "metadata": {},
   "outputs": [],
   "source": [
    "column_names = ['date','probe','raw','circularity', '% circular', 'min diameter', '% small size', 'truncated', '% truncated', 'all thresholds']"
   ]
  },
  {
   "cell_type": "code",
   "execution_count": 40,
   "id": "c0054fc7-4659-41d0-8d5e-9fd83a2e22bf",
   "metadata": {},
   "outputs": [
    {
     "name": "stderr",
     "output_type": "stream",
     "text": [
      "/tmp/ipykernel_578/571616023.py:17: RuntimeWarning: invalid value encountered in scalar divide\n",
      "  per_c = (t-c)/t*100\n",
      "/tmp/ipykernel_578/571616023.py:21: RuntimeWarning: invalid value encountered in scalar divide\n",
      "  per_l = (t-l)/t*100\n",
      "/tmp/ipykernel_578/571616023.py:25: RuntimeWarning: invalid value encountered in scalar divide\n",
      "  per_nt = (t-nt)/t*100\n",
      "/tmp/ipykernel_578/571616023.py:43: FutureWarning: The behavior of DataFrame concatenation with empty or all-NA entries is deprecated. In a future version, this will no longer exclude empty or all-NA columns when determining the result dtypes. To retain the old behavior, exclude the relevant entries before the concat operation.\n",
      "  all_days_df = pd.concat([all_days_df, one_day_df], ignore_index=True)\n",
      "/tmp/ipykernel_578/571616023.py:17: RuntimeWarning: invalid value encountered in scalar divide\n",
      "  per_c = (t-c)/t*100\n",
      "/tmp/ipykernel_578/571616023.py:21: RuntimeWarning: invalid value encountered in scalar divide\n",
      "  per_l = (t-l)/t*100\n",
      "/tmp/ipykernel_578/571616023.py:25: RuntimeWarning: invalid value encountered in scalar divide\n",
      "  per_nt = (t-nt)/t*100\n",
      "/tmp/ipykernel_578/571616023.py:17: RuntimeWarning: invalid value encountered in scalar divide\n",
      "  per_c = (t-c)/t*100\n",
      "/tmp/ipykernel_578/571616023.py:21: RuntimeWarning: invalid value encountered in scalar divide\n",
      "  per_l = (t-l)/t*100\n",
      "/tmp/ipykernel_578/571616023.py:25: RuntimeWarning: invalid value encountered in scalar divide\n",
      "  per_nt = (t-nt)/t*100\n"
     ]
    }
   ],
   "source": [
    "all_days_df = pd.DataFrame(columns=column_names)\n",
    "d_max_v = 300 # hvps = 3000 / 2ds = 300\n",
    "\n",
    "for i in range(len(file_names)):\n",
    "    yy = file_names[i][7:9]\n",
    "    mm = file_names[i][9:11]\n",
    "    dd = file_names[i][11:13]\n",
    "    minu = file_names[i][13:15]\n",
    "\n",
    "    df = pd.read_csv(file_list[i])\n",
    "    day = (f'20{yy}/{mm}/{dd} {minu}')\n",
    "\n",
    "    ## calculations\n",
    "    t = df['name'].count() ## raw total\n",
    "    non_circ = df[df['circularity'] > 1.2]\n",
    "    c = non_circ['name'].count()\n",
    "    per_c = (t-c)/t*100\n",
    "\n",
    "    large = df[df['d_max'] >= d_max_v]\n",
    "    l = large['name'].count()\n",
    "    per_l = (t-l)/t*100\n",
    "    \n",
    "    non_trunc = df[(df['first_diode_trunc'] == 0) & (df['last_diode_trunc'] == 0)]\n",
    "    nt = non_trunc['name'].count()\n",
    "    per_nt = (t-nt)/t*100\n",
    "    \n",
    "    max_reduc = df[(df['circularity'] > 1.2) & (df['d_max'] >= d_max_v) & (df['first_diode_trunc'] == 0) & (df['last_diode_trunc'] == 0)]\n",
    "    m_r = max_reduc['name'].count()\n",
    "\n",
    "    one_day_data = {'date':day,\n",
    "                    'probe':probe_name,\n",
    "                    'raw':t,\n",
    "                    'circularity':c,\n",
    "                    '% circular':per_c,\n",
    "                    'min diameter':l,\n",
    "                    '% small size':per_l,\n",
    "                    'truncated':nt,\n",
    "                    '% truncated':per_nt,\n",
    "                    'all thresholds':m_r}\n",
    "\n",
    "    \n",
    "    one_day_df = pd.DataFrame([one_day_data])\n",
    "    all_days_df = pd.concat([all_days_df, one_day_df], ignore_index=True)    "
   ]
  },
  {
   "cell_type": "code",
   "execution_count": 41,
   "id": "2da06742-fd9e-47cf-b763-990e27772add",
   "metadata": {},
   "outputs": [
    {
     "data": {
      "text/html": [
       "<div>\n",
       "<style scoped>\n",
       "    .dataframe tbody tr th:only-of-type {\n",
       "        vertical-align: middle;\n",
       "    }\n",
       "\n",
       "    .dataframe tbody tr th {\n",
       "        vertical-align: top;\n",
       "    }\n",
       "\n",
       "    .dataframe thead th {\n",
       "        text-align: right;\n",
       "    }\n",
       "</style>\n",
       "<table border=\"1\" class=\"dataframe\">\n",
       "  <thead>\n",
       "    <tr style=\"text-align: right;\">\n",
       "      <th></th>\n",
       "      <th>date</th>\n",
       "      <th>probe</th>\n",
       "      <th>raw</th>\n",
       "      <th>circularity</th>\n",
       "      <th>% circular</th>\n",
       "      <th>min diameter</th>\n",
       "      <th>% small size</th>\n",
       "      <th>truncated</th>\n",
       "      <th>% truncated</th>\n",
       "      <th>all thresholds</th>\n",
       "    </tr>\n",
       "  </thead>\n",
       "  <tbody>\n",
       "    <tr>\n",
       "      <th>0</th>\n",
       "      <td>2022/06/22 11</td>\n",
       "      <td>ch_1</td>\n",
       "      <td>0</td>\n",
       "      <td>0</td>\n",
       "      <td>NaN</td>\n",
       "      <td>0</td>\n",
       "      <td>NaN</td>\n",
       "      <td>0</td>\n",
       "      <td>NaN</td>\n",
       "      <td>0</td>\n",
       "    </tr>\n",
       "    <tr>\n",
       "      <th>1</th>\n",
       "      <td>2022/06/22 11</td>\n",
       "      <td>ch_1</td>\n",
       "      <td>3</td>\n",
       "      <td>2</td>\n",
       "      <td>33.333333</td>\n",
       "      <td>2</td>\n",
       "      <td>33.333333</td>\n",
       "      <td>0</td>\n",
       "      <td>100.000000</td>\n",
       "      <td>0</td>\n",
       "    </tr>\n",
       "    <tr>\n",
       "      <th>2</th>\n",
       "      <td>2022/06/22 11</td>\n",
       "      <td>ch_1</td>\n",
       "      <td>90410</td>\n",
       "      <td>84397</td>\n",
       "      <td>6.650813</td>\n",
       "      <td>10885</td>\n",
       "      <td>87.960403</td>\n",
       "      <td>75899</td>\n",
       "      <td>16.050216</td>\n",
       "      <td>9351</td>\n",
       "    </tr>\n",
       "    <tr>\n",
       "      <th>3</th>\n",
       "      <td>2022/07/19 15</td>\n",
       "      <td>ch_1</td>\n",
       "      <td>92984</td>\n",
       "      <td>88540</td>\n",
       "      <td>4.779317</td>\n",
       "      <td>39581</td>\n",
       "      <td>57.432461</td>\n",
       "      <td>66624</td>\n",
       "      <td>28.348963</td>\n",
       "      <td>27763</td>\n",
       "    </tr>\n",
       "    <tr>\n",
       "      <th>4</th>\n",
       "      <td>2022/07/20 16</td>\n",
       "      <td>ch_1</td>\n",
       "      <td>136933</td>\n",
       "      <td>128183</td>\n",
       "      <td>6.389986</td>\n",
       "      <td>26019</td>\n",
       "      <td>80.998737</td>\n",
       "      <td>111715</td>\n",
       "      <td>18.416306</td>\n",
       "      <td>19141</td>\n",
       "    </tr>\n",
       "    <tr>\n",
       "      <th>5</th>\n",
       "      <td>2022/07/22 15</td>\n",
       "      <td>ch_1</td>\n",
       "      <td>0</td>\n",
       "      <td>0</td>\n",
       "      <td>NaN</td>\n",
       "      <td>0</td>\n",
       "      <td>NaN</td>\n",
       "      <td>0</td>\n",
       "      <td>NaN</td>\n",
       "      <td>0</td>\n",
       "    </tr>\n",
       "    <tr>\n",
       "      <th>6</th>\n",
       "      <td>2022/07/22 16</td>\n",
       "      <td>ch_1</td>\n",
       "      <td>507</td>\n",
       "      <td>501</td>\n",
       "      <td>1.183432</td>\n",
       "      <td>306</td>\n",
       "      <td>39.644970</td>\n",
       "      <td>12</td>\n",
       "      <td>97.633136</td>\n",
       "      <td>7</td>\n",
       "    </tr>\n",
       "    <tr>\n",
       "      <th>7</th>\n",
       "      <td>2022/07/23 15</td>\n",
       "      <td>ch_1</td>\n",
       "      <td>72896</td>\n",
       "      <td>70378</td>\n",
       "      <td>3.454236</td>\n",
       "      <td>40385</td>\n",
       "      <td>44.599155</td>\n",
       "      <td>44558</td>\n",
       "      <td>38.874561</td>\n",
       "      <td>23780</td>\n",
       "    </tr>\n",
       "    <tr>\n",
       "      <th>8</th>\n",
       "      <td>2022/07/24 15</td>\n",
       "      <td>ch_1</td>\n",
       "      <td>561539</td>\n",
       "      <td>542368</td>\n",
       "      <td>3.414010</td>\n",
       "      <td>294824</td>\n",
       "      <td>47.497146</td>\n",
       "      <td>376991</td>\n",
       "      <td>32.864681</td>\n",
       "      <td>198666</td>\n",
       "    </tr>\n",
       "    <tr>\n",
       "      <th>9</th>\n",
       "      <td>2022/07/25 15</td>\n",
       "      <td>ch_1</td>\n",
       "      <td>107097</td>\n",
       "      <td>100040</td>\n",
       "      <td>6.589354</td>\n",
       "      <td>35047</td>\n",
       "      <td>67.275461</td>\n",
       "      <td>81884</td>\n",
       "      <td>23.542209</td>\n",
       "      <td>26855</td>\n",
       "    </tr>\n",
       "    <tr>\n",
       "      <th>10</th>\n",
       "      <td>2022/07/26 15</td>\n",
       "      <td>ch_1</td>\n",
       "      <td>4481</td>\n",
       "      <td>3994</td>\n",
       "      <td>10.868110</td>\n",
       "      <td>1637</td>\n",
       "      <td>63.467976</td>\n",
       "      <td>3314</td>\n",
       "      <td>26.043294</td>\n",
       "      <td>1006</td>\n",
       "    </tr>\n",
       "    <tr>\n",
       "      <th>11</th>\n",
       "      <td>2022/07/27 16</td>\n",
       "      <td>ch_1</td>\n",
       "      <td>1221</td>\n",
       "      <td>1115</td>\n",
       "      <td>8.681409</td>\n",
       "      <td>651</td>\n",
       "      <td>46.683047</td>\n",
       "      <td>696</td>\n",
       "      <td>42.997543</td>\n",
       "      <td>320</td>\n",
       "    </tr>\n",
       "    <tr>\n",
       "      <th>12</th>\n",
       "      <td>2022/07/29 15</td>\n",
       "      <td>ch_1</td>\n",
       "      <td>2539</td>\n",
       "      <td>2178</td>\n",
       "      <td>14.218196</td>\n",
       "      <td>315</td>\n",
       "      <td>87.593541</td>\n",
       "      <td>2071</td>\n",
       "      <td>18.432454</td>\n",
       "      <td>229</td>\n",
       "    </tr>\n",
       "    <tr>\n",
       "      <th>13</th>\n",
       "      <td>2022/07/30 15</td>\n",
       "      <td>ch_1</td>\n",
       "      <td>18286</td>\n",
       "      <td>17360</td>\n",
       "      <td>5.063983</td>\n",
       "      <td>5684</td>\n",
       "      <td>68.916111</td>\n",
       "      <td>13860</td>\n",
       "      <td>24.204309</td>\n",
       "      <td>4089</td>\n",
       "    </tr>\n",
       "    <tr>\n",
       "      <th>14</th>\n",
       "      <td>2022/08/01 15</td>\n",
       "      <td>ch_1</td>\n",
       "      <td>6945</td>\n",
       "      <td>6666</td>\n",
       "      <td>4.017279</td>\n",
       "      <td>3749</td>\n",
       "      <td>46.018719</td>\n",
       "      <td>4645</td>\n",
       "      <td>33.117351</td>\n",
       "      <td>2368</td>\n",
       "    </tr>\n",
       "    <tr>\n",
       "      <th>15</th>\n",
       "      <td>2022/08/02 15</td>\n",
       "      <td>ch_1</td>\n",
       "      <td>11025</td>\n",
       "      <td>10560</td>\n",
       "      <td>4.217687</td>\n",
       "      <td>3846</td>\n",
       "      <td>65.115646</td>\n",
       "      <td>7908</td>\n",
       "      <td>28.272109</td>\n",
       "      <td>2329</td>\n",
       "    </tr>\n",
       "    <tr>\n",
       "      <th>16</th>\n",
       "      <td>2022/08/03 15</td>\n",
       "      <td>ch_1</td>\n",
       "      <td>161</td>\n",
       "      <td>156</td>\n",
       "      <td>3.105590</td>\n",
       "      <td>96</td>\n",
       "      <td>40.372671</td>\n",
       "      <td>81</td>\n",
       "      <td>49.689441</td>\n",
       "      <td>45</td>\n",
       "    </tr>\n",
       "    <tr>\n",
       "      <th>17</th>\n",
       "      <td>2022/08/04 16</td>\n",
       "      <td>ch_1</td>\n",
       "      <td>205</td>\n",
       "      <td>180</td>\n",
       "      <td>12.195122</td>\n",
       "      <td>16</td>\n",
       "      <td>92.195122</td>\n",
       "      <td>156</td>\n",
       "      <td>23.902439</td>\n",
       "      <td>7</td>\n",
       "    </tr>\n",
       "    <tr>\n",
       "      <th>18</th>\n",
       "      <td>2022/08/06 15</td>\n",
       "      <td>ch_1</td>\n",
       "      <td>0</td>\n",
       "      <td>0</td>\n",
       "      <td>NaN</td>\n",
       "      <td>0</td>\n",
       "      <td>NaN</td>\n",
       "      <td>0</td>\n",
       "      <td>NaN</td>\n",
       "      <td>0</td>\n",
       "    </tr>\n",
       "    <tr>\n",
       "      <th>19</th>\n",
       "      <td>2022/08/06 15</td>\n",
       "      <td>ch_1</td>\n",
       "      <td>16826</td>\n",
       "      <td>16197</td>\n",
       "      <td>3.738262</td>\n",
       "      <td>7225</td>\n",
       "      <td>57.060502</td>\n",
       "      <td>11958</td>\n",
       "      <td>28.931416</td>\n",
       "      <td>4952</td>\n",
       "    </tr>\n",
       "    <tr>\n",
       "      <th>20</th>\n",
       "      <td>2022/08/07 16</td>\n",
       "      <td>ch_1</td>\n",
       "      <td>18934</td>\n",
       "      <td>17792</td>\n",
       "      <td>6.031478</td>\n",
       "      <td>4555</td>\n",
       "      <td>75.942748</td>\n",
       "      <td>14869</td>\n",
       "      <td>21.469314</td>\n",
       "      <td>3114</td>\n",
       "    </tr>\n",
       "    <tr>\n",
       "      <th>21</th>\n",
       "      <td>2022/08/07 18</td>\n",
       "      <td>ch_1</td>\n",
       "      <td>379</td>\n",
       "      <td>372</td>\n",
       "      <td>1.846966</td>\n",
       "      <td>118</td>\n",
       "      <td>68.865435</td>\n",
       "      <td>277</td>\n",
       "      <td>26.912929</td>\n",
       "      <td>80</td>\n",
       "    </tr>\n",
       "    <tr>\n",
       "      <th>22</th>\n",
       "      <td>2022/08/08 16</td>\n",
       "      <td>ch_1</td>\n",
       "      <td>17854</td>\n",
       "      <td>17008</td>\n",
       "      <td>4.738434</td>\n",
       "      <td>6011</td>\n",
       "      <td>66.332475</td>\n",
       "      <td>13220</td>\n",
       "      <td>25.954968</td>\n",
       "      <td>4626</td>\n",
       "    </tr>\n",
       "  </tbody>\n",
       "</table>\n",
       "</div>"
      ],
      "text/plain": [
       "             date probe     raw circularity  % circular min diameter  \\\n",
       "0   2022/06/22 11  ch_1       0           0         NaN            0   \n",
       "1   2022/06/22 11  ch_1       3           2   33.333333            2   \n",
       "2   2022/06/22 11  ch_1   90410       84397    6.650813        10885   \n",
       "3   2022/07/19 15  ch_1   92984       88540    4.779317        39581   \n",
       "4   2022/07/20 16  ch_1  136933      128183    6.389986        26019   \n",
       "5   2022/07/22 15  ch_1       0           0         NaN            0   \n",
       "6   2022/07/22 16  ch_1     507         501    1.183432          306   \n",
       "7   2022/07/23 15  ch_1   72896       70378    3.454236        40385   \n",
       "8   2022/07/24 15  ch_1  561539      542368    3.414010       294824   \n",
       "9   2022/07/25 15  ch_1  107097      100040    6.589354        35047   \n",
       "10  2022/07/26 15  ch_1    4481        3994   10.868110         1637   \n",
       "11  2022/07/27 16  ch_1    1221        1115    8.681409          651   \n",
       "12  2022/07/29 15  ch_1    2539        2178   14.218196          315   \n",
       "13  2022/07/30 15  ch_1   18286       17360    5.063983         5684   \n",
       "14  2022/08/01 15  ch_1    6945        6666    4.017279         3749   \n",
       "15  2022/08/02 15  ch_1   11025       10560    4.217687         3846   \n",
       "16  2022/08/03 15  ch_1     161         156    3.105590           96   \n",
       "17  2022/08/04 16  ch_1     205         180   12.195122           16   \n",
       "18  2022/08/06 15  ch_1       0           0         NaN            0   \n",
       "19  2022/08/06 15  ch_1   16826       16197    3.738262         7225   \n",
       "20  2022/08/07 16  ch_1   18934       17792    6.031478         4555   \n",
       "21  2022/08/07 18  ch_1     379         372    1.846966          118   \n",
       "22  2022/08/08 16  ch_1   17854       17008    4.738434         6011   \n",
       "\n",
       "    % small size truncated  % truncated all thresholds  \n",
       "0            NaN         0          NaN              0  \n",
       "1      33.333333         0   100.000000              0  \n",
       "2      87.960403     75899    16.050216           9351  \n",
       "3      57.432461     66624    28.348963          27763  \n",
       "4      80.998737    111715    18.416306          19141  \n",
       "5            NaN         0          NaN              0  \n",
       "6      39.644970        12    97.633136              7  \n",
       "7      44.599155     44558    38.874561          23780  \n",
       "8      47.497146    376991    32.864681         198666  \n",
       "9      67.275461     81884    23.542209          26855  \n",
       "10     63.467976      3314    26.043294           1006  \n",
       "11     46.683047       696    42.997543            320  \n",
       "12     87.593541      2071    18.432454            229  \n",
       "13     68.916111     13860    24.204309           4089  \n",
       "14     46.018719      4645    33.117351           2368  \n",
       "15     65.115646      7908    28.272109           2329  \n",
       "16     40.372671        81    49.689441             45  \n",
       "17     92.195122       156    23.902439              7  \n",
       "18           NaN         0          NaN              0  \n",
       "19     57.060502     11958    28.931416           4952  \n",
       "20     75.942748     14869    21.469314           3114  \n",
       "21     68.865435       277    26.912929             80  \n",
       "22     66.332475     13220    25.954968           4626  "
      ]
     },
     "execution_count": 41,
     "metadata": {},
     "output_type": "execute_result"
    }
   ],
   "source": [
    "all_days_df"
   ]
  },
  {
   "cell_type": "code",
   "execution_count": 42,
   "id": "af92a57d-876c-4641-914c-03dc19b6676f",
   "metadata": {},
   "outputs": [],
   "source": [
    "save_path = '/home/users/esree/2DS_code/'\n",
    "all_days_df.to_csv(f'{save_path}{probe_name}_stats.csv', index=False)"
   ]
  },
  {
   "cell_type": "code",
   "execution_count": 43,
   "id": "0265756b-d9eb-44fd-b240-7ff13885a9a2",
   "metadata": {},
   "outputs": [],
   "source": [
    "already_proc_path = '/gws/nopw/j04/dcmex/users/ezriab/processed_images/2ds/flight_220730153000/'\n",
    "csv = 'merged_stats_habits.csv'\n",
    "df_30th = pd.read_csv(already_proc_path+csv)"
   ]
  },
  {
   "cell_type": "code",
   "execution_count": 44,
   "id": "60069e03-1de6-4c64-b1af-ad76a5a6577e",
   "metadata": {},
   "outputs": [
    {
     "data": {
      "text/html": [
       "<div>\n",
       "<style scoped>\n",
       "    .dataframe tbody tr th:only-of-type {\n",
       "        vertical-align: middle;\n",
       "    }\n",
       "\n",
       "    .dataframe tbody tr th {\n",
       "        vertical-align: top;\n",
       "    }\n",
       "\n",
       "    .dataframe thead th {\n",
       "        text-align: right;\n",
       "    }\n",
       "</style>\n",
       "<table border=\"1\" class=\"dataframe\">\n",
       "  <thead>\n",
       "    <tr style=\"text-align: right;\">\n",
       "      <th></th>\n",
       "      <th>name</th>\n",
       "      <th>particle_label</th>\n",
       "      <th>start_index</th>\n",
       "      <th>end_index</th>\n",
       "      <th>start_time</th>\n",
       "      <th>end_time</th>\n",
       "      <th>major_axis_length</th>\n",
       "      <th>minor_axis_length</th>\n",
       "      <th>orientation</th>\n",
       "      <th>centroid</th>\n",
       "      <th>...</th>\n",
       "      <th>Category</th>\n",
       "      <th>CA</th>\n",
       "      <th>Co</th>\n",
       "      <th>CC</th>\n",
       "      <th>CBC</th>\n",
       "      <th>CG</th>\n",
       "      <th>HPC</th>\n",
       "      <th>Dif</th>\n",
       "      <th>FA</th>\n",
       "      <th>WD</th>\n",
       "    </tr>\n",
       "  </thead>\n",
       "  <tbody>\n",
       "    <tr>\n",
       "      <th>0</th>\n",
       "      <td>15_82</td>\n",
       "      <td>82</td>\n",
       "      <td>15</td>\n",
       "      <td>21</td>\n",
       "      <td>16:51:03.577000000</td>\n",
       "      <td>16:51:05.465000000</td>\n",
       "      <td>345.340872</td>\n",
       "      <td>53.001538</td>\n",
       "      <td>-0.036097</td>\n",
       "      <td>(18.294117647058822, 3.764705882352941)</td>\n",
       "      <td>...</td>\n",
       "      <td>Dif</td>\n",
       "      <td>0.0</td>\n",
       "      <td>0.0</td>\n",
       "      <td>0.0</td>\n",
       "      <td>0.0</td>\n",
       "      <td>0.000000e+00</td>\n",
       "      <td>0.0</td>\n",
       "      <td>1.0</td>\n",
       "      <td>0.0</td>\n",
       "      <td>0.0</td>\n",
       "    </tr>\n",
       "    <tr>\n",
       "      <th>1</th>\n",
       "      <td>1378_22</td>\n",
       "      <td>22</td>\n",
       "      <td>1378</td>\n",
       "      <td>1413</td>\n",
       "      <td>16:51:06.058000000</td>\n",
       "      <td>16:51:06.120000000</td>\n",
       "      <td>400.146102</td>\n",
       "      <td>332.045327</td>\n",
       "      <td>-0.155526</td>\n",
       "      <td>(20.21533923303835, 18.13765978367748)</td>\n",
       "      <td>...</td>\n",
       "      <td>CG</td>\n",
       "      <td>0.0</td>\n",
       "      <td>0.0</td>\n",
       "      <td>0.0</td>\n",
       "      <td>0.0</td>\n",
       "      <td>1.000000e+00</td>\n",
       "      <td>0.0</td>\n",
       "      <td>0.0</td>\n",
       "      <td>0.0</td>\n",
       "      <td>0.0</td>\n",
       "    </tr>\n",
       "    <tr>\n",
       "      <th>2</th>\n",
       "      <td>10304_41</td>\n",
       "      <td>41</td>\n",
       "      <td>10304</td>\n",
       "      <td>10353</td>\n",
       "      <td>16:51:09.615000000</td>\n",
       "      <td>16:51:09.786000000</td>\n",
       "      <td>491.870635</td>\n",
       "      <td>442.699181</td>\n",
       "      <td>0.068674</td>\n",
       "      <td>(25.55128205128205, 21.843101343101342)</td>\n",
       "      <td>...</td>\n",
       "      <td>CG</td>\n",
       "      <td>0.0</td>\n",
       "      <td>0.0</td>\n",
       "      <td>0.0</td>\n",
       "      <td>0.0</td>\n",
       "      <td>1.000000e+00</td>\n",
       "      <td>0.0</td>\n",
       "      <td>0.0</td>\n",
       "      <td>0.0</td>\n",
       "      <td>0.0</td>\n",
       "    </tr>\n",
       "    <tr>\n",
       "      <th>3</th>\n",
       "      <td>17025_1</td>\n",
       "      <td>1</td>\n",
       "      <td>17025</td>\n",
       "      <td>17071</td>\n",
       "      <td>16:55:31.789000000</td>\n",
       "      <td>16:55:31.789000000</td>\n",
       "      <td>480.666215</td>\n",
       "      <td>422.675017</td>\n",
       "      <td>-0.052924</td>\n",
       "      <td>(26.03423680456491, 22.95506419400856)</td>\n",
       "      <td>...</td>\n",
       "      <td>CG</td>\n",
       "      <td>0.0</td>\n",
       "      <td>0.0</td>\n",
       "      <td>0.0</td>\n",
       "      <td>0.0</td>\n",
       "      <td>1.000000e+00</td>\n",
       "      <td>0.0</td>\n",
       "      <td>0.0</td>\n",
       "      <td>0.0</td>\n",
       "      <td>0.0</td>\n",
       "    </tr>\n",
       "    <tr>\n",
       "      <th>4</th>\n",
       "      <td>17220_1</td>\n",
       "      <td>1</td>\n",
       "      <td>17220</td>\n",
       "      <td>17242</td>\n",
       "      <td>16:55:31.929000000</td>\n",
       "      <td>16:55:32.038000000</td>\n",
       "      <td>312.156569</td>\n",
       "      <td>85.096358</td>\n",
       "      <td>-0.898120</td>\n",
       "      <td>(9.671717171717171, 11.247474747474747)</td>\n",
       "      <td>...</td>\n",
       "      <td>CC</td>\n",
       "      <td>0.0</td>\n",
       "      <td>0.0</td>\n",
       "      <td>1.0</td>\n",
       "      <td>0.0</td>\n",
       "      <td>0.000000e+00</td>\n",
       "      <td>0.0</td>\n",
       "      <td>0.0</td>\n",
       "      <td>0.0</td>\n",
       "      <td>0.0</td>\n",
       "    </tr>\n",
       "    <tr>\n",
       "      <th>...</th>\n",
       "      <td>...</td>\n",
       "      <td>...</td>\n",
       "      <td>...</td>\n",
       "      <td>...</td>\n",
       "      <td>...</td>\n",
       "      <td>...</td>\n",
       "      <td>...</td>\n",
       "      <td>...</td>\n",
       "      <td>...</td>\n",
       "      <td>...</td>\n",
       "      <td>...</td>\n",
       "      <td>...</td>\n",
       "      <td>...</td>\n",
       "      <td>...</td>\n",
       "      <td>...</td>\n",
       "      <td>...</td>\n",
       "      <td>...</td>\n",
       "      <td>...</td>\n",
       "      <td>...</td>\n",
       "      <td>...</td>\n",
       "      <td>...</td>\n",
       "    </tr>\n",
       "    <tr>\n",
       "      <th>5666</th>\n",
       "      <td>1115041_1</td>\n",
       "      <td>1</td>\n",
       "      <td>1115041</td>\n",
       "      <td>1115575</td>\n",
       "      <td>19:17:26.639000000</td>\n",
       "      <td>19:17:26.639000000</td>\n",
       "      <td>4312.847208</td>\n",
       "      <td>1366.941642</td>\n",
       "      <td>-1.507026</td>\n",
       "      <td>(73.55683314080004, 308.3652043091637)</td>\n",
       "      <td>...</td>\n",
       "      <td>Co</td>\n",
       "      <td>0.0</td>\n",
       "      <td>1.0</td>\n",
       "      <td>0.0</td>\n",
       "      <td>0.0</td>\n",
       "      <td>0.000000e+00</td>\n",
       "      <td>0.0</td>\n",
       "      <td>0.0</td>\n",
       "      <td>0.0</td>\n",
       "      <td>0.0</td>\n",
       "    </tr>\n",
       "    <tr>\n",
       "      <th>5667</th>\n",
       "      <td>1115610_4</td>\n",
       "      <td>4</td>\n",
       "      <td>1115610</td>\n",
       "      <td>1116095</td>\n",
       "      <td>19:17:27.638000000</td>\n",
       "      <td>19:17:27.638000000</td>\n",
       "      <td>4228.153555</td>\n",
       "      <td>369.898696</td>\n",
       "      <td>1.568560</td>\n",
       "      <td>(25.213804046013486, 231.9259222530742)</td>\n",
       "      <td>...</td>\n",
       "      <td>Co</td>\n",
       "      <td>0.0</td>\n",
       "      <td>1.0</td>\n",
       "      <td>0.0</td>\n",
       "      <td>0.0</td>\n",
       "      <td>0.000000e+00</td>\n",
       "      <td>0.0</td>\n",
       "      <td>0.0</td>\n",
       "      <td>0.0</td>\n",
       "      <td>0.0</td>\n",
       "    </tr>\n",
       "    <tr>\n",
       "      <th>5668</th>\n",
       "      <td>1115584_6</td>\n",
       "      <td>6</td>\n",
       "      <td>1115584</td>\n",
       "      <td>1115636</td>\n",
       "      <td>19:17:27.638000000</td>\n",
       "      <td>19:17:27.638000000</td>\n",
       "      <td>544.230723</td>\n",
       "      <td>15.554171</td>\n",
       "      <td>-1.548255</td>\n",
       "      <td>(0.4305555555555556, 24.680555555555557)</td>\n",
       "      <td>...</td>\n",
       "      <td>Co</td>\n",
       "      <td>0.0</td>\n",
       "      <td>1.0</td>\n",
       "      <td>0.0</td>\n",
       "      <td>0.0</td>\n",
       "      <td>0.000000e+00</td>\n",
       "      <td>0.0</td>\n",
       "      <td>0.0</td>\n",
       "      <td>0.0</td>\n",
       "      <td>0.0</td>\n",
       "    </tr>\n",
       "    <tr>\n",
       "      <th>5669</th>\n",
       "      <td>1116143_1</td>\n",
       "      <td>1</td>\n",
       "      <td>1116143</td>\n",
       "      <td>1116476</td>\n",
       "      <td>19:17:28.589000000</td>\n",
       "      <td>19:17:28.589000000</td>\n",
       "      <td>3138.281795</td>\n",
       "      <td>1361.698152</td>\n",
       "      <td>1.406323</td>\n",
       "      <td>(68.20192066281697, 164.0024165202109)</td>\n",
       "      <td>...</td>\n",
       "      <td>Co</td>\n",
       "      <td>0.0</td>\n",
       "      <td>1.0</td>\n",
       "      <td>0.0</td>\n",
       "      <td>0.0</td>\n",
       "      <td>0.000000e+00</td>\n",
       "      <td>0.0</td>\n",
       "      <td>0.0</td>\n",
       "      <td>0.0</td>\n",
       "      <td>0.0</td>\n",
       "    </tr>\n",
       "    <tr>\n",
       "      <th>5670</th>\n",
       "      <td>1117130_1</td>\n",
       "      <td>1</td>\n",
       "      <td>1117130</td>\n",
       "      <td>1117161</td>\n",
       "      <td>19:20:56.626000000</td>\n",
       "      <td>19:20:56.689000000</td>\n",
       "      <td>387.971600</td>\n",
       "      <td>300.933763</td>\n",
       "      <td>-0.169297</td>\n",
       "      <td>(18.029768467475193, 15.412348401323044)</td>\n",
       "      <td>...</td>\n",
       "      <td>WD</td>\n",
       "      <td>0.0</td>\n",
       "      <td>0.0</td>\n",
       "      <td>0.0</td>\n",
       "      <td>0.0</td>\n",
       "      <td>1.607233e-08</td>\n",
       "      <td>0.0</td>\n",
       "      <td>0.0</td>\n",
       "      <td>0.0</td>\n",
       "      <td>1.0</td>\n",
       "    </tr>\n",
       "  </tbody>\n",
       "</table>\n",
       "<p>5671 rows × 24 columns</p>\n",
       "</div>"
      ],
      "text/plain": [
       "           name  particle_label  start_index  end_index          start_time  \\\n",
       "0         15_82              82           15         21  16:51:03.577000000   \n",
       "1       1378_22              22         1378       1413  16:51:06.058000000   \n",
       "2      10304_41              41        10304      10353  16:51:09.615000000   \n",
       "3       17025_1               1        17025      17071  16:55:31.789000000   \n",
       "4       17220_1               1        17220      17242  16:55:31.929000000   \n",
       "...         ...             ...          ...        ...                 ...   \n",
       "5666  1115041_1               1      1115041    1115575  19:17:26.639000000   \n",
       "5667  1115610_4               4      1115610    1116095  19:17:27.638000000   \n",
       "5668  1115584_6               6      1115584    1115636  19:17:27.638000000   \n",
       "5669  1116143_1               1      1116143    1116476  19:17:28.589000000   \n",
       "5670  1117130_1               1      1117130    1117161  19:20:56.626000000   \n",
       "\n",
       "                end_time  major_axis_length  minor_axis_length  orientation  \\\n",
       "0     16:51:05.465000000         345.340872          53.001538    -0.036097   \n",
       "1     16:51:06.120000000         400.146102         332.045327    -0.155526   \n",
       "2     16:51:09.786000000         491.870635         442.699181     0.068674   \n",
       "3     16:55:31.789000000         480.666215         422.675017    -0.052924   \n",
       "4     16:55:32.038000000         312.156569          85.096358    -0.898120   \n",
       "...                  ...                ...                ...          ...   \n",
       "5666  19:17:26.639000000        4312.847208        1366.941642    -1.507026   \n",
       "5667  19:17:27.638000000        4228.153555         369.898696     1.568560   \n",
       "5668  19:17:27.638000000         544.230723          15.554171    -1.548255   \n",
       "5669  19:17:28.589000000        3138.281795        1361.698152     1.406323   \n",
       "5670  19:20:56.689000000         387.971600         300.933763    -0.169297   \n",
       "\n",
       "                                      centroid  ...  Category   CA   Co   CC  \\\n",
       "0      (18.294117647058822, 3.764705882352941)  ...       Dif  0.0  0.0  0.0   \n",
       "1       (20.21533923303835, 18.13765978367748)  ...        CG  0.0  0.0  0.0   \n",
       "2      (25.55128205128205, 21.843101343101342)  ...        CG  0.0  0.0  0.0   \n",
       "3       (26.03423680456491, 22.95506419400856)  ...        CG  0.0  0.0  0.0   \n",
       "4      (9.671717171717171, 11.247474747474747)  ...        CC  0.0  0.0  1.0   \n",
       "...                                        ...  ...       ...  ...  ...  ...   \n",
       "5666    (73.55683314080004, 308.3652043091637)  ...        Co  0.0  1.0  0.0   \n",
       "5667   (25.213804046013486, 231.9259222530742)  ...        Co  0.0  1.0  0.0   \n",
       "5668  (0.4305555555555556, 24.680555555555557)  ...        Co  0.0  1.0  0.0   \n",
       "5669    (68.20192066281697, 164.0024165202109)  ...        Co  0.0  1.0  0.0   \n",
       "5670  (18.029768467475193, 15.412348401323044)  ...        WD  0.0  0.0  0.0   \n",
       "\n",
       "      CBC            CG  HPC  Dif   FA   WD  \n",
       "0     0.0  0.000000e+00  0.0  1.0  0.0  0.0  \n",
       "1     0.0  1.000000e+00  0.0  0.0  0.0  0.0  \n",
       "2     0.0  1.000000e+00  0.0  0.0  0.0  0.0  \n",
       "3     0.0  1.000000e+00  0.0  0.0  0.0  0.0  \n",
       "4     0.0  0.000000e+00  0.0  0.0  0.0  0.0  \n",
       "...   ...           ...  ...  ...  ...  ...  \n",
       "5666  0.0  0.000000e+00  0.0  0.0  0.0  0.0  \n",
       "5667  0.0  0.000000e+00  0.0  0.0  0.0  0.0  \n",
       "5668  0.0  0.000000e+00  0.0  0.0  0.0  0.0  \n",
       "5669  0.0  0.000000e+00  0.0  0.0  0.0  0.0  \n",
       "5670  0.0  1.607233e-08  0.0  0.0  0.0  1.0  \n",
       "\n",
       "[5671 rows x 24 columns]"
      ]
     },
     "execution_count": 44,
     "metadata": {},
     "output_type": "execute_result"
    }
   ],
   "source": []
  },
  {
   "cell_type": "markdown",
   "id": "f96a38f4-6205-4439-bcf8-87a6f62e9873",
   "metadata": {
    "jp-MarkdownHeadingCollapsed": true
   },
   "source": [
    "# truncation bits, oops"
   ]
  },
  {
   "cell_type": "code",
   "execution_count": 4,
   "id": "9cfae3d2-41e8-43cd-b16e-8ad5a2079159",
   "metadata": {},
   "outputs": [],
   "source": [
    "# through and copy images to new directory \n",
    "for name in CBC_names:\n",
    "    pic = f'{saved}{name}.png'\n",
    "    shutil.copy(pic, trun_image_loc)"
   ]
  },
  {
   "cell_type": "code",
   "execution_count": 5,
   "id": "b1fca6f9-6573-479b-aa39-f4afafecbcda",
   "metadata": {},
   "outputs": [],
   "source": [
    "if os.path.exists(trun_image_loc):\n",
    "    # get string of full path + filenames in specif location\n",
    "    file_list = glob(trun_image_loc+'*.png') \n",
    "    \n",
    "    # just get file names\n",
    "    file_names = [os.path.basename(file_path) for file_path in file_list]"
   ]
  },
  {
   "cell_type": "code",
   "execution_count": 6,
   "id": "2ff820d9-a603-4b25-ae3d-f74039ccc738",
   "metadata": {
    "scrolled": true
   },
   "outputs": [
    {
     "name": "stdout",
     "output_type": "stream",
     "text": [
      "134526_4.png\n"
     ]
    },
    {
     "data": {
      "image/png": "[encoded data removed]",
      "text/plain": [
       "<PIL.PngImagePlugin.PngImageFile image mode=RGBA size=200x200>"
      ]
     },
     "metadata": {},
     "output_type": "display_data"
    },
    {
     "name": "stdout",
     "output_type": "stream",
     "text": [
      "170295_4.png\n"
     ]
    },
    {
     "data": {
      "image/png": "[encoded data removed]",
      "text/plain": [
       "<PIL.PngImagePlugin.PngImageFile image mode=RGBA size=200x200>"
      ]
     },
     "metadata": {},
     "output_type": "display_data"
    },
    {
     "name": "stdout",
     "output_type": "stream",
     "text": [
      "17443_1.png\n"
     ]
    },
    {
     "data": {
      "image/png": "[encoded data removed]",
      "text/plain": [
       "<PIL.PngImagePlugin.PngImageFile image mode=RGBA size=200x200>"
      ]
     },
     "metadata": {},
     "output_type": "display_data"
    },
    {
     "name": "stdout",
     "output_type": "stream",
     "text": [
      "186932_5.png\n"
     ]
    },
    {
     "data": {
      "image/png": "[encoded data removed]",
      "text/plain": [
       "<PIL.PngImagePlugin.PngImageFile image mode=RGBA size=200x200>"
      ]
     },
     "metadata": {},
     "output_type": "display_data"
    },
    {
     "name": "stdout",
     "output_type": "stream",
     "text": [
      "213859_1.png\n"
     ]
    },
    {
     "data": {
      "image/png": "[encoded data removed]",
      "text/plain": [
       "<PIL.PngImagePlugin.PngImageFile image mode=RGBA size=200x200>"
      ]
     },
     "metadata": {},
     "output_type": "display_data"
    },
    {
     "name": "stdout",
     "output_type": "stream",
     "text": [
      "214550_1.png\n"
     ]
    },
    {
     "data": {
      "image/png": "[encoded data removed]",
      "text/plain": [
       "<PIL.PngImagePlugin.PngImageFile image mode=RGBA size=200x200>"
      ]
     },
     "metadata": {},
     "output_type": "display_data"
    },
    {
     "name": "stdout",
     "output_type": "stream",
     "text": [
      "220390_71.png\n"
     ]
    },
    {
     "data": {
      "image/png": "[encoded data removed]",
      "text/plain": [
       "<PIL.PngImagePlugin.PngImageFile image mode=RGBA size=200x200>"
      ]
     },
     "metadata": {},
     "output_type": "display_data"
    },
    {
     "name": "stdout",
     "output_type": "stream",
     "text": [
      "370824_2.png\n"
     ]
    },
    {
     "data": {
      "image/png": "[encoded data removed]",
      "text/plain": [
       "<PIL.PngImagePlugin.PngImageFile image mode=RGBA size=200x200>"
      ]
     },
     "metadata": {},
     "output_type": "display_data"
    },
    {
     "name": "stdout",
     "output_type": "stream",
     "text": [
      "373443_1.png\n"
     ]
    },
    {
     "data": {
      "image/png": "[encoded data removed]",
      "text/plain": [
       "<PIL.PngImagePlugin.PngImageFile image mode=RGBA size=200x200>"
      ]
     },
     "metadata": {},
     "output_type": "display_data"
    },
    {
     "name": "stdout",
     "output_type": "stream",
     "text": [
      "380472_8.png\n"
     ]
    },
    {
     "data": {
      "image/png": "[encoded data removed]",
      "text/plain": [
       "<PIL.PngImagePlugin.PngImageFile image mode=RGBA size=200x200>"
      ]
     },
     "metadata": {},
     "output_type": "display_data"
    },
    {
     "name": "stdout",
     "output_type": "stream",
     "text": [
      "383498_2.png\n"
     ]
    },
    {
     "data": {
      "image/png": "[encoded data removed]",
      "text/plain": [
       "<PIL.PngImagePlugin.PngImageFile image mode=RGBA size=200x200>"
      ]
     },
     "metadata": {},
     "output_type": "display_data"
    },
    {
     "name": "stdout",
     "output_type": "stream",
     "text": [
      "385883_2.png\n"
     ]
    },
    {
     "data": {
      "image/png": "[encoded data removed]",
      "text/plain": [
       "<PIL.PngImagePlugin.PngImageFile image mode=RGBA size=200x200>"
      ]
     },
     "metadata": {},
     "output_type": "display_data"
    },
    {
     "name": "stdout",
     "output_type": "stream",
     "text": [
      "388587_1.png\n"
     ]
    },
    {
     "data": {
      "image/png": "[encoded data removed]",
      "text/plain": [
       "<PIL.PngImagePlugin.PngImageFile image mode=RGBA size=200x200>"
      ]
     },
     "metadata": {},
     "output_type": "display_data"
    },
    {
     "name": "stdout",
     "output_type": "stream",
     "text": [
      "393492_9.png\n"
     ]
    },
    {
     "data": {
      "image/png": "[encoded data removed]",
      "text/plain": [
       "<PIL.PngImagePlugin.PngImageFile image mode=RGBA size=200x200>"
      ]
     },
     "metadata": {},
     "output_type": "display_data"
    },
    {
     "name": "stdout",
     "output_type": "stream",
     "text": [
      "415274_1.png\n"
     ]
    },
    {
     "data": {
      "image/png": "[encoded data removed]",
      "text/plain": [
       "<PIL.PngImagePlugin.PngImageFile image mode=RGBA size=200x200>"
      ]
     },
     "metadata": {},
     "output_type": "display_data"
    },
    {
     "name": "stdout",
     "output_type": "stream",
     "text": [
      "428725_20.png\n"
     ]
    },
    {
     "data": {
      "image/png": "[encoded data removed]",
      "text/plain": [
       "<PIL.PngImagePlugin.PngImageFile image mode=RGBA size=200x200>"
      ]
     },
     "metadata": {},
     "output_type": "display_data"
    },
    {
     "name": "stdout",
     "output_type": "stream",
     "text": [
      "464980_23.png\n"
     ]
    },
    {
     "data": {
      "image/png": "[encoded data removed]",
      "text/plain": [
       "<PIL.PngImagePlugin.PngImageFile image mode=RGBA size=200x200>"
      ]
     },
     "metadata": {},
     "output_type": "display_data"
    },
    {
     "name": "stdout",
     "output_type": "stream",
     "text": [
      "533565_28.png\n"
     ]
    },
    {
     "data": {
      "image/png": "[encoded data removed]",
      "text/plain": [
       "<PIL.PngImagePlugin.PngImageFile image mode=RGBA size=200x200>"
      ]
     },
     "metadata": {},
     "output_type": "display_data"
    },
    {
     "name": "stdout",
     "output_type": "stream",
     "text": [
      "537819_4.png\n"
     ]
    },
    {
     "data": {
      "image/png": "[encoded data removed]",
      "text/plain": [
       "<PIL.PngImagePlugin.PngImageFile image mode=RGBA size=200x200>"
      ]
     },
     "metadata": {},
     "output_type": "display_data"
    },
    {
     "name": "stdout",
     "output_type": "stream",
     "text": [
      "542977_3.png\n"
     ]
    },
    {
     "data": {
      "image/png": "[encoded data removed]",
      "text/plain": [
       "<PIL.PngImagePlugin.PngImageFile image mode=RGBA size=200x200>"
      ]
     },
     "metadata": {},
     "output_type": "display_data"
    },
    {
     "name": "stdout",
     "output_type": "stream",
     "text": [
      "544311_7.png\n"
     ]
    },
    {
     "data": {
      "image/png": "[encoded data removed]",
      "text/plain": [
       "<PIL.PngImagePlugin.PngImageFile image mode=RGBA size=200x200>"
      ]
     },
     "metadata": {},
     "output_type": "display_data"
    },
    {
     "name": "stdout",
     "output_type": "stream",
     "text": [
      "549999_2.png\n"
     ]
    },
    {
     "data": {
      "image/png": "[encoded data removed]",
      "text/plain": [
       "<PIL.PngImagePlugin.PngImageFile image mode=RGBA size=200x200>"
      ]
     },
     "metadata": {},
     "output_type": "display_data"
    },
    {
     "name": "stdout",
     "output_type": "stream",
     "text": [
      "554810_2.png\n"
     ]
    },
    {
     "data": {
      "image/png": "[encoded data removed]",
      "text/plain": [
       "<PIL.PngImagePlugin.PngImageFile image mode=RGBA size=200x200>"
      ]
     },
     "metadata": {},
     "output_type": "display_data"
    },
    {
     "name": "stdout",
     "output_type": "stream",
     "text": [
      "570290_1.png\n"
     ]
    },
    {
     "data": {
      "image/png": "[encoded data removed]",
      "text/plain": [
       "<PIL.PngImagePlugin.PngImageFile image mode=RGBA size=200x200>"
      ]
     },
     "metadata": {},
     "output_type": "display_data"
    },
    {
     "name": "stdout",
     "output_type": "stream",
     "text": [
      "574989_7.png\n"
     ]
    },
    {
     "data": {
      "image/png": "[encoded data removed]",
      "text/plain": [
       "<PIL.PngImagePlugin.PngImageFile image mode=RGBA size=200x200>"
      ]
     },
     "metadata": {},
     "output_type": "display_data"
    },
    {
     "name": "stdout",
     "output_type": "stream",
     "text": [
      "582217_2.png\n"
     ]
    },
    {
     "data": {
      "image/png": "[encoded data removed]",
      "text/plain": [
       "<PIL.PngImagePlugin.PngImageFile image mode=RGBA size=200x200>"
      ]
     },
     "metadata": {},
     "output_type": "display_data"
    },
    {
     "name": "stdout",
     "output_type": "stream",
     "text": [
      "598022_2.png\n"
     ]
    },
    {
     "data": {
      "image/png": "[encoded data removed]",
      "text/plain": [
       "<PIL.PngImagePlugin.PngImageFile image mode=RGBA size=200x200>"
      ]
     },
     "metadata": {},
     "output_type": "display_data"
    },
    {
     "name": "stdout",
     "output_type": "stream",
     "text": [
      "598185_5.png\n"
     ]
    },
    {
     "data": {
      "image/png": "[encoded data removed]",
      "text/plain": [
       "<PIL.PngImagePlugin.PngImageFile image mode=RGBA size=200x200>"
      ]
     },
     "metadata": {},
     "output_type": "display_data"
    },
    {
     "name": "stdout",
     "output_type": "stream",
     "text": [
      "600916_1.png\n"
     ]
    },
    {
     "data": {
      "image/png": "[encoded data removed]",
      "text/plain": [
       "<PIL.PngImagePlugin.PngImageFile image mode=RGBA size=200x200>"
      ]
     },
     "metadata": {},
     "output_type": "display_data"
    },
    {
     "name": "stdout",
     "output_type": "stream",
     "text": [
      "603842_2.png\n"
     ]
    },
    {
     "data": {
      "image/png": "[encoded data removed]",
      "text/plain": [
       "<PIL.PngImagePlugin.PngImageFile image mode=RGBA size=200x200>"
      ]
     },
     "metadata": {},
     "output_type": "display_data"
    },
    {
     "name": "stdout",
     "output_type": "stream",
     "text": [
      "604437_6.png\n"
     ]
    },
    {
     "data": {
      "image/png": "[encoded data removed]",
      "text/plain": [
       "<PIL.PngImagePlugin.PngImageFile image mode=RGBA size=200x200>"
      ]
     },
     "metadata": {},
     "output_type": "display_data"
    },
    {
     "name": "stdout",
     "output_type": "stream",
     "text": [
      "605387_1.png\n"
     ]
    },
    {
     "data": {
      "image/png": "[encoded data removed]",
      "text/plain": [
       "<PIL.PngImagePlugin.PngImageFile image mode=RGBA size=200x200>"
      ]
     },
     "metadata": {},
     "output_type": "display_data"
    },
    {
     "name": "stdout",
     "output_type": "stream",
     "text": [
      "609958_2.png\n"
     ]
    },
    {
     "data": {
      "image/png": "[encoded data removed]",
      "text/plain": [
       "<PIL.PngImagePlugin.PngImageFile image mode=RGBA size=200x200>"
      ]
     },
     "metadata": {},
     "output_type": "display_data"
    },
    {
     "name": "stdout",
     "output_type": "stream",
     "text": [
      "623784_1.png\n"
     ]
    },
    {
     "data": {
      "image/png": "[encoded data removed]",
      "text/plain": [
       "<PIL.PngImagePlugin.PngImageFile image mode=RGBA size=200x200>"
      ]
     },
     "metadata": {},
     "output_type": "display_data"
    },
    {
     "name": "stdout",
     "output_type": "stream",
     "text": [
      "625102_1.png\n"
     ]
    },
    {
     "data": {
      "image/png": "[encoded data removed]",
      "text/plain": [
       "<PIL.PngImagePlugin.PngImageFile image mode=RGBA size=200x200>"
      ]
     },
     "metadata": {},
     "output_type": "display_data"
    },
    {
     "name": "stdout",
     "output_type": "stream",
     "text": [
      "626949_1.png\n"
     ]
    },
    {
     "data": {
      "image/png": "[encoded data removed]",
      "text/plain": [
       "<PIL.PngImagePlugin.PngImageFile image mode=RGBA size=200x200>"
      ]
     },
     "metadata": {},
     "output_type": "display_data"
    },
    {
     "name": "stdout",
     "output_type": "stream",
     "text": [
      "627920_1.png\n"
     ]
    },
    {
     "data": {
      "image/png": "[encoded data removed]",
      "text/plain": [
       "<PIL.PngImagePlugin.PngImageFile image mode=RGBA size=200x200>"
      ]
     },
     "metadata": {},
     "output_type": "display_data"
    },
    {
     "name": "stdout",
     "output_type": "stream",
     "text": [
      "630981_2.png\n"
     ]
    },
    {
     "data": {
      "image/png": "[encoded data removed]",
      "text/plain": [
       "<PIL.PngImagePlugin.PngImageFile image mode=RGBA size=200x200>"
      ]
     },
     "metadata": {},
     "output_type": "display_data"
    },
    {
     "name": "stdout",
     "output_type": "stream",
     "text": [
      "631666_1.png\n"
     ]
    },
    {
     "data": {
      "image/png": "[encoded data removed]",
      "text/plain": [
       "<PIL.PngImagePlugin.PngImageFile image mode=RGBA size=200x200>"
      ]
     },
     "metadata": {},
     "output_type": "display_data"
    },
    {
     "name": "stdout",
     "output_type": "stream",
     "text": [
      "634011_1.png\n"
     ]
    },
    {
     "data": {
      "image/png": "[encoded data removed]",
      "text/plain": [
       "<PIL.PngImagePlugin.PngImageFile image mode=RGBA size=200x200>"
      ]
     },
     "metadata": {},
     "output_type": "display_data"
    },
    {
     "name": "stdout",
     "output_type": "stream",
     "text": [
      "635814_1.png\n"
     ]
    },
    {
     "data": {
      "image/png": "[encoded data removed]",
      "text/plain": [
       "<PIL.PngImagePlugin.PngImageFile image mode=RGBA size=200x200>"
      ]
     },
     "metadata": {},
     "output_type": "display_data"
    },
    {
     "name": "stdout",
     "output_type": "stream",
     "text": [
      "636608_2.png\n"
     ]
    },
    {
     "data": {
      "image/png": "[encoded data removed]",
      "text/plain": [
       "<PIL.PngImagePlugin.PngImageFile image mode=RGBA size=200x200>"
      ]
     },
     "metadata": {},
     "output_type": "display_data"
    },
    {
     "name": "stdout",
     "output_type": "stream",
     "text": [
      "642890_1.png\n"
     ]
    },
    {
     "data": {
      "image/png": "[encoded data removed]",
      "text/plain": [
       "<PIL.PngImagePlugin.PngImageFile image mode=RGBA size=200x200>"
      ]
     },
     "metadata": {},
     "output_type": "display_data"
    },
    {
     "name": "stdout",
     "output_type": "stream",
     "text": [
      "642925_2.png\n"
     ]
    },
    {
     "data": {
      "image/png": "[encoded data removed]",
      "text/plain": [
       "<PIL.PngImagePlugin.PngImageFile image mode=RGBA size=200x200>"
      ]
     },
     "metadata": {},
     "output_type": "display_data"
    },
    {
     "name": "stdout",
     "output_type": "stream",
     "text": [
      "649804_1.png\n"
     ]
    },
    {
     "data": {
      "image/png": "[encoded data removed]",
      "text/plain": [
       "<PIL.PngImagePlugin.PngImageFile image mode=RGBA size=200x200>"
      ]
     },
     "metadata": {},
     "output_type": "display_data"
    },
    {
     "name": "stdout",
     "output_type": "stream",
     "text": [
      "650006_1.png\n"
     ]
    },
    {
     "data": {
      "image/png": "[encoded data removed]",
      "text/plain": [
       "<PIL.PngImagePlugin.PngImageFile image mode=RGBA size=200x200>"
      ]
     },
     "metadata": {},
     "output_type": "display_data"
    },
    {
     "name": "stdout",
     "output_type": "stream",
     "text": [
      "659783_1.png\n"
     ]
    },
    {
     "data": {
      "image/png": "[encoded data removed]",
      "text/plain": [
       "<PIL.PngImagePlugin.PngImageFile image mode=RGBA size=200x200>"
      ]
     },
     "metadata": {},
     "output_type": "display_data"
    },
    {
     "name": "stdout",
     "output_type": "stream",
     "text": [
      "672661_1.png\n"
     ]
    },
    {
     "data": {
      "image/png": "[encoded data removed]",
      "text/plain": [
       "<PIL.PngImagePlugin.PngImageFile image mode=RGBA size=200x200>"
      ]
     },
     "metadata": {},
     "output_type": "display_data"
    },
    {
     "name": "stdout",
     "output_type": "stream",
     "text": [
      "675566_3.png\n"
     ]
    },
    {
     "data": {
      "image/png": "[encoded data removed]",
      "text/plain": [
       "<PIL.PngImagePlugin.PngImageFile image mode=RGBA size=200x200>"
      ]
     },
     "metadata": {},
     "output_type": "display_data"
    },
    {
     "name": "stdout",
     "output_type": "stream",
     "text": [
      "679719_2.png\n"
     ]
    },
    {
     "data": {
      "image/png": "[encoded data removed]",
      "text/plain": [
       "<PIL.PngImagePlugin.PngImageFile image mode=RGBA size=200x200>"
      ]
     },
     "metadata": {},
     "output_type": "display_data"
    },
    {
     "name": "stdout",
     "output_type": "stream",
     "text": [
      "688183_1.png\n"
     ]
    },
    {
     "data": {
      "image/png": "[encoded data removed]",
      "text/plain": [
       "<PIL.PngImagePlugin.PngImageFile image mode=RGBA size=200x200>"
      ]
     },
     "metadata": {},
     "output_type": "display_data"
    },
    {
     "name": "stdout",
     "output_type": "stream",
     "text": [
      "690150_1.png\n"
     ]
    },
    {
     "data": {
      "image/png": "[encoded data removed]",
      "text/plain": [
       "<PIL.PngImagePlugin.PngImageFile image mode=RGBA size=200x200>"
      ]
     },
     "metadata": {},
     "output_type": "display_data"
    },
    {
     "name": "stdout",
     "output_type": "stream",
     "text": [
      "694769_2.png\n"
     ]
    },
    {
     "data": {
      "image/png": "[encoded data removed]",
      "text/plain": [
       "<PIL.PngImagePlugin.PngImageFile image mode=RGBA size=200x200>"
      ]
     },
     "metadata": {},
     "output_type": "display_data"
    },
    {
     "name": "stdout",
     "output_type": "stream",
     "text": [
      "694961_1.png\n"
     ]
    },
    {
     "data": {
      "image/png": "[encoded data removed]",
      "text/plain": [
       "<PIL.PngImagePlugin.PngImageFile image mode=RGBA size=200x200>"
      ]
     },
     "metadata": {},
     "output_type": "display_data"
    },
    {
     "name": "stdout",
     "output_type": "stream",
     "text": [
      "703498_1.png\n"
     ]
    },
    {
     "data": {
      "image/png": "[encoded data removed]",
      "text/plain": [
       "<PIL.PngImagePlugin.PngImageFile image mode=RGBA size=200x200>"
      ]
     },
     "metadata": {},
     "output_type": "display_data"
    },
    {
     "name": "stdout",
     "output_type": "stream",
     "text": [
      "704630_1.png\n"
     ]
    },
    {
     "data": {
      "image/png": "[encoded data removed]",
      "text/plain": [
       "<PIL.PngImagePlugin.PngImageFile image mode=RGBA size=200x200>"
      ]
     },
     "metadata": {},
     "output_type": "display_data"
    },
    {
     "name": "stdout",
     "output_type": "stream",
     "text": [
      "707516_1.png\n"
     ]
    },
    {
     "data": {
      "image/png": "[encoded data removed]",
      "text/plain": [
       "<PIL.PngImagePlugin.PngImageFile image mode=RGBA size=200x200>"
      ]
     },
     "metadata": {},
     "output_type": "display_data"
    },
    {
     "name": "stdout",
     "output_type": "stream",
     "text": [
      "719356_1.png\n"
     ]
    },
    {
     "data": {
      "image/png": "[encoded data removed]",
      "text/plain": [
       "<PIL.PngImagePlugin.PngImageFile image mode=RGBA size=200x200>"
      ]
     },
     "metadata": {},
     "output_type": "display_data"
    },
    {
     "name": "stdout",
     "output_type": "stream",
     "text": [
      "722548_1.png\n"
     ]
    },
    {
     "data": {
      "image/png": "[encoded data removed]",
      "text/plain": [
       "<PIL.PngImagePlugin.PngImageFile image mode=RGBA size=200x200>"
      ]
     },
     "metadata": {},
     "output_type": "display_data"
    },
    {
     "name": "stdout",
     "output_type": "stream",
     "text": [
      "723162_1.png\n"
     ]
    },
    {
     "data": {
      "image/png": "[encoded data removed]",
      "text/plain": [
       "<PIL.PngImagePlugin.PngImageFile image mode=RGBA size=200x200>"
      ]
     },
     "metadata": {},
     "output_type": "display_data"
    },
    {
     "name": "stdout",
     "output_type": "stream",
     "text": [
      "723283_1.png\n"
     ]
    },
    {
     "data": {
      "image/png": "[encoded data removed]",
      "text/plain": [
       "<PIL.PngImagePlugin.PngImageFile image mode=RGBA size=200x200>"
      ]
     },
     "metadata": {},
     "output_type": "display_data"
    },
    {
     "name": "stdout",
     "output_type": "stream",
     "text": [
      "727031_1.png\n"
     ]
    },
    {
     "data": {
      "image/png": "[encoded data removed]",
      "text/plain": [
       "<PIL.PngImagePlugin.PngImageFile image mode=RGBA size=200x200>"
      ]
     },
     "metadata": {},
     "output_type": "display_data"
    },
    {
     "name": "stdout",
     "output_type": "stream",
     "text": [
      "728303_2.png\n"
     ]
    },
    {
     "data": {
      "image/png": "[encoded data removed]",
      "text/plain": [
       "<PIL.PngImagePlugin.PngImageFile image mode=RGBA size=200x200>"
      ]
     },
     "metadata": {},
     "output_type": "display_data"
    },
    {
     "name": "stdout",
     "output_type": "stream",
     "text": [
      "728348_1.png\n"
     ]
    },
    {
     "data": {
      "image/png": "[encoded data removed]",
      "text/plain": [
       "<PIL.PngImagePlugin.PngImageFile image mode=RGBA size=200x200>"
      ]
     },
     "metadata": {},
     "output_type": "display_data"
    },
    {
     "name": "stdout",
     "output_type": "stream",
     "text": [
      "729361_1.png\n"
     ]
    },
    {
     "data": {
      "image/png": "[encoded data removed]",
      "text/plain": [
       "<PIL.PngImagePlugin.PngImageFile image mode=RGBA size=200x200>"
      ]
     },
     "metadata": {},
     "output_type": "display_data"
    },
    {
     "name": "stdout",
     "output_type": "stream",
     "text": [
      "730271_1.png\n"
     ]
    },
    {
     "data": {
      "image/png": "[encoded data removed]",
      "text/plain": [
       "<PIL.PngImagePlugin.PngImageFile image mode=RGBA size=200x200>"
      ]
     },
     "metadata": {},
     "output_type": "display_data"
    },
    {
     "name": "stdout",
     "output_type": "stream",
     "text": [
      "738992_1.png\n"
     ]
    },
    {
     "data": {
      "image/png": "[encoded data removed]",
      "text/plain": [
       "<PIL.PngImagePlugin.PngImageFile image mode=RGBA size=200x200>"
      ]
     },
     "metadata": {},
     "output_type": "display_data"
    },
    {
     "name": "stdout",
     "output_type": "stream",
     "text": [
      "745437_1.png\n"
     ]
    },
    {
     "data": {
      "image/png": "[encoded data removed]",
      "text/plain": [
       "<PIL.PngImagePlugin.PngImageFile image mode=RGBA size=200x200>"
      ]
     },
     "metadata": {},
     "output_type": "display_data"
    },
    {
     "name": "stdout",
     "output_type": "stream",
     "text": [
      "746660_2.png\n"
     ]
    },
    {
     "data": {
      "image/png": "[encoded data removed]",
      "text/plain": [
       "<PIL.PngImagePlugin.PngImageFile image mode=RGBA size=200x200>"
      ]
     },
     "metadata": {},
     "output_type": "display_data"
    },
    {
     "name": "stdout",
     "output_type": "stream",
     "text": [
      "748580_1.png\n"
     ]
    },
    {
     "data": {
      "image/png": "[encoded data removed]",
      "text/plain": [
       "<PIL.PngImagePlugin.PngImageFile image mode=RGBA size=200x200>"
      ]
     },
     "metadata": {},
     "output_type": "display_data"
    },
    {
     "name": "stdout",
     "output_type": "stream",
     "text": [
      "750225_1.png\n"
     ]
    },
    {
     "data": {
      "image/png": "[encoded data removed]",
      "text/plain": [
       "<PIL.PngImagePlugin.PngImageFile image mode=RGBA size=200x200>"
      ]
     },
     "metadata": {},
     "output_type": "display_data"
    },
    {
     "name": "stdout",
     "output_type": "stream",
     "text": [
      "751488_3.png\n"
     ]
    },
    {
     "data": {
      "image/png": "[encoded data removed]",
      "text/plain": [
       "<PIL.PngImagePlugin.PngImageFile image mode=RGBA size=200x200>"
      ]
     },
     "metadata": {},
     "output_type": "display_data"
    },
    {
     "name": "stdout",
     "output_type": "stream",
     "text": [
      "751678_1.png\n"
     ]
    },
    {
     "data": {
      "image/png": "[encoded data removed]",
      "text/plain": [
       "<PIL.PngImagePlugin.PngImageFile image mode=RGBA size=200x200>"
      ]
     },
     "metadata": {},
     "output_type": "display_data"
    },
    {
     "name": "stdout",
     "output_type": "stream",
     "text": [
      "769735_2.png\n"
     ]
    },
    {
     "data": {
      "image/png": "[encoded data removed]",
      "text/plain": [
       "<PIL.PngImagePlugin.PngImageFile image mode=RGBA size=200x200>"
      ]
     },
     "metadata": {},
     "output_type": "display_data"
    },
    {
     "name": "stdout",
     "output_type": "stream",
     "text": [
      "770197_1.png\n"
     ]
    },
    {
     "data": {
      "image/png": "[encoded data removed]",
      "text/plain": [
       "<PIL.PngImagePlugin.PngImageFile image mode=RGBA size=200x200>"
      ]
     },
     "metadata": {},
     "output_type": "display_data"
    },
    {
     "name": "stdout",
     "output_type": "stream",
     "text": [
      "771787_1.png\n"
     ]
    },
    {
     "data": {
      "image/png": "[encoded data removed]",
      "text/plain": [
       "<PIL.PngImagePlugin.PngImageFile image mode=RGBA size=200x200>"
      ]
     },
     "metadata": {},
     "output_type": "display_data"
    },
    {
     "name": "stdout",
     "output_type": "stream",
     "text": [
      "773171_1.png\n"
     ]
    },
    {
     "data": {
      "image/png": "[encoded data removed]",
      "text/plain": [
       "<PIL.PngImagePlugin.PngImageFile image mode=RGBA size=200x200>"
      ]
     },
     "metadata": {},
     "output_type": "display_data"
    },
    {
     "name": "stdout",
     "output_type": "stream",
     "text": [
      "777689_1.png\n"
     ]
    },
    {
     "data": {
      "image/png": "[encoded data removed]",
      "text/plain": [
       "<PIL.PngImagePlugin.PngImageFile image mode=RGBA size=200x200>"
      ]
     },
     "metadata": {},
     "output_type": "display_data"
    },
    {
     "name": "stdout",
     "output_type": "stream",
     "text": [
      "784010_1.png\n"
     ]
    },
    {
     "data": {
      "image/png": "[encoded data removed]",
      "text/plain": [
       "<PIL.PngImagePlugin.PngImageFile image mode=RGBA size=200x200>"
      ]
     },
     "metadata": {},
     "output_type": "display_data"
    },
    {
     "name": "stdout",
     "output_type": "stream",
     "text": [
      "790230_1.png\n"
     ]
    },
    {
     "data": {
      "image/png": "[encoded data removed]",
      "text/plain": [
       "<PIL.PngImagePlugin.PngImageFile image mode=RGBA size=200x200>"
      ]
     },
     "metadata": {},
     "output_type": "display_data"
    },
    {
     "name": "stdout",
     "output_type": "stream",
     "text": [
      "790266_2.png\n"
     ]
    },
    {
     "data": {
      "image/png": "[encoded data removed]",
      "text/plain": [
       "<PIL.PngImagePlugin.PngImageFile image mode=RGBA size=200x200>"
      ]
     },
     "metadata": {},
     "output_type": "display_data"
    },
    {
     "name": "stdout",
     "output_type": "stream",
     "text": [
      "825080_1.png\n"
     ]
    },
    {
     "data": {
      "image/png": "[encoded data removed]",
      "text/plain": [
       "<PIL.PngImagePlugin.PngImageFile image mode=RGBA size=200x200>"
      ]
     },
     "metadata": {},
     "output_type": "display_data"
    },
    {
     "name": "stdout",
     "output_type": "stream",
     "text": [
      "826777_1.png\n"
     ]
    },
    {
     "data": {
      "image/png": "[encoded data removed]",
      "text/plain": [
       "<PIL.PngImagePlugin.PngImageFile image mode=RGBA size=200x200>"
      ]
     },
     "metadata": {},
     "output_type": "display_data"
    },
    {
     "name": "stdout",
     "output_type": "stream",
     "text": [
      "828377_1.png\n"
     ]
    },
    {
     "data": {
      "image/png": "[encoded data removed]",
      "text/plain": [
       "<PIL.PngImagePlugin.PngImageFile image mode=RGBA size=200x200>"
      ]
     },
     "metadata": {},
     "output_type": "display_data"
    },
    {
     "name": "stdout",
     "output_type": "stream",
     "text": [
      "832797_1.png\n"
     ]
    },
    {
     "data": {
      "image/png": "[encoded data removed]",
      "text/plain": [
       "<PIL.PngImagePlugin.PngImageFile image mode=RGBA size=200x200>"
      ]
     },
     "metadata": {},
     "output_type": "display_data"
    },
    {
     "name": "stdout",
     "output_type": "stream",
     "text": [
      "832868_1.png\n"
     ]
    },
    {
     "data": {
      "image/png": "[encoded data removed]",
      "text/plain": [
       "<PIL.PngImagePlugin.PngImageFile image mode=RGBA size=200x200>"
      ]
     },
     "metadata": {},
     "output_type": "display_data"
    },
    {
     "name": "stdout",
     "output_type": "stream",
     "text": [
      "834150_1.png\n"
     ]
    },
    {
     "data": {
      "image/png": "[encoded data removed]",
      "text/plain": [
       "<PIL.PngImagePlugin.PngImageFile image mode=RGBA size=200x200>"
      ]
     },
     "metadata": {},
     "output_type": "display_data"
    },
    {
     "name": "stdout",
     "output_type": "stream",
     "text": [
      "973309_102.png\n"
     ]
    },
    {
     "data": {
      "image/png": "[encoded data removed]",
      "text/plain": [
       "<PIL.PngImagePlugin.PngImageFile image mode=RGBA size=200x200>"
      ]
     },
     "metadata": {},
     "output_type": "display_data"
    },
    {
     "data": {
      "text/plain": [
       "'i then manually looked at image to only have truncated ones in this directory'"
      ]
     },
     "execution_count": 6,
     "metadata": {},
     "output_type": "execute_result"
    }
   ],
   "source": [
    "# open all the images \n",
    "for i in range(len(file_list)):\n",
    "    print(file_names[i])\n",
    "    image = f'{file_list[i]}'\n",
    "    img = Image.open(image)\n",
    "    display(img)\n",
    "\n",
    "'''i then manually looked at image to only have truncated ones in this directory'''"
   ]
  },
  {
   "cell_type": "code",
   "execution_count": 7,
   "id": "be424247-039b-49df-a154-9a5ddf24d8d8",
   "metadata": {},
   "outputs": [],
   "source": [
    "# get the particle name, then extract the rows\n",
    "image_name = [particle[:-4] for particle in file_names]\n",
    "\n",
    "## filter df according to the list of names\n",
    "trunacted_img_df = df[df['name'].isin(image_name)]"
   ]
  },
  {
   "cell_type": "code",
   "execution_count": 8,
   "id": "1e32c03a-ab72-4bbf-8b90-226fc1f8befc",
   "metadata": {},
   "outputs": [],
   "source": [
    "n = 30\n",
    "start = trunacted_img_df.iloc[30]['start_index']\n",
    "end = trunacted_img_df.iloc[30]['end_index']\n"
   ]
  },
  {
   "cell_type": "markdown",
   "id": "52d5c8c4-00da-4908-8f49-c705675f1412",
   "metadata": {},
   "source": [
    "now open h5 file to mess around with it"
   ]
  },
  {
   "cell_type": "code",
   "execution_count": 9,
   "id": "970f4cd0-aa8d-4ec0-988b-fec3cdad2ec5",
   "metadata": {},
   "outputs": [],
   "source": [
    "h5_path = '/home/users/esree/data/Export_base220730153000.h5'\n",
    "f2ds = h5py.File(h5_path,'r')\n",
    "\n",
    "ds_image = f2ds['ImageData'] # shape (128, 200000) --> 128 pixels width, 200000 length\n",
    "ds_time = f2ds['ImageTimes'] # shape (100000, 3) --> (rows, columns) related to time\n",
    "\n",
    "# make time variable -> 3 seperate columns\n",
    "og_t_xr = xr.Dataset({'ImageTimes': (('data', 'time_vars'),ds_time)})\n",
    "sec_since = og_t_xr['ImageTimes'][:,0] # seconds since midnight UTC\n",
    "pixel_slice = og_t_xr['ImageTimes'][:,1] # number of slices of pixel per image (contain -1, to fill)\n",
    "# we can use pixel slice to correcly divide up data ^ the index to call f2ds['ImageData']\n",
    "# these slices have been pre-determined by Jonny + algorithm he has written \n",
    "\n",
    "bit_time = og_t_xr['ImageTimes'][:,2] # 32 bit (instrument things) - not useful\n",
    "## ~~~~~~~~~~~~~~~~~~~~~~~~~~~~~~~~~~~~~~~~~~~~~~~~~~~~~~~~~~~~~~~~~~~~~~~~~~~~~~~~~~~~~~~~~~~~~~~~~~~~~~~~~~~~~~~~~~~\n",
    "# do cumulative sum of pixel slices -> can use this as index to slice + extract single crystals\n",
    "pix_sum = pixel_slice.cumsum(dim='data', dtype ='int')\n",
    "\n",
    "# shove together into a useful xarray \n",
    "time_xr = xr.Dataset({\n",
    "    'sec_since': sec_since,\n",
    "    'pixel_slice': pixel_slice,\n",
    "    'bit_time': bit_time,\n",
    "    'pix_sum': pix_sum})"
   ]
  },
  {
   "cell_type": "code",
   "execution_count": 11,
   "id": "25ac2c75-35d4-442d-84ee-49c8f19458f2",
   "metadata": {},
   "outputs": [
    {
     "data": {
      "image/png": "[encoded data removed]",
      "text/plain": [
       "<Figure size 640x480 with 1 Axes>"
      ]
     },
     "metadata": {},
     "output_type": "display_data"
    }
   ],
   "source": [
    "one_crystal = f2ds['ImageData'][:,start:end+70] # extract 1 crystal\n",
    "\n",
    "plt.imshow(one_crystal, cmap='gray')\n",
    "plt.axis('off')  # Turn off axis labels\n",
    "plt.show()"
   ]
  },
  {
   "cell_type": "code",
   "execution_count": null,
   "id": "ecbb42ef-e943-4c74-8db5-83506451bfe9",
   "metadata": {},
   "outputs": [],
   "source": []
  }
 ],
 "metadata": {
  "kernelspec": {
   "display_name": "Python 3 + Jaspy",
   "language": "python",
   "name": "jaspy"
  },
  "language_info": {
   "codemirror_mode": {
    "name": "ipython",
    "version": 3
   },
   "file_extension": ".py",
   "mimetype": "text/x-python",
   "name": "python",
   "nbconvert_exporter": "python",
   "pygments_lexer": "ipython3",
   "version": "3.11.9"
  }
 },
 "nbformat": 4,
 "nbformat_minor": 5
}
