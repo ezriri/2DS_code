{
 "cells": [
  {
   "cell_type": "markdown",
   "id": "b2043816-40a9-4329-a0f2-b5fdb0ff41eb",
   "metadata": {},
   "source": [
    "py files that throw an error due to tab spacing, this script fixes that"
   ]
  },
  {
   "cell_type": "code",
   "execution_count": 1,
   "id": "543c28af-8c3a-4cba-a3b5-02f299bb7a7a",
   "metadata": {},
   "outputs": [
    {
     "ename": "FileNotFoundError",
     "evalue": "[Errno 2] No such file or directory: '/home/users/esree/slurm_yerm/v4_mem_cleaning_and_seperate.py'",
     "output_type": "error",
     "traceback": [
      "\u001b[0;31m---------------------------------------------------------------------------\u001b[0m",
      "\u001b[0;31mFileNotFoundError\u001b[0m                         Traceback (most recent call last)",
      "Cell \u001b[0;32mIn[1], line 7\u001b[0m\n\u001b[1;32m      5\u001b[0m file_path \u001b[38;5;241m=\u001b[39m path\u001b[38;5;241m+\u001b[39mog_name\u001b[38;5;241m+\u001b[39m\u001b[38;5;124m'\u001b[39m\u001b[38;5;124m.py\u001b[39m\u001b[38;5;124m'\u001b[39m\n\u001b[1;32m      6\u001b[0m \u001b[38;5;66;03m# Reading the file\u001b[39;00m\n\u001b[0;32m----> 7\u001b[0m \u001b[38;5;28;01mwith\u001b[39;00m \u001b[38;5;28;43mopen\u001b[39;49m\u001b[43m(\u001b[49m\u001b[43mfile_path\u001b[49m\u001b[43m,\u001b[49m\u001b[43m \u001b[49m\u001b[38;5;124;43m'\u001b[39;49m\u001b[38;5;124;43mr\u001b[39;49m\u001b[38;5;124;43m'\u001b[39;49m\u001b[43m)\u001b[49m \u001b[38;5;28;01mas\u001b[39;00m file:\n\u001b[1;32m      8\u001b[0m     content \u001b[38;5;241m=\u001b[39m file\u001b[38;5;241m.\u001b[39mreadlines()\n\u001b[1;32m     10\u001b[0m \u001b[38;5;66;03m# Fixing inconsistent indentation by replacing all tabs with 4 spaces\u001b[39;00m\n",
      "File \u001b[0;32m/opt/jaspy/lib/python3.11/site-packages/IPython/core/interactiveshell.py:324\u001b[0m, in \u001b[0;36m_modified_open\u001b[0;34m(file, *args, **kwargs)\u001b[0m\n\u001b[1;32m    317\u001b[0m \u001b[38;5;28;01mif\u001b[39;00m file \u001b[38;5;129;01min\u001b[39;00m {\u001b[38;5;241m0\u001b[39m, \u001b[38;5;241m1\u001b[39m, \u001b[38;5;241m2\u001b[39m}:\n\u001b[1;32m    318\u001b[0m     \u001b[38;5;28;01mraise\u001b[39;00m \u001b[38;5;167;01mValueError\u001b[39;00m(\n\u001b[1;32m    319\u001b[0m         \u001b[38;5;124mf\u001b[39m\u001b[38;5;124m\"\u001b[39m\u001b[38;5;124mIPython won\u001b[39m\u001b[38;5;124m'\u001b[39m\u001b[38;5;124mt let you open fd=\u001b[39m\u001b[38;5;132;01m{\u001b[39;00mfile\u001b[38;5;132;01m}\u001b[39;00m\u001b[38;5;124m by default \u001b[39m\u001b[38;5;124m\"\u001b[39m\n\u001b[1;32m    320\u001b[0m         \u001b[38;5;124m\"\u001b[39m\u001b[38;5;124mas it is likely to crash IPython. If you know what you are doing, \u001b[39m\u001b[38;5;124m\"\u001b[39m\n\u001b[1;32m    321\u001b[0m         \u001b[38;5;124m\"\u001b[39m\u001b[38;5;124myou can use builtins\u001b[39m\u001b[38;5;124m'\u001b[39m\u001b[38;5;124m open.\u001b[39m\u001b[38;5;124m\"\u001b[39m\n\u001b[1;32m    322\u001b[0m     )\n\u001b[0;32m--> 324\u001b[0m \u001b[38;5;28;01mreturn\u001b[39;00m \u001b[43mio_open\u001b[49m\u001b[43m(\u001b[49m\u001b[43mfile\u001b[49m\u001b[43m,\u001b[49m\u001b[43m \u001b[49m\u001b[38;5;241;43m*\u001b[39;49m\u001b[43margs\u001b[49m\u001b[43m,\u001b[49m\u001b[43m \u001b[49m\u001b[38;5;241;43m*\u001b[39;49m\u001b[38;5;241;43m*\u001b[39;49m\u001b[43mkwargs\u001b[49m\u001b[43m)\u001b[49m\n",
      "\u001b[0;31mFileNotFoundError\u001b[0m: [Errno 2] No such file or directory: '/home/users/esree/slurm_yerm/v4_mem_cleaning_and_seperate.py'"
     ]
    }
   ],
   "source": [
    "# Let's read the file, fix the inconsistent tabs and spaces, and then save the corrected version\n",
    "#file_path = '/home/users/esree/2DS_code/v2_cleaning_and_seperate.py'\n",
    "path = '/home/users/esree/slurm_yerm/'\n",
    "og_name = 'v4_mem_cleaning_and_seperate'\n",
    "file_path = path+og_name+'.py'\n",
    "# Reading the file\n",
    "with open(file_path, 'r') as file:\n",
    "    content = file.readlines()\n",
    "\n",
    "# Fixing inconsistent indentation by replacing all tabs with 4 spaces\n",
    "fixed_content = [line.replace('\\t', '    ') for line in content]\n",
    "\n",
    "# Writing the fixed content back to the file\n",
    "#fixed_file_path = '/home/users/esree/2DS_code/v2_cleaning_and_seperate_fixed.py'\n",
    "fixed_file_path = path+og_name+'_fixed.py'\n",
    "with open(fixed_file_path, 'w') as fixed_file:\n",
    "    fixed_file.writelines(fixed_content)\n",
    "\n",
    "fixed_file_path"
   ]
  },
  {
   "cell_type": "code",
   "execution_count": null,
   "id": "0c45a8a7-d481-4785-b18a-d65026b6200e",
   "metadata": {},
   "outputs": [],
   "source": []
  }
 ],
 "metadata": {
  "kernelspec": {
   "display_name": "Python 3 + Jaspy",
   "language": "python",
   "name": "jaspy"
  },
  "language_info": {
   "codemirror_mode": {
    "name": "ipython",
    "version": 3
   },
   "file_extension": ".py",
   "mimetype": "text/x-python",
   "name": "python",
   "nbconvert_exporter": "python",
   "pygments_lexer": "ipython3",
   "version": "3.11.9"
  }
 },
 "nbformat": 4,
 "nbformat_minor": 5
}
