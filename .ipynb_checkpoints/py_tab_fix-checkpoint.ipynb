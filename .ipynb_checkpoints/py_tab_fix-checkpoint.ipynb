{
 "cells": [
  {
   "cell_type": "code",
   "execution_count": null,
   "id": "543c28af-8c3a-4cba-a3b5-02f299bb7a7a",
   "metadata": {},
   "outputs": [],
   "source": [
    "# Let's read the file, fix the inconsistent tabs and spaces, and then save the corrected version\n",
    "file_path = '/home/users/esree/2DS_code/v2_cleaning_and_seperate.py'\n",
    "\n",
    "# Reading the file\n",
    "with open(file_path, 'r') as file:\n",
    "    content = file.readlines()\n",
    "\n",
    "# Fixing inconsistent indentation by replacing all tabs with 4 spaces\n",
    "fixed_content = [line.replace('\\t', '    ') for line in content]\n",
    "\n",
    "# Writing the fixed content back to the file\n",
    "fixed_file_path = '/home/users/esree/2DS_code/v2_cleaning_and_seperate_fixed.py'\n",
    "with open(fixed_file_path, 'w') as fixed_file:\n",
    "    fixed_file.writelines(fixed_content)\n",
    "\n",
    "fixed_file_path"
   ]
  }
 ],
 "metadata": {
  "kernelspec": {
   "display_name": "Python 3 + Jaspy",
   "language": "python",
   "name": "jaspy"
  },
  "language_info": {
   "codemirror_mode": {
    "name": "ipython",
    "version": 3
   },
   "file_extension": ".py",
   "mimetype": "text/x-python",
   "name": "python",
   "nbconvert_exporter": "python",
   "pygments_lexer": "ipython3",
   "version": "3.11.9"
  }
 },
 "nbformat": 4,
 "nbformat_minor": 5
}
