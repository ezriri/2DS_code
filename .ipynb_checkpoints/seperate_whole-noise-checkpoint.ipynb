{
 "cells": [
  {
   "cell_type": "markdown",
   "id": "929a48e2-02ca-4c80-aa0f-0f8783b4801a",
   "metadata": {},
   "source": [
    "## 2. notebook for looking at 2ds data\n",
    "similar to extracting individual crystals, but firstly we want to seperate out (with certainty) whole crystals vs noise (i.e. lots of small particles)"
   ]
  },
  {
   "cell_type": "code",
   "execution_count": 119,
   "id": "f41383a7-a235-4224-83e8-886011d105dc",
   "metadata": {},
   "outputs": [],
   "source": [
    "import xarray as xr\n",
    "import matplotlib.pyplot as plt\n",
    "import matplotlib as mpl\n",
    "import numpy as np\n",
    "from glob import glob\n",
    "import seaborn as sns\n",
    "import xesmf as xe\n",
    "import pandas as pd\n",
    "#import def_homebrew as hb ## homemade functions xox\n",
    "from scipy.special import gamma\n",
    "import netCDF4 as nc\n",
    "from datetime import datetime, timedelta\n",
    "\n",
    "import h5py ####\n",
    "from PIL import Image\n",
    "#from IPython.display import display #\n",
    "#import cv2 # not working\n",
    "import os\n",
    "\n",
    "from scipy.ndimage import convolve\n",
    "from scipy.ndimage import label\n",
    "from skimage.measure import regionprops"
   ]
  },
  {
   "cell_type": "code",
   "execution_count": 120,
   "id": "c58866fb-b07c-43f9-87aa-64db74fcd445",
   "metadata": {},
   "outputs": [],
   "source": [
    "## files location\n",
    "ds_loc = '/home/users/esree/data/2ds/'\n",
    "hvps_loc = '/home/users/esree/data/hvps/'\n",
    "\n",
    "#file of interest\n",
    "file_name = 'Export_base220730153000.h5' # example file\n",
    "f2ds = h5py.File(ds_loc+ file_name,'r') # open file\n",
    "\n",
    "# break file into two - data + time\n",
    "ds_image = f2ds['ImageData'] \n",
    "ds_time = f2ds['ImageTimes']\n",
    "## ~~~~~~~~~~~~~~~~~~~~~~~~~~~~~~~~~~~~~~~~~~~~~~~~~~~~~~~~~~~~~~~~~~~~~~~~~~~~~~~~~~~~~~~~~~~~~~~~~~~~~~~~~~~~~~~~~~~\n",
    "##### make xarray of useful time data #####\n",
    "sec_since = ds_time[:,0]\n",
    "pixel_slice = ds_time[:,1]\n",
    "pix_sum = pixel_slice.cumsum(dtype = 'int')\n",
    "\n",
    "## make useful datetime format (not seconds since midnight)\n",
    "# using the file name for reference\n",
    "date_str = file_name[11:17]\n",
    "starting_date = datetime.strptime(date_str, '%y%m%d')\n",
    "time_deltas = [timedelta(seconds=float(sec)) for sec in sec_since]\n",
    "utc_time = [starting_date + delta for delta in time_deltas]\n",
    "\n",
    "time_xr =xr.Dataset({\n",
    "    'utc_time':utc_time,\n",
    "    'pixel_slice': pixel_slice,\n",
    "    'pix_sum': pix_sum})\n",
    "## ~~~~~~~~~~~~~~~~~~~~~~~~~~~~~~~~~~~~~~~~~~~~~~~~~~~~~~~~~~~~~~~~~~~~~~~~~~~~~~~~~~~~~~~~~~~~~~~~~~~~~~~~~~~~~~~~~~~"
   ]
  },
  {
   "cell_type": "markdown",
   "id": "c6ab4e2e-8a86-4c0f-92e7-ad9937e5fa49",
   "metadata": {},
   "source": [
    "### first step in cleaning\n",
    "* get rid of images where less than 4 pixels along x axis"
   ]
  },
  {
   "cell_type": "code",
   "execution_count": 121,
   "id": "7db756ae-2cde-4f2b-8933-100df4ac51c1",
   "metadata": {},
   "outputs": [],
   "source": [
    "diff = np.diff(time_xr['pix_sum'][:].values) # this is finding the difference between the elements of pix_sum\n",
    "selected_values = time_xr['pix_sum'][:-1][diff > 4] # this is selecting the adjacent files in which have pixels > 4 length\n",
    "# i.e. selected values contains the index of where images are > 4 in x axis"
   ]
  },
  {
   "cell_type": "code",
   "execution_count": 141,
   "id": "c5f50bdb-e4d9-41a9-a75f-553253c272a4",
   "metadata": {},
   "outputs": [
    {
     "data": {
      "image/png": "[encoded data removed]",
      "text/plain": [
       "<Figure size 640x480 with 1 Axes>"
      ]
     },
     "metadata": {},
     "output_type": "display_data"
    }
   ],
   "source": [
    "i = 2344 # random crystal\n",
    "## 32 is good example, 700 - we would want rid of\n",
    "one_crystal = f2ds['ImageData'][:,int(selected_values[i]):int(selected_values[i+1])] # extract 1 crystal\n",
    "\n",
    "plt.imshow(one_crystal, cmap='gray')\n",
    "plt.axis('off') # Turn off axis labels\n",
    "plt.show()"
   ]
  },
  {
   "cell_type": "code",
   "execution_count": 142,
   "id": "adff2ad7-e736-4fed-8548-bb4b49f9cae1",
   "metadata": {
    "jupyter": {
     "source_hidden": true
    }
   },
   "outputs": [
    {
     "name": "stdout",
     "output_type": "stream",
     "text": [
      "<skimage.measure._regionprops.RegionProperties object at 0x7f00b6d90390>\n"
     ]
    },
    {
     "data": {
      "image/png": "[encoded data removed]",
      "text/plain": [
       "<Figure size 640x480 with 1 Axes>"
      ]
     },
     "metadata": {},
     "output_type": "display_data"
    }
   ],
   "source": [
    "# so if we have an image with multiple things inside, we just want the biggest crystal -> want to return the index of these, so can just use it to extract it\n",
    "# Convert the dataframe to a binary image where 0 is True (activated) and all else is False\n",
    "binary_image = (one_crystal == 0)\n",
    "\n",
    "# Label the connected components\n",
    "labeled_image, num_features = label(binary_image)\n",
    "\n",
    "plt.imshow(binary_image, cmap='gray')\n",
    "\n",
    "props = regionprops(labeled_image)\n",
    "if props:\n",
    "    # Find the component with the maximum area\n",
    "    largest_component = max(props, key=lambda x: x.area)\n",
    "    print(largest_component)\n",
    "\n",
    "    # Extract x-values (column indices) of the largest component\n",
    "    coords = largest_component.coords\n",
    "    x_values = np.unique(coords[:, 1])  # column indices are the x-values\n",
    "else:\n",
    "    x_values = np.array([])  # No components found"
   ]
  },
  {
   "cell_type": "code",
   "execution_count": 143,
   "id": "1eee5619-2e76-46ad-909c-880d8f497319",
   "metadata": {
    "jupyter": {
     "source_hidden": true
    }
   },
   "outputs": [
    {
     "name": "stdout",
     "output_type": "stream",
     "text": [
      "108\n",
      "127\n"
     ]
    }
   ],
   "source": [
    "## taking our cleaned data, where the files are >4 in length\n",
    "\n",
    "# 1. want to find the objects in the sections\n",
    "# 2. identify objects in which the area is > than specific threshold\n",
    "# 3. extract start + end index of said particle\n",
    "# 4. use this index to slice + get corresponding UTC time associated with particle\n",
    "\n",
    "area_threshold = 30 # need this minimum number of pixels to be classified\n",
    "binary_image = (one_crystal == 0) ## important, convert regions where 0 = True (our bits of interest), all else false\n",
    "\n",
    "# Label the connected components\n",
    "labeled_image, num_features = label(binary_image) # identify connected true areas\n",
    "# labeled_image = array, with each true area given a number to identify them\n",
    "# num_features = number of unique connected components in image. Have to literally have adjacent pixel, not diagonal (this will make them seperate).\n",
    "\n",
    "props = regionprops(labeled_image) # creates list of properties describing each feature detected in the image.\n",
    "# has: label, area, centroid, bounding box - for each feature (did personally count area of 1 to check, and does it correctly)\n",
    "\n",
    "## only doing this if anything there i.e. if props\n",
    "## want to extract only particles that surpass area threshold \n",
    "# first need to count how many are present \n",
    "if props:\n",
    "    n_big_particles = 0\n",
    "    for particle in props:\n",
    "        if particle.area >= area_threshold:\n",
    "            n_big_particles += 1 \n",
    "\n",
    "    # this is nice and easy, extract the property\n",
    "    if n_big_particles == 1:\n",
    "        for particle in props:\n",
    "            if particle.area >= area_threshold:\n",
    "                coords = largest_component.coords # basically gives coords of each point of interest\n",
    "                x_values = np.unique(coords[:, 1])\n",
    "                s_idx = int(selected_values[i] + x_values[0])\n",
    "                e_idx = int(selected_values[i] + x_values[-1])\n",
    "\n",
    "    # not really sure what to do yet if more than 1\n",
    "    elif n_big_particles > 1:\n",
    "        print('fuck')\n",
    "        multi = {}\n",
    "        for particle in props:\n",
    "            if particle.area >= area_threshold:\n",
    "                coords = largest_component.coords # basically gives coords of each point of interest\n",
    "                x_values = np.unique(coords[:, 1])\n",
    "                s_idx = int(selected_values[i] + x_values[0])\n",
    "                e_idx = int(selected_values[i] + x_values[-1])\n",
    "                multi[particle.label] = [coords[0][0],coords[-1][0],s_idx,e_idx] # y1,y2,x1,x2 - x values are our index also needed for extracting time\n",
    "                    # i.e. [f2ds['ImageData'][y1:y2,x1:x2]\n",
    "                \n",
    "       \n",
    "print(coords[0][0])\n",
    "print(coords[-1][0])"
   ]
  },
  {
   "cell_type": "code",
   "execution_count": 144,
   "id": "c193b400-6e69-4b47-828a-48c2fb8942c5",
   "metadata": {},
   "outputs": [
    {
     "name": "stdout",
     "output_type": "stream",
     "text": [
      "108\n",
      "127\n",
      "183679\n",
      "183692\n"
     ]
    },
    {
     "data": {
      "text/plain": [
       "<matplotlib.image.AxesImage at 0x7f00b6da0410>"
      ]
     },
     "execution_count": 144,
     "metadata": {},
     "output_type": "execute_result"
    },
    {
     "data": {
      "image/png": "[encoded data removed]",
      "text/plain": [
       "<Figure size 640x480 with 1 Axes>"
      ]
     },
     "metadata": {},
     "output_type": "display_data"
    }
   ],
   "source": [
    "## taking our cleaned data, where the files are >4 in length\n",
    "\n",
    "# 1. want to find the objects in the sections\n",
    "# 2. identify objects in which the area is > than specific threshold\n",
    "# 3. extract start + end index of said particle\n",
    "# 4. use this index to slice + get corresponding UTC time associated with particle\n",
    "\n",
    "area_threshold = 30 # need this minimum number of pixels to be classified\n",
    "binary_image = (one_crystal == 0) ## important, convert regions where 0 = True (our bits of interest), all else false\n",
    "\n",
    "# Label the connected components\n",
    "labeled_image, num_features = label(binary_image) # identify connected true areas\n",
    "# labeled_image = array, with each true area given a number to identify them\n",
    "# num_features = number of unique connected components in image. Have to literally have adjacent pixel, not diagonal (this will make them seperate).\n",
    "\n",
    "props = regionprops(labeled_image) # creates list of properties describing each feature detected in the image.\n",
    "# has: label, area, centroid, bounding box - for each feature (did personally count area of 1 to check, and does it correctly)\n",
    "\n",
    "## only doing this if anything there i.e. if props\n",
    "## want to extract only particles that surpass area threshold \n",
    "# first need to count how many are present \n",
    "if props:\n",
    "    n_big_particles = 0\n",
    "    for particle in props:\n",
    "        if particle.area >= area_threshold:\n",
    "            multi = {}\n",
    "            coords = largest_component.coords # basically gives coords of each point of interest\n",
    "            x_values = np.unique(coords[:, 1])\n",
    "            s_idx = int(selected_values[i] + x_values[0])\n",
    "            e_idx = int(selected_values[i] + x_values[-1])\n",
    "            multi[particle.label] = [coords[0][0],coords[-1][0],s_idx,e_idx] # y1,y2,x1,x2 \n",
    "                # x values are our index also needed for extracting time\n",
    "                # i.e. [f2ds['ImageData'][y1:y2,x1:x2]\n",
    "                \n",
    "\n",
    "for key in multi:\n",
    "    for i in range(4):\n",
    "        print(multi[key][i])\n",
    "\n",
    "keys = list(multi.keys())\n",
    "extract = f2ds['ImageData'][multi[keys[0]][0]-2:multi[keys[0]][1]+3,multi[keys[0]][2] -2:multi[keys[0]][3]+3] ## added 2 pixel buffer around single crystal\n",
    "\n",
    "plt.imshow(extract, cmap='gray')"
   ]
  },
  {
   "cell_type": "code",
   "execution_count": null,
   "id": "641d6650-3aa6-43e7-afa4-510654b71fe9",
   "metadata": {},
   "outputs": [],
   "source": [
    "'''\n",
    "#num_features\n",
    "plt.imshow(labeled_image)\n",
    "plt.colorbar()\n",
    "'''\n",
    "'''\n",
    "# go though each object, and loop through their respective properties.\n",
    "for region in props:\n",
    "    print(\"Label:\", region.label)\n",
    "    print(\"Area:\", region.area)\n",
    "    print(\"Centroid:\", region.centroid)\n",
    "    print(\"Bounding box:\", region.bbox)\n",
    "    '''\n",
    "\n",
    "extract = f2ds['ImageData'][coords[0][0]-2:coords[-1][0]+3,s_idx -2:e_idx+3] ## added 2 pixel buffer around single crystal\n",
    "#extract = f2ds['ImageData'][:,s_idx:e_idx]\n",
    "\n",
    "#extract = f2ds['ImageData'][y_values[1]:y_values[1]+y_values[0],s_idx:e_idx]\n",
    "\n",
    "plt.imshow(extract, cmap='gray')"
   ]
  },
  {
   "cell_type": "code",
   "execution_count": 74,
   "id": "51115206-b34a-4890-a826-d82fc50c2001",
   "metadata": {},
   "outputs": [
    {
     "data": {
      "text/plain": [
       "<matplotlib.image.AxesImage at 0x7f00c6ba6850>"
      ]
     },
     "execution_count": 74,
     "metadata": {},
     "output_type": "execute_result"
    },
    {
     "data": {
      "image/png": "[encoded data removed]",
      "text/plain": [
       "<Figure size 640x480 with 1 Axes>"
      ]
     },
     "metadata": {},
     "output_type": "display_data"
    }
   ],
   "source": [
    "#selected_values[i]\n",
    "big_crystal = f2ds['ImageData'][:,int(selected_values[i]):int(selected_values[i]+x_values[-1])] # extract 1 crystal)\n",
    "plt.imshow(big_crystal, cmap='gray')"
   ]
  },
  {
   "cell_type": "code",
   "execution_count": null,
   "id": "0fd52690-6e1a-459c-a7fb-ad881d23b21e",
   "metadata": {},
   "outputs": [],
   "source": [
    "## more chat code - to count number of adjacent pixels (can work out area)\n",
    "## possiblt more useful - can use to extract just big pixels\n",
    "\n",
    "def count_adjacent_activated_pixels(binary_image):\n",
    "    # Define a 3x3 kernel that counts neighbors\n",
    "    # Ignore the center pixel by setting its weight to 0\n",
    "    kernel = np.array([[1, 1, 1],\n",
    "                       [1, 0, 1],\n",
    "                       [1, 1, 1]])\n",
    "    \n",
    "    # Apply convolution to count adjacent activated pixels\n",
    "    neighbor_count = convolve(binary_image.astype(int), kernel, mode='constant', cval=0)\n",
    "    return neighbor_count\n",
    "\n",
    "# Example usage\n",
    "binary_image = np.array([\n",
    "    [0, 1, 0],\n",
    "    [1, 1, 1],\n",
    "    [0, 1, 0]\n",
    "], dtype=bool)\n",
    "\n",
    "adjacent_counts = count_adjacent_activated_pixels(binary_image)\n",
    "print(adjacent_counts)\n"
   ]
  },
  {
   "cell_type": "code",
   "execution_count": null,
   "id": "b6baf590-3bd5-4666-842d-054660734a3d",
   "metadata": {},
   "outputs": [],
   "source": [
    "## this is chat code, to identify components in the image - where there are connected parts / scattered noise\n",
    "import numpy as np\n",
    "import h5py\n",
    "from scipy.ndimage import label, find_objects\n",
    "from skimage.measure import regionprops\n",
    "\n",
    "def load_image_from_h5(file_path, key):\n",
    "    with h5py.File(file_path, 'r') as file:\n",
    "        image_data = np.array(file[key])\n",
    "    return image_data\n",
    "\n",
    "def preprocess_image(image, threshold=250):\n",
    "    # Threshold the image to make it binary\n",
    "    binary_image = image > threshold\n",
    "    return binary_image\n",
    "\n",
    "def analyze_image(image):\n",
    "    # Label connected components\n",
    "    labeled_image, num_features = label(image)\n",
    "    properties = regionprops(labeled_image)\n",
    "    sizes = [prop.area for prop in properties]\n",
    "    \n",
    "    # You can adjust these thresholds based on what you consider as noise\n",
    "    noise_threshold = 500  # Change as per your specific needs\n",
    "    large_components = [size for size in sizes if size > noise_threshold]\n",
    "\n",
    "    if len(large_components) == 1:\n",
    "        print(\"Image is mostly continuous.\")\n",
    "    elif len(large_components) > 1:\n",
    "        print(\"Image has multiple large parts.\")\n",
    "    else:\n",
    "        print(\"Image is noisy or has no significant parts.\")\n",
    "\n",
    "# Example usage\n",
    "file_path = 'your_data.h5'\n",
    "key = 'dataset_key'  # Update with the actual dataset key in your H5 file\n",
    "image = load_image_from_h5(file_path, key)\n",
    "preprocessed_image = preprocess_image(image)\n",
    "analyze_image(preprocessed_image)"
   ]
  },
  {
   "cell_type": "code",
   "execution_count": null,
   "id": "1869fd6d-d2f6-4252-844d-a30cfe68c296",
   "metadata": {},
   "outputs": [],
   "source": []
  }
 ],
 "metadata": {
  "kernelspec": {
   "display_name": "Python 3 + Jaspy",
   "language": "python",
   "name": "jaspy"
  },
  "language_info": {
   "codemirror_mode": {
    "name": "ipython",
    "version": 3
   },
   "file_extension": ".py",
   "mimetype": "text/x-python",
   "name": "python",
   "nbconvert_exporter": "python",
   "pygments_lexer": "ipython3",
   "version": "3.11.9"
  }
 },
 "nbformat": 4,
 "nbformat_minor": 5
}
