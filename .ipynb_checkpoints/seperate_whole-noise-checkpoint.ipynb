{
 "cells": [
  {
   "cell_type": "markdown",
   "id": "929a48e2-02ca-4c80-aa0f-0f8783b4801a",
   "metadata": {},
   "source": [
    "## 2. notebook for looking at 2ds data\n",
    "similar to extracting individual crystals, but firstly we want to seperate out (with certainty) whole crystals vs noise (i.e. lots of small particles)\n",
    "\n",
    "this notebook is just for looking at 1 crystal\n",
    "\n",
    "how to extract + save useful crystal + relevant stats"
   ]
  },
  {
   "cell_type": "code",
   "execution_count": 27,
   "id": "f41383a7-a235-4224-83e8-886011d105dc",
   "metadata": {},
   "outputs": [],
   "source": [
    "import xarray as xr\n",
    "import matplotlib.pyplot as plt\n",
    "import matplotlib as mpl\n",
    "import numpy as np\n",
    "from glob import glob\n",
    "import seaborn as sns\n",
    "import xesmf as xe\n",
    "import pandas as pd\n",
    "#import def_homebrew as hb ## homemade functions xox\n",
    "from scipy.special import gamma\n",
    "import netCDF4 as nc\n",
    "from datetime import datetime, timedelta\n",
    "\n",
    "import h5py ####\n",
    "from PIL import Image\n",
    "#from IPython.display import display #\n",
    "#import cv2 # not working\n",
    "import os\n",
    "\n",
    "from scipy.ndimage import convolve, label\n",
    "from skimage.measure import regionprops, find_contours\n",
    "from scipy.spatial import ConvexHull, distance_matrix\n",
    "from skimage.morphology import remove_small_holes ## remove holes <3\n",
    "from scipy.ndimage import binary_fill_holes\n",
    "from skimage import measure\n",
    "from cv2 import cvtColor, COLOR_BGR2GRAY, threshold, THRESH_BINARY, THRESH_OTSU"
   ]
  },
  {
   "cell_type": "code",
   "execution_count": 28,
   "id": "c58866fb-b07c-43f9-87aa-64db74fcd445",
   "metadata": {},
   "outputs": [],
   "source": [
    "## files location\n",
    "ds_loc = '/home/users/esree/data/2ds/'\n",
    "hvps_loc = '/home/users/esree/data/hvps/'\n",
    "\n",
    "#file of interest\n",
    "file_name = 'Export_base220730153000.h5' # example file\n",
    "f2ds = h5py.File(ds_loc+ file_name,'r') # open file\n",
    "\n",
    "# break file into two - data + time\n",
    "ds_image = f2ds['ImageData'] \n",
    "ds_time = f2ds['ImageTimes']\n",
    "## ~~~~~~~~~~~~~~~~~~~~~~~~~~~~~~~~~~~~~~~~~~~~~~~~~~~~~~~~~~~~~~~~~~~~~~~~~~~~~~~~~~~~~~~~~~~~~~~~~~~~~~~~~~~~~~~~~~~\n",
    "##### make xarray of useful time data #####\n",
    "sec_since = ds_time[:,0]\n",
    "pixel_slice = ds_time[:,1]\n",
    "pix_sum = pixel_slice.cumsum(dtype = 'int')\n",
    "\n",
    "## make useful datetime format (not seconds since midnight)\n",
    "# using the file name for reference\n",
    "date_str = file_name[11:17]\n",
    "starting_date = datetime.strptime(date_str, '%y%m%d')\n",
    "time_deltas = [timedelta(seconds=float(sec)) for sec in sec_since]\n",
    "utc_time = [starting_date + delta for delta in time_deltas]\n",
    "\n",
    "time_xr =xr.Dataset({\n",
    "    'utc_time':utc_time,\n",
    "    'pixel_slice': pixel_slice,\n",
    "    'pix_sum': pix_sum})\n",
    "## ~~~~~~~~~~~~~~~~~~~~~~~~~~~~~~~~~~~~~~~~~~~~~~~~~~~~~~~~~~~~~~~~~~~~~~~~~~~~~~~~~~~~~~~~~~~~~~~~~~~~~~~~~~~~~~~~~~~"
   ]
  },
  {
   "cell_type": "markdown",
   "id": "c6ab4e2e-8a86-4c0f-92e7-ad9937e5fa49",
   "metadata": {},
   "source": [
    "### first step in quick cleaning (just reduce sample size)\n",
    "* (here images are defined as pre-determined by Jonny)\n",
    "* get rid of images where less than 4 pixels along x axis i.e. indexes are very close together for images"
   ]
  },
  {
   "cell_type": "code",
   "execution_count": 43,
   "id": "7db756ae-2cde-4f2b-8933-100df4ac51c1",
   "metadata": {},
   "outputs": [],
   "source": [
    "diff = np.diff(time_xr['pix_sum'][:].values) # this is finding the difference between the elements of pix_sum\n",
    "selected_values = time_xr['pix_sum'][:-1][diff > 4] # this is selecting the adjacent files in which have pixels > 4 length\n",
    "# i.e. selected values contains the index of where images are > 4 in x axis"
   ]
  },
  {
   "cell_type": "code",
   "execution_count": 44,
   "id": "c5f50bdb-e4d9-41a9-a75f-553253c272a4",
   "metadata": {},
   "outputs": [
    {
     "data": {
      "image/png": "[encoded data removed]",
      "text/plain": [
       "<Figure size 640x480 with 1 Axes>"
      ]
     },
     "metadata": {},
     "output_type": "display_data"
    }
   ],
   "source": [
    "i = 32 # random crystal\n",
    "## 32, 2344, 3452 is good example, 700 - we would want rid of\n",
    "one_crystal = f2ds['ImageData'][:,int(selected_values[i]):int(selected_values[i+1])] # extract 1 crystal\n",
    "\n",
    "plt.imshow(one_crystal, cmap='gray')\n",
    "plt.axis('off') # Turn off axis labels\n",
    "plt.show()"
   ]
  },
  {
   "cell_type": "code",
   "execution_count": 90,
   "id": "d3042ab9-5c6f-4d74-931a-690e41e71e51",
   "metadata": {},
   "outputs": [],
   "source": [
    "def stats_description(bw_crystal):\n",
    "    '''take binary image, fill in small holes and returns object containing stats about crystal'''\n",
    "    \n",
    "    filled_particle = remove_small_holes(bw_crystal.image, area_threshold=4) # fill in voids within binary image - better estimation of stats # may need to be altered\n",
    "    \n",
    "    # can see the filled in particle if needs be\n",
    "    #plt.imshow(filled_particle, cmap='gray')\n",
    "    \n",
    "    contours = measure.find_contours(filled_particle, 0.5)\n",
    "    if contours:\n",
    "        contour = max(contours, key=lambda x: x.shape[0])  # Sort contours by area (largest first) and select the largest contour\n",
    "        \n",
    "        labeled_image = measure.label(filled_particle)  # Label the image based on the threshold\n",
    "        region = measure.regionprops(labeled_image)[0]  # Assumes largest labeled region corresponds to largest contour\n",
    "        \n",
    "        return region\n",
    "    else:\n",
    "        return None\n",
    "\n",
    "\n",
    "# saving function - used within loop of extracting particle \n",
    "# also has buffer applied to it\n",
    "def save_particle_image(desired_png_size, save_loc, one_crystal):\n",
    "    \n",
    "    # Save as PNG\n",
    "    plt.imshow(padded_image, cmap='Greys')\n",
    "    plt.axis('off')\n",
    "    plt.savefig('padded_image.png', bbox_inches='tight', pad_inches=0)\n",
    "\n",
    "\n",
    "# function to add padding to extracted crystal - better sample to match Jaffeux\n",
    "def add_padding(one_crystal, desired_png_size):\n",
    "    # Calculate padding\n",
    "    pad_height = (desired_png_size - one_crystal.shape[0]) // 2\n",
    "    pad_width = (desired_png_size - one_crystal.shape[1]) // 2\n",
    "    \n",
    "    # Pad the image\n",
    "    padded_image = np.pad(one_crystal, ((pad_height, pad_height), (pad_width, pad_width)), mode='constant', constant_values=255)\n",
    "    \n",
    "    # In case the dimensions are odd, add an extra row/column to match the desired size\n",
    "    if padded_image.shape[0] < desired_size:\n",
    "        padded_image = np.pad(padded_image, ((0, 1), (0, 0)), mode='constant', constant_values=255)\n",
    "    if padded_image.shape[1] < desired_size:\n",
    "        padded_image = np.pad(padded_image, ((0, 0), (0, 1)), mode='constant', constant_values=255)\n",
    "\n",
    "    return padded_image\n",
    "    "
   ]
  },
  {
   "cell_type": "code",
   "execution_count": 80,
   "id": "c193b400-6e69-4b47-828a-48c2fb8942c5",
   "metadata": {},
   "outputs": [
    {
     "name": "stderr",
     "output_type": "stream",
     "text": [
      "/tmp/ipykernel_553/3746202035.py:90: FutureWarning: The behavior of DataFrame concatenation with empty or all-NA entries is deprecated. In a future version, this will no longer exclude empty or all-NA columns when determining the result dtypes. To retain the old behavior, exclude the relevant entries before the concat operation.\n",
      "  particle_df = pd.concat([particle_df, one_particle_data_df], ignore_index=True)\n"
     ]
    }
   ],
   "source": [
    "## taking our cleaned data, where the files are indexed >4 in length\n",
    "\n",
    "# ! the sectioned up data may contain >1 image of ice #\n",
    " \n",
    "# 1. want to find all objects in the sections\n",
    "# 2. identify objects in which the max dimension is > than specific threshold\n",
    "# 3. extract start + end index of said particle\n",
    "# 4. use this index to slice + get corresponding UTC time associated with particle\n",
    "# 5. get useful stats about particle + add to df\n",
    "\n",
    "length_threshold = 300 # mu - need this minimum length of max dimension to extract the particle\n",
    "pixel_resolution = 10 # mu\n",
    "desired_image_size = 120\n",
    "# ~ ~ ~ ~ ~ ~ ~ ~ ~ ~ ~ ~ ~ ~ ~ ~ ~ ~ ~ ~ ~ ~ ~ ~ ~ ~ ~ ~ ~ ~ ~ ~ ~ ~ ~ ~ ~ ~ ~ ~ ~ ~ ~ ~ ~ ~ ~ ~ ~ ~ ~ ~ ~ ~ ~ ~ ~ ~ ~ ~ ~ ~ ~ ~ ~ ~ ~ ~ ~ ~ ~ ~ ~ ~ ~ ~ ~ ~ ~ ~ ~ ~ ~ ~ ~ ~ ~ ~ ~ ~ ~ ~ ~ ~ ~ ~ ~ ~ ~ ~ ~ ~ ~ ~ ~  #\n",
    "minimum_area = 10 # very quick metric to stop the processing of particles with area < 10 pixels\n",
    "\n",
    "###  set up dataframe, used to extract from raw h5 file + has stats about the particle\n",
    "columns = [\n",
    "    \"name\",\n",
    "    \"particle_label\",\n",
    "    \"start_index\",\n",
    "    \"end_index\",\n",
    "    \"start_time\",\n",
    "    \"end_time\",\n",
    "    \"major_axis_length\",\n",
    "    \"minor_axis_length\",\n",
    "    \"orientation\",\n",
    "    \"centroid\",\n",
    "    \"area\",\n",
    "    \"perimeter\",\n",
    "    \"y0\",\n",
    "    \"y1\"\n",
    "]\n",
    "particle_df = pd.DataFrame(columns=columns)\n",
    "# ~ ~ ~ ~ ~ ~ ~ ~ ~ ~ ~ ~ ~ ~ ~ ~ ~ ~ ~ ~ ~ ~ ~ ~ ~ ~ ~ ~ ~ ~ ~ ~ ~ ~ ~ ~ ~ ~ ~ ~ ~ ~ ~ ~ ~ ~ ~ ~ ~ ~ ~ ~ ~ ~ ~ ~ ~ ~ ~ ~ ~ ~ ~ ~ ~ ~ ~ ~ ~ ~ ~ ~ ~ ~ ~ ~ ~ ~ ~ ~ ~ ~ ~ ~ ~ ~ ~ ~ ~ ~ ~ ~ ~ ~ ~ ~ ~ ~ ~ ~ ~ ~ ~ ~ ~  #\n",
    "## could be looped to extract all crystals of interest\n",
    "\n",
    "# convert whole image true / false\n",
    "binary_image = (one_crystal == 0) ## important, convert regions where 0 = True (our bits of interest), all else false\n",
    "particle_data = [] # can populate with data through time\n",
    "\n",
    "# Label the connected components - i.e. extract particles from blank space + label them\n",
    "labeled_image, num_features = label(binary_image) # identify connected true areas\n",
    "# labeled_image = array, with each true area given a number to identify them\n",
    "# num_features = number of unique connected components in image. Have to literally have adjacent pixel, not diagonal (this will make them seperate)\n",
    "\n",
    "props = regionprops(labeled_image) # creates quick list of properties describing each feature detected in the image.\n",
    "# has: label, area, centroid, bounding box - for each feature\n",
    "\n",
    "\n",
    "## only doing this if anything there i.e. if props\n",
    "## want to extract only particles that surpass area threshold \n",
    "if props:\n",
    "    for particle in props:\n",
    "        # quickly get rid of tiny particles\n",
    "        if particle.area >= minimum_area:\n",
    "            ## basic info\n",
    "            coords = particle.coords # basically gives coords of each point of interest\n",
    "            x_values = np.unique(coords[:, 1])\n",
    "            s_idx = int(selected_values[i] + x_values[0])\n",
    "            e_idx = int(selected_values[i] + x_values[-1])\n",
    "            \n",
    "            ## more complex stats\n",
    "            spec_region = stats_description(particle)\n",
    "        \n",
    "            if spec_region and spec_region.major_axis_length * pixel_resolution >= length_threshold:\n",
    "                # nice way of saving data - lenth + measurements are correct in microns\n",
    "                one_particle_data = {\n",
    "                        #\"image_index\": image_index,\n",
    "                        \"name\": f'{s_idx}_{particle.label}',\n",
    "                        \"particle_label\": particle.label,\n",
    "                        \"start_index\": s_idx,\n",
    "                        \"end_index\": e_idx,\n",
    "                        \"start_time\": str(time_xr['utc_time'][s_idx].values).split('T')[1], # more friendly time\n",
    "                        \"end_time\": str(time_xr['utc_time'][e_idx].values).split('T')[1],\n",
    "                    \n",
    "                        #\"start_time\": time_xr['utc_time'][s_idx],  # assuming 'time_xr' is pre-defined and syncs with indices\n",
    "                        #\"end_time\": time_xr['utc_time'][e_idx],\n",
    "                        \"major_axis_length\": spec_region.major_axis_length * pixel_resolution,\n",
    "                        \"minor_axis_length\": spec_region.minor_axis_length * pixel_resolution,\n",
    "                        \"orientation\": spec_region.orientation,\n",
    "                        \"centroid\": spec_region.centroid,\n",
    "                        \"area\": (spec_region.area * (pixel_resolution**2)),\n",
    "                        \"perimeter\": (spec_region.perimeter * pixel_resolution),\n",
    "                        \"y0\": coords[0][0],\n",
    "                        \"y1\": coords[-1][0]\n",
    "                        }\n",
    "                one_particle_data_df = pd.DataFrame([one_particle_data])\n",
    "                particle_df = pd.concat([particle_df, one_particle_data_df], ignore_index=True)\n",
    "                "
   ]
  },
  {
   "cell_type": "code",
   "execution_count": 64,
   "id": "fd104b20-ac9a-4464-a4c7-d974e5fc9ec9",
   "metadata": {},
   "outputs": [
    {
     "name": "stdout",
     "output_type": "stream",
     "text": [
      "[[255 255 255 ... 255 255 255]\n",
      " [255 255 255 ... 255 255 255]\n",
      " [255 255 255 ... 255 255 255]\n",
      " ...\n",
      " [255 255 255 ... 255 255 255]\n",
      " [255 255 255 ... 255 255 255]\n",
      " [255 255 255 ... 255 255 255]]\n"
     ]
    }
   ],
   "source": [
    "particle_df['start_index'][0]\n",
    "y0 = particle_df['y0'][0]\n",
    "y1 = particle_df['y1'][0]\n",
    "#print(y0)\n",
    "#print(y1)\n",
    "\n",
    "## plot with 2 pixel buffer - pos how want to save each image\n",
    "extract = f2ds['ImageData'][particle_df['y0'][0]-2:particle_df['y1'][0]+3,particle_df['start_index'][0]-2:particle_df['end_index'][0]+3]\n",
    "#extract = f2ds['ImageData'][:,particle_df['start_index'][0] -2:particle_df['end_index'][0]+3]\n",
    "\n",
    "#plt.imshow(extract, cmap='Greys')\n",
    "print(extract)"
   ]
  },
  {
   "cell_type": "code",
   "execution_count": 83,
   "id": "784c5d48-85d9-4836-836e-65bc4f319073",
   "metadata": {},
   "outputs": [
    {
     "data": {
      "text/html": [
       "<div>\n",
       "<style scoped>\n",
       "    .dataframe tbody tr th:only-of-type {\n",
       "        vertical-align: middle;\n",
       "    }\n",
       "\n",
       "    .dataframe tbody tr th {\n",
       "        vertical-align: top;\n",
       "    }\n",
       "\n",
       "    .dataframe thead th {\n",
       "        text-align: right;\n",
       "    }\n",
       "</style>\n",
       "<table border=\"1\" class=\"dataframe\">\n",
       "  <thead>\n",
       "    <tr style=\"text-align: right;\">\n",
       "      <th></th>\n",
       "      <th>name</th>\n",
       "      <th>particle_label</th>\n",
       "      <th>start_index</th>\n",
       "      <th>end_index</th>\n",
       "      <th>start_time</th>\n",
       "      <th>end_time</th>\n",
       "      <th>major_axis_length</th>\n",
       "      <th>minor_axis_length</th>\n",
       "      <th>orientation</th>\n",
       "      <th>centroid</th>\n",
       "      <th>area</th>\n",
       "      <th>perimeter</th>\n",
       "      <th>y0</th>\n",
       "      <th>y1</th>\n",
       "    </tr>\n",
       "  </thead>\n",
       "  <tbody>\n",
       "    <tr>\n",
       "      <th>0</th>\n",
       "      <td>10304_41</td>\n",
       "      <td>41</td>\n",
       "      <td>10304</td>\n",
       "      <td>10353</td>\n",
       "      <td>16:55:43.208000000</td>\n",
       "      <td>16:55:43.286000000</td>\n",
       "      <td>491.870635</td>\n",
       "      <td>442.699181</td>\n",
       "      <td>0.068674</td>\n",
       "      <td>(25.55128205128205, 21.843101343101342)</td>\n",
       "      <td>163800.0</td>\n",
       "      <td>2298.589104</td>\n",
       "      <td>18</td>\n",
       "      <td>69</td>\n",
       "    </tr>\n",
       "  </tbody>\n",
       "</table>\n",
       "</div>"
      ],
      "text/plain": [
       "       name particle_label start_index end_index          start_time  \\\n",
       "0  10304_41             41       10304     10353  16:55:43.208000000   \n",
       "\n",
       "             end_time  major_axis_length  minor_axis_length  orientation  \\\n",
       "0  16:55:43.286000000         491.870635         442.699181     0.068674   \n",
       "\n",
       "                                  centroid      area    perimeter  y0  y1  \n",
       "0  (25.55128205128205, 21.843101343101342)  163800.0  2298.589104  18  69  "
      ]
     },
     "execution_count": 83,
     "metadata": {},
     "output_type": "execute_result"
    }
   ],
   "source": [
    "particle_df"
   ]
  },
  {
   "cell_type": "code",
   "execution_count": 95,
   "id": "45163f4a-583f-421c-afde-8d1845b2042d",
   "metadata": {},
   "outputs": [],
   "source": [
    "#particle_df\n",
    "for index, row in particle_df.iterrows():\n",
    "    # extract image data from main h5 file\n",
    "    extract_crystal_image = f2ds['ImageData'][row['y0']-2:row['y1']+3,row['start_index']-2:row['end_index']+3] # a couple of points have been added around the image, as it appears to cut it off\n",
    "    padded_crystal = add_padding(extract_crystal_image, 120) # add padding \n",
    "    save_name = row['name']\n",
    "\n",
    "    # save\n",
    "    '''\n",
    "    plt.imshow(padded_image, cmap='Greys')\n",
    "    plt.axis('off')\n",
    "    plt.savefig(f'{save_name}.png', bbox_inches='tight', pad_inches=0)\n",
    "    '''\n",
    "    plt.imsave(f'{save_name}.png', padded_crystal, cmap='Greys')\n",
    "\n",
    "    #print(f\"Index: {index}\")\n",
    "    #print(f\"Name: {row['name']}\")\n",
    "    #print()"
   ]
  },
  {
   "cell_type": "code",
   "execution_count": 72,
   "id": "accc0d5d-0fe6-456e-a717-a2c401653ef6",
   "metadata": {},
   "outputs": [
    {
     "data": {
      "image/png": "[encoded data removed]",
      "text/plain": [
       "<Figure size 640x480 with 1 Axes>"
      ]
     },
     "metadata": {},
     "output_type": "display_data"
    }
   ],
   "source": [
    "## going through dataframe made + extracting the crystals + saving them\n",
    "\n",
    "\n",
    "\n",
    "## saving image, with padding - uniform size of 120 x 120\n",
    "\n",
    "# Desired size\n",
    "desired_size = 120 # going off size of probe\n",
    "\n",
    "# Calculate padding\n",
    "pad_height = (desired_size - extract.shape[0]) // 2\n",
    "pad_width = (desired_size - extract.shape[1]) // 2\n",
    "\n",
    "# Pad the image\n",
    "padded_image = np.pad(extract, ((pad_height, pad_height), (pad_width, pad_width)), mode='constant', constant_values=255)\n",
    "\n",
    "# In case the dimensions are odd, add an extra row/column to match the desired size\n",
    "if padded_image.shape[0] < desired_size:\n",
    "    padded_image = np.pad(padded_image, ((0, 1), (0, 0)), mode='constant', constant_values=255)\n",
    "if padded_image.shape[1] < desired_size:\n",
    "    padded_image = np.pad(padded_image, ((0, 0), (0, 1)), mode='constant', constant_values=255)\n",
    "\n",
    "# Save as PNG\n",
    "plt.imshow(padded_image, cmap='Greys')\n",
    "plt.axis('off')\n",
    "plt.savefig('padded_image.png', bbox_inches='tight', pad_inches=0)"
   ]
  },
  {
   "cell_type": "markdown",
   "id": "5810eb26-08cf-4ae7-95d5-3e15f7a688b6",
   "metadata": {},
   "source": [
    "## Bonus stuff\n",
    "looking at Jaffeux et al. 2022 image to understand its dimensions\n",
    "* okay there is no metadata, so we cannot tell how much padding the image has recived"
   ]
  },
  {
   "cell_type": "code",
   "execution_count": 70,
   "id": "eb303716-b480-4afc-af1b-04658e65ba77",
   "metadata": {
    "jupyter": {
     "source_hidden": true
    }
   },
   "outputs": [
    {
     "name": "stdout",
     "output_type": "stream",
     "text": [
      "Dimensions: 200 x 200\n",
      "Resolution info not available in image metadata\n"
     ]
    }
   ],
   "source": [
    "from PIL import Image\n",
    "\n",
    "# Load the image\n",
    "image_path = '46965.png' ## padded_image.png / 46965.png\n",
    "image = Image.open(image_path)\n",
    "\n",
    "# Get dimensions\n",
    "width, height = image.size\n",
    "\n",
    "# Print dimensions\n",
    "print(f\"Dimensions: {width} x {height}\")\n",
    "\n",
    "# Get resolution (Pillow does not directly provide resolution in DPI, but some images might contain metadata for resolution)\n",
    "# You can access this metadata if it exists\n",
    "dpi = image.info.get('dpi', (None, None))  # (horizontal_dpi, vertical_dpi)\n",
    "\n",
    "if dpi[0] and dpi[1]:\n",
    "    print(f\"Resolution: {dpi[0]} DPI x {dpi[1]} DPI\")\n",
    "else:\n",
    "    print(\"Resolution info not available in image metadata\")"
   ]
  },
  {
   "cell_type": "code",
   "execution_count": null,
   "id": "1002b0c5-490e-4007-940a-839627ad6a2f",
   "metadata": {},
   "outputs": [],
   "source": []
  }
 ],
 "metadata": {
  "kernelspec": {
   "display_name": "Python 3 + Jaspy",
   "language": "python",
   "name": "jaspy"
  },
  "language_info": {
   "codemirror_mode": {
    "name": "ipython",
    "version": 3
   },
   "file_extension": ".py",
   "mimetype": "text/x-python",
   "name": "python",
   "nbconvert_exporter": "python",
   "pygments_lexer": "ipython3",
   "version": "3.11.9"
  }
 },
 "nbformat": 4,
 "nbformat_minor": 5
}
