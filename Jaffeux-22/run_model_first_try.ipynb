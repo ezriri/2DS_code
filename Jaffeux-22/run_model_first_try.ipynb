{
 "cells": [
  {
   "cell_type": "markdown",
   "id": "c00e76c3-927b-4b16-84db-7250bb653b95",
   "metadata": {},
   "source": [
    "## 0. open + run the pre-trained model from Jaffeux \n",
    "(first time doing this)\n",
    "\n",
    "containts code for messing around with inital opening + running of model\n",
    "\n",
    "script also predict a single image"
   ]
  },
  {
   "cell_type": "code",
   "execution_count": 7,
   "id": "d6af97df-c0ed-4b58-b797-472cd5cee22a",
   "metadata": {},
   "outputs": [],
   "source": [
    "import tensorflow as tf\n",
    "import numpy as np\n",
    "from tensorflow.keras.preprocessing import image\n",
    "from tensorflow.keras.models import load_model\n",
    "import csv\n",
    "import concurrent.futures"
   ]
  },
  {
   "cell_type": "code",
   "execution_count": 8,
   "id": "392d226e-61dd-42e0-9e86-1d36e2b37d00",
   "metadata": {},
   "outputs": [
    {
     "name": "stdout",
     "output_type": "stream",
     "text": [
      "WARNING:tensorflow:SavedModel saved prior to TF 2.5 detected when loading Keras model. Please ensure that you are saving the model with model.save() or tf.keras.models.save_model(), *NOT* tf.saved_model.save(). To confirm, there should be a file named \"keras_metadata.pb\" in the SavedModel directory.\n"
     ]
    },
    {
     "name": "stderr",
     "output_type": "stream",
     "text": [
      "WARNING:tensorflow:SavedModel saved prior to TF 2.5 detected when loading Keras model. Please ensure that you are saving the model with model.save() or tf.keras.models.save_model(), *NOT* tf.saved_model.save(). To confirm, there should be a file named \"keras_metadata.pb\" in the SavedModel directory.\n"
     ]
    }
   ],
   "source": [
    "import tensorflow as tf\n",
    "from tensorflow.keras.models import load_model\n",
    "from tensorflow.keras.utils import register_keras_serializable\n",
    "\n",
    "# Define custom layer with serialization support\n",
    "@register_keras_serializable()\n",
    "class RandomFlip(tf.keras.layers.Layer):\n",
    "    ## random flip should only be used during training, not application of CNN\n",
    "    def __init__(self, mode='horizontal_and_vertical', seed=None, **kwargs):\n",
    "        super(RandomFlip, self).__init__(**kwargs)\n",
    "        self.mode = mode\n",
    "        self.seed = seed\n",
    "\n",
    "    def call(self, inputs, training=None):\n",
    "        if training:\n",
    "            if self.mode == 'horizontal_and_vertical':\n",
    "                return tf.image.random_flip_left_right(tf.image.random_flip_up_down(inputs), seed=self.seed)\n",
    "            elif self.mode == 'horizontal':\n",
    "                return tf.image.random_flip_left_right(inputs, seed=self.seed)\n",
    "            elif self.mode == 'vertical':\n",
    "                return tf.image.random_flip_up_down(inputs, seed=self.seed)\n",
    "        return inputs\n",
    "\n",
    "    def get_config(self):\n",
    "        config = super(RandomFlip, self).get_config()\n",
    "        config.update({'mode': self.mode, 'seed': self.seed})\n",
    "        return config\n",
    "\n",
    "# Load the model with custom objects\n",
    "custom_objects = {'RandomFlip': RandomFlip}\n",
    "model = load_model('/gws/nopw/j04/dcmex/users/ezriab/cp-of-Jaffeux-22/novmodel.h5py', custom_objects=custom_objects)\n",
    "\n",
    "# model = tf.keras.models.load_model('/gws/nopw/j04/dcmex/users/ezriab/cp-of-Jaffeux-22/DS_model/', custom_objects=custom_objects)\n"
   ]
  },
  {
   "cell_type": "code",
   "execution_count": 9,
   "id": "6c4fc07d-5d5c-4e4a-ad74-f35b782a6199",
   "metadata": {},
   "outputs": [
    {
     "name": "stdout",
     "output_type": "stream",
     "text": [
      "Model: \"sequential\"\n",
      "_________________________________________________________________\n",
      " Layer (type)                Output Shape              Param #   \n",
      "=================================================================\n",
      " sequential_1 (Sequential)   (None, 200, 200, 1)       0         \n",
      "                                                                 \n",
      " conv2d (Conv2D)             (None, 198, 198, 64)      640       \n",
      "                                                                 \n",
      " max_pooling2d (MaxPooling2  (None, 99, 99, 64)        0         \n",
      " D)                                                              \n",
      "                                                                 \n",
      " dropout (Dropout)           (None, 99, 99, 64)        0         \n",
      "                                                                 \n",
      " conv2d_1 (Conv2D)           (None, 97, 97, 128)       73856     \n",
      "                                                                 \n",
      " max_pooling2d_1 (MaxPoolin  (None, 48, 48, 128)       0         \n",
      " g2D)                                                            \n",
      "                                                                 \n",
      " dropout_1 (Dropout)         (None, 48, 48, 128)       0         \n",
      "                                                                 \n",
      " conv2d_2 (Conv2D)           (None, 46, 46, 256)       295168    \n",
      "                                                                 \n",
      " max_pooling2d_2 (MaxPoolin  (None, 23, 23, 256)       0         \n",
      " g2D)                                                            \n",
      "                                                                 \n",
      " dropout_2 (Dropout)         (None, 23, 23, 256)       0         \n",
      "                                                                 \n",
      " conv2d_3 (Conv2D)           (None, 21, 21, 512)       1180160   \n",
      "                                                                 \n",
      " max_pooling2d_3 (MaxPoolin  (None, 10, 10, 512)       0         \n",
      " g2D)                                                            \n",
      "                                                                 \n",
      " dropout_3 (Dropout)         (None, 10, 10, 512)       0         \n",
      "                                                                 \n",
      " conv2d_4 (Conv2D)           (None, 8, 8, 1024)        4719616   \n",
      "                                                                 \n",
      " max_pooling2d_4 (MaxPoolin  (None, 4, 4, 1024)        0         \n",
      " g2D)                                                            \n",
      "                                                                 \n",
      " dropout_4 (Dropout)         (None, 4, 4, 1024)        0         \n",
      "                                                                 \n",
      " conv2d_5 (Conv2D)           (None, 2, 2, 2048)        18876416  \n",
      "                                                                 \n",
      " max_pooling2d_5 (MaxPoolin  (None, 1, 1, 2048)        0         \n",
      " g2D)                                                            \n",
      "                                                                 \n",
      " dropout_5 (Dropout)         (None, 1, 1, 2048)        0         \n",
      "                                                                 \n",
      " flatten (Flatten)           (None, 2048)              0         \n",
      "                                                                 \n",
      " dense (Dense)               (None, 128)               262272    \n",
      "                                                                 \n",
      " dropout_6 (Dropout)         (None, 128)               0         \n",
      "                                                                 \n",
      " dense_1 (Dense)             (None, 9)                 1161      \n",
      "                                                                 \n",
      "=================================================================\n",
      "Total params: 25409289 (96.93 MB)\n",
      "Trainable params: 25409289 (96.93 MB)\n",
      "Non-trainable params: 0 (0.00 Byte)\n",
      "_________________________________________________________________\n"
     ]
    }
   ],
   "source": [
    "model.summary()"
   ]
  },
  {
   "cell_type": "code",
   "execution_count": 17,
   "id": "e9a1f80e-9c84-4b66-913b-b4ece473664d",
   "metadata": {},
   "outputs": [
    {
     "name": "stdout",
     "output_type": "stream",
     "text": [
      "1/1 [==============================] - 1s 638ms/step\n",
      "[0.0000000e+00 0.0000000e+00 0.0000000e+00 0.0000000e+00 1.0000000e+00\n",
      " 6.2923784e-32 0.0000000e+00 0.0000000e+00 0.0000000e+00]\n"
     ]
    }
   ],
   "source": [
    "### looking at a single image\n",
    "# Load and preprocess your own data (example for a single image)\n",
    "Jaffeux_data = '/gws/nopw/j04/dcmex/users/ezriab/cp-of-Jaffeux-22/DS_training_data/class_05_CG/' #class_01_Pri  class_02_Co  class_03_CC  class_04_ABC  class_05_CG  class_06_HC  class_07_Di  class_08_FA  class_09_WD\n",
    "j_specif_image = '360524.png'\n",
    "\n",
    "dcmex_2ds = '/gws/nopw/j04/dcmex/users/ezriab/processed_images/2ds/flight_220730153000/'\n",
    "specif_image = '969122_3.png'\n",
    "\n",
    "#categories = ['Pri', 'Co', 'CC', 'ABC', 'CG', 'HC', 'Di', 'FA', 'WD'] # these are what training data contains - but don't match paper\n",
    "categories = ['CA', 'Co',  'CC', 'CBC', 'CG', 'HPC', 'Dif', 'FA', 'WD'] # match paper predictions\n",
    "\n",
    "#img_path = Jaffeux_data+j_specif_image\n",
    "img_path = dcmex_2ds+specif_image\n",
    "\n",
    "img = image.load_img(img_path, target_size=(200, 200), color_mode='grayscale')\n",
    "\n",
    "img_array = image.img_to_array(img)\n",
    "img_array = np.expand_dims(img_array, axis=0)  # Add batch dimension\n",
    "\n",
    "# Predict using the loaded model\n",
    "predictions = model.predict(img_array)[0]\n",
    "print(predictions)\n",
    "\n",
    "# Find the index of the category with the highest probability\n",
    "predicted_index = np.argmax(predictions)\n",
    "\n",
    "# Get the corresponding category\n",
    "predicted_category = categories[predicted_index]\n",
    "\n",
    "# Prepare the data to be saved\n",
    "result = {'Name': specif_image[:-4], 'Category': predicted_category}\n",
    "for i, category in enumerate(categories):\n",
    "    result[category] = predictions[i]\n",
    "\n",
    "# Save the predictions and the predicted category to a CSV file\n",
    "with open('predictions_and_category.csv', 'w', newline='') as csvfile:\n",
    "    fieldnames = ['Name', 'Category'] + categories\n",
    "    writer = csv.DictWriter(csvfile, fieldnames=fieldnames)\n",
    "\n",
    "    writer.writeheader()\n",
    "    writer.writerow(result)"
   ]
  },
  {
   "cell_type": "markdown",
   "id": "06b496a0-5713-47e3-9f44-5318970a4e4b",
   "metadata": {},
   "source": [
    "## problematic images\n"
   ]
  },
  {
   "cell_type": "code",
   "execution_count": 10,
   "id": "e996def2-273a-42b5-b68c-652958aaec1a",
   "metadata": {},
   "outputs": [],
   "source": [
    "dcmex_2ds = '/gws/nopw/j04/dcmex/users/ezriab/processed_images/2ds/ch_0/220730153000/'\n",
    "specif_image = '328736_2.png'"
   ]
  },
  {
   "cell_type": "code",
   "execution_count": 15,
   "id": "1ae73472-3037-42bd-a57b-eb9785383bbe",
   "metadata": {},
   "outputs": [
    {
     "name": "stdout",
     "output_type": "stream",
     "text": [
      "Skipping /gws/nopw/j04/dcmex/users/ezriab/processed_images/2ds/ch_0/220730153000/328736_2.png: error - [Errno 2] No such file or directory: '/gws/nopw/j04/dcmex/users/ezriab/processed_images/2ds/ch_0/220730153000/328736_2.png'\n",
      "Image could not be loaded, skipping prediction.\n"
     ]
    },
    {
     "data": {
      "text/plain": [
       "\"\\n# Prepare the data to be saved\\ndata = {'Name': file_names[i][:-4], 'Category': predicted_category}\\nfor j, category in enumerate(categories):\\n    data[category] = predictions[j]\\n\\n# Append the data to results list\\nresults.append(data)\\n\\n# Save results\\ndf = pd.DataFrame(results, columns=columns_names)\\ndf.to_csv(save_loc + save_name, index=False)\\nprint('Finished')\\n\""
      ]
     },
     "execution_count": 15,
     "metadata": {},
     "output_type": "execute_result"
    }
   ],
   "source": [
    "\n",
    "# Define a function to load an image\n",
    "def load_image_with_timeout(file_path, target_size=(200, 200), color_mode='grayscale', timeout=10):\n",
    "    try:\n",
    "        with concurrent.futures.ThreadPoolExecutor() as executor:\n",
    "            future = executor.submit(image.load_img, file_path, target_size=target_size, color_mode=color_mode)\n",
    "            img = future.result(timeout=timeout)  # Set a timeout in seconds\n",
    "        return img\n",
    "    except concurrent.futures.TimeoutError:\n",
    "        print(f\"Skipping {file_path}: loading timed out.\")\n",
    "    except Exception as e:\n",
    "        print(f\"Skipping {file_path}: error - {e}\")\n",
    "    return None\n",
    "\n",
    "\n",
    "file_path_full = dcmex_2ds + specif_image\n",
    "\n",
    "# Attempt to load the image with a timeout\n",
    "img = load_image_with_timeout(file_path_full)\n",
    "if img is not None:\n",
    "    # Process the image if loaded successfully\n",
    "    img_array = image.img_to_array(img)\n",
    "    img_array = np.expand_dims(img_array, axis=0)  # Add batch dimension\n",
    "\n",
    "    # Predict using the loaded model\n",
    "    predictions = model.predict(img_array, verbose=0)[0]\n",
    "    predicted_index = np.argmax(predictions)\n",
    "    predicted_category = categories[predicted_index]\n",
    "    print(predicted_category)\n",
    "else:\n",
    "    print(\"Image could not be loaded, skipping prediction.\")\n",
    "    \n",
    "    \n",
    "\n",
    "'''\n",
    "# Prepare the data to be saved\n",
    "data = {'Name': file_names[i][:-4], 'Category': predicted_category}\n",
    "for j, category in enumerate(categories):\n",
    "    data[category] = predictions[j]\n",
    "\n",
    "# Append the data to results list\n",
    "results.append(data)\n",
    "\n",
    "# Save results\n",
    "df = pd.DataFrame(results, columns=columns_names)\n",
    "df.to_csv(save_loc + save_name, index=False)\n",
    "print('Finished')\n",
    "'''"
   ]
  },
  {
   "cell_type": "code",
   "execution_count": null,
   "id": "85697821-5cf2-48af-9729-5b09536c4083",
   "metadata": {},
   "outputs": [],
   "source": []
  }
 ],
 "metadata": {
  "kernelspec": {
   "display_name": "Python 3 + Jaspy",
   "language": "python",
   "name": "jaspy"
  },
  "language_info": {
   "codemirror_mode": {
    "name": "ipython",
    "version": 3
   },
   "file_extension": ".py",
   "mimetype": "text/x-python",
   "name": "python",
   "nbconvert_exporter": "python",
   "pygments_lexer": "ipython3",
   "version": "3.11.9"
  }
 },
 "nbformat": 4,
 "nbformat_minor": 5
}
