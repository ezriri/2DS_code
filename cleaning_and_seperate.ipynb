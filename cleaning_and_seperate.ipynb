{
 "cells": [
  {
   "cell_type": "markdown",
   "id": "e2a06cde-7385-47be-a070-8239bc6cb747",
   "metadata": {},
   "source": [
    "# h5 -> seperate particles -> cleaning\n",
    "This is updated code for reading in 2D-S / HVPS h5 files, extracting the particles, cleaning the images (only significant particles present) and save individual particles as png.\n",
    "\n",
    "this is the streamlined code from previous\n",
    "\n",
    "with optional stats about particles also created"
   ]
  },
  {
   "cell_type": "raw",
   "id": "9a092144-16b0-41e1-a75c-76866f9d7cca",
   "metadata": {},
   "source": [
    "* calculations done on filled in images? no, only should be used for extracting them"
   ]
  },
  {
   "cell_type": "code",
   "execution_count": 1,
   "id": "94f87a63-5cc3-43c6-956c-17bd7fc90cbd",
   "metadata": {},
   "outputs": [],
   "source": [
    "import xarray as xr\n",
    "import matplotlib.pyplot as plt\n",
    "import matplotlib as mpl\n",
    "import numpy as np\n",
    "from glob import glob\n",
    "import seaborn as sns\n",
    "import xesmf as xe\n",
    "import pandas as pd\n",
    "#import def_homebrew as hb ## homemade functions xox\n",
    "from scipy.special import gamma\n",
    "import netCDF4 as nc\n",
    "from datetime import datetime, timedelta\n",
    "\n",
    "import h5py ####\n",
    "from PIL import Image\n",
    "import os"
   ]
  },
  {
   "cell_type": "code",
   "execution_count": 4,
   "id": "6c4499fe-bdcb-425c-b5ea-b520aa6f54bf",
   "metadata": {},
   "outputs": [],
   "source": [
    "## path to raw h5 \n",
    "'''\n",
    "# 2ds !! be careful of channels\n",
    "path_h5_ds_0 = '/gws/nopw/j04/dcmex/users/ezriab/raw_h5/2ds/ch_0/'\n",
    "path_h5_ds_1 = '/gws/nopw/j04/dcmex/users/ezriab/raw_h5/2ds/ch_1/'\n",
    "\n",
    "# hvps\n",
    "path_h5_hvps = '/gws/nopw/j04/dcmex/users/ezriab/raw_h5/hvps/'\n",
    "'''\n",
    "## some practice files - don't want to interfear actual data\n",
    "path_h5_ds_0 = '/home/users/esree/data/'\n",
    "path_h5_hvps = '/home/users/esree/data/'\n",
    "\n",
    "example_ds = 'ch_0_ds_Export_base220719154358.h5'\n",
    "example_hvps = 'hvps_Export_base220716161816.h5'"
   ]
  },
  {
   "cell_type": "markdown",
   "id": "4b3f9ac9-ae06-412d-ba40-921319205a73",
   "metadata": {},
   "source": [
    "## je m'appelle open"
   ]
  },
  {
   "cell_type": "code",
   "execution_count": 13,
   "id": "53119a3a-41e4-4fcc-a386-3de969201550",
   "metadata": {},
   "outputs": [],
   "source": [
    "# everything is executed on a single file \n",
    "## open\n",
    "file_path_name = path_h5_ds_0+example_ds\n",
    "#file_path_name = path_h5_hvps+example_hvps\n",
    "\n",
    "h5_file = h5py.File(file_path_name,'r') \n",
    "\n",
    "h5_image = h5_file['ImageData'] \n",
    "h5_time = h5_file['ImageTimes']"
   ]
  },
  {
   "cell_type": "code",
   "execution_count": 14,
   "id": "100b5816-8f19-487f-9bb9-5159b514d58f",
   "metadata": {},
   "outputs": [
    {
     "name": "stdout",
     "output_type": "stream",
     "text": [
      "<HDF5 dataset \"ImageData\": shape (128, 2400000), type \"|u1\">\n",
      "<HDF5 dataset \"ImageTimes\": shape (200000, 3), type \"<f8\">\n"
     ]
    }
   ],
   "source": [
    "print(h5_image)\n",
    "print(h5_time)"
   ]
  },
  {
   "cell_type": "code",
   "execution_count": 12,
   "id": "6340d61b-1c87-4888-9d92-8266461c98ff",
   "metadata": {},
   "outputs": [
    {
     "name": "stdout",
     "output_type": "stream",
     "text": [
      "<HDF5 dataset \"ImageData\": shape (128, 200000), type \"|u1\">\n",
      "<HDF5 dataset \"ImageTimes\": shape (100000, 3), type \"<f8\">\n"
     ]
    }
   ],
   "source": [
    "print(h5_image)\n",
    "print(h5_time)"
   ]
  },
  {
   "cell_type": "code",
   "execution_count": null,
   "id": "8c59a3d6-1865-46fb-afc7-2bb001a7aae4",
   "metadata": {},
   "outputs": [],
   "source": []
  },
  {
   "cell_type": "code",
   "execution_count": null,
   "id": "91ec3d11-a83e-46d6-bc71-46ad90ba1e71",
   "metadata": {},
   "outputs": [],
   "source": []
  },
  {
   "cell_type": "code",
   "execution_count": null,
   "id": "525a025c-2579-4372-adcc-87bf1f6293dc",
   "metadata": {},
   "outputs": [],
   "source": []
  },
  {
   "cell_type": "code",
   "execution_count": null,
   "id": "1497a65d-bd7c-468b-a720-55032de7768e",
   "metadata": {},
   "outputs": [],
   "source": []
  }
 ],
 "metadata": {
  "kernelspec": {
   "display_name": "Python 3 + Jaspy",
   "language": "python",
   "name": "jaspy"
  },
  "language_info": {
   "codemirror_mode": {
    "name": "ipython",
    "version": 3
   },
   "file_extension": ".py",
   "mimetype": "text/x-python",
   "name": "python",
   "nbconvert_exporter": "python",
   "pygments_lexer": "ipython3",
   "version": "3.11.9"
  }
 },
 "nbformat": 4,
 "nbformat_minor": 5
}
