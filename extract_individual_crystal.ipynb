{
 "cells": [
  {
   "cell_type": "markdown",
   "id": "929a48e2-02ca-4c80-aa0f-0f8783b4801a",
   "metadata": {},
   "source": [
    "this notebook is for extracting individual crystals from the large h5 files, and converting to their own individual h5 file\n",
    "* one file at a time -> potentially loop in the future\n",
    "* assume Jonny format, all images stacked together"
   ]
  },
  {
   "cell_type": "code",
   "execution_count": 19,
   "id": "f41383a7-a235-4224-83e8-886011d105dc",
   "metadata": {},
   "outputs": [],
   "source": [
    "import xarray as xr\n",
    "import matplotlib.pyplot as plt\n",
    "import matplotlib as mpl\n",
    "import numpy as np\n",
    "from glob import glob\n",
    "import seaborn as sns\n",
    "import xesmf as xe\n",
    "import pandas as pd\n",
    "#import def_homebrew as hb ## homemade functions xox\n",
    "from scipy.special import gamma\n",
    "import netCDF4 as nc\n",
    "from datetime import datetime, timedelta\n",
    "\n",
    "import h5py ####\n",
    "from PIL import Image\n",
    "#from IPython.display import display #\n",
    "#import cv2 # not working\n",
    "import os"
   ]
  },
  {
   "cell_type": "code",
   "execution_count": 20,
   "id": "c58866fb-b07c-43f9-87aa-64db74fcd445",
   "metadata": {},
   "outputs": [],
   "source": [
    "## files location\n",
    "ds_loc = '/home/users/esree/data/2ds/'\n",
    "hvps_loc = '/home/users/esree/data/hvps/'\n",
    "\n",
    "#file of interest\n",
    "file_name = 'Export_base220723153010.h5' # example file\n",
    "f2ds = h5py.File(ds_loc+ file_name,'r') # open file\n",
    "\n",
    "# break file into two - data + time\n",
    "ds_image = f2ds['ImageData'] \n",
    "ds_time = f2ds['ImageTimes']\n",
    "## ~~~~~~~~~~~~~~~~~~~~~~~~~~~~~~~~~~~~~~~~~~~~~~~~~~~~~~~~~~~~~~~~~~~~~~~~~~~~~~~~~~~~~~~~~~~~~~~~~~~~~~~~~~~~~~~~~~~\n",
    "##### make xarray of useful time data #####\n",
    "sec_since = ds_time[:,0]\n",
    "pixel_slice = ds_time[:,1]\n",
    "pix_sum = pixel_slice.cumsum(dtype = 'int')\n",
    "\n",
    "## make useful datetime format (not seconds since midnight)\n",
    "# using the file name for reference\n",
    "date_str = file_name[11:17]\n",
    "starting_date = datetime.strptime(date_str, '%y%m%d')\n",
    "time_deltas = [timedelta(seconds=float(sec)) for sec in sec_since]\n",
    "utc_time = [starting_date + delta for delta in time_deltas]\n",
    "\n",
    "time_xr =xr.Dataset({\n",
    "    'utc_time':utc_time,\n",
    "    'pixel_slice': pixel_slice,\n",
    "    'pix_sum': pix_sum})\n",
    "## ~~~~~~~~~~~~~~~~~~~~~~~~~~~~~~~~~~~~~~~~~~~~~~~~~~~~~~~~~~~~~~~~~~~~~~~~~~~~~~~~~~~~~~~~~~~~~~~~~~~~~~~~~~~~~~~~~~~"
   ]
  },
  {
   "cell_type": "code",
   "execution_count": 39,
   "id": "25489853-aaea-4a95-8f67-fa1edb3eceb1",
   "metadata": {},
   "outputs": [
    {
     "name": "stdout",
     "output_type": "stream",
     "text": [
      "Folder created successfully!\n"
     ]
    }
   ],
   "source": [
    "## this is the code for splitting up the big h5 file -> individual images\n",
    "save_path = '/gws/nopw/j04/dcmex/users/ezriab/2dprocessed/'\n",
    "folder_name = f'flight_{file_name[11:23]}' # each flightset -> own folder\n",
    "\n",
    "if not os.path.exists(save_loc+folder_name):\n",
    "    os.makedirs(save_loc+folder_name)\n",
    "    print(\"Folder created successfully!\")\n",
    "else:\n",
    "    print(\"Folder already exists.\")\n",
    "save_loc = save_path+folder_name+'/'"
   ]
  },
  {
   "cell_type": "code",
   "execution_count": 45,
   "id": "55d3b694-d6e0-435a-9a3d-51ee8b67b4bb",
   "metadata": {},
   "outputs": [
    {
     "name": "stdout",
     "output_type": "stream",
     "text": [
      "18\n",
      "/gws/nopw/j04/dcmex/users/ezriab/2dprocessed/flight_220723153010/0723-17511102_0.h5\n"
     ]
    },
    {
     "data": {
      "text/plain": [
       "\"\\n#print(one_crystal)\\nfor i in range(50):\\n    print(int(time_xr['pix_sum'][i]))\\n\\nfor i in range(20):\\n    print(sec_since[i])\\n\\n\""
      ]
     },
     "execution_count": 45,
     "metadata": {},
     "output_type": "execute_result"
    }
   ],
   "source": [
    "# possibly 2 images are captured simultaneously, so will have to capture this in the name when extracting i.e. _0 or _1.h5\n",
    "# this is a function to extract the image data + save appropriately\n",
    "\n",
    "def extract_save_image(x, save_location, int='0'):\n",
    "    im_s_idx = time_xr['pix_sum'][x].values\n",
    "    im_e_idx = time_xr['pix_sum'][x+1].values\n",
    "\n",
    "    one_crystal = ds_image[:,im_s_idx:im_e_idx]\n",
    "    \n",
    "    crystal_str = str(time_xr['utc_time'][im_s_idx].values)\n",
    "    individual_file = f'{crystal_str[5:7]}{crystal_str[8:10]}-{crystal_str[11:13]}{crystal_str[14:16]}{crystal_str[17:19]}{crystal_str[20:22]}_{int}.h5'\n",
    "\n",
    "    save_name = save_location+individual_file\n",
    "\n",
    "    print(save_name)\n",
    "    \n",
    "    with h5py.File(save_name, 'w') as f:\n",
    "    # Create a dataset in the HDF5 file\n",
    "        f.create_dataset('data', data=one_crystal)\n",
    "\n",
    "\n",
    "for i in range(100):\n",
    "    if i = 0:\n",
    "        extract_save_image\n",
    "    elif time_xr['utc_time'][i] == time_xr['utc_time'][i-1]:\n",
    "        # this account for repeat in time for two seperate images\n",
    "        extract_save_image(i,save_loc,int='1')\n",
    "\n",
    "    else:\n",
    "        extract_save_image(i,save_loc)\n"
   ]
  },
  {
   "cell_type": "code",
   "execution_count": null,
   "id": "c5f50bdb-e4d9-41a9-a75f-553253c272a4",
   "metadata": {},
   "outputs": [],
   "source": []
  }
 ],
 "metadata": {
  "kernelspec": {
   "display_name": "Python 3 + Jaspy",
   "language": "python",
   "name": "jaspy"
  },
  "language_info": {
   "codemirror_mode": {
    "name": "ipython",
    "version": 3
   },
   "file_extension": ".py",
   "mimetype": "text/x-python",
   "name": "python",
   "nbconvert_exporter": "python",
   "pygments_lexer": "ipython3",
   "version": "3.11.9"
  }
 },
 "nbformat": 4,
 "nbformat_minor": 5
}
