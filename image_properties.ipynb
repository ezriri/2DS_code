{
 "cells": [
  {
   "cell_type": "markdown",
   "id": "ee1078c8-04b6-4307-a50f-5dbb45b71774",
   "metadata": {},
   "source": [
    "## working out image properties\n",
    "* image size and resolution"
   ]
  },
  {
   "cell_type": "code",
   "execution_count": 1,
   "id": "9172b386-c736-49ee-a5f7-7e5bedf4d6e5",
   "metadata": {},
   "outputs": [],
   "source": [
    "import xarray as xr\n",
    "import matplotlib.pyplot as plt\n",
    "import matplotlib as mpl\n",
    "import numpy as np\n",
    "from glob import glob\n",
    "import seaborn as sns\n",
    "import xesmf as xe\n",
    "import pandas as pd\n",
    "#import def_homebrew as hb ## homemade functions xox\n",
    "from scipy.special import gamma\n",
    "import netCDF4 as nc\n",
    "from datetime import datetime, timedelta\n",
    "\n",
    "import h5py ####\n",
    "from PIL import Image\n",
    "#from IPython.display import display #\n",
    "#import cv2 # not working\n",
    "import os\n",
    "\n",
    "from scipy.ndimage import convolve, label\n",
    "from skimage.measure import regionprops, find_contours\n",
    "from scipy.spatial import ConvexHull, distance_matrix\n",
    "from skimage.morphology import remove_small_holes ## remove holes <3\n",
    "from scipy.ndimage import binary_fill_holes\n",
    "from skimage import measure\n",
    "from cv2 import cvtColor, COLOR_BGR2GRAY, threshold, THRESH_BINARY, THRESH_OTSU"
   ]
  },
  {
   "cell_type": "code",
   "execution_count": 3,
   "id": "f4905013-bd63-4a40-a38e-ff209738f172",
   "metadata": {},
   "outputs": [
    {
     "name": "stdout",
     "output_type": "stream",
     "text": [
      "Width: 200 pixels\n",
      "Height: 200 pixels\n",
      "DPI: (99.9998, 99.9998)\n"
     ]
    }
   ],
   "source": [
    "# Load the image\n",
    "Jaffeux_data = '/gws/nopw/j04/dcmex/users/ezriab/cp-of-Jaffeux-22/DS_training_data/' #class_01_Pri  class_02_Co  class_03_CC  class_04_ABC  class_05_CG  class_06_HC  class_07_Di  class_08_FA  class_09_WD\n",
    "j_specif_image = 'class_05_CG/360524.png'\n",
    "\n",
    "dcmex_2ds = '/gws/nopw/j04/dcmex/users/ezriab/2dprocessed/'\n",
    "specif_image = 'flight_220730153000/969122_3.png'\n",
    "4\n",
    "#image = Image.open(Jaffeux_data+j_specif_image)\n",
    "image = Image.open(dcmex_2ds+specif_image)\n",
    "\n",
    "\n",
    "# Get size and resolution\n",
    "width, height = image.size\n",
    "dpi = image.info.get('dpi', 'No DPI info available')\n",
    "\n",
    "print(f\"Width: {width} pixels\")\n",
    "print(f\"Height: {height} pixels\")\n",
    "print(f\"DPI: {dpi}\")"
   ]
  },
  {
   "cell_type": "code",
   "execution_count": null,
   "id": "47205770-80c3-4c99-8aca-e99c5102e99a",
   "metadata": {},
   "outputs": [],
   "source": []
  }
 ],
 "metadata": {
  "kernelspec": {
   "display_name": "Python 3 + Jaspy",
   "language": "python",
   "name": "jaspy"
  },
  "language_info": {
   "codemirror_mode": {
    "name": "ipython",
    "version": 3
   },
   "file_extension": ".py",
   "mimetype": "text/x-python",
   "name": "python",
   "nbconvert_exporter": "python",
   "pygments_lexer": "ipython3",
   "version": "3.11.9"
  }
 },
 "nbformat": 4,
 "nbformat_minor": 5
}
