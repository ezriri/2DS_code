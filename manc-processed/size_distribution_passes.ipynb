{
 "cells": [
  {
   "cell_type": "markdown",
   "id": "ac06c4ff-b7b0-4996-a458-720303b75267",
   "metadata": {},
   "source": [
    "this code is for making individual size distribution for specific cloud passes in one day of data \n",
    "* uses FAAM defined times for each cloud pass"
   ]
  },
  {
   "cell_type": "code",
   "execution_count": 1,
   "id": "43896c98-cbf2-4bc6-86ea-7de6da4c4b3d",
   "metadata": {
    "jupyter": {
     "source_hidden": true
    }
   },
   "outputs": [],
   "source": [
    "import xarray as xr\n",
    "import matplotlib.pyplot as plt\n",
    "import matplotlib as mpl\n",
    "import numpy as np\n",
    "from glob import glob\n",
    "import seaborn as sns\n",
    "import xesmf as xe\n",
    "import pandas as pd\n",
    "#import def_homebrew as hb ## homemade functions xox\n",
    "from scipy.special import gamma\n",
    "import netCDF4 as nc\n",
    "from datetime import datetime, timedelta\n",
    "\n",
    "import h5py ####\n",
    "from PIL import Image\n",
    "#from IPython.display import display #\n",
    "#import cv2 # not working\n",
    "import os\n"
   ]
  },
  {
   "cell_type": "code",
   "execution_count": 2,
   "id": "9382cc55-56fb-42d3-8aa6-6b4f6eafd722",
   "metadata": {},
   "outputs": [],
   "source": [
    "month = 'jul'\n",
    "day = '30'\n",
    "flight = 'c307'"
   ]
  },
  {
   "cell_type": "code",
   "execution_count": null,
   "id": "e506b560-501d-4383-bf45-df717209ef9b",
   "metadata": {},
   "outputs": [],
   "source": [
    "## getting faam files with breakdown of each flight - more info in faam_data.ipynb\n",
    "faam_loc = '/badc/faam/data/2022/' ## this contains all faam flights - more than just DCMEX\n",
    "file_list = glob(faam_loc+'*/') # whole string of path + filenames in location\n",
    "file_names = [os.path.basename(os.path.dirname(file_path)) for file_path in file_list] # extract just directory names\n",
    "\n",
    "## list just DCMEX flight:\n",
    "start_file = \"c298\"\n",
    "end_file = \"c316\"\n",
    "\n",
    "selected_files = [f for f in file_names if f >= start_file and f <= end_file]\n",
    "csv = glob(faam_loc + f'{flight}-{month}-{day}/' +'*.csv') # get the csv file containing flight summary for that day"
   ]
  },
  {
   "cell_type": "code",
   "execution_count": null,
   "id": "a6de4099-b3f6-44a5-9d39-4963f02676fa",
   "metadata": {},
   "outputs": [],
   "source": [
    "pd = pd.read_csv(csv[0])"
   ]
  },
  {
   "cell_type": "markdown",
   "id": "8adff441-b64d-4c0d-afe9-1decf4d332d5",
   "metadata": {},
   "source": [
    "* list out runs\n",
    "* select one of the runs to plot - start + end time dictate 2D-s data look at"
   ]
  },
  {
   "cell_type": "code",
   "execution_count": null,
   "id": "5ee12ccc-4bfa-480d-b3f0-37d3279a1ca7",
   "metadata": {},
   "outputs": [],
   "source": []
  },
  {
   "cell_type": "code",
   "execution_count": null,
   "id": "412865e8-464b-4668-89f8-9520b439ff22",
   "metadata": {},
   "outputs": [],
   "source": []
  },
  {
   "cell_type": "code",
   "execution_count": null,
   "id": "1c270b2e-c3aa-4f37-afcb-85bd28dbbaa1",
   "metadata": {},
   "outputs": [],
   "source": []
  }
 ],
 "metadata": {
  "kernelspec": {
   "display_name": "Python 3 + Jaspy",
   "language": "python",
   "name": "jaspy"
  },
  "language_info": {
   "codemirror_mode": {
    "name": "ipython",
    "version": 3
   },
   "file_extension": ".py",
   "mimetype": "text/x-python",
   "name": "python",
   "nbconvert_exporter": "python",
   "pygments_lexer": "ipython3",
   "version": "3.11.9"
  }
 },
 "nbformat": 4,
 "nbformat_minor": 5
}
