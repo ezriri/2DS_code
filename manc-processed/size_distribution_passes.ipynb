{
 "cells": [
  {
   "cell_type": "markdown",
   "id": "ac06c4ff-b7b0-4996-a458-720303b75267",
   "metadata": {},
   "source": [
    "this code is for making individual size distribution for specific cloud passes in one day of data \n",
    "* uses FAAM defined times for each cloud pass"
   ]
  },
  {
   "cell_type": "code",
   "execution_count": 1,
   "id": "43896c98-cbf2-4bc6-86ea-7de6da4c4b3d",
   "metadata": {},
   "outputs": [],
   "source": [
    "import xarray as xr\n",
    "import matplotlib.pyplot as plt\n",
    "import matplotlib as mpl\n",
    "import numpy as np\n",
    "from glob import glob\n",
    "import seaborn as sns\n",
    "import xesmf as xe\n",
    "import pandas as pd\n",
    "#import def_homebrew as hb ## homemade functions xox\n",
    "from scipy.special import gamma\n",
    "import netCDF4 as nc\n",
    "from datetime import datetime, timedelta\n",
    "\n",
    "import h5py ####\n",
    "from PIL import Image\n",
    "#from IPython.display import display #\n",
    "#import cv2 # not working\n",
    "import os"
   ]
  },
  {
   "cell_type": "code",
   "execution_count": 2,
   "id": "9382cc55-56fb-42d3-8aa6-6b4f6eafd722",
   "metadata": {
    "jupyter": {
     "source_hidden": true
    }
   },
   "outputs": [],
   "source": [
    "month = 'jul'\n",
    "day = '30'\n",
    "flight = 'c307'"
   ]
  },
  {
   "cell_type": "code",
   "execution_count": null,
   "id": "e506b560-501d-4383-bf45-df717209ef9b",
   "metadata": {
    "jupyter": {
     "source_hidden": true
    }
   },
   "outputs": [],
   "source": [
    "## getting faam files with breakdown of each flight - more info in faam_data.ipynb\n",
    "faam_loc = '/badc/faam/data/2022/' ## this contains all faam flights - more than just DCMEX\n",
    "file_list = glob(faam_loc+'*/') # whole string of path + filenames in location\n",
    "file_names = [os.path.basename(os.path.dirname(file_path)) for file_path in file_list] # extract just directory names\n",
    "\n",
    "## list just DCMEX flight:\n",
    "start_file = \"c298\"\n",
    "end_file = \"c316\"\n",
    "\n",
    "selected_files = [f for f in file_names if f >= start_file and f <= end_file]\n",
    "csv = glob(faam_loc + f'{flight}-{month}-{day}/' +'*.csv') # get the csv file containing flight summary for that day"
   ]
  },
  {
   "cell_type": "code",
   "execution_count": null,
   "id": "a6de4099-b3f6-44a5-9d39-4963f02676fa",
   "metadata": {
    "jupyter": {
     "source_hidden": true
    }
   },
   "outputs": [],
   "source": [
    "pd = pd.read_csv(csv[0])"
   ]
  },
  {
   "cell_type": "markdown",
   "id": "8adff441-b64d-4c0d-afe9-1decf4d332d5",
   "metadata": {},
   "source": [
    "* list out runs\n",
    "* select one of the runs to plot - start + end time dictate 2D-s data look at"
   ]
  },
  {
   "cell_type": "code",
   "execution_count": null,
   "id": "174fee1c-a411-448d-aaf1-7d5442bf2656",
   "metadata": {},
   "outputs": [],
   "source": [
    "## functions\n",
    "## this function gets important bits from the netcdf -> (correct) time + index (particle diameter)\n",
    "def important_bits(nc):\n",
    "    time_var = nc.variables['time'][:]\n",
    "    epoch_start = datetime.datetime(1970, 1, 1)\n",
    "    datetime_values = [epoch_start + datetime.timedelta(seconds=float(time)) for time in time_var]\n",
    "\n",
    "    index = nc.variables['ambient_particle_diameter'][:]\n",
    "    return datetime_values, index\n",
    "\n",
    "## function to extract specif variable (within ch0 / ch1 group) -> its own xr DataArray\n",
    "## variable should be 2d - with time + index\n",
    "def get_group_var(nc,ch_n,var_name,time_lst,idx_lst):\n",
    "    var = nc[f'ch{ch_n}'][var_name]\n",
    "    \n",
    "    var_nc = xr.DataArray(var[:,:],\n",
    "                          dims=['time', 'index'],  # Define dimensions\n",
    "                          coords={'time': time_lst, 'index': idx_lst},  # Specify coords\n",
    "                          attrs={key: var.getncattr(key) for key in var.ncattrs()})  # Copy attributes\n",
    "\n",
    "    return var_nc\n",
    "\n"
   ]
  },
  {
   "cell_type": "code",
   "execution_count": 3,
   "id": "5ee12ccc-4bfa-480d-b3f0-37d3279a1ca7",
   "metadata": {},
   "outputs": [],
   "source": [
    "## flight summary where runs are\n",
    "df = pd.read_csv('../other-measurements/flight-sum_faam_20220730_r0_c307.csv') ## whole csv\n",
    "df.set_index('Event', inplace=True) # set the event as index for df\n",
    "run_df = df[df.index.str.contains('Run')] # df with only cloud passes info"
   ]
  },
  {
   "cell_type": "code",
   "execution_count": null,
   "id": "412865e8-464b-4668-89f8-9520b439ff22",
   "metadata": {},
   "outputs": [],
   "source": [
    "path = '/gws/nopw/j04/dcmex/users/glloyd/'\n",
    "nc_name = '2DS_MAN_20220730_v001_r0_c307.nc' #2DS_MAN_YYYYMMDD_v001_r0_name\n",
    "nc_file = nc.Dataset(path+nc_name,'r')\n",
    "\n",
    "time, index = important_bits(nc_file)\n",
    "\n",
    "## things of interest: ambient_*I_particle_number_per_channel, for HI / MI / LI in ch0 and ch1\n",
    "hi_0 = get_group_var(nc_file,0,'ambient_HI_particle_number_per_channel',time, index)\n",
    "hi_1 = get_group_var(nc_file,1,'ambient_HI_particle_number_per_channel',time, index)\n",
    "\n",
    "mi_0 = get_group_var(nc_file,0,'ambient_MI_particle_number_per_channel',time, index)\n",
    "mi_1 = get_group_var(nc_file,1,'ambient_MI_particle_number_per_channel',time, index)\n",
    "\n",
    "li_0 = get_group_var(nc_file,0,'ambient_LI_particle_number_per_channel',time, index)\n",
    "li_1 = get_group_var(nc_file,1,'ambient_LI_particle_number_per_channel',time, index)\n",
    "\n",
    "hi_av = (hi_0 + hi_1)/2\n",
    "mi_av = (mi_0 + mi_1)/2\n",
    "li_av = (li_0 + li_1)/2"
   ]
  },
  {
   "cell_type": "code",
   "execution_count": null,
   "id": "1c270b2e-c3aa-4f37-afcb-85bd28dbbaa1",
   "metadata": {},
   "outputs": [],
   "source": []
  }
 ],
 "metadata": {
  "kernelspec": {
   "display_name": "Python 3 + Jaspy",
   "language": "python",
   "name": "jaspy"
  },
  "language_info": {
   "codemirror_mode": {
    "name": "ipython",
    "version": 3
   },
   "file_extension": ".py",
   "mimetype": "text/x-python",
   "name": "python",
   "nbconvert_exporter": "python",
   "pygments_lexer": "ipython3",
   "version": "3.11.9"
  }
 },
 "nbformat": 4,
 "nbformat_minor": 5
}
