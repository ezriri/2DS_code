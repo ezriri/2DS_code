{
 "cells": [
  {
   "cell_type": "markdown",
   "id": "fd92c809-3035-43e9-96a3-ab5189b58a57",
   "metadata": {},
   "source": [
    "# compiling cloud passes\n"
   ]
  },
  {
   "cell_type": "code",
   "execution_count": null,
   "id": "88daaf76-ac9c-4872-ba26-a081377058bf",
   "metadata": {},
   "outputs": [],
   "source": [
    "import xarray as xr\n",
    "import matplotlib.pyplot as plt\n",
    "import matplotlib as mpl\n",
    "import numpy as np\n",
    "from glob import glob\n",
    "import seaborn as sns\n",
    "import xesmf as xe\n",
    "import pandas as pd\n",
    "#import def_homebrew as hb ## homemade functions xox\n",
    "from scipy.special import gamma\n",
    "import netCDF4 as nc\n",
    "from datetime import datetime, timedelta\n",
    "\n",
    "import h5py ####\n",
    "from PIL import Image\n",
    "#from IPython.display import display #\n",
    "#import cv2 # not working\n",
    "import os\n"
   ]
  },
  {
   "cell_type": "code",
   "execution_count": null,
   "id": "65b32cc5-9caf-43a6-a9b0-dcb105f06c7c",
   "metadata": {
    "jupyter": {
     "source_hidden": true
    }
   },
   "outputs": [],
   "source": [
    "## all info about flight data is in \n",
    "faam_loc = '/badc/faam/data/2022/' ## this contains all faam flights - more than just DCMEX\n",
    "file_list = glob(faam_loc+'*/') # whole string of path + filenames in location\n",
    "file_names = [os.path.basename(os.path.dirname(file_path)) for file_path in file_list] # extract just directory names\n",
    "\n",
    "## list just DCMEX flight:\n",
    "start_file = \"c298\"\n",
    "end_file = \"c316\"\n",
    "\n",
    "## Extract files between the start_file and end_file inclusive\n",
    "#(should be noted flight c309 is in this list - but no corresponding data)\n",
    "selected_files = [f for f in file_names if f >= start_file and f <= end_file]\n",
    "## e.g. 'c307-jul-30'"
   ]
  },
  {
   "cell_type": "code",
   "execution_count": null,
   "id": "95280773-ca73-40eb-bf26-5c91877c7437",
   "metadata": {},
   "outputs": [],
   "source": [
    "loc = faam_loc + 'c307-jul-30/'\n",
    "csv = glob(loc +'*.csv') # get the csv file containing flight summary for that day\n",
    "pd = pd.read_csv(csv[0])"
   ]
  },
  {
   "cell_type": "code",
   "execution_count": null,
   "id": "5b05daa8-7080-4031-911f-8993378d8a6c",
   "metadata": {},
   "outputs": [],
   "source": [
    "pd = pd.read_csv('flight-sum_faam_20220730_r0_c307.csv')\n",
    "\n",
    "pd"
   ]
  },
  {
   "cell_type": "markdown",
   "id": "68faf778-3caf-4aa6-bca2-b04f9b9faea8",
   "metadata": {},
   "source": [
    "* make table of just runs? "
   ]
  }
 ],
 "metadata": {
  "kernelspec": {
   "display_name": "Python 3 + Jaspy",
   "language": "python",
   "name": "jaspy"
  },
  "language_info": {
   "codemirror_mode": {
    "name": "ipython",
    "version": 3
   },
   "file_extension": ".py",
   "mimetype": "text/x-python",
   "name": "python",
   "nbconvert_exporter": "python",
   "pygments_lexer": "ipython3",
   "version": "3.11.9"
  }
 },
 "nbformat": 4,
 "nbformat_minor": 5
}
