{
 "cells": [
  {
   "cell_type": "code",
   "execution_count": 1,
   "id": "a6d1bfa1-530a-4e5c-8519-470d2dad755f",
   "metadata": {},
   "outputs": [],
   "source": [
    "# as an idiot, i may have inadvertently not extracted columns, so i have ran the processing script again (v5), \n",
    "# removing the aspect ratio threshold + min diameter threshold to see if it has made a difference (i really hope not)"
   ]
  },
  {
   "cell_type": "code",
   "execution_count": null,
   "id": "fd44e372-e7b9-4a0d-9f4d-31f7d9cdb5ec",
   "metadata": {},
   "outputs": [],
   "source": [
    "# get matching files\n",
    "'/gws/nopw/j04/dcmex/users/ezriab/processed_images/hvps/220731153602'"
   ]
  }
 ],
 "metadata": {
  "kernelspec": {
   "display_name": "Python 3 + Jaspy",
   "language": "python",
   "name": "jaspy"
  },
  "language_info": {
   "codemirror_mode": {
    "name": "ipython",
    "version": 3
   },
   "file_extension": ".py",
   "mimetype": "text/x-python",
   "name": "python",
   "nbconvert_exporter": "python",
   "pygments_lexer": "ipython3",
   "version": "3.11.9"
  }
 },
 "nbformat": 4,
 "nbformat_minor": 5
}
