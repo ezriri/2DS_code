{
 "cells": [
  {
   "cell_type": "markdown",
   "id": "350b4856-814d-4e16-9834-53a56b43dbed",
   "metadata": {},
   "source": [
    "# back to the beginning (10/02/25)\n",
    "some of the things i have done in the beginning mean its difficult to contine, needinng to make some changes:\n",
    "this is altering v6 of script\n",
    "* min x and max x of the particle + probably in terms of time\n",
    "* also coord bounds - bounding box as aspect ratio?\n",
    "* add on number of h5 file that is being processed - mean all paricles have unique name"
   ]
  },
  {
   "cell_type": "code",
   "execution_count": 176,
   "id": "a4a0cdf1-3cb5-4435-9ef4-c199a2bee7ac",
   "metadata": {},
   "outputs": [],
   "source": [
    "import xarray as xr\n",
    "import matplotlib.pyplot as plt\n",
    "import matplotlib as mpl\n",
    "import numpy as np\n",
    "from glob import glob\n",
    "import seaborn as sns\n",
    "import pandas as pd\n",
    "from scipy.special import gamma\n",
    "from datetime import datetime, timedelta\n",
    "\n",
    "import h5py ####\n",
    "from PIL import Image\n",
    "import os\n",
    "import psutil\n",
    "\n",
    "from scipy.ndimage import convolve, label\n",
    "from skimage.measure import regionprops, find_contours\n",
    "from scipy.spatial import ConvexHull, distance_matrix\n",
    "from scipy.spatial.distance import pdist\n",
    "from skimage.morphology import remove_small_holes ## remove holes <3\n",
    "from scipy.ndimage import binary_fill_holes\n",
    "from skimage import measure\n",
    "import tensorflow as tf\n",
    "\n",
    "from numba import jit"
   ]
  },
  {
   "cell_type": "code",
   "execution_count": 177,
   "id": "74957212-f746-4fb4-aed1-1c61ba7f081b",
   "metadata": {},
   "outputs": [],
   "source": [
    "data_path = '/home/users/esree/data/practice_h5/'\n",
    "file_list = glob(data_path+'Export_base*.h5') \n",
    "# just get file names\n",
    "file_names = [os.path.basename(file_path) for file_path in file_list]\n",
    "#file_names = ['Export_base220730153000.h5','Export_base220801154558.h5']\n",
    "\n",
    "# previous csv with info\n",
    "#v2_csv_name = 'ch0_flight_220730153000_v2.csv'\n",
    "#df = pd.read_csv(data_path+v2_csv_name)"
   ]
  },
  {
   "cell_type": "code",
   "execution_count": 178,
   "id": "33ba8769-82a0-42bc-82f9-85682cf8d35c",
   "metadata": {
    "scrolled": true
   },
   "outputs": [],
   "source": [
    "## already sorted in script\n",
    "particle_type = 'ch0'\n",
    "length_threshold = 100 # mu - need this minimum length of max dimension to extract the particle\n",
    "pixel_resolution = 10\n",
    "fill_hole_threshold = 5 # max number pixels contained within particle that is filled in\n",
    "\n",
    "minimum_area = 15 # very quick metric to stop the processing of particles with area < 15 pixels\n",
    "desired_image_size = 200 # (assume we want a square image) 200 x 200 for \n"
   ]
  },
  {
   "cell_type": "code",
   "execution_count": 179,
   "id": "cd8bcbb3-3c9d-4a67-8696-fdcd95a6915e",
   "metadata": {},
   "outputs": [],
   "source": [
    "## functions used\n",
    "def stats_description(bw_crystal, fill_hole_thresh):\n",
    "    #take binary image, fill in small holes and returns object containing stats about crystal\n",
    "    \n",
    "    filled_particle = remove_small_holes(bw_crystal.image, area_threshold=fill_hole_thresh) # fill in voids within binary image - better estimation of stats # may need to be altered\n",
    "       \n",
    "    if filled_particle.shape[0] < 2 or filled_particle.shape[1] < 2:\n",
    "        return filled_particle, None\n",
    "        \n",
    "    contours = measure.find_contours(filled_particle, 0.5)\n",
    "    if contours:\n",
    "        contour = max(contours, key=lambda x: x.shape[0])  # Sort contours by area (largest first) and select the largest contour\n",
    "        \n",
    "        labeled_image = measure.label(filled_particle)  # Label the image based on the threshold\n",
    "        region = measure.regionprops(labeled_image)[0]  # Assumes largest labeled region corresponds to largest contour\n",
    "        \n",
    "        return filled_particle, region\n",
    "    else:\n",
    "        return filled_particle, None\n",
    "\n",
    "@jit(nopython=True) # Enables full optimization by numba\n",
    "def calc_truncation(particle_coords):\n",
    "    ## so much simpler, looking at list of coordinates making up a particle, then summing ones in 0 and 127 row - i.e. first + last diode\n",
    "    lst_first_diode = [coord for coord in particle_coords if coord[0] == 0]\n",
    "    lst_last_diode = [coord for coord in particle_coords if coord[0] == 127]\n",
    "\n",
    "    n_top = len(lst_first_diode)\n",
    "    n_bottom = len(lst_last_diode)\n",
    "\n",
    "    return n_top, n_bottom # number pixels touching top / bottom respectively\n",
    "\n",
    "@jit(nopython=True) # Enables full optimization by numba\n",
    "# function to find x / y coords and calculate aspect ratio.\n",
    "def coords_etc(particle_coords):\n",
    "    x_values = np.unique(particle_coords[:, 1])\n",
    "    y_cds = (particle_coords[0][0],particle_coords[-1][0])\n",
    "    x_cds = (x_values[0], x_values[-1])\n",
    "\n",
    "    y_length = y_cds[1] - y_cds[0]\n",
    "    x_length = x_cds[1] - x_cds[0]\n",
    "    \n",
    "    max_dim = max([y_length,x_length])\n",
    "    min_dim = min([y_length,x_length])\n",
    "    aspect_ratio = max_dim/min_dim\n",
    "    \n",
    "    return x_cds, y_cds, aspect_ratio\n",
    "    \n",
    "\n",
    "columns = [\n",
    "    \"name\",\n",
    "    \"date\",\n",
    "    \"slice_s_idx\",\n",
    "    \"slice_e_idx\",\n",
    "    #\"utc_start\", #hh:mm:ss \n",
    "    #\"utc_end\", #hh:mm:ss \n",
    "    \"ss_start\", ## seconds since midnight on the day - should help with deadtime calculations\n",
    "    \"ss_end\",\n",
    "    \"x_coords\",\n",
    "    \"y_coords\",\n",
    "    #\"ellipse_d_max\", # um\n",
    "    #\"ellipse_d_min\", # um\n",
    "    \"Euclidean_d_max\", # um\n",
    "    \"Feret_d_max\", # um\n",
    "    \"area\", # um2\n",
    "    \"perimeter\", # um\n",
    "    \"circularity\",\n",
    "    \"probe\",\n",
    "    \"first_diode_trunc\",\n",
    "    \"last_diode_trunc\",\n",
    "    \"image_trunc\",\n",
    "    \"aspect_ratio\" ## this is calculated from min / max x/y coordinates\n",
    "    ]"
   ]
  },
  {
   "cell_type": "code",
   "execution_count": 180,
   "id": "f9c8413c-631c-4ed6-88ce-aa2157f951f8",
   "metadata": {},
   "outputs": [
    {
     "name": "stdout",
     "output_type": "stream",
     "text": [
      "running Export_base220730153000.h5\n",
      "started processing\n",
      "running Export_base220801154558.h5\n",
      "started processing\n"
     ]
    }
   ],
   "source": [
    "for j in range(len(file_list)):\n",
    "    h5_additional_label = str(j+1)\n",
    "    long_date_string = file_names[j][-15:-3]\n",
    "    \n",
    "#if not os.path.exists(save_path+long_date_string):\n",
    "#    os.makedirs(save_path+long_date_string)\n",
    "#flight_save_loc = save_path+long_date_string+'/'\n",
    "    \n",
    "    h5_file = h5py.File(file_list[j],'r')\n",
    "    print(f'running {file_names[j]}')\n",
    "    particle_df = pd.DataFrame(columns=columns) # empty df for each day of flights\n",
    "    \n",
    "    try:\n",
    "        h5_image = h5_file['ImageData']\n",
    "        h5_time = h5_file['ImageTimes']\n",
    "    except KeyError as e:\n",
    "        print(f\"Dataset missing in file: {file_names[j]}. Error: {e}\")\n",
    "        \n",
    "    \n",
    "    ##### make xarray of useful time data #####\n",
    "    sec_since = h5_time[:,0]\n",
    "    pixel_slice = h5_time[:,1]\n",
    "    pix_sum = pixel_slice.cumsum(dtype = 'int')\n",
    "    \n",
    "    ## make useful datetime format (not seconds since midnight)\n",
    "    # using the file name for reference\n",
    "    date_str = file_names[j][-15:-9] \n",
    "    date_day = date_str[-2:]\n",
    "    \n",
    "    starting_date = datetime.strptime(date_str, '%y%m%d')\n",
    "    time_deltas = [timedelta(seconds=float(sec)) for sec in sec_since]\n",
    "    utc_time = [starting_date + delta for delta in time_deltas]\n",
    "    \n",
    "    time_xr =xr.Dataset({\n",
    "    'utc_time':utc_time,\n",
    "    'sec_since':sec_since,\n",
    "    'pixel_slice': pixel_slice,\n",
    "    'pix_sum': pix_sum})\n",
    "    \n",
    "    ## cleaning of whole h5 file - quick removal of tiny particles\n",
    "    ## this has been edited - allow for corresponding time\n",
    "    pix_sum = time_xr['pix_sum']\n",
    "    utc_time = time_xr['utc_time']\n",
    "    \n",
    "    # Calculate the difference\n",
    "    diff = np.diff(pix_sum.values)\n",
    "    \n",
    "    # Create a mask where the difference is greater than 4 - i.e. select segments of significant sizze\n",
    "    mask = diff > 4\n",
    "    # Apply the mask to select the corresponding values from pix_sum and utc_time\n",
    "    selected_pix_sum = pix_sum[:-1][mask]\n",
    "    selected_utc_time = utc_time[:-1][mask]\n",
    "    print('started processing')\n",
    "\n",
    "    if j == 0:\n",
    "        h5_file.close()"
   ]
  },
  {
   "cell_type": "code",
   "execution_count": 205,
   "id": "e0895d75-45c6-47f4-a372-f434fa2552a0",
   "metadata": {},
   "outputs": [
    {
     "name": "stdout",
     "output_type": "stream",
     "text": [
      "50_1_01ch0_2\n"
     ]
    },
    {
     "name": "stderr",
     "output_type": "stream",
     "text": [
      "/tmp/ipykernel_3938/3685003771.py:88: FutureWarning: The behavior of DataFrame concatenation with empty or all-NA entries is deprecated. In a future version, this will no longer exclude empty or all-NA columns when determining the result dtypes. To retain the old behavior, exclude the relevant entries before the concat operation.\n",
      "  particle_df = pd.concat([particle_df, one_particle_data_df], ignore_index=True)\n"
     ]
    },
    {
     "data": {
      "image/png": "[encoded data removed]",
      "text/plain": [
       "<Figure size 640x480 with 1 Axes>"
      ]
     },
     "metadata": {},
     "output_type": "display_data"
    },
    {
     "name": "stdout",
     "output_type": "stream",
     "text": [
      "50_1_01ch0_2\n"
     ]
    },
    {
     "data": {
      "image/png": "[encoded data removed]",
      "text/plain": [
       "<Figure size 640x480 with 1 Axes>"
      ]
     },
     "metadata": {},
     "output_type": "display_data"
    },
    {
     "name": "stdout",
     "output_type": "stream",
     "text": [
      "67_2_01ch0_2\n"
     ]
    },
    {
     "data": {
      "image/png": "[encoded data removed]",
      "text/plain": [
       "<Figure size 640x480 with 1 Axes>"
      ]
     },
     "metadata": {},
     "output_type": "display_data"
    },
    {
     "name": "stdout",
     "output_type": "stream",
     "text": [
      "67_2_01ch0_2\n"
     ]
    },
    {
     "data": {
      "image/png": "[encoded data removed]",
      "text/plain": [
       "<Figure size 640x480 with 1 Axes>"
      ]
     },
     "metadata": {},
     "output_type": "display_data"
    }
   ],
   "source": [
    "## this is where the image extraction is happening\n",
    "#for i in range(len(selected_pix_sum)-2): \n",
    "particle_df = pd.DataFrame(columns=columns)\n",
    "for i in range(6):\n",
    "    # pull out selected area + do analysis\n",
    "    one_crystal = h5_file['ImageData'][:,int(selected_pix_sum[i]):int(selected_pix_sum[i+1])] # extract 1 crystal\n",
    "    \n",
    "    binary_image = (one_crystal == 0) ## important, convert regions where 0 = True (our bits of interest), all else false\n",
    "    \n",
    "    labeled_image, num_features = label(binary_image) # identify connected true areas\n",
    "    # labeled_image = array, with each true area given a number to identify them\n",
    "    # num_features = number of unique connected components in image. Have to literally have adjacent pixel, not diagonal (this will make them seperate)\n",
    "    \n",
    "    props = regionprops(labeled_image) # creates quick list of properties describing each feature detected in the image.\n",
    "    ## (features are measured in ~ pixels)\n",
    "    \n",
    "    if props:\n",
    "        #start # inner loop for processing each particle # ~ ~ ~ ~ ~ ~ ~ ~ ~ ~ ~ ~ ~ ~ ~ ~ ~ ~ ~ ~ ~ ~ ~ ~ ~ ~ ~ ~ ~ ~ ~ ~ ~ ~ ~ ~ ~ ~ ~ ~ ~ ~ ~ ~ ~ ~ ~ ~ ~ ~ ~ ~ ~ ~ ~ ~ ~ ~ ~ ~ ~ ~ ~ #\n",
    "        for particle in props:\n",
    "            #plt.imshow(one_crystal, cmap='gray')\n",
    "            #plt.show()\n",
    "        # go through each particle detected\n",
    "            # quickly get rid of tiny particles\n",
    "            if particle.area >= minimum_area:\n",
    "                ## more complex stats\n",
    "                filled_part, spec_region = stats_description(particle,fill_hole_threshold)\n",
    "\n",
    "                ### quite important, this is remove unwanted particles\n",
    "                # putting in some conditions to take measurements: d_max needs to be min size, and so does d_min - 4 pixels (remove most streak particles)\n",
    "                if spec_region:\n",
    "                    # should this be removed for hvps? - we do new calculation using bounding box\n",
    "                    #aspect_ratio_value = spec_region.major_axis_length / spec_region.minor_axis_length ## this is very rough, based on equivalent ellipse of the particle (really not accurate) - more just to remove weird looking ones\n",
    "                    \n",
    "                    ## euclidean diameter calculation\n",
    "                    a_particle_coords = particle.coords # basically gives coords of each point of interest [row,column]\n",
    "                    distances = pdist(a_particle_coords)\n",
    "                    euclidean_dim = np.max(distances) # max distance between 2 sets of coordinates\n",
    "                    \n",
    "                    #if euclidean_dim * pixel_resolution >= length_threshold and spec_region.minor_axis_length > 4 and aspect_ratio_value <10:\n",
    "                    if euclidean_dim * pixel_resolution >= length_threshold:\n",
    "                        \n",
    "                        ## basic info\n",
    "                        x_coords, y_coords, aspect_ratio_value = coords_etc(a_particle_coords)\n",
    "                        \n",
    "                        s_idx = int(selected_pix_sum[i] + x_coords[0])\n",
    "                        e_idx = int(selected_pix_sum[i] + x_coords[-1])\n",
    "        \n",
    "                        ## truncation calc\n",
    "                        # cnn - in final pic size, particle may be truncated if very long, this tells us how many pixels may be cut off \n",
    "                        image_trunc = x_values[-1] - desired_image_size \n",
    "                        if image_trunc < 0:\n",
    "                            image_trunc = 0\n",
    "                        # normal trunc calculation - on actual probe\n",
    "                        first_diode, last_diode = calc_truncation(a_particle_coords)\n",
    "                        \n",
    "                        ## using circularity calculation from Crosier et al. 2011\n",
    "                        circularity_calc = np.divide((spec_region.perimeter**2),(4*np.pi*spec_region.area))\n",
    "                        particle_name = f'{s_idx}_{particle.label}_{date_day}{particle_type}_{h5_additional_label}'\n",
    "                        \n",
    "                        # nice way of saving data - lenth + measurements are correct in microns\n",
    "                        one_particle_data = {\n",
    "                                #\"image_index\": image_index,\n",
    "                                \"name\": particle_name,\n",
    "                                \"date\" : date_str,\n",
    "                                \"slice_s_idx\": s_idx,\n",
    "                                \"slice_e_idx\": e_idx,\n",
    "                                #\"start_time\": str(selected_utc_time[i].values).split('T')[1], # more friendly time\n",
    "                                #\"end_time\": str(selected_utc_time[i+1].values).split('T')[1], # more friendly time\n",
    "                                \"ss_start\":time_xr['sec_since'][s_idx].values,\n",
    "                                \"ss_end\":time_xr['sec_since'][e_idx].values,\n",
    "                                \"x_coords\": x_coords,\n",
    "                                \"y_coords\": y_coords,\n",
    "                                #\"ellipse_d_max\": spec_region.major_axis_length * pixel_resolution, ## d_max (equivalent ellipse)\n",
    "                                #\"ellipse_d_min\": spec_region.minor_axis_length * pixel_resolution, ## d_min (equivalent ellipse)\n",
    "                                \"Euclidean_d_max\": euclidean_dim * pixel_resolution,\n",
    "                                \"Feret_d_max\":spec_region.feret_diameter_max * pixel_resolution,\n",
    "                                \"area\": (spec_region.area * (pixel_resolution**2)),\n",
    "                                \"perimeter\": (spec_region.perimeter * pixel_resolution),\n",
    "                                \"circularity\": circularity_calc,\n",
    "                                \"probe\": particle_type,\n",
    "                                \"first_diode_trunc\": first_diode,\n",
    "                                \"last_diode_trunc\": last_diode,\n",
    "                                \"image_trunc\": image_trunc,\n",
    "                                \"aspect_ratio\": aspect_ratio_value  \n",
    "                                }\n",
    "\n",
    "                        one_particle_data_df = pd.DataFrame([one_particle_data])\n",
    "                        particle_df = pd.concat([particle_df, one_particle_data_df], ignore_index=True)\n",
    "                        #file.write(f'{particle_name} stats done \\n')\n",
    "                        \n",
    "                        ############################# re size + save image ##################################################\n",
    "                        filled_part = filled_part.astype(np.float32) ## convert to float 0 and 1s\n",
    "                        filled_part = np.expand_dims(filled_part, axis=-1) ## add extra dimention - this is for adding padding\n",
    "        \n",
    "                        imagex = tf.image.resize_with_crop_or_pad(filled_part, desired_image_size, desired_image_size)\n",
    "\n",
    "                        ## this is checking the image is not blank - written in seperate txt file\n",
    "                        if np.all(imagex == 0):\n",
    "                            file.write(f'{particle_name} image is blank - 0s \\n')\n",
    "                        elif np.all(imagex == imagex[0, 0, 0]):\n",
    "                            file.write(f'{particle_name} image is blank - constant values \\n')\n",
    "\n",
    "                        ## save image\n",
    "                        # Remove the extra dimension if needed\n",
    "                        \n",
    "                        \n",
    "                        \n",
    "                        print(particle_name)\n",
    "                        image_np = imagex.numpy().squeeze()\n",
    "                        plt.imshow(image_np, cmap=\"gray\")\n",
    "                        plt.show()\n",
    "\n",
    "                        print(particle_name)\n",
    "                        plt.imshow(one_crystal, cmap='gray')\n",
    "                        plt.show()\n",
    "                        # Save the image using matplotlib\n",
    "                        #plt.imsave(f'{flight_save_loc}{particle_name}.png',image_np, cmap=\"gray\")"
   ]
  },
  {
   "cell_type": "code",
   "execution_count": 182,
   "id": "c3a2a4ed-54dc-445c-899a-d9dcfb6c8fb7",
   "metadata": {},
   "outputs": [
    {
     "data": {
      "text/html": [
       "<div>\n",
       "<style scoped>\n",
       "    .dataframe tbody tr th:only-of-type {\n",
       "        vertical-align: middle;\n",
       "    }\n",
       "\n",
       "    .dataframe tbody tr th {\n",
       "        vertical-align: top;\n",
       "    }\n",
       "\n",
       "    .dataframe thead th {\n",
       "        text-align: right;\n",
       "    }\n",
       "</style>\n",
       "<table border=\"1\" class=\"dataframe\">\n",
       "  <thead>\n",
       "    <tr style=\"text-align: right;\">\n",
       "      <th></th>\n",
       "      <th>name</th>\n",
       "      <th>date</th>\n",
       "      <th>slice_s_idx</th>\n",
       "      <th>slice_e_idx</th>\n",
       "      <th>ss_start</th>\n",
       "      <th>ss_end</th>\n",
       "      <th>x_coords</th>\n",
       "      <th>y_coords</th>\n",
       "      <th>Euclidean_d_max</th>\n",
       "      <th>Feret_d_max</th>\n",
       "      <th>area</th>\n",
       "      <th>perimeter</th>\n",
       "      <th>circularity</th>\n",
       "      <th>probe</th>\n",
       "      <th>first_diode_trunc</th>\n",
       "      <th>last_diode_trunc</th>\n",
       "      <th>image_trunc</th>\n",
       "      <th>aspect_ratio</th>\n",
       "    </tr>\n",
       "  </thead>\n",
       "  <tbody>\n",
       "    <tr>\n",
       "      <th>0</th>\n",
       "      <td>50_1_01ch0_2</td>\n",
       "      <td>220801</td>\n",
       "      <td>50</td>\n",
       "      <td>66</td>\n",
       "      <td>65488.497</td>\n",
       "      <td>65604.234</td>\n",
       "      <td>(0, 16)</td>\n",
       "      <td>(6, 19)</td>\n",
       "      <td>178.885438</td>\n",
       "      <td>197.230829</td>\n",
       "      <td>11100.0</td>\n",
       "      <td>468.700577</td>\n",
       "      <td>1.574919</td>\n",
       "      <td>ch0</td>\n",
       "      <td>0</td>\n",
       "      <td>0</td>\n",
       "      <td>0</td>\n",
       "      <td>1.230769</td>\n",
       "    </tr>\n",
       "    <tr>\n",
       "      <th>1</th>\n",
       "      <td>67_2_01ch0_2</td>\n",
       "      <td>220801</td>\n",
       "      <td>67</td>\n",
       "      <td>76</td>\n",
       "      <td>65901.804</td>\n",
       "      <td>65981.676</td>\n",
       "      <td>(0, 9)</td>\n",
       "      <td>(29, 39)</td>\n",
       "      <td>107.703296</td>\n",
       "      <td>125.299641</td>\n",
       "      <td>7400.0</td>\n",
       "      <td>351.421356</td>\n",
       "      <td>1.328051</td>\n",
       "      <td>ch0</td>\n",
       "      <td>0</td>\n",
       "      <td>0</td>\n",
       "      <td>0</td>\n",
       "      <td>1.111111</td>\n",
       "    </tr>\n",
       "  </tbody>\n",
       "</table>\n",
       "</div>"
      ],
      "text/plain": [
       "           name    date slice_s_idx slice_e_idx   ss_start     ss_end  \\\n",
       "0  50_1_01ch0_2  220801          50          66  65488.497  65604.234   \n",
       "1  67_2_01ch0_2  220801          67          76  65901.804  65981.676   \n",
       "\n",
       "  x_coords  y_coords  Euclidean_d_max  Feret_d_max     area   perimeter  \\\n",
       "0  (0, 16)   (6, 19)       178.885438   197.230829  11100.0  468.700577   \n",
       "1   (0, 9)  (29, 39)       107.703296   125.299641   7400.0  351.421356   \n",
       "\n",
       "   circularity probe first_diode_trunc last_diode_trunc image_trunc  \\\n",
       "0     1.574919   ch0                 0                0           0   \n",
       "1     1.328051   ch0                 0                0           0   \n",
       "\n",
       "   aspect_ratio  \n",
       "0      1.230769  \n",
       "1      1.111111  "
      ]
     },
     "execution_count": 182,
     "metadata": {},
     "output_type": "execute_result"
    }
   ],
   "source": [
    "particle_df"
   ]
  },
  {
   "cell_type": "code",
   "execution_count": 215,
   "id": "abc16c5e-2f13-4ff8-a0ff-089e0c1eea1e",
   "metadata": {},
   "outputs": [],
   "source": [
    "def stats_description_2(bw_crystal, fill_hole_thresh):\n",
    "    #take binary image, fill in small holes and returns object containing stats about crystal\n",
    "    #plt.imshow(bw_crystal, cmap='gray')\n",
    "    #plt.show()\n",
    "    filled_particle = remove_small_holes(bw_crystal.image, area_threshold=fill_hole_thresh) # fill in voids within binary image - better estimation of stats # may need to be altered\n",
    "    plt.imshow(filled_particle, cmap='gray')\n",
    "    plt.show()\n",
    "    if filled_particle.shape[0] < 2 or filled_particle.shape[1] < 2:\n",
    "        return None, None\n",
    "        \n",
    "    contours = measure.find_contours(filled_particle, 0.5)\n",
    "    if contours:\n",
    "        contour = max(contours, key=lambda x: x.shape[0])  # Sort contours by area (largest first) and select the largest contour\n",
    "        \n",
    "        labeled_image = measure.label(filled_particle)  # Label the image based on the threshold\n",
    "        region = measure.regionprops(labeled_image)[0]  # Assumes largest labeled region corresponds to largest contour\n",
    "        \n",
    "        return filled_particle, region\n",
    "    else:\n",
    "        return None, None"
   ]
  },
  {
   "cell_type": "code",
   "execution_count": 216,
   "id": "24194492-c2c5-4a50-b491-166684121b8f",
   "metadata": {},
   "outputs": [
    {
     "data": {
      "image/png": "[encoded data removed]",
      "text/plain": [
       "<Figure size 640x480 with 1 Axes>"
      ]
     },
     "metadata": {},
     "output_type": "display_data"
    },
    {
     "name": "stdout",
     "output_type": "stream",
     "text": [
      "11\n",
      "10\n"
     ]
    }
   ],
   "source": [
    "i = 1\n",
    "#plt.imshow(one_crystal, cmap='gray')\n",
    "#plt.show()\n",
    "'''\n",
    "for particle in props:\n",
    "    print(i)\n",
    "    filled_part, spec_region = stats_description(particle,fill_hole_threshold)\n",
    "    plt.imshow(filled_part, cmap='gray')\n",
    "    plt.show()\n",
    "    i += 1\n",
    "'''\n",
    "filled_part, spec_region = stats_description_2(props[1],fill_hole_threshold)\n",
    "#plt.imshow(filled_part, cmap='gray')\n",
    "#plt.show()\n",
    "#print(spec_region)\n",
    "#plt.imshow(filled_part)\n",
    "\n",
    "#plt.show()\n",
    "#num_features\n",
    "print(filled_part.shape[0])\n",
    "print(filled_part.shape[1])"
   ]
  },
  {
   "cell_type": "code",
   "execution_count": 115,
   "id": "4c0c6ccc-2575-4548-ac62-d9762c8646a0",
   "metadata": {},
   "outputs": [
    {
     "name": "stdout",
     "output_type": "stream",
     "text": [
      "7136_1_01ch0_2\n",
      "[90, 108]\n",
      "[0, 13]\n",
      "18\n",
      "13\n",
      "max dim: 18\n",
      "min dim: 13\n",
      "1.3846153846153846\n"
     ]
    }
   ],
   "source": [
    "print(particle_name)\n",
    "y_coords = [a_particle_coords[0][0],a_particle_coords[-1][0]]\n",
    "x_coords = [x_values[0], x_values[-1]]\n",
    "y_length = y_coords[1] - y_coords[0]\n",
    "x_length = x_coords[1] - x_coords[0]\n",
    "\n",
    "max_dim = max([y_length,x_length])\n",
    "min_dim = min([y_length,x_length])\n",
    "print(y_coords)\n",
    "print(x_coords)\n",
    "print(y_length)\n",
    "print(x_length)\n",
    "\n",
    "print(f'max dim: {max_dim}')\n",
    "print(f'min dim: {min_dim}')\n",
    "bb_aspect_ratio = max_dim/min_dim\n",
    "print(bb_aspect_ratio)"
   ]
  },
  {
   "cell_type": "code",
   "execution_count": 74,
   "id": "4cc32a35-5286-4e93-8508-2b3ab74f2ab4",
   "metadata": {},
   "outputs": [
    {
     "data": {
      "text/plain": [
       "[0, 9]"
      ]
     },
     "execution_count": 74,
     "metadata": {},
     "output_type": "execute_result"
    }
   ],
   "source": [
    "[x_values[0], x_values[-1]]"
   ]
  },
  {
   "cell_type": "code",
   "execution_count": 93,
   "id": "9e3a06fd-ed5f-46a9-8e6b-794cd0c7504e",
   "metadata": {},
   "outputs": [
    {
     "name": "stdout",
     "output_type": "stream",
     "text": [
      "66836.121 66836.152\n",
      "0.031000000002677552\n"
     ]
    }
   ],
   "source": [
    "s = particle_df['ss_start'][18]\n",
    "e = particle_df['ss_end'][18]\n",
    "\n",
    "print(f'{s} {e}')\n",
    "print(e-s)"
   ]
  },
  {
   "cell_type": "code",
   "execution_count": 107,
   "id": "2a562c20-119b-42db-89d0-ce9834638810",
   "metadata": {},
   "outputs": [],
   "source": [
    "h5_file.close()"
   ]
  },
  {
   "cell_type": "code",
   "execution_count": null,
   "id": "eaf0eedd-39f9-4a0a-8998-b3914ce66127",
   "metadata": {},
   "outputs": [],
   "source": []
  }
 ],
 "metadata": {
  "kernelspec": {
   "display_name": "Python 3 + Jaspy",
   "language": "python",
   "name": "jaspy"
  },
  "language_info": {
   "codemirror_mode": {
    "name": "ipython",
    "version": 3
   },
   "file_extension": ".py",
   "mimetype": "text/x-python",
   "name": "python",
   "nbconvert_exporter": "python",
   "pygments_lexer": "ipython3",
   "version": "3.11.9"
  }
 },
 "nbformat": 4,
 "nbformat_minor": 5
}
