{
 "cells": [
  {
   "cell_type": "code",
   "execution_count": 132,
   "id": "a6d1bfa1-530a-4e5c-8519-470d2dad755f",
   "metadata": {},
   "outputs": [],
   "source": [
    "# as an idiot, i may have inadvertently not extracted columns, so i have ran the processing script again (v5), \n",
    "# removing the aspect ratio threshold + min diameter threshold to see if it has made a difference (i really hope not)"
   ]
  },
  {
   "cell_type": "code",
   "execution_count": 214,
   "id": "7dcff78c-8ec1-477b-89bc-575e45cf1fa6",
   "metadata": {},
   "outputs": [],
   "source": [
    "import xarray as xr\n",
    "import matplotlib.pyplot as plt\n",
    "import matplotlib as mpl\n",
    "import numpy as np\n",
    "from glob import glob\n",
    "import seaborn as sns\n",
    "#import xesmf as xe\n",
    "import pandas as pd\n",
    "#import def_homebrew as hb ## homemade functions xox\n",
    "from scipy.special import gamma\n",
    "#import netCDF4 as nc\n",
    "from datetime import datetime, timedelta\n",
    "import shutil\n",
    "import os\n",
    "import zipfile"
   ]
  },
  {
   "cell_type": "code",
   "execution_count": 215,
   "id": "fd44e372-e7b9-4a0d-9f4d-31f7d9cdb5ec",
   "metadata": {},
   "outputs": [],
   "source": [
    "## function to reduce dataframe\n",
    "def reduce_full_df(big_df, thresh_diam, include_aspect = True):\n",
    "    if include_aspect != True:\n",
    "        smaller_df = big_df[\n",
    "        (big_df['Euclidean_d_max'] >= thresh_diam) &\n",
    "        (big_df['first_diode_trunc'] == 0) &\n",
    "        (big_df['last_diode_trunc'] == 0) &\n",
    "        (big_df['image_trunc'] == 0)]\n",
    "\n",
    "    else:\n",
    "        smaller_df = big_df[\n",
    "        (big_df['Euclidean_d_max'] >= thresh_diam) &\n",
    "        (big_df['first_diode_trunc'] == 0) &\n",
    "        (big_df['last_diode_trunc'] == 0) &\n",
    "        (big_df['image_trunc'] == 0) &\n",
    "        (big_df['aspect_ratio'] <= 10)]\n",
    "    return smaller_df\n",
    "\n",
    "### function to get matching files - v4 (in original place) and v5 (of script) in the v2 folder\n",
    "# example file = '220731153602' \n",
    "# example probe = 'hvps' # hvps, 2ds/ch_0 , 2ds/ch_1\n",
    "def matching_files(file_name, probe_name, reduced=True):\n",
    "    v4_path = '/gws/nopw/j04/dcmex/users/ezriab/processed_stats/'+probe_name+'/' ## no min diameter + no aspect ratio limit (hvps threshold also increased)\n",
    "    v5_path = '/gws/nopw/j04/dcmex/users/ezriab/processed_stats/'+probe_name+'/v2/'\n",
    "\n",
    "    #print(v4_path)\n",
    "    v4_loc = f'{v4_path}flight_{file_name}.csv'\n",
    "    v5_loc = f'{v5_path}flight_{file_name}.csv'\n",
    "    print(v4_loc)\n",
    "    print(v5_loc)\n",
    "    v4_csv = pd.read_csv(v4_loc)\n",
    "    v5_csv = pd.read_csv(v5_loc)\n",
    "\n",
    "    if reduced == False:\n",
    "        return v4_csv, v5_csv\n",
    "\n",
    "    else:\n",
    "        if probe_name == 'hvps':\n",
    "            min_diam = 3000\n",
    "        else:\n",
    "            min_diam = 300\n",
    "            \n",
    "        v4_reduced = reduce_full_df(v4_csv, min_diam)\n",
    "        v5_reduced = reduce_full_df(v5_csv, min_diam)\n",
    "        return v4_reduced, v5_reduced\n",
    "    "
   ]
  },
  {
   "cell_type": "code",
   "execution_count": 216,
   "id": "b0cf6bcc-7971-4ddf-85bc-cf767a7d97b6",
   "metadata": {},
   "outputs": [],
   "source": [
    "### need to find the odd images and have a look at them maybe?\n",
    "def zip_directory(directory_path, zip_path):\n",
    "    with zipfile.ZipFile(zip_path, 'w') as zipf:\n",
    "        for root, dirs, files in os.walk(directory_path):\n",
    "            for file in files:\n",
    "                zipf.write(os.path.join(root, file), \n",
    "                           os.path.relpath(os.path.join(root, file), \n",
    "                                           os.path.join(directory_path, '..')))\n",
    "                \n",
    "def not_matching_images(v4_df,v5_df, date, probe, folder_name = None, move_images = False):\n",
    "    v4_name = list(v4_df['name'])\n",
    "    v5_name = list(v5_df['name'])\n",
    "    \n",
    "    new_df = np.array(v5_name) \n",
    "    # Array of items to remove \n",
    "    og_df = np.array(v4_name)\n",
    "    not_matching = list(new_df[~np.isin(new_df, og_df)]) # ones that are in v5 but not v4\n",
    "    if move_images != False and len(not_matching) >= 1:\n",
    "        image_loc = f'/gws/nopw/j04/dcmex/users/ezriab/processed_images/{probe}/v2/{date}/'\n",
    "        save_path = f'/home/users/esree/2DS_code/particle_extraction/image_check_v4_v5/{date}_{folder_name}'\n",
    "\n",
    "        if not os.path.exists(save_path):\n",
    "            os.makedirs(save_path)\n",
    "\n",
    "        for image in not_matching:\n",
    "            image_full_loc = f'{image_loc}{image}.png'\n",
    "            shutil.copy(image_full_loc, save_path+'/')\n",
    "\n",
    "        ## then make zip file too\n",
    "        zip_directory(save_path,save_path+'.zip')\n",
    "        \n",
    "    return not_matching\n",
    "\n",
    "def print_results(v4,v5, probe_name):\n",
    "    if probe_name == 'hvps':\n",
    "            min_diam = 3000\n",
    "    else:\n",
    "        min_diam = 300\n",
    "    v4_proper_aspect = reduce_full_df(v4, min_diam)\n",
    "    v5_proper_aspect = reduce_full_df(v5, min_diam)\n",
    "\n",
    "    v4_no_aspect = reduce_full_df(v4, min_diam, include_aspect = False)\n",
    "    v5_no_aspect = reduce_full_df(v5, min_diam, include_aspect = False)\n",
    "\n",
    "    print('original aspect ratio adhered, <= 10')\n",
    "    v4_asp = len(v4_proper_aspect['name'])\n",
    "    v5_asp = len(v5_proper_aspect['name'])\n",
    "    print(f'v4 {v4_asp}')\n",
    "    print(f'v5 {v5_asp}')\n",
    "\n",
    "    print('')\n",
    "    print('no aspect ratio limits')\n",
    "    v4_no_asp = len(v4_no_aspect['name'])\n",
    "    v5_no_asp = len(v5_no_aspect['name'])\n",
    "    print(f'v4 {v4_no_asp}')\n",
    "    print(f'v5 {v5_no_asp}')\n",
    "    return v4_proper_aspect, v5_proper_aspect, v4_no_aspect, v5_no_aspect"
   ]
  },
  {
   "cell_type": "code",
   "execution_count": 220,
   "id": "0fcdcf21-efeb-4a61-ab11-6c154ebd23d6",
   "metadata": {},
   "outputs": [
    {
     "name": "stdout",
     "output_type": "stream",
     "text": [
      "/gws/nopw/j04/dcmex/users/ezriab/processed_stats/hvps/flight_220723153143.csv\n",
      "/gws/nopw/j04/dcmex/users/ezriab/processed_stats/hvps/v2/flight_220723153143.csv\n",
      "original aspect ratio adhered, <= 10\n",
      "v4 287\n",
      "v5 302\n",
      "\n",
      "no aspect ratio limits\n",
      "v4 287\n",
      "v5 346\n"
     ]
    }
   ],
   "source": [
    "## testing a bunch \n",
    "date_of_interest = '220723153143' # just full date\n",
    "probe_file = 'hvps' # 'hvps' # hvps, 2ds/ch_0 , 2ds/ch_1\n",
    "v4_test, v5_test = matching_files(date_of_interest,probe_file,reduced=False)\n",
    "v4_asp_df, v5_asp_df, v4_no_asp_df, v5_no_asp_df = print_results(v4_test, v5_test, probe_file)"
   ]
  },
  {
   "cell_type": "code",
   "execution_count": 213,
   "id": "298c70d6-e77b-463d-8230-87714f7a4bb9",
   "metadata": {
    "scrolled": true
   },
   "outputs": [],
   "source": [
    "# ones with original aspect ratio:\n",
    "test_not_matching = not_matching_images(v4_asp_df, v5_asp_df, date_of_interest, probe_file, folder_name = 'prop_asp', move_images= True) \n",
    "\n",
    "# ones with no aspect ratio:\n",
    "test_not_matching = not_matching_images(v4_no_asp_df, v5_no_asp_df, date_of_interest, probe_file, folder_name = 'no_asp', move_images= True)"
   ]
  },
  {
   "cell_type": "code",
   "execution_count": 217,
   "id": "627f18de-97ae-40d9-92fe-ee9a10610e1f",
   "metadata": {
    "collapsed": true,
    "jupyter": {
     "outputs_hidden": true,
     "source_hidden": true
    }
   },
   "outputs": [
    {
     "ename": "OSError",
     "evalue": "[Errno 116] Stale file handle",
     "output_type": "error",
     "traceback": [
      "\u001b[0;31m---------------------------------------------------------------------------\u001b[0m",
      "\u001b[0;31mOSError\u001b[0m                                   Traceback (most recent call last)",
      "Cell \u001b[0;32mIn[216], line 6\u001b[0m, in \u001b[0;36mzip_directory\u001b[0;34m(directory_path, zip_path)\u001b[0m\n\u001b[1;32m      5\u001b[0m \u001b[38;5;28;01mfor\u001b[39;00m file \u001b[38;5;129;01min\u001b[39;00m files:\n\u001b[0;32m----> 6\u001b[0m     \u001b[43mzipf\u001b[49m\u001b[38;5;241;43m.\u001b[39;49m\u001b[43mwrite\u001b[49m\u001b[43m(\u001b[49m\u001b[43mos\u001b[49m\u001b[38;5;241;43m.\u001b[39;49m\u001b[43mpath\u001b[49m\u001b[38;5;241;43m.\u001b[39;49m\u001b[43mjoin\u001b[49m\u001b[43m(\u001b[49m\u001b[43mroot\u001b[49m\u001b[43m,\u001b[49m\u001b[43m \u001b[49m\u001b[43mfile\u001b[49m\u001b[43m)\u001b[49m\u001b[43m,\u001b[49m\u001b[43m \u001b[49m\n\u001b[1;32m      7\u001b[0m \u001b[43m               \u001b[49m\u001b[43mos\u001b[49m\u001b[38;5;241;43m.\u001b[39;49m\u001b[43mpath\u001b[49m\u001b[38;5;241;43m.\u001b[39;49m\u001b[43mrelpath\u001b[49m\u001b[43m(\u001b[49m\u001b[43mos\u001b[49m\u001b[38;5;241;43m.\u001b[39;49m\u001b[43mpath\u001b[49m\u001b[38;5;241;43m.\u001b[39;49m\u001b[43mjoin\u001b[49m\u001b[43m(\u001b[49m\u001b[43mroot\u001b[49m\u001b[43m,\u001b[49m\u001b[43m \u001b[49m\u001b[43mfile\u001b[49m\u001b[43m)\u001b[49m\u001b[43m,\u001b[49m\u001b[43m \u001b[49m\n\u001b[1;32m      8\u001b[0m \u001b[43m                               \u001b[49m\u001b[43mos\u001b[49m\u001b[38;5;241;43m.\u001b[39;49m\u001b[43mpath\u001b[49m\u001b[38;5;241;43m.\u001b[39;49m\u001b[43mjoin\u001b[49m\u001b[43m(\u001b[49m\u001b[43mdirectory_path\u001b[49m\u001b[43m,\u001b[49m\u001b[43m \u001b[49m\u001b[38;5;124;43m'\u001b[39;49m\u001b[38;5;124;43m..\u001b[39;49m\u001b[38;5;124;43m'\u001b[39;49m\u001b[43m)\u001b[49m\u001b[43m)\u001b[49m\u001b[43m)\u001b[49m\n",
      "File \u001b[0;32m/opt/jaspy/lib/python3.11/zipfile.py:1813\u001b[0m, in \u001b[0;36mZipFile.write\u001b[0;34m(self, filename, arcname, compress_type, compresslevel)\u001b[0m\n\u001b[1;32m   1811\u001b[0m     zinfo\u001b[38;5;241m.\u001b[39m_compresslevel \u001b[38;5;241m=\u001b[39m \u001b[38;5;28mself\u001b[39m\u001b[38;5;241m.\u001b[39mcompresslevel\n\u001b[0;32m-> 1813\u001b[0m \u001b[43m\u001b[49m\u001b[38;5;28;43;01mwith\u001b[39;49;00m\u001b[43m \u001b[49m\u001b[38;5;28;43mopen\u001b[39;49m\u001b[43m(\u001b[49m\u001b[43mfilename\u001b[49m\u001b[43m,\u001b[49m\u001b[43m \u001b[49m\u001b[38;5;124;43m\"\u001b[39;49m\u001b[38;5;124;43mrb\u001b[39;49m\u001b[38;5;124;43m\"\u001b[39;49m\u001b[43m)\u001b[49m\u001b[43m \u001b[49m\u001b[38;5;28;43;01mas\u001b[39;49;00m\u001b[43m \u001b[49m\u001b[43msrc\u001b[49m\u001b[43m,\u001b[49m\u001b[43m \u001b[49m\u001b[38;5;28;43mself\u001b[39;49m\u001b[38;5;241;43m.\u001b[39;49m\u001b[43mopen\u001b[49m\u001b[43m(\u001b[49m\u001b[43mzinfo\u001b[49m\u001b[43m,\u001b[49m\u001b[43m \u001b[49m\u001b[38;5;124;43m'\u001b[39;49m\u001b[38;5;124;43mw\u001b[39;49m\u001b[38;5;124;43m'\u001b[39;49m\u001b[43m)\u001b[49m\u001b[43m \u001b[49m\u001b[38;5;28;43;01mas\u001b[39;49;00m\u001b[43m \u001b[49m\u001b[43mdest\u001b[49m\u001b[43m:\u001b[49m\n\u001b[1;32m   1814\u001b[0m \u001b[43m    \u001b[49m\u001b[43mshutil\u001b[49m\u001b[38;5;241;43m.\u001b[39;49m\u001b[43mcopyfileobj\u001b[49m\u001b[43m(\u001b[49m\u001b[43msrc\u001b[49m\u001b[43m,\u001b[49m\u001b[43m \u001b[49m\u001b[43mdest\u001b[49m\u001b[43m,\u001b[49m\u001b[43m \u001b[49m\u001b[38;5;241;43m1024\u001b[39;49m\u001b[38;5;241;43m*\u001b[39;49m\u001b[38;5;241;43m8\u001b[39;49m\u001b[43m)\u001b[49m\n",
      "File \u001b[0;32m/opt/jaspy/lib/python3.11/zipfile.py:1217\u001b[0m, in \u001b[0;36m_ZipWriteFile.close\u001b[0;34m(self)\u001b[0m\n\u001b[1;32m   1216\u001b[0m \u001b[38;5;28mself\u001b[39m\u001b[38;5;241m.\u001b[39m_zipfile\u001b[38;5;241m.\u001b[39mstart_dir \u001b[38;5;241m=\u001b[39m \u001b[38;5;28mself\u001b[39m\u001b[38;5;241m.\u001b[39m_fileobj\u001b[38;5;241m.\u001b[39mtell()\n\u001b[0;32m-> 1217\u001b[0m \u001b[38;5;28mself\u001b[39m\u001b[38;5;241m.\u001b[39m_fileobj\u001b[38;5;241m.\u001b[39mseek(\u001b[38;5;28mself\u001b[39m\u001b[38;5;241m.\u001b[39m_zinfo\u001b[38;5;241m.\u001b[39mheader_offset)\n\u001b[1;32m   1218\u001b[0m \u001b[38;5;28mself\u001b[39m\u001b[38;5;241m.\u001b[39m_fileobj\u001b[38;5;241m.\u001b[39mwrite(\u001b[38;5;28mself\u001b[39m\u001b[38;5;241m.\u001b[39m_zinfo\u001b[38;5;241m.\u001b[39mFileHeader(\u001b[38;5;28mself\u001b[39m\u001b[38;5;241m.\u001b[39m_zip64))\n",
      "\u001b[0;31mOSError\u001b[0m: [Errno 116] Stale file handle",
      "\nDuring handling of the above exception, another exception occurred:\n",
      "\u001b[0;31mOSError\u001b[0m                                   Traceback (most recent call last)",
      "File \u001b[0;32m/opt/jaspy/lib/python3.11/zipfile.py:1911\u001b[0m, in \u001b[0;36mZipFile.close\u001b[0;34m(self)\u001b[0m\n\u001b[1;32m   1910\u001b[0m \u001b[38;5;28;01mif\u001b[39;00m \u001b[38;5;28mself\u001b[39m\u001b[38;5;241m.\u001b[39m_seekable:\n\u001b[0;32m-> 1911\u001b[0m     \u001b[38;5;28mself\u001b[39m\u001b[38;5;241m.\u001b[39mfp\u001b[38;5;241m.\u001b[39mseek(\u001b[38;5;28mself\u001b[39m\u001b[38;5;241m.\u001b[39mstart_dir)\n\u001b[1;32m   1912\u001b[0m \u001b[38;5;28mself\u001b[39m\u001b[38;5;241m.\u001b[39m_write_end_record()\n",
      "\u001b[0;31mOSError\u001b[0m: [Errno 116] Stale file handle",
      "\nDuring handling of the above exception, another exception occurred:\n",
      "\u001b[0;31mOSError\u001b[0m                                   Traceback (most recent call last)",
      "\u001b[0;31mOSError\u001b[0m: [Errno 116] Stale file handle",
      "\nDuring handling of the above exception, another exception occurred:\n",
      "\u001b[0;31mOSError\u001b[0m                                   Traceback (most recent call last)",
      "Cell \u001b[0;32mIn[217], line 3\u001b[0m\n\u001b[1;32m      1\u001b[0m og_all_im \u001b[38;5;241m=\u001b[39m \u001b[38;5;124m'\u001b[39m\u001b[38;5;124m/gws/nopw/j04/dcmex/users/ezriab/processed_images/hvps/220723153143\u001b[39m\u001b[38;5;124m'\u001b[39m\n\u001b[1;32m      2\u001b[0m where_i_want_saved \u001b[38;5;241m=\u001b[39m \u001b[38;5;124m'\u001b[39m\u001b[38;5;124m/home/users/esree/2DS_code/particle_extraction/image_check_v4_v5/220723153143_all.zip\u001b[39m\u001b[38;5;124m'\u001b[39m\n\u001b[0;32m----> 3\u001b[0m \u001b[43mzip_directory\u001b[49m\u001b[43m(\u001b[49m\u001b[43mog_all_im\u001b[49m\u001b[43m,\u001b[49m\u001b[43mwhere_i_want_saved\u001b[49m\u001b[43m)\u001b[49m\n",
      "Cell \u001b[0;32mIn[216], line 3\u001b[0m, in \u001b[0;36mzip_directory\u001b[0;34m(directory_path, zip_path)\u001b[0m\n\u001b[1;32m      2\u001b[0m \u001b[38;5;28;01mdef\u001b[39;00m \u001b[38;5;21mzip_directory\u001b[39m(directory_path, zip_path):\n\u001b[0;32m----> 3\u001b[0m \u001b[43m    \u001b[49m\u001b[38;5;28;43;01mwith\u001b[39;49;00m\u001b[43m \u001b[49m\u001b[43mzipfile\u001b[49m\u001b[38;5;241;43m.\u001b[39;49m\u001b[43mZipFile\u001b[49m\u001b[43m(\u001b[49m\u001b[43mzip_path\u001b[49m\u001b[43m,\u001b[49m\u001b[43m \u001b[49m\u001b[38;5;124;43m'\u001b[39;49m\u001b[38;5;124;43mw\u001b[39;49m\u001b[38;5;124;43m'\u001b[39;49m\u001b[43m)\u001b[49m\u001b[43m \u001b[49m\u001b[38;5;28;43;01mas\u001b[39;49;00m\u001b[43m \u001b[49m\u001b[43mzipf\u001b[49m\u001b[43m:\u001b[49m\n\u001b[1;32m      4\u001b[0m \u001b[43m        \u001b[49m\u001b[38;5;28;43;01mfor\u001b[39;49;00m\u001b[43m \u001b[49m\u001b[43mroot\u001b[49m\u001b[43m,\u001b[49m\u001b[43m \u001b[49m\u001b[43mdirs\u001b[49m\u001b[43m,\u001b[49m\u001b[43m \u001b[49m\u001b[43mfiles\u001b[49m\u001b[43m \u001b[49m\u001b[38;5;129;43;01min\u001b[39;49;00m\u001b[43m \u001b[49m\u001b[43mos\u001b[49m\u001b[38;5;241;43m.\u001b[39;49m\u001b[43mwalk\u001b[49m\u001b[43m(\u001b[49m\u001b[43mdirectory_path\u001b[49m\u001b[43m)\u001b[49m\u001b[43m:\u001b[49m\n\u001b[1;32m      5\u001b[0m \u001b[43m            \u001b[49m\u001b[38;5;28;43;01mfor\u001b[39;49;00m\u001b[43m \u001b[49m\u001b[43mfile\u001b[49m\u001b[43m \u001b[49m\u001b[38;5;129;43;01min\u001b[39;49;00m\u001b[43m \u001b[49m\u001b[43mfiles\u001b[49m\u001b[43m:\u001b[49m\n",
      "File \u001b[0;32m/opt/jaspy/lib/python3.11/zipfile.py:1355\u001b[0m, in \u001b[0;36mZipFile.__exit__\u001b[0;34m(self, type, value, traceback)\u001b[0m\n\u001b[1;32m   1354\u001b[0m \u001b[38;5;28;01mdef\u001b[39;00m \u001b[38;5;21m__exit__\u001b[39m(\u001b[38;5;28mself\u001b[39m, \u001b[38;5;28mtype\u001b[39m, value, traceback):\n\u001b[0;32m-> 1355\u001b[0m     \u001b[38;5;28;43mself\u001b[39;49m\u001b[38;5;241;43m.\u001b[39;49m\u001b[43mclose\u001b[49m\u001b[43m(\u001b[49m\u001b[43m)\u001b[49m\n",
      "File \u001b[0;32m/opt/jaspy/lib/python3.11/zipfile.py:1916\u001b[0m, in \u001b[0;36mZipFile.close\u001b[0;34m(self)\u001b[0m\n\u001b[1;32m   1914\u001b[0m fp \u001b[38;5;241m=\u001b[39m \u001b[38;5;28mself\u001b[39m\u001b[38;5;241m.\u001b[39mfp\n\u001b[1;32m   1915\u001b[0m \u001b[38;5;28mself\u001b[39m\u001b[38;5;241m.\u001b[39mfp \u001b[38;5;241m=\u001b[39m \u001b[38;5;28;01mNone\u001b[39;00m\n\u001b[0;32m-> 1916\u001b[0m \u001b[38;5;28;43mself\u001b[39;49m\u001b[38;5;241;43m.\u001b[39;49m\u001b[43m_fpclose\u001b[49m\u001b[43m(\u001b[49m\u001b[43mfp\u001b[49m\u001b[43m)\u001b[49m\n",
      "File \u001b[0;32m/opt/jaspy/lib/python3.11/zipfile.py:2016\u001b[0m, in \u001b[0;36mZipFile._fpclose\u001b[0;34m(self, fp)\u001b[0m\n\u001b[1;32m   2014\u001b[0m \u001b[38;5;28mself\u001b[39m\u001b[38;5;241m.\u001b[39m_fileRefCnt \u001b[38;5;241m-\u001b[39m\u001b[38;5;241m=\u001b[39m \u001b[38;5;241m1\u001b[39m\n\u001b[1;32m   2015\u001b[0m \u001b[38;5;28;01mif\u001b[39;00m \u001b[38;5;129;01mnot\u001b[39;00m \u001b[38;5;28mself\u001b[39m\u001b[38;5;241m.\u001b[39m_fileRefCnt \u001b[38;5;129;01mand\u001b[39;00m \u001b[38;5;129;01mnot\u001b[39;00m \u001b[38;5;28mself\u001b[39m\u001b[38;5;241m.\u001b[39m_filePassed:\n\u001b[0;32m-> 2016\u001b[0m     fp\u001b[38;5;241m.\u001b[39mclose()\n",
      "\u001b[0;31mOSError\u001b[0m: [Errno 116] Stale file handle"
     ]
    }
   ],
   "source": [
    "og_all_im = '/gws/nopw/j04/dcmex/users/ezriab/processed_images/hvps/220723153143'\n",
    "where_i_want_saved = '/home/users/esree/2DS_code/particle_extraction/image_check_v4_v5/220723153143_all.zip'\n",
    "zip_directory(og_all_im,where_i_want_saved)"
   ]
  },
  {
   "cell_type": "code",
   "execution_count": 218,
   "id": "0ec64669-6947-4521-824f-5fcfc95ddc70",
   "metadata": {},
   "outputs": [],
   "source": [
    "## move original images, to see what good ones look like\n",
    "def move_good_image(v4_df, date, probe):\n",
    "    folder_save_name = f'good_{date}'\n",
    "    image_loc = f'/gws/nopw/j04/dcmex/users/ezriab/processed_images/{probe}/{date}/'\n",
    "    save_path = f'/home/users/esree/2DS_code/particle_extraction/image_check_v4_v5/{folder_save_name}'\n",
    "    \n",
    "    if not os.path.exists(save_path):\n",
    "        os.makedirs(save_path)\n",
    "\n",
    "    \n",
    "    v4_name = list(v4_df['name'])\n",
    "    for image in v4_name:\n",
    "        image_full_loc = f'{image_loc}{image}.png'\n",
    "        shutil.copy(image_full_loc, save_path+'/')\n",
    "\n",
    "    ## then make zip file too\n",
    "    zip_directory(save_path,save_path+'.zip')\n"
   ]
  },
  {
   "cell_type": "code",
   "execution_count": 221,
   "id": "cac0fefa-54fb-4ab5-a1f2-712ce1513b4f",
   "metadata": {},
   "outputs": [],
   "source": [
    "#date_of_interest = '220723153143' # just full date\n",
    "#probe_file = 'hvps' # 'hvps' # hvps, 2ds/ch_0 , 2ds/ch_1\n",
    "move_good_image(v4_asp_df, date_of_interest, probe_file)"
   ]
  },
  {
   "cell_type": "code",
   "execution_count": null,
   "id": "33566bb5-0532-47f5-8949-97465a04b91a",
   "metadata": {},
   "outputs": [],
   "source": []
  }
 ],
 "metadata": {
  "kernelspec": {
   "display_name": "Python 3 + Jaspy",
   "language": "python",
   "name": "jaspy"
  },
  "language_info": {
   "codemirror_mode": {
    "name": "ipython",
    "version": 3
   },
   "file_extension": ".py",
   "mimetype": "text/x-python",
   "name": "python",
   "nbconvert_exporter": "python",
   "pygments_lexer": "ipython3",
   "version": "3.11.9"
  }
 },
 "nbformat": 4,
 "nbformat_minor": 5
}
