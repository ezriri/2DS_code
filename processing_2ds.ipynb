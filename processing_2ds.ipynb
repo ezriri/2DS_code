{
 "cells": [
  {
   "cell_type": "code",
   "execution_count": null,
   "id": "f3c0d605-fb48-4508-a9f1-09ec02bd9767",
   "metadata": {},
   "outputs": [],
   "source": [
    "import iris\n",
    "import xarray as xr\n",
    "import matplotlib.pyplot as plt\n",
    "import matplotlib as mpl\n",
    "import numpy as np\n",
    "from glob import glob\n",
    "import seaborn as sns\n",
    "import xesmf as xe\n",
    "import pandas as pd\n",
    "#import def_homebrew as hb ## homemade functions xox\n",
    "from scipy.special import gamma\n",
    "import netCDF4 as nc\n",
    "import datetime\n",
    "\n",
    "import h5py ####"
   ]
  },
  {
   "cell_type": "code",
   "execution_count": null,
   "id": "8769127d-b74d-4e15-95e6-b3e9f58ce1fd",
   "metadata": {},
   "outputs": [],
   "source": [
    "ds_loc = '/home/users/esree/data/2ds/' ## note this is just 1 channel # Export_base220622110532.h5 -> 1 file within this\n",
    "hvps_loc = '/home/users/esree/data/hvps/'"
   ]
  }
 ],
 "metadata": {
  "kernelspec": {
   "display_name": "Python 3 + Jaspy",
   "language": "python",
   "name": "jaspy"
  },
  "language_info": {
   "codemirror_mode": {
    "name": "ipython",
    "version": 3
   },
   "file_extension": ".py",
   "mimetype": "text/x-python",
   "name": "python",
   "nbconvert_exporter": "python",
   "pygments_lexer": "ipython3",
   "version": "3.10.8"
  }
 },
 "nbformat": 4,
 "nbformat_minor": 5
}
