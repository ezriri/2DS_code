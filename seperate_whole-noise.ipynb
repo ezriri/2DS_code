{
 "cells": [
  {
   "cell_type": "markdown",
   "id": "929a48e2-02ca-4c80-aa0f-0f8783b4801a",
   "metadata": {},
   "source": [
    "## 2. notebook for looking at 2ds data\n",
    "similar to extracting individual crystals, but firstly we want to seperate out (with certainty) whole crystals vs noise (i.e. lots of small particles)"
   ]
  },
  {
   "cell_type": "code",
   "execution_count": 201,
   "id": "f41383a7-a235-4224-83e8-886011d105dc",
   "metadata": {},
   "outputs": [],
   "source": [
    "import xarray as xr\n",
    "import matplotlib.pyplot as plt\n",
    "import matplotlib as mpl\n",
    "import numpy as np\n",
    "from glob import glob\n",
    "import seaborn as sns\n",
    "import xesmf as xe\n",
    "import pandas as pd\n",
    "#import def_homebrew as hb ## homemade functions xox\n",
    "from scipy.special import gamma\n",
    "import netCDF4 as nc\n",
    "from datetime import datetime, timedelta\n",
    "\n",
    "import h5py ####\n",
    "from PIL import Image\n",
    "#from IPython.display import display #\n",
    "#import cv2 # not working\n",
    "import os\n",
    "\n",
    "from scipy.ndimage import convolve, label\n",
    "from skimage.measure import regionprops, find_contours\n",
    "from scipy.spatial import ConvexHull, distance_matrix\n",
    "from skimage.morphology import remove_small_holes ## remove holes <3\n",
    "from scipy.ndimage import binary_fill_holes\n",
    "from skimage import measure\n",
    "from cv2 import cvtColor, COLOR_BGR2GRAY, threshold, THRESH_BINARY, THRESH_OTSU"
   ]
  },
  {
   "cell_type": "code",
   "execution_count": 202,
   "id": "c58866fb-b07c-43f9-87aa-64db74fcd445",
   "metadata": {},
   "outputs": [],
   "source": [
    "## files location\n",
    "ds_loc = '/home/users/esree/data/2ds/'\n",
    "hvps_loc = '/home/users/esree/data/hvps/'\n",
    "\n",
    "#file of interest\n",
    "file_name = 'Export_base220730153000.h5' # example file\n",
    "f2ds = h5py.File(ds_loc+ file_name,'r') # open file\n",
    "\n",
    "# break file into two - data + time\n",
    "ds_image = f2ds['ImageData'] \n",
    "ds_time = f2ds['ImageTimes']\n",
    "## ~~~~~~~~~~~~~~~~~~~~~~~~~~~~~~~~~~~~~~~~~~~~~~~~~~~~~~~~~~~~~~~~~~~~~~~~~~~~~~~~~~~~~~~~~~~~~~~~~~~~~~~~~~~~~~~~~~~\n",
    "##### make xarray of useful time data #####\n",
    "sec_since = ds_time[:,0]\n",
    "pixel_slice = ds_time[:,1]\n",
    "pix_sum = pixel_slice.cumsum(dtype = 'int')\n",
    "\n",
    "## make useful datetime format (not seconds since midnight)\n",
    "# using the file name for reference\n",
    "date_str = file_name[11:17]\n",
    "starting_date = datetime.strptime(date_str, '%y%m%d')\n",
    "time_deltas = [timedelta(seconds=float(sec)) for sec in sec_since]\n",
    "utc_time = [starting_date + delta for delta in time_deltas]\n",
    "\n",
    "time_xr =xr.Dataset({\n",
    "    'utc_time':utc_time,\n",
    "    'pixel_slice': pixel_slice,\n",
    "    'pix_sum': pix_sum})\n",
    "## ~~~~~~~~~~~~~~~~~~~~~~~~~~~~~~~~~~~~~~~~~~~~~~~~~~~~~~~~~~~~~~~~~~~~~~~~~~~~~~~~~~~~~~~~~~~~~~~~~~~~~~~~~~~~~~~~~~~"
   ]
  },
  {
   "cell_type": "markdown",
   "id": "c6ab4e2e-8a86-4c0f-92e7-ad9937e5fa49",
   "metadata": {},
   "source": [
    "### first step in cleaning\n",
    "* (here images are defined as pre-determined by Jonny)\n",
    "* get rid of images where less than 4 pixels along x axis"
   ]
  },
  {
   "cell_type": "code",
   "execution_count": 203,
   "id": "7db756ae-2cde-4f2b-8933-100df4ac51c1",
   "metadata": {},
   "outputs": [],
   "source": [
    "diff = np.diff(time_xr['pix_sum'][:].values) # this is finding the difference between the elements of pix_sum\n",
    "selected_values = time_xr['pix_sum'][:-1][diff > 4] # this is selecting the adjacent files in which have pixels > 4 length\n",
    "# i.e. selected values contains the index of where images are > 4 in x axis"
   ]
  },
  {
   "cell_type": "code",
   "execution_count": 204,
   "id": "c5f50bdb-e4d9-41a9-a75f-553253c272a4",
   "metadata": {},
   "outputs": [
    {
     "data": {
      "image/png": "[encoded data removed]",
      "text/plain": [
       "<Figure size 640x480 with 1 Axes>"
      ]
     },
     "metadata": {},
     "output_type": "display_data"
    }
   ],
   "source": [
    "i = 2344 # random crystal\n",
    "## 32, 2344, 3452 is good example, 700 - we would want rid of\n",
    "one_crystal = f2ds['ImageData'][:,int(selected_values[i]):int(selected_values[i+1])] # extract 1 crystal\n",
    "\n",
    "plt.imshow(one_crystal, cmap='gray')\n",
    "plt.axis('off') # Turn off axis labels\n",
    "plt.show()"
   ]
  },
  {
   "cell_type": "code",
   "execution_count": 219,
   "id": "d3042ab9-5c6f-4d74-931a-690e41e71e51",
   "metadata": {},
   "outputs": [],
   "source": [
    "def stats_description(bw_crystal):\n",
    "    '''take binary image, and returns object containing stats about crystal'''\n",
    "    \n",
    "    filled_particle = remove_small_holes(bw_crystal.image, area_threshold=4) # fill in voids within binary image # may need to be altered\n",
    "    # can see the filled in particle if needs be\n",
    "    #plt.imshow(filled_particle, cmap='gray')\n",
    "    \n",
    "    contours = measure.find_contours(filled_particle, 0.5)\n",
    "    contour = max(contours, key=lambda x: x.shape[0]) # Sort contours by area (largest first) and select the largest contour\n",
    "    \n",
    "    labeled_image = measure.label(filled_particle) # Label the image based on the threshold\n",
    "    region = measure.regionprops(labeled_image)[0]  # Assumes largest labeled region corresponds to largest contour\n",
    "\n",
    "    return region"
   ]
  },
  {
   "cell_type": "code",
   "execution_count": 227,
   "id": "c193b400-6e69-4b47-828a-48c2fb8942c5",
   "metadata": {},
   "outputs": [],
   "source": [
    "## taking our cleaned data, where the files are >4 in length\n",
    "\n",
    "# 1. want to find the objects in the sections\n",
    "# 2. identify objects in which the area is > than specific threshold\n",
    "# 3. extract start + end index of said particle\n",
    "# 4. use this index to slice + get corresponding UTC time associated with particle\n",
    "\n",
    "area_threshold = 30 # need this minimum number of pixels to be classified\n",
    "pixel_resolution = 10 # mu\n",
    "\n",
    "binary_image = (one_crystal == 0) ## important, convert regions where 0 = True (our bits of interest), all else false\n",
    "\n",
    "particle_data = []\n",
    "\n",
    "# Label the connected components\n",
    "labeled_image, num_features = label(binary_image) # identify connected true areas\n",
    "# labeled_image = array, with each true area given a number to identify them\n",
    "# num_features = number of unique connected components in image. Have to literally have adjacent pixel, not diagonal (this will make them seperate)\n",
    "\n",
    "props = regionprops(labeled_image) # creates quick list of properties describing each feature detected in the image.\n",
    "# has: label, area, centroid, bounding box - for each feature\n",
    "\n",
    "## only doing this if anything there i.e. if props\n",
    "## want to extract only particles that surpass area threshold \n",
    "if props:\n",
    "    multi = {}\n",
    "    for particle in props:\n",
    "        if particle.area >= area_threshold:\n",
    "\n",
    "            ## basic info\n",
    "            coords = particle.coords # basically gives coords of each point of interest\n",
    "            x_values = np.unique(coords[:, 1])\n",
    "            s_idx = int(selected_values[i] + x_values[0])\n",
    "            e_idx = int(selected_values[i] + x_values[-1])\n",
    "            \n",
    "            ## more complex stats\n",
    "            spec_region = stats_description(particle)\n",
    "\n",
    "            # nice way of saving data\n",
    "            particle_data.append({\n",
    "                    #\"image_index\": image_index,\n",
    "                    \"particle_label\": particle.label,\n",
    "                    \"start_index\": s_idx,\n",
    "                    \"end_index\": e_idx,\n",
    "                    \"start_time\": time_xr['utc_time'][s_idx],  # assuming 'time_xr' is pre-defined and syncs with indices\n",
    "                    \"end_time\": time_xr['utc_time'][e_idx],\n",
    "                    \"major_axis_length\": spec_region.major_axis_length * pixel_resolution,\n",
    "                    \"minor_axis_length\": spec_region.minor_axis_length * pixel_resolution,\n",
    "                    \"orientation\": spec_region.orientation,\n",
    "                    \"centroid\": spec_region.centroid,\n",
    "                    \"area\": (spec_region.area * (pixel_resolution**2)),\n",
    "                    \"perimeter\": (spec_region.perimeter * pixel_resolution),\n",
    "                    \"y0\": coords[0][0],\n",
    "                    \"y1\": coords[-1][0]\n",
    "                })\n",
    "            \n",
    "    particle_df = pd.DataFrame(particle_data)"
   ]
  },
  {
   "cell_type": "code",
   "execution_count": 228,
   "id": "fd104b20-ac9a-4464-a4c7-d974e5fc9ec9",
   "metadata": {},
   "outputs": [
    {
     "name": "stdout",
     "output_type": "stream",
     "text": [
      "108\n",
      "127\n"
     ]
    },
    {
     "data": {
      "text/plain": [
       "<matplotlib.image.AxesImage at 0x7f3f21863550>"
      ]
     },
     "execution_count": 228,
     "metadata": {},
     "output_type": "execute_result"
    },
    {
     "data": {
      "image/png": "[encoded data removed]",
      "text/plain": [
       "<Figure size 640x480 with 1 Axes>"
      ]
     },
     "metadata": {},
     "output_type": "display_data"
    }
   ],
   "source": [
    "particle_df['start_index'][0]\n",
    "y0 = particle_df['y0'][0]\n",
    "y1 = particle_df['y1'][0]\n",
    "print(y0)\n",
    "print(y1)\n",
    "## plot with 2 pixel buffer - pos how want to save each image\n",
    "\n",
    "extract = f2ds['ImageData'][particle_df['y0'][0]-2:particle_df['y1'][0]+3,particle_df['start_index'][0]-2:particle_df['end_index'][0]+3]\n",
    "#extract = f2ds['ImageData'][:,particle_df['start_index'][0] -2:particle_df['end_index'][0]+3]\n",
    "\n",
    "plt.imshow(extract, cmap='gray')"
   ]
  },
  {
   "cell_type": "code",
   "execution_count": 185,
   "id": "fbbd0e42-5e82-43c7-a88c-7381abfb8a04",
   "metadata": {},
   "outputs": [
    {
     "data": {
      "text/html": [
       "<div>\n",
       "<style scoped>\n",
       "    .dataframe tbody tr th:only-of-type {\n",
       "        vertical-align: middle;\n",
       "    }\n",
       "\n",
       "    .dataframe tbody tr th {\n",
       "        vertical-align: top;\n",
       "    }\n",
       "\n",
       "    .dataframe thead th {\n",
       "        text-align: right;\n",
       "    }\n",
       "</style>\n",
       "<table border=\"1\" class=\"dataframe\">\n",
       "  <thead>\n",
       "    <tr style=\"text-align: right;\">\n",
       "      <th></th>\n",
       "      <th>particle_label</th>\n",
       "      <th>start_index</th>\n",
       "      <th>end_index</th>\n",
       "      <th>start_time</th>\n",
       "      <th>end_time</th>\n",
       "      <th>major_axis_length</th>\n",
       "      <th>minor_axis_length</th>\n",
       "      <th>orientation</th>\n",
       "      <th>centroid</th>\n",
       "      <th>area</th>\n",
       "      <th>perimeter</th>\n",
       "      <th>y0</th>\n",
       "      <th>y1</th>\n",
       "    </tr>\n",
       "  </thead>\n",
       "  <tbody>\n",
       "    <tr>\n",
       "      <th>0</th>\n",
       "      <td>24</td>\n",
       "      <td>183679</td>\n",
       "      <td>183717</td>\n",
       "      <td>&lt;xarray.DataArray 'utc_time' ()&gt; Size: 8B\\narr...</td>\n",
       "      <td>&lt;xarray.DataArray 'utc_time' ()&gt; Size: 8B\\narr...</td>\n",
       "      <td>210.090709</td>\n",
       "      <td>80.783195</td>\n",
       "      <td>-0.504926</td>\n",
       "      <td>(9.4375, 6.401785714285714)</td>\n",
       "      <td>11200.0</td>\n",
       "      <td>611.126984</td>\n",
       "      <td>8</td>\n",
       "      <td>56</td>\n",
       "    </tr>\n",
       "  </tbody>\n",
       "</table>\n",
       "</div>"
      ],
      "text/plain": [
       "   particle_label  start_index  end_index  \\\n",
       "0              24       183679     183717   \n",
       "\n",
       "                                          start_time  \\\n",
       "0  <xarray.DataArray 'utc_time' ()> Size: 8B\\narr...   \n",
       "\n",
       "                                            end_time  major_axis_length  \\\n",
       "0  <xarray.DataArray 'utc_time' ()> Size: 8B\\narr...         210.090709   \n",
       "\n",
       "   minor_axis_length  orientation                     centroid     area  \\\n",
       "0          80.783195    -0.504926  (9.4375, 6.401785714285714)  11200.0   \n",
       "\n",
       "    perimeter  y0  y1  \n",
       "0  611.126984   8  56  "
      ]
     },
     "execution_count": 185,
     "metadata": {},
     "output_type": "execute_result"
    }
   ],
   "source": [
    "particle_df"
   ]
  }
 ],
 "metadata": {
  "kernelspec": {
   "display_name": "Python 3 + Jaspy",
   "language": "python",
   "name": "jaspy"
  },
  "language_info": {
   "codemirror_mode": {
    "name": "ipython",
    "version": 3
   },
   "file_extension": ".py",
   "mimetype": "text/x-python",
   "name": "python",
   "nbconvert_exporter": "python",
   "pygments_lexer": "ipython3",
   "version": "3.11.9"
  }
 },
 "nbformat": 4,
 "nbformat_minor": 5
}
