{
 "cells": [
  {
   "cell_type": "markdown",
   "id": "20aaa9d8-a0fd-4894-8c0c-01e512639b9b",
   "metadata": {},
   "source": [
    "# testing metrics\n",
    "this code test different metrics i.e. circularity etc to see if is doing the job it is supposed to.\n",
    "\n",
    "using 30th july processed to run stats\n",
    "\n",
    "also a lot of csv methods used"
   ]
  },
  {
   "cell_type": "code",
   "execution_count": 29,
   "id": "c62d88fb-a74c-49a8-ac1d-73962ef2a67d",
   "metadata": {},
   "outputs": [],
   "source": [
    "import xarray as xr\n",
    "import matplotlib.pyplot as plt\n",
    "import matplotlib as mpl\n",
    "import numpy as np\n",
    "from glob import glob\n",
    "import seaborn as sns\n",
    "import xesmf as xe\n",
    "import pandas as pd\n",
    "#import def_homebrew as hb ## homemade functions xox\n",
    "from scipy.special import gamma\n",
    "import netCDF4 as nc\n",
    "from datetime import datetime, timedelta\n",
    "\n",
    "import h5py ####\n",
    "from PIL import Image\n",
    "#from IPython.display import display #\n",
    "#import cv2 # not working\n",
    "import os\n",
    "import shutil\n",
    "\n",
    "from scipy.ndimage import convolve, label\n",
    "from skimage.measure import regionprops, find_contours\n",
    "from scipy.spatial import ConvexHull, distance_matrix\n",
    "from skimage.morphology import remove_small_holes ## remove holes <3\n",
    "from scipy.ndimage import binary_fill_holes\n",
    "from skimage import measure\n",
    "from cv2 import cvtColor, COLOR_BGR2GRAY, threshold, THRESH_BINARY, THRESH_OTSU\n",
    "import random\n",
    "import tensorflow as tf\n"
   ]
  },
  {
   "cell_type": "code",
   "execution_count": 62,
   "id": "5c207160-1b96-4e89-97a6-f31a98781804",
   "metadata": {},
   "outputs": [],
   "source": [
    "#path = '/home/users/esree/processed_images/'\n",
    "path = '/gws/nopw/j04/dcmex/users/ezriab/processed_images/2ds/ch_0/220730153000/'\n",
    "\n",
    "#csv = 'merged_stats_habits.csv'\n",
    "csv = '220730153000_stats_habits.csv'\n",
    "\n",
    "og_df = pd.read_csv(path+csv)\n",
    "## again with the new naming scheme in the df, everything is difficult, so are removing it\n",
    "og_df['name'] = og_df['name'].str.replace('_ch_0', '', regex=False)\n",
    "# remove truncated ones\n",
    "df = og_df[(og_df['first_diode_trunc'] == 0) & (og_df['last_diode_trunc'] == 0)]"
   ]
  },
  {
   "cell_type": "code",
   "execution_count": 85,
   "id": "2e222208-60d1-415a-9ba5-e5735a9f68e1",
   "metadata": {},
   "outputs": [
    {
     "name": "stdout",
     "output_type": "stream",
     "text": [
      "y\n",
      "1002353_1 copied\n",
      "y\n",
      "1031613_1 copied\n",
      "y\n",
      "135775_1 copied\n",
      "y\n",
      "20271_1 copied\n",
      "y\n",
      "277303_20 copied\n",
      "y\n",
      "316364_1 copied\n",
      "y\n",
      "316915_1 copied\n",
      "y\n",
      "317851_1 copied\n",
      "y\n",
      "318747_1 copied\n",
      "y\n",
      "319967_1 copied\n",
      "y\n",
      "320298_1 copied\n",
      "y\n",
      "321350_1 copied\n",
      "y\n",
      "325593_1 copied\n",
      "y\n",
      "326080_1 copied\n",
      "y\n",
      "328059_1 copied\n",
      "y\n",
      "354618_1 copied\n",
      "y\n",
      "357380_1 copied\n",
      "y\n",
      "421760_1 copied\n",
      "y\n",
      "444419_1 copied\n",
      "y\n",
      "459417_1 copied\n",
      "y\n",
      "461074_1 copied\n",
      "y\n",
      "557246_1 copied\n",
      "y\n",
      "763674_1 copied\n",
      "y\n",
      "872437_1 copied\n",
      "y\n",
      "969672_1 copied\n",
      "y\n",
      "971777_1 copied\n"
     ]
    }
   ],
   "source": [
    "trunc_df = og_df[(og_df['first_diode_trunc'] != 0) & (og_df['last_diode_trunc'] != 0)] # both trunc\n",
    "df_or = og_df[(og_df['first_diode_trunc'] != 0) | (og_df['last_diode_trunc'] != 0)]\n",
    "\n",
    "trunc_list = list(trunc_df['name'])\n",
    "\n",
    "new_image_path = '/gws/nopw/j04/dcmex/users/ezriab/processed_images/2ds/ch_0/220730153000/'\n",
    "save_path = '/home/users/esree/image-examples/v2/trunc/'\n",
    "\n",
    "for name in trunc_list:\n",
    "    try:\n",
    "        og_file = f'{new_image_path}{name}.png'\n",
    "        if os.path.exists(og_file):\n",
    "            print('y')\n",
    "            shutil.copy(og_file, save_path)  # Copy the file\n",
    "            print(f'{name} copied')\n",
    "        else:\n",
    "            print(f'{name} doesn\\'t exist')\n",
    "        \n",
    "    except:\n",
    "        print(f'{name} doesn\\'t exist')"
   ]
  },
  {
   "cell_type": "code",
   "execution_count": 63,
   "id": "dd642050-609d-497f-bb51-2f1cd36b6ffb",
   "metadata": {},
   "outputs": [
    {
     "data": {
      "text/plain": [
       "0"
      ]
     },
     "execution_count": 63,
     "metadata": {},
     "output_type": "execute_result"
    }
   ],
   "source": [
    "column_names = df.columns\n",
    "#column_names #'first_diode_trunc', 'last_diode_trunc'\n",
    "df['last_diode_trunc'].sum()"
   ]
  },
  {
   "cell_type": "code",
   "execution_count": 76,
   "id": "41ac3adf-31f9-4577-8ed0-82ea98e7c0c3",
   "metadata": {},
   "outputs": [
    {
     "name": "stdout",
     "output_type": "stream",
     "text": [
      "362    0\n",
      "Name: last_diode_trunc, dtype: int64\n"
     ]
    }
   ],
   "source": [
    "#row = og_df['name'].loc['172078_1']\n",
    "row = df[df['name'] == '193836_10']#'172078_1']\n",
    "#for value in row:\n",
    "print(row['last_diode_trunc'])"
   ]
  },
  {
   "cell_type": "code",
   "execution_count": 41,
   "id": "4f890b97-0696-451a-94d9-186586aaf7e6",
   "metadata": {},
   "outputs": [
    {
     "name": "stdout",
     "output_type": "stream",
     "text": [
      "CA 82\n",
      "Co 316\n",
      "CC 430\n",
      "CBC 68\n",
      "CG 1632\n",
      "HPC 1073\n",
      "Dif 466\n",
      "FA 34\n",
      "WD 113\n"
     ]
    }
   ],
   "source": [
    "categories = ['CA', 'Co',  'CC', 'CBC', 'CG', 'HPC', 'Dif', 'FA', 'WD'] # match paper predictions\n",
    "\n",
    "### make dict with each habit broken into a df\n",
    "habit_dict_df = {} # empty dictionary, with each habit as key\n",
    "for habit in categories:\n",
    "    one_habit = df[(df['Category'] == habit)]\n",
    "    habit_dict_df[habit] = one_habit  ## add to dict\n",
    "    habit_count = one_habit['name'].count()\n",
    "    print(f'{habit} {habit_count}')\n",
    "\n",
    "## open specif habit: habit_dict_df['CA'] etc"
   ]
  },
  {
   "cell_type": "markdown",
   "id": "805c13b1-4ac9-450f-9db0-68a47c737d83",
   "metadata": {},
   "source": [
    "### copying png images based on category "
   ]
  },
  {
   "cell_type": "code",
   "execution_count": 42,
   "id": "297ab5f6-1ade-4a0f-968a-1324c468eddc",
   "metadata": {},
   "outputs": [],
   "source": [
    "## where are the images?\n",
    "#image_path = '/gws/nopw/j04/dcmex/users/ezriab/processed_images/2ds/flight_220730153000/'\n",
    "image_path = '/gws/nopw/j04/dcmex/users/ezriab/processed_images/2ds/ch_0/220730153000/'\n",
    "\n",
    "new_image_loc = '/home/users/esree/image-examples/v2/'\n",
    "\n",
    "categories = ['CA', 'Co',  'CC', 'CBC', 'CG', 'HPC', 'Dif', 'FA', 'WD'] # match paper predictions"
   ]
  },
  {
   "cell_type": "code",
   "execution_count": 43,
   "id": "f386a7d0-1c73-4ded-8594-a836ed08345f",
   "metadata": {},
   "outputs": [
    {
     "name": "stdout",
     "output_type": "stream",
     "text": [
      "CA done!\n",
      "Co done!\n",
      "CC done!\n",
      "CBC done!\n",
      "CG done!\n",
      "HPC done!\n",
      "Dif done!\n",
      "FA done!\n",
      "WD done!\n"
     ]
    }
   ],
   "source": [
    "## number of images to assess \n",
    "n_images = 20\n",
    "\n",
    "## loop for moving particle images to somewhere more local to view + do assessments\n",
    "for habit_class in categories:\n",
    "    random_particles = []\n",
    "    name_list = habit_dict_df[habit_class]['name'].tolist()\n",
    "    new_loc = f'{new_image_loc}{habit_class}/'\n",
    "    if not os.path.exists(new_loc):\n",
    "        os.makedirs(new_loc)\n",
    "    \n",
    "    # Loop to generate random names\n",
    "    while len(random_particles) < n_images:\n",
    "        random_choice = random.choice(name_list)\n",
    "        \n",
    "        if random_choice in habit_dict_df[habit_class]['name'].values:\n",
    "            og_file = f'{image_path}{random_choice}.png'\n",
    "\n",
    "            if os.path.exists(new_loc) and os.path.exists(og_file):\n",
    "                shutil.copy(og_file, new_loc)  # Copy the file\n",
    "                random_particles.append(random_choice)\n",
    "\n",
    "    \n",
    "    print(f'{habit_class} done!')"
   ]
  },
  {
   "cell_type": "code",
   "execution_count": 17,
   "id": "f315e391-477d-48fe-9482-9d898501b858",
   "metadata": {
    "collapsed": true,
    "jupyter": {
     "outputs_hidden": true
    }
   },
   "outputs": [
    {
     "name": "stdout",
     "output_type": "stream",
     "text": [
      "650255_1 doesn't exist\n",
      "628859_1 doesn't exist\n",
      "659712_1 doesn't exist\n",
      "379059_1 doesn't exist\n",
      "727411_1 doesn't exist\n",
      "822147_1 doesn't exist\n",
      "137675_1 doesn't exist\n",
      "487884_1 doesn't exist\n",
      "833404_1 doesn't exist\n",
      "730399_1 doesn't exist\n",
      "674969_1 doesn't exist\n",
      "661329_1 doesn't exist\n",
      "627495_1 doesn't exist\n",
      "591257_1 doesn't exist\n",
      "735161_2 doesn't exist\n",
      "698430_1 doesn't exist\n",
      "836405_1 doesn't exist\n",
      "792413_1 doesn't exist\n",
      "724271_1 doesn't exist\n",
      "838903_1 doesn't exist\n"
     ]
    }
   ],
   "source": [
    "## a needs script further down to be ran before working - !! dic_image_names !!\n",
    "image_names = list(dic_image_names['WD'])\n",
    "new_image_path = '/gws/nopw/j04/dcmex/users/ezriab/processed_images/2ds/ch_0/220730153000/'\n",
    "other_image_loc = '/home/users/esree/image-examples/WD-2/'\n",
    "\n",
    "for name in image_names:\n",
    "    try:\n",
    "        og_file = f'{new_image_path}{name}.png'\n",
    "        if os.path.exists(og_file):\n",
    "            print('y')\n",
    "            shutil.copy(og_file, other_image_loc)  # Copy the file\n",
    "            print(f'{name} copied')\n",
    "        else:\n",
    "            print(f'{name} doesn\\'t exist')\n",
    "        \n",
    "    except:\n",
    "        print(f'{name} doesn\\'t exist')\n"
   ]
  },
  {
   "cell_type": "markdown",
   "id": "1e204284-557f-41e7-af03-8d1cb44c4f4f",
   "metadata": {},
   "source": [
    "### open up stats about particles"
   ]
  },
  {
   "cell_type": "code",
   "execution_count": 44,
   "id": "a5e9538a-a179-4d38-a81f-7aefa7f679b7",
   "metadata": {},
   "outputs": [],
   "source": [
    "## list images that have been selected in the folder\n",
    "new_image_loc = '/home/users/esree/image-examples/v2/'\n",
    "categories = ['CA', 'Co',  'CC', 'CBC', 'CG', 'HPC', 'Dif', 'FA', 'WD'] # match paper predictions\n",
    "\n",
    "path_list = []\n",
    "for habit_class in categories:\n",
    "    new_loc = f'{new_image_loc}{habit_class}/'\n",
    "    path_list.append(new_loc)\n",
    "\n",
    "## making dictionary of list of file names in the extracted images\n",
    "dic_image_names = {}\n",
    "for i in range(len(categories)):\n",
    "\n",
    "    if os.path.exists(path_list[i]):\n",
    "        # get string of full path + filenames in specif location\n",
    "        file_list = glob(path_list[i]+'*.png')\n",
    "        \n",
    "        # just get file names\n",
    "        file_names = []\n",
    "        for file_path in file_list:\n",
    "            base_name = os.path.basename(file_path)\n",
    "            name_without_extension = os.path.splitext(base_name)[0] ## basically get rid of .png\n",
    "            file_names.append(name_without_extension)\n",
    "                \n",
    "        dic_image_names[categories[i]] = file_names  ## add to dict"
   ]
  },
  {
   "cell_type": "code",
   "execution_count": 45,
   "id": "c91ad9bd-64bf-4a4c-a951-370c09a88e75",
   "metadata": {},
   "outputs": [],
   "source": [
    "## make a new dictionary from habit_dict_df of just images extracted\n",
    "image_dict_df = {}\n",
    "for habit in categories: #categories:\n",
    "    image_list = dic_image_names[habit]\n",
    "    sub_sample = habit_dict_df[habit][habit_dict_df[habit]['name'].isin(image_list)] # subsample df based on name crieteria\n",
    "    sub_sample.set_index('name', inplace=True) ## quite important, the name is now the index - to pull out \n",
    "    image_dict_df[habit] = sub_sample\n",
    "\n",
    "\n",
    "#habit_dict_df['CA']['name'].count()"
   ]
  },
  {
   "cell_type": "code",
   "execution_count": 46,
   "id": "3fe02b4f-c04a-417b-9f64-e1e9371d84c1",
   "metadata": {},
   "outputs": [
    {
     "data": {
      "text/plain": [
       "['date',\n",
       " 'slice_s_idx',\n",
       " 'slice_e_idx',\n",
       " 'start_time',\n",
       " 'end_time',\n",
       " 'd_max',\n",
       " 'd_min',\n",
       " 'orientation',\n",
       " 'centroid',\n",
       " 'area',\n",
       " 'perimeter',\n",
       " 'circularity',\n",
       " 'y0',\n",
       " 'y1',\n",
       " 'probe',\n",
       " 'first_diode_trunc',\n",
       " 'last_diode_trunc',\n",
       " 'Category',\n",
       " 'CA',\n",
       " 'Co',\n",
       " 'CC',\n",
       " 'CBC',\n",
       " 'CG',\n",
       " 'HPC',\n",
       " 'Dif',\n",
       " 'FA',\n",
       " 'WD']"
      ]
     },
     "execution_count": 46,
     "metadata": {},
     "output_type": "execute_result"
    }
   ],
   "source": [
    "list(image_dict_df['CG'].columns.values)"
   ]
  },
  {
   "cell_type": "code",
   "execution_count": 61,
   "id": "5d3f8574-dac1-47b8-8dc4-cdb9082ff967",
   "metadata": {
    "scrolled": true
   },
   "outputs": [
    {
     "ename": "KeyError",
     "evalue": "'172078_1'",
     "output_type": "error",
     "traceback": [
      "\u001b[0;31m---------------------------------------------------------------------------\u001b[0m",
      "\u001b[0;31mKeyError\u001b[0m                                  Traceback (most recent call last)",
      "Cell \u001b[0;32mIn[61], line 4\u001b[0m\n\u001b[1;32m      1\u001b[0m \u001b[38;5;66;03m#print(image_dict_df['CG'])\u001b[39;00m\n\u001b[1;32m      2\u001b[0m \u001b[38;5;66;03m#circularity_calc = np.divide((spec_region.perimeter**2),(4*np.pi*spec_region.area))\u001b[39;00m\n\u001b[1;32m      3\u001b[0m \u001b[38;5;66;03m#row = image_dict_df['WD'].loc['37032_4']\u001b[39;00m\n\u001b[0;32m----> 4\u001b[0m row \u001b[38;5;241m=\u001b[39m \u001b[43mog_df\u001b[49m\u001b[43m[\u001b[49m\u001b[38;5;124;43m'\u001b[39;49m\u001b[38;5;124;43mname\u001b[39;49m\u001b[38;5;124;43m'\u001b[39;49m\u001b[43m]\u001b[49m\u001b[38;5;241;43m.\u001b[39;49m\u001b[43mloc\u001b[49m\u001b[43m[\u001b[49m\u001b[38;5;124;43m'\u001b[39;49m\u001b[38;5;124;43m172078_1\u001b[39;49m\u001b[38;5;124;43m'\u001b[39;49m\u001b[43m]\u001b[49m\n\u001b[1;32m      7\u001b[0m \u001b[38;5;66;03m#circularity = np.divide((row['perimeter']**2),(4*np.pi*row['area']))\u001b[39;00m\n\u001b[1;32m      8\u001b[0m \n\u001b[1;32m      9\u001b[0m \u001b[38;5;66;03m#print(circularity)\u001b[39;00m\n\u001b[1;32m     10\u001b[0m \u001b[38;5;28mprint\u001b[39m(row)\n",
      "File \u001b[0;32m/opt/jaspy/lib/python3.11/site-packages/pandas/core/indexing.py:1191\u001b[0m, in \u001b[0;36m_LocationIndexer.__getitem__\u001b[0;34m(self, key)\u001b[0m\n\u001b[1;32m   1189\u001b[0m maybe_callable \u001b[38;5;241m=\u001b[39m com\u001b[38;5;241m.\u001b[39mapply_if_callable(key, \u001b[38;5;28mself\u001b[39m\u001b[38;5;241m.\u001b[39mobj)\n\u001b[1;32m   1190\u001b[0m maybe_callable \u001b[38;5;241m=\u001b[39m \u001b[38;5;28mself\u001b[39m\u001b[38;5;241m.\u001b[39m_check_deprecated_callable_usage(key, maybe_callable)\n\u001b[0;32m-> 1191\u001b[0m \u001b[38;5;28;01mreturn\u001b[39;00m \u001b[38;5;28;43mself\u001b[39;49m\u001b[38;5;241;43m.\u001b[39;49m\u001b[43m_getitem_axis\u001b[49m\u001b[43m(\u001b[49m\u001b[43mmaybe_callable\u001b[49m\u001b[43m,\u001b[49m\u001b[43m \u001b[49m\u001b[43maxis\u001b[49m\u001b[38;5;241;43m=\u001b[39;49m\u001b[43maxis\u001b[49m\u001b[43m)\u001b[49m\n",
      "File \u001b[0;32m/opt/jaspy/lib/python3.11/site-packages/pandas/core/indexing.py:1431\u001b[0m, in \u001b[0;36m_LocIndexer._getitem_axis\u001b[0;34m(self, key, axis)\u001b[0m\n\u001b[1;32m   1429\u001b[0m \u001b[38;5;66;03m# fall thru to straight lookup\u001b[39;00m\n\u001b[1;32m   1430\u001b[0m \u001b[38;5;28mself\u001b[39m\u001b[38;5;241m.\u001b[39m_validate_key(key, axis)\n\u001b[0;32m-> 1431\u001b[0m \u001b[38;5;28;01mreturn\u001b[39;00m \u001b[38;5;28;43mself\u001b[39;49m\u001b[38;5;241;43m.\u001b[39;49m\u001b[43m_get_label\u001b[49m\u001b[43m(\u001b[49m\u001b[43mkey\u001b[49m\u001b[43m,\u001b[49m\u001b[43m \u001b[49m\u001b[43maxis\u001b[49m\u001b[38;5;241;43m=\u001b[39;49m\u001b[43maxis\u001b[49m\u001b[43m)\u001b[49m\n",
      "File \u001b[0;32m/opt/jaspy/lib/python3.11/site-packages/pandas/core/indexing.py:1381\u001b[0m, in \u001b[0;36m_LocIndexer._get_label\u001b[0;34m(self, label, axis)\u001b[0m\n\u001b[1;32m   1379\u001b[0m \u001b[38;5;28;01mdef\u001b[39;00m \u001b[38;5;21m_get_label\u001b[39m(\u001b[38;5;28mself\u001b[39m, label, axis: AxisInt):\n\u001b[1;32m   1380\u001b[0m     \u001b[38;5;66;03m# GH#5567 this will fail if the label is not present in the axis.\u001b[39;00m\n\u001b[0;32m-> 1381\u001b[0m     \u001b[38;5;28;01mreturn\u001b[39;00m \u001b[38;5;28;43mself\u001b[39;49m\u001b[38;5;241;43m.\u001b[39;49m\u001b[43mobj\u001b[49m\u001b[38;5;241;43m.\u001b[39;49m\u001b[43mxs\u001b[49m\u001b[43m(\u001b[49m\u001b[43mlabel\u001b[49m\u001b[43m,\u001b[49m\u001b[43m \u001b[49m\u001b[43maxis\u001b[49m\u001b[38;5;241;43m=\u001b[39;49m\u001b[43maxis\u001b[49m\u001b[43m)\u001b[49m\n",
      "File \u001b[0;32m/opt/jaspy/lib/python3.11/site-packages/pandas/core/generic.py:4301\u001b[0m, in \u001b[0;36mNDFrame.xs\u001b[0;34m(self, key, axis, level, drop_level)\u001b[0m\n\u001b[1;32m   4299\u001b[0m             new_index \u001b[38;5;241m=\u001b[39m index[loc]\n\u001b[1;32m   4300\u001b[0m \u001b[38;5;28;01melse\u001b[39;00m:\n\u001b[0;32m-> 4301\u001b[0m     loc \u001b[38;5;241m=\u001b[39m \u001b[43mindex\u001b[49m\u001b[38;5;241;43m.\u001b[39;49m\u001b[43mget_loc\u001b[49m\u001b[43m(\u001b[49m\u001b[43mkey\u001b[49m\u001b[43m)\u001b[49m\n\u001b[1;32m   4303\u001b[0m     \u001b[38;5;28;01mif\u001b[39;00m \u001b[38;5;28misinstance\u001b[39m(loc, np\u001b[38;5;241m.\u001b[39mndarray):\n\u001b[1;32m   4304\u001b[0m         \u001b[38;5;28;01mif\u001b[39;00m loc\u001b[38;5;241m.\u001b[39mdtype \u001b[38;5;241m==\u001b[39m np\u001b[38;5;241m.\u001b[39mbool_:\n",
      "File \u001b[0;32m/opt/jaspy/lib/python3.11/site-packages/pandas/core/indexes/range.py:417\u001b[0m, in \u001b[0;36mRangeIndex.get_loc\u001b[0;34m(self, key)\u001b[0m\n\u001b[1;32m    415\u001b[0m         \u001b[38;5;28;01mraise\u001b[39;00m \u001b[38;5;167;01mKeyError\u001b[39;00m(key) \u001b[38;5;28;01mfrom\u001b[39;00m \u001b[38;5;21;01merr\u001b[39;00m\n\u001b[1;32m    416\u001b[0m \u001b[38;5;28;01mif\u001b[39;00m \u001b[38;5;28misinstance\u001b[39m(key, Hashable):\n\u001b[0;32m--> 417\u001b[0m     \u001b[38;5;28;01mraise\u001b[39;00m \u001b[38;5;167;01mKeyError\u001b[39;00m(key)\n\u001b[1;32m    418\u001b[0m \u001b[38;5;28mself\u001b[39m\u001b[38;5;241m.\u001b[39m_check_indexing_error(key)\n\u001b[1;32m    419\u001b[0m \u001b[38;5;28;01mraise\u001b[39;00m \u001b[38;5;167;01mKeyError\u001b[39;00m(key)\n",
      "\u001b[0;31mKeyError\u001b[0m: '172078_1'"
     ]
    }
   ],
   "source": [
    "#print(image_dict_df['CG'])\n",
    "#circularity_calc = np.divide((spec_region.perimeter**2),(4*np.pi*spec_region.area))\n",
    "#row = image_dict_df['WD'].loc['37032_4']\n",
    "row = og_df['name'].loc['172078_1']\n",
    "\n",
    "\n",
    "#circularity = np.divide((row['perimeter']**2),(4*np.pi*row['area']))\n",
    "\n",
    "#print(circularity)\n",
    "print(row)"
   ]
  },
  {
   "cell_type": "code",
   "execution_count": 54,
   "id": "f5f3b189-73c5-407d-8803-ccb8c65b5cbc",
   "metadata": {
    "scrolled": true
   },
   "outputs": [
    {
     "data": {
      "text/plain": [
       "name\n",
       "183286_16    1.283306\n",
       "356123_36    1.800155\n",
       "37032_4      1.227848\n",
       "565467_1     1.776111\n",
       "571583_1     2.091342\n",
       "577019_1     1.488972\n",
       "582300_1     1.998378\n",
       "589307_1     1.680522\n",
       "621435_1     1.702439\n",
       "668459_2     1.518656\n",
       "675159_1     2.449614\n",
       "678913_2     1.620326\n",
       "681146_1     1.673502\n",
       "709024_1     1.816951\n",
       "715029_1     2.036434\n",
       "743316_1     1.715882\n",
       "760394_1     1.617152\n",
       "Name: circularity, dtype: float64"
      ]
     },
     "execution_count": 54,
     "metadata": {},
     "output_type": "execute_result"
    }
   ],
   "source": [
    "#for row in image_dict_df['WD']:\n",
    "#    print(row)\n",
    "image_dict_df['WD']['circularity']"
   ]
  },
  {
   "cell_type": "markdown",
   "id": "221d17c1-0899-432e-96af-58441e69d6fb",
   "metadata": {},
   "source": [
    "### subset the values"
   ]
  },
  {
   "cell_type": "code",
   "execution_count": 52,
   "id": "149dcf04-d77b-4c71-885b-0427ac7bc620",
   "metadata": {},
   "outputs": [
    {
     "name": "stderr",
     "output_type": "stream",
     "text": [
      "/tmp/ipykernel_4260/1376859628.py:1: SettingWithCopyWarning: \n",
      "A value is trying to be set on a copy of a slice from a DataFrame.\n",
      "Try using .loc[row_indexer,col_indexer] = value instead\n",
      "\n",
      "See the caveats in the documentation: https://pandas.pydata.org/pandas-docs/stable/user_guide/indexing.html#returning-a-view-versus-a-copy\n",
      "  df['circularity'] = np.floor(df['circularity'] * 10) / 10\n"
     ]
    }
   ],
   "source": [
    "df['circularity'] = np.floor(df['circularity'] * 10) / 10"
   ]
  },
  {
   "cell_type": "code",
   "execution_count": 58,
   "id": "d900648d-23bc-4f89-899f-2fdb4c40e23c",
   "metadata": {},
   "outputs": [
    {
     "data": {
      "text/plain": [
       "10"
      ]
     },
     "execution_count": 58,
     "metadata": {},
     "output_type": "execute_result"
    }
   ],
   "source": [
    "df['circularity']\n",
    "all_li = df[(df['circularity'] <= 1.2)]\n",
    "li_names = list(all_li['name'])"
   ]
  },
  {
   "cell_type": "code",
   "execution_count": 59,
   "id": "d7ec39bc-b61b-4cc2-8c48-00db6f935ca8",
   "metadata": {},
   "outputs": [
    {
     "name": "stdout",
     "output_type": "stream",
     "text": [
      "y\n",
      "112319_4 copied\n",
      "y\n",
      "172078_1 copied\n",
      "y\n",
      "183286_16 copied\n",
      "y\n",
      "193836_10 copied\n",
      "y\n",
      "320805_1 copied\n",
      "y\n",
      "37032_4 copied\n",
      "y\n",
      "41513_1 copied\n",
      "y\n",
      "43045_12 copied\n",
      "y\n",
      "688671_1 copied\n",
      "y\n",
      "745415_2 copied\n"
     ]
    }
   ],
   "source": [
    "new_image_path = '/gws/nopw/j04/dcmex/users/ezriab/processed_images/2ds/ch_0/220730153000/'\n",
    "save_path = '/home/users/esree/image-examples/v2/WD/actual_circ/'\n",
    "\n",
    "for name in li_names:\n",
    "    try:\n",
    "        og_file = f'{new_image_path}{name}.png'\n",
    "        if os.path.exists(og_file):\n",
    "            print('y')\n",
    "            shutil.copy(og_file, save_path)  # Copy the file\n",
    "            print(f'{name} copied')\n",
    "        else:\n",
    "            print(f'{name} doesn\\'t exist')\n",
    "        \n",
    "    except:\n",
    "        print(f'{name} doesn\\'t exist')"
   ]
  },
  {
   "cell_type": "markdown",
   "id": "926ebbab-c337-4f40-919d-45d740e3fac3",
   "metadata": {
    "jp-MarkdownHeadingCollapsed": true
   },
   "source": [
    "## okay something is going wrong, need to check h5 files\n",
    "### i am so fucked"
   ]
  },
  {
   "cell_type": "code",
   "execution_count": null,
   "id": "873978a1-74a6-4f92-8d97-9470209730c2",
   "metadata": {
    "jupyter": {
     "source_hidden": true
    }
   },
   "outputs": [],
   "source": []
  },
  {
   "cell_type": "code",
   "execution_count": 149,
   "id": "5ec82c8a-7587-49a2-9806-021863839c80",
   "metadata": {},
   "outputs": [],
   "source": [
    "path = '/gws/nopw/j04/dcmex/users/ezriab/raw_h5/2ds/ch_0/'\n",
    "# e.g. one file \n",
    "file = 'Export_base220730153000.h5'\n",
    "# open file\n",
    "f2ds = h5py.File(path+file,'r')\n",
    "\n",
    "\n",
    "# structure of the file\n",
    "#list(f2ds.keys()) ## ['ImageData', 'ImageTimes']\n",
    "\n",
    "ds_image = f2ds['ImageData'] # shape (128, 200000) --> 128 pixels width, 200000 length\n",
    "ds_time = f2ds['ImageTimes'] # shape (100000, 3) --> (rows, columns) related to time\n",
    "\n",
    "# make time variable -> 3 seperate columns\n",
    "og_t_xr = xr.Dataset({'ImageTimes': (('data', 'time_vars'),ds_time)})\n",
    "sec_since = og_t_xr['ImageTimes'][:,0] # seconds since midnight UTC\n",
    "pixel_slice = og_t_xr['ImageTimes'][:,1] # number of slices of pixel per image (contain -1, to fill)\n",
    "# we can use pixel slice to correcly divide up data ^ the index to call f2ds['ImageData']\n",
    "# these slices have been pre-determined by Jonny + algorithm he has written\n",
    "### basically pixel slice gives a rough idea of particle location\n",
    "\n",
    "bit_time = og_t_xr['ImageTimes'][:,2] # 32 bit (instrument things) - not useful\n",
    "\n",
    "# do cumulative sum of pixel slices -> can use this as index to slice + extract single crystals\n",
    "pix_sum = pixel_slice.cumsum(dim='data', dtype ='int')\n",
    "\n",
    "# shove together into a useful xarray \n",
    "time_xr = xr.Dataset({\n",
    "    'sec_since': sec_since,\n",
    "    'pixel_slice': pixel_slice,\n",
    "    'bit_time': bit_time,\n",
    "    'pix_sum': pix_sum})\n",
    "\n",
    "## ~~~~~~~~~~~~~~~~~~~~~~~~~~~~~~~~~~~~~~~~~~~~~~~~~~~~~~~~~~~~~~~~~~~~~~~~~~~~~~~~~~~~~~~~~~~~~~~~~~~~~~~~~~~\n",
    "## functions to make code run smoothly\n",
    "def stats_description(bw_crystal, fill_hole_thresh):\n",
    "    #take binary image, fill in small holes and returns object containing stats about crystal'\n",
    "    \n",
    "    filled_particle = remove_small_holes(bw_crystal.image, area_threshold=fill_hole_thresh) # fill in voids within binary image - better estimation of stats # may need to be altered\n",
    "    \n",
    "    # can see the filled in particle if needs be\n",
    "    #plt.imshow(filled_particle, cmap='gray')\n",
    "    \n",
    "    if filled_particle.shape[0] < 2 or filled_particle.shape[1] < 2:\n",
    "        return filled_particle, None\n",
    "        \n",
    "    contours = measure.find_contours(filled_particle, 0.5)\n",
    "    if contours:\n",
    "        contour = max(contours, key=lambda x: x.shape[0])  # Sort contours by area (largest first) and select the largest contour\n",
    "        \n",
    "        labeled_image = measure.label(filled_particle)  # Label the image based on the threshold\n",
    "        region = measure.regionprops(labeled_image)[0]  # Assumes largest labeled region corresponds to largest contour\n",
    "        \n",
    "        return filled_particle, region\n",
    "    else:\n",
    "        return filled_particle, None\n",
    "## ~~~~~~~~~~~~~~~~~~~~~~~~~~~~~~~~~~~~~~~~~~~~~~~~~~~~~~~~~~~~~~~~~~~~~~~~~~~~~~~~~~~~~~~~~~~~~~~~~~~~~~~~~~~\n",
    "## function to calculate truncation of particle\n",
    "def calc_truncation(a_slice, particle):\n",
    "    # the intial slice is the raw 2ds data - of whole array, and particle is one selected by regionprops (and has to be 1s + 0s)\n",
    "    ## assume slices are small + don't contain too many odd bits\n",
    "    # first convert to 0 and 1 for calculation of truncation\n",
    "    alt_crystal = np.where(a_slice == 255, 0, 1) # i.e. 255 (blank area)=0, and where crystal is (was 0) = 1\n",
    "    # so sum up number of particle pixels are on the edge of the slice\n",
    "    first_diode = sum(alt_crystal[0,:]) \n",
    "    last_diode = sum(alt_crystal[-1,:])\n",
    "\n",
    "    ## this calculates how many pixels are top / bottom of the particle + then infer number pixels touching\n",
    "    top_particle = np.sum(particle[0] == 1)\n",
    "    bottom_particle = np.sum(particle[-1] == 1)\n",
    "\n",
    "    n_top, n_bottom = 0, 0  # Initialize variables, default 0 when conditions are not met\n",
    "\n",
    "    # Top pixel touching logic\n",
    "    if first_diode != 0 and first_diode >= top_particle:\n",
    "        n_top = top_particle\n",
    "    elif first_diode == 0:\n",
    "        n_top = 0\n",
    "\n",
    "    # Bottom pixel touching logic\n",
    "    if last_diode != 0 and last_diode >= bottom_particle:\n",
    "        n_bottom = bottom_particle\n",
    "    elif last_diode == 0:\n",
    "        n_bottom = 0\n",
    "\n",
    "    return n_top, n_bottom # number pixels touching top / bottom respectively\n"
   ]
  },
  {
   "cell_type": "code",
   "execution_count": null,
   "id": "766cb1d8-de53-4967-8088-8b314c2dc9b7",
   "metadata": {},
   "outputs": [],
   "source": []
  },
  {
   "cell_type": "code",
   "execution_count": 127,
   "id": "20e85fba-ff19-41ec-9a8f-f959642e3209",
   "metadata": {
    "scrolled": true
   },
   "outputs": [
    {
     "name": "stdout",
     "output_type": "stream",
     "text": [
      "650255_1\n"
     ]
    },
    {
     "data": {
      "image/png": "[encoded data removed]",
      "text/plain": [
       "<Figure size 640x480 with 1 Axes>"
      ]
     },
     "metadata": {},
     "output_type": "display_data"
    },
    {
     "name": "stdout",
     "output_type": "stream",
     "text": [
      "628859_1\n"
     ]
    },
    {
     "data": {
      "image/png": "[encoded data removed]",
      "text/plain": [
       "<Figure size 640x480 with 1 Axes>"
      ]
     },
     "metadata": {},
     "output_type": "display_data"
    },
    {
     "name": "stdout",
     "output_type": "stream",
     "text": [
      "659712_1\n"
     ]
    },
    {
     "data": {
      "image/png": "[encoded data removed]",
      "text/plain": [
       "<Figure size 640x480 with 1 Axes>"
      ]
     },
     "metadata": {},
     "output_type": "display_data"
    },
    {
     "name": "stdout",
     "output_type": "stream",
     "text": [
      "379059_1\n"
     ]
    },
    {
     "data": {
      "image/png": "[encoded data removed]",
      "text/plain": [
       "<Figure size 640x480 with 1 Axes>"
      ]
     },
     "metadata": {},
     "output_type": "display_data"
    },
    {
     "name": "stdout",
     "output_type": "stream",
     "text": [
      "727411_1\n"
     ]
    },
    {
     "data": {
      "image/png": "[encoded data removed]",
      "text/plain": [
       "<Figure size 640x480 with 1 Axes>"
      ]
     },
     "metadata": {},
     "output_type": "display_data"
    },
    {
     "name": "stdout",
     "output_type": "stream",
     "text": [
      "822147_1\n"
     ]
    },
    {
     "data": {
      "image/png": "[encoded data removed]",
      "text/plain": [
       "<Figure size 640x480 with 1 Axes>"
      ]
     },
     "metadata": {},
     "output_type": "display_data"
    },
    {
     "name": "stdout",
     "output_type": "stream",
     "text": [
      "137675_1\n"
     ]
    },
    {
     "data": {
      "image/png": "[encoded data removed]",
      "text/plain": [
       "<Figure size 640x480 with 1 Axes>"
      ]
     },
     "metadata": {},
     "output_type": "display_data"
    },
    {
     "name": "stdout",
     "output_type": "stream",
     "text": [
      "487884_1\n"
     ]
    },
    {
     "data": {
      "image/png": "[encoded data removed]",
      "text/plain": [
       "<Figure size 640x480 with 1 Axes>"
      ]
     },
     "metadata": {},
     "output_type": "display_data"
    },
    {
     "name": "stdout",
     "output_type": "stream",
     "text": [
      "833404_1\n"
     ]
    },
    {
     "data": {
      "image/png": "[encoded data removed]",
      "text/plain": [
       "<Figure size 640x480 with 1 Axes>"
      ]
     },
     "metadata": {},
     "output_type": "display_data"
    },
    {
     "name": "stdout",
     "output_type": "stream",
     "text": [
      "730399_1\n"
     ]
    },
    {
     "data": {
      "image/png": "[encoded data removed]",
      "text/plain": [
       "<Figure size 640x480 with 1 Axes>"
      ]
     },
     "metadata": {},
     "output_type": "display_data"
    },
    {
     "name": "stdout",
     "output_type": "stream",
     "text": [
      "674969_1\n"
     ]
    },
    {
     "data": {
      "image/png": "[encoded data removed]",
      "text/plain": [
       "<Figure size 640x480 with 1 Axes>"
      ]
     },
     "metadata": {},
     "output_type": "display_data"
    },
    {
     "name": "stdout",
     "output_type": "stream",
     "text": [
      "661329_1\n"
     ]
    },
    {
     "data": {
      "image/png": "[encoded data removed]",
      "text/plain": [
       "<Figure size 640x480 with 1 Axes>"
      ]
     },
     "metadata": {},
     "output_type": "display_data"
    },
    {
     "name": "stdout",
     "output_type": "stream",
     "text": [
      "627495_1\n"
     ]
    },
    {
     "data": {
      "image/png": "[encoded data removed]",
      "text/plain": [
       "<Figure size 640x480 with 1 Axes>"
      ]
     },
     "metadata": {},
     "output_type": "display_data"
    },
    {
     "name": "stdout",
     "output_type": "stream",
     "text": [
      "591257_1\n"
     ]
    },
    {
     "data": {
      "image/png": "[encoded data removed]",
      "text/plain": [
       "<Figure size 640x480 with 1 Axes>"
      ]
     },
     "metadata": {},
     "output_type": "display_data"
    },
    {
     "name": "stdout",
     "output_type": "stream",
     "text": [
      "735161_2\n"
     ]
    },
    {
     "data": {
      "image/png": "[encoded data removed]",
      "text/plain": [
       "<Figure size 640x480 with 1 Axes>"
      ]
     },
     "metadata": {},
     "output_type": "display_data"
    },
    {
     "name": "stdout",
     "output_type": "stream",
     "text": [
      "698430_1\n"
     ]
    },
    {
     "data": {
      "image/png": "[encoded data removed]",
      "text/plain": [
       "<Figure size 640x480 with 1 Axes>"
      ]
     },
     "metadata": {},
     "output_type": "display_data"
    },
    {
     "name": "stdout",
     "output_type": "stream",
     "text": [
      "836405_1\n"
     ]
    },
    {
     "data": {
      "image/png": "[encoded data removed]",
      "text/plain": [
       "<Figure size 640x480 with 1 Axes>"
      ]
     },
     "metadata": {},
     "output_type": "display_data"
    },
    {
     "name": "stdout",
     "output_type": "stream",
     "text": [
      "792413_1\n"
     ]
    },
    {
     "data": {
      "image/png": "[encoded data removed]",
      "text/plain": [
       "<Figure size 640x480 with 1 Axes>"
      ]
     },
     "metadata": {},
     "output_type": "display_data"
    },
    {
     "name": "stdout",
     "output_type": "stream",
     "text": [
      "724271_1\n"
     ]
    },
    {
     "data": {
      "image/png": "[encoded data removed]",
      "text/plain": [
       "<Figure size 640x480 with 1 Axes>"
      ]
     },
     "metadata": {},
     "output_type": "display_data"
    },
    {
     "name": "stdout",
     "output_type": "stream",
     "text": [
      "838903_1\n"
     ]
    },
    {
     "data": {
      "image/png": "[encoded data removed]",
      "text/plain": [
       "<Figure size 640x480 with 1 Axes>"
      ]
     },
     "metadata": {},
     "output_type": "display_data"
    }
   ],
   "source": [
    "for particle in dic_image_names['WD']:\n",
    "    print(particle)\n",
    "    row = image_dict_df['WD'].loc[particle]\n",
    "    \n",
    "    circularity = np.divide((row['perimeter']**2),(4*np.pi*row['area']))\n",
    "\n",
    "    im_s_idx = row['start_index']\n",
    "    im_e_idx = row['end_index'] ## may want to add more - to look at a bigger slice\n",
    "    \n",
    "    one_crystal = f2ds['ImageData'][:,im_s_idx:im_e_idx] # extract 1 crystal\n",
    "    \n",
    "    ## this will plot the crystal\n",
    "    plt.imshow(one_crystal, cmap='gray')\n",
    "    plt.axis('off')  # Turn off axis labels\n",
    "    plt.show()\n"
   ]
  },
  {
   "cell_type": "code",
   "execution_count": 169,
   "id": "926c92a8-b6f5-4bd9-adb6-10f71725e8dd",
   "metadata": {
    "scrolled": true
   },
   "outputs": [
    {
     "name": "stdout",
     "output_type": "stream",
     "text": [
      "650255_1\n",
      "650255_1\n"
     ]
    },
    {
     "data": {
      "image/png": "[encoded data removed]",
      "text/plain": [
       "<Figure size 640x480 with 1 Axes>"
      ]
     },
     "metadata": {},
     "output_type": "display_data"
    },
    {
     "data": {
      "image/png": "[encoded data removed]",
      "text/plain": [
       "<Figure size 640x480 with 1 Axes>"
      ]
     },
     "metadata": {},
     "output_type": "display_data"
    },
    {
     "name": "stdout",
     "output_type": "stream",
     "text": [
      "The image contains varying pixel values.\n"
     ]
    }
   ],
   "source": [
    "\n",
    "minimum_area = 15 # very quick metric to stop the processing of particles with area < 15 pixels\n",
    "\n",
    "length_threshold = 100 #300 # mu - need this minimum length of max dimension to extract the particle\n",
    "pixel_resolution = 10 # mu\n",
    "desired_image_size = 200 # (assume we want a square image) 200 x 200\n",
    "\n",
    "wd_names = list(dic_image_names['WD'])\n",
    "one_crystal = wd_names[0]\n",
    "print(one_crystal)\n",
    "row = image_dict_df['WD'].loc[one_crystal]\n",
    "    \n",
    "circularity = np.divide((row['perimeter']**2),(4*np.pi*row['area']))\n",
    "\n",
    "im_s_idx = row['start_index']\n",
    "im_e_idx = row['end_index'] ## may want to add more - to look at a bigger slice\n",
    "\n",
    "one_crystal = f2ds['ImageData'][:,im_s_idx:im_e_idx] # extract 1 crystal\n",
    "#one_crystal = f2ds['ImageData'][:,im_s_idx-40:im_e_idx+100] # extract 1 crystal\n",
    "'''\n",
    "## this will plot the crystal\n",
    "plt.imshow(one_crystal, cmap='gray')\n",
    "plt.axis('off')  # Turn off axis labels\n",
    "plt.show()\n",
    "'''\n",
    "\n",
    "binary_image = (one_crystal == 0)\n",
    "labeled_image, num_features = label(binary_image)\n",
    "\n",
    "props = regionprops(labeled_image)\n",
    "\n",
    "for particle in props:\n",
    "    filled_part, spec_region = stats_description(particle,5)\n",
    "                    ### !!!!!! important part - this is where useful crystals are getting stats + being recorded in the dataframe\n",
    "                    \n",
    "    filled_part = filled_part.astype(np.float32) ## convert to float 0 and 1s\n",
    "     \n",
    "    if spec_region and spec_region.major_axis_length * pixel_resolution >= length_threshold and spec_region.minor_axis_length > 4 :\n",
    "        print(f'{im_s_idx}_{particle.label}')\n",
    "        plt.imshow(filled_part, cmap='gray')\n",
    "        plt.axis('off')  # Turn off axis labels\n",
    "        plt.show() \n",
    "\n",
    "        filled_part = np.expand_dims(filled_part, axis=-1) ## add extra dimention - this is for adding padding\n",
    "        imagex = tf.image.resize_with_crop_or_pad(filled_part, desired_image_size, desired_image_size)\n",
    "        \n",
    "        plt.imshow(imagex, cmap='gray')\n",
    "        plt.axis('off') # Turn off axis labels\n",
    "        plt.show()\n",
    "\n",
    "        if np.all(imagex == 0):\n",
    "            print(\"The image is blank (all pixels are zero).\")\n",
    "        elif np.all(imagex == imagex[0, 0, 0]):\n",
    "            print(\"The image is blank (all pixels have the same constant value).\")\n",
    "        else:\n",
    "            print(\"The image contains varying pixel values.\")"
   ]
  },
  {
   "cell_type": "markdown",
   "id": "4486aaa1-09d6-4b48-aab0-458aadee4f0f",
   "metadata": {},
   "source": [
    "## okay, updated script testing\n",
    "pull out images with circularity <1.2 "
   ]
  },
  {
   "cell_type": "code",
   "execution_count": 44,
   "id": "9d4aa937-76e6-4dc7-9839-d6da1b215b6b",
   "metadata": {
    "scrolled": true
   },
   "outputs": [
    {
     "data": {
      "text/plain": [
       "['43045_12']"
      ]
     },
     "execution_count": 44,
     "metadata": {},
     "output_type": "execute_result"
    }
   ],
   "source": [
    "## updated v2 script, pulling out li partilces + saving them\n",
    "stats_csv = '/gws/nopw/j04/dcmex/users/ezriab/processed_images/2ds/ch_0/220730153000/flight_220730153000.csv'\n",
    "new_df = pd.read_csv(stats_csv)\n",
    "\n",
    "# make df of just li < 1.2\n",
    "all_li = new_df[(new_df['circularity'] <= 1.2)]\n",
    "name_list = all_li['name'].apply(lambda x: x[:-5]).tolist() ## get list of names of that satisfy the criteria (and remove last 5 values)\n",
    "name_list"
   ]
  },
  {
   "cell_type": "code",
   "execution_count": 43,
   "id": "336a1ec7-7875-4531-9671-887562d18e5c",
   "metadata": {
    "scrolled": true
   },
   "outputs": [
    {
     "name": "stdout",
     "output_type": "stream",
     "text": [
      "y\n",
      "37032_4 copied\n",
      "y\n",
      "41513_1 copied\n",
      "y\n",
      "43045_12 copied\n",
      "y\n",
      "91636_7 copied\n",
      "y\n",
      "112319_4 copied\n",
      "y\n",
      "127632_22 copied\n",
      "y\n",
      "127929_8 copied\n",
      "y\n",
      "172078_1 copied\n",
      "y\n",
      "183006_1 copied\n",
      "y\n",
      "183286_16 copied\n",
      "y\n",
      "193836_10 copied\n",
      "y\n",
      "316163_18 copied\n",
      "y\n",
      "320805_1 copied\n",
      "y\n",
      "336774_3 copied\n",
      "y\n",
      "338343_7 copied\n",
      "y\n",
      "361233_5 copied\n",
      "y\n",
      "543956_1 copied\n",
      "y\n",
      "547849_1 copied\n",
      "y\n",
      "562077_1 copied\n",
      "y\n",
      "570313_1 copied\n",
      "y\n",
      "571480_1 copied\n",
      "y\n",
      "571541_1 copied\n",
      "y\n",
      "588055_1 copied\n",
      "y\n",
      "592007_1 copied\n",
      "y\n",
      "604939_1 copied\n",
      "y\n",
      "618520_2 copied\n",
      "y\n",
      "622023_1 copied\n",
      "y\n",
      "631524_1 copied\n",
      "y\n",
      "633632_1 copied\n",
      "y\n",
      "656119_1 copied\n",
      "y\n",
      "658104_1 copied\n",
      "y\n",
      "673458_2 copied\n",
      "y\n",
      "683680_2 copied\n",
      "y\n",
      "688671_1 copied\n",
      "y\n",
      "697318_1 copied\n",
      "y\n",
      "701133_1 copied\n",
      "y\n",
      "709684_1 copied\n",
      "y\n",
      "745415_2 copied\n",
      "y\n",
      "763674_1 copied\n",
      "y\n",
      "764010_1 copied\n"
     ]
    }
   ],
   "source": [
    "new_image_path = '/gws/nopw/j04/dcmex/users/ezriab/processed_images/2ds/ch_0/220730153000/'\n",
    "save_path = '/home/users/esree/image-examples/sample-LI/'\n",
    "\n",
    "for name in name_list:\n",
    "    try:\n",
    "        og_file = f'{new_image_path}{name}.png'\n",
    "        if os.path.exists(og_file):\n",
    "            print('y')\n",
    "            shutil.copy(og_file, save_path)  # Copy the file\n",
    "            print(f'{name} copied')\n",
    "        else:\n",
    "            print(f'{name} doesn\\'t exist')\n",
    "        \n",
    "    except:\n",
    "        print(f'{name} doesn\\'t exist')"
   ]
  },
  {
   "cell_type": "code",
   "execution_count": null,
   "id": "3a32adab-fb88-4955-a3d7-a08f84961d1b",
   "metadata": {},
   "outputs": [],
   "source": []
  }
 ],
 "metadata": {
  "kernelspec": {
   "display_name": "Python 3 + Jaspy",
   "language": "python",
   "name": "jaspy"
  },
  "language_info": {
   "codemirror_mode": {
    "name": "ipython",
    "version": 3
   },
   "file_extension": ".py",
   "mimetype": "text/x-python",
   "name": "python",
   "nbconvert_exporter": "python",
   "pygments_lexer": "ipython3",
   "version": "3.11.9"
  }
 },
 "nbformat": 4,
 "nbformat_minor": 5
}
